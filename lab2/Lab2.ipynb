{
 "cells": [
  {
   "cell_type": "code",
   "execution_count": 726,
   "id": "328701f2",
   "metadata": {},
   "outputs": [],
   "source": [
    "import numpy as np\n",
    "from scipy import linalg as sLA\n",
    "from numpy import linalg as LA\n",
    "import copy\n",
    "from matplotlib import pyplot as plt"
   ]
  },
  {
   "cell_type": "markdown",
   "id": "c2b496ba",
   "metadata": {},
   "source": [
    "# Лабораторная работа No2. Протоколы квантовых измерений и реконструкция матрицы плотности методом псевдо-инверсии\n",
    "\n",
    "## Пункт 1:\n",
    "#### Рассмотрим протокол томогрфии квантового состояния, основанный на измерениях во взаимно-несмещённых базисах (MUB) для размености d = 4:"
   ]
  },
  {
   "cell_type": "code",
   "execution_count": 227,
   "id": "9a3fa754",
   "metadata": {},
   "outputs": [],
   "source": [
    "# Массив унитарных матриц образующих MUB для d = 4\n",
    "\n",
    "mub_array = 1/2*np.array([\n",
    "    [[2,0,0,0],\n",
    "     [0,2,0,0],\n",
    "     [0,0,2,0],\n",
    "     [0,0,0,2]],\n",
    "    \n",
    "    [[1,1,1,1],\n",
    "     [1,1,-1,-1],\n",
    "     [1,-1,-1,1],\n",
    "     [1,-1,1,-1]],\n",
    "    \n",
    "    [[1,1,1,1],\n",
    "     [-1,-1,1,1],\n",
    "     [-1j,1j,1j,-1j],\n",
    "     [-1j,1j,-1j,1j]],\n",
    "    \n",
    "    [[1,1,1,1],\n",
    "     [-1j,-1j,1j,1j],\n",
    "     [-1j,1j,1j,-1j],\n",
    "     [-1,1,-1,1]],\n",
    "    \n",
    "    [[1,1,1,1],\n",
    "     [-1j,-1j,1j,1j],\n",
    "     [-1,1,-1,1],\n",
    "     [-1j,1j,1j,-1j]],\n",
    "      \n",
    "])"
   ]
  },
  {
   "cell_type": "code",
   "execution_count": 228,
   "id": "50836f6b",
   "metadata": {},
   "outputs": [],
   "source": [
    "# Получаем операторы P(j,k) и B из набора матриц, соответствующих заданному MUB \n",
    "def build_P(mub_array):\n",
    "    P = []\n",
    "    B = []\n",
    "    for mub in mub_array:\n",
    "        P_part = []\n",
    "        B_part = []\n",
    "        for string in mub.T:\n",
    "            op = np.outer(string, string.conj())\n",
    "            P_part.append(op)\n",
    "            B_part.append(np.ravel(op, order = 'C'))\n",
    "        B.append(B_part)\n",
    "        P.append(P_part)\n",
    "    return np.array(P), np.vstack(np.array(B))\n",
    "\n",
    "# Получаем операторы X из набора матриц, соответствующих заданному MUB \n",
    "def build_X(mub_array):\n",
    "    X = np.vstack(copy.deepcopy(mub_array).transpose((0,2,1)).conj())\n",
    "    return X\n",
    "    "
   ]
  },
  {
   "cell_type": "code",
   "execution_count": 229,
   "id": "5c8af02e",
   "metadata": {},
   "outputs": [
    {
     "data": {
      "text/plain": [
       "(array([[ 1. -0.j ,  0. -0.j ,  0. -0.j ,  0. -0.j ],\n",
       "        [ 0. -0.j ,  1. -0.j ,  0. -0.j ,  0. -0.j ],\n",
       "        [ 0. -0.j ,  0. -0.j ,  1. -0.j ,  0. -0.j ],\n",
       "        [ 0. -0.j ,  0. -0.j ,  0. -0.j ,  1. -0.j ],\n",
       "        [ 0.5-0.j ,  0.5-0.j ,  0.5-0.j ,  0.5-0.j ],\n",
       "        [ 0.5-0.j ,  0.5-0.j , -0.5-0.j , -0.5-0.j ],\n",
       "        [ 0.5-0.j , -0.5-0.j , -0.5-0.j ,  0.5-0.j ],\n",
       "        [ 0.5-0.j , -0.5-0.j ,  0.5-0.j , -0.5-0.j ],\n",
       "        [ 0.5-0.j , -0.5-0.j ,  0. +0.5j,  0. +0.5j],\n",
       "        [ 0.5-0.j , -0.5-0.j ,  0. -0.5j,  0. -0.5j],\n",
       "        [ 0.5-0.j ,  0.5-0.j ,  0. -0.5j,  0. +0.5j],\n",
       "        [ 0.5-0.j ,  0.5-0.j ,  0. +0.5j,  0. -0.5j],\n",
       "        [ 0.5-0.j ,  0. +0.5j,  0. +0.5j, -0.5-0.j ],\n",
       "        [ 0.5-0.j ,  0. +0.5j,  0. -0.5j,  0.5-0.j ],\n",
       "        [ 0.5-0.j ,  0. -0.5j,  0. -0.5j, -0.5-0.j ],\n",
       "        [ 0.5-0.j ,  0. -0.5j,  0. +0.5j,  0.5-0.j ],\n",
       "        [ 0.5-0.j ,  0. +0.5j, -0.5-0.j ,  0. +0.5j],\n",
       "        [ 0.5-0.j ,  0. +0.5j,  0.5-0.j ,  0. -0.5j],\n",
       "        [ 0.5-0.j ,  0. -0.5j, -0.5-0.j ,  0. -0.5j],\n",
       "        [ 0.5-0.j ,  0. -0.5j,  0.5-0.j ,  0. +0.5j]]),\n",
       " array([[[[ 1.  +0.j  ,  0.  +0.j  ,  0.  +0.j  ,  0.  +0.j  ],\n",
       "          [ 0.  +0.j  ,  0.  +0.j  ,  0.  +0.j  ,  0.  +0.j  ],\n",
       "          [ 0.  +0.j  ,  0.  +0.j  ,  0.  +0.j  ,  0.  +0.j  ],\n",
       "          [ 0.  +0.j  ,  0.  +0.j  ,  0.  +0.j  ,  0.  +0.j  ]],\n",
       " \n",
       "         [[ 0.  +0.j  ,  0.  +0.j  ,  0.  +0.j  ,  0.  +0.j  ],\n",
       "          [ 0.  +0.j  ,  1.  +0.j  ,  0.  +0.j  ,  0.  +0.j  ],\n",
       "          [ 0.  +0.j  ,  0.  +0.j  ,  0.  +0.j  ,  0.  +0.j  ],\n",
       "          [ 0.  +0.j  ,  0.  +0.j  ,  0.  +0.j  ,  0.  +0.j  ]],\n",
       " \n",
       "         [[ 0.  +0.j  ,  0.  +0.j  ,  0.  +0.j  ,  0.  +0.j  ],\n",
       "          [ 0.  +0.j  ,  0.  +0.j  ,  0.  +0.j  ,  0.  +0.j  ],\n",
       "          [ 0.  +0.j  ,  0.  +0.j  ,  1.  +0.j  ,  0.  +0.j  ],\n",
       "          [ 0.  +0.j  ,  0.  +0.j  ,  0.  +0.j  ,  0.  +0.j  ]],\n",
       " \n",
       "         [[ 0.  +0.j  ,  0.  +0.j  ,  0.  +0.j  ,  0.  +0.j  ],\n",
       "          [ 0.  +0.j  ,  0.  +0.j  ,  0.  +0.j  ,  0.  +0.j  ],\n",
       "          [ 0.  +0.j  ,  0.  +0.j  ,  0.  +0.j  ,  0.  +0.j  ],\n",
       "          [ 0.  +0.j  ,  0.  +0.j  ,  0.  +0.j  ,  1.  +0.j  ]]],\n",
       " \n",
       " \n",
       "        [[[ 0.25+0.j  ,  0.25+0.j  ,  0.25+0.j  ,  0.25+0.j  ],\n",
       "          [ 0.25+0.j  ,  0.25+0.j  ,  0.25+0.j  ,  0.25+0.j  ],\n",
       "          [ 0.25+0.j  ,  0.25+0.j  ,  0.25+0.j  ,  0.25+0.j  ],\n",
       "          [ 0.25+0.j  ,  0.25+0.j  ,  0.25+0.j  ,  0.25+0.j  ]],\n",
       " \n",
       "         [[ 0.25+0.j  ,  0.25+0.j  , -0.25-0.j  , -0.25-0.j  ],\n",
       "          [ 0.25+0.j  ,  0.25+0.j  , -0.25-0.j  , -0.25-0.j  ],\n",
       "          [-0.25+0.j  , -0.25+0.j  ,  0.25+0.j  ,  0.25+0.j  ],\n",
       "          [-0.25+0.j  , -0.25+0.j  ,  0.25+0.j  ,  0.25+0.j  ]],\n",
       " \n",
       "         [[ 0.25+0.j  , -0.25-0.j  , -0.25-0.j  ,  0.25+0.j  ],\n",
       "          [-0.25+0.j  ,  0.25+0.j  ,  0.25+0.j  , -0.25+0.j  ],\n",
       "          [-0.25+0.j  ,  0.25+0.j  ,  0.25+0.j  , -0.25+0.j  ],\n",
       "          [ 0.25+0.j  , -0.25-0.j  , -0.25-0.j  ,  0.25+0.j  ]],\n",
       " \n",
       "         [[ 0.25+0.j  , -0.25-0.j  ,  0.25+0.j  , -0.25-0.j  ],\n",
       "          [-0.25+0.j  ,  0.25+0.j  , -0.25+0.j  ,  0.25+0.j  ],\n",
       "          [ 0.25+0.j  , -0.25-0.j  ,  0.25+0.j  , -0.25-0.j  ],\n",
       "          [-0.25+0.j  ,  0.25+0.j  , -0.25+0.j  ,  0.25+0.j  ]]],\n",
       " \n",
       " \n",
       "        [[[ 0.25+0.j  , -0.25-0.j  ,  0.  +0.25j,  0.  +0.25j],\n",
       "          [-0.25+0.j  ,  0.25+0.j  , -0.  -0.25j, -0.  -0.25j],\n",
       "          [ 0.  -0.25j, -0.  +0.25j,  0.25+0.j  ,  0.25+0.j  ],\n",
       "          [ 0.  -0.25j, -0.  +0.25j,  0.25+0.j  ,  0.25+0.j  ]],\n",
       " \n",
       "         [[ 0.25+0.j  , -0.25-0.j  ,  0.  -0.25j,  0.  -0.25j],\n",
       "          [-0.25+0.j  ,  0.25+0.j  ,  0.  +0.25j,  0.  +0.25j],\n",
       "          [ 0.  +0.25j,  0.  -0.25j,  0.25+0.j  ,  0.25+0.j  ],\n",
       "          [ 0.  +0.25j,  0.  -0.25j,  0.25+0.j  ,  0.25+0.j  ]],\n",
       " \n",
       "         [[ 0.25+0.j  ,  0.25+0.j  ,  0.  -0.25j,  0.  +0.25j],\n",
       "          [ 0.25+0.j  ,  0.25+0.j  ,  0.  -0.25j,  0.  +0.25j],\n",
       "          [ 0.  +0.25j,  0.  +0.25j,  0.25+0.j  , -0.25+0.j  ],\n",
       "          [ 0.  -0.25j,  0.  -0.25j, -0.25-0.j  ,  0.25+0.j  ]],\n",
       " \n",
       "         [[ 0.25+0.j  ,  0.25+0.j  ,  0.  +0.25j,  0.  -0.25j],\n",
       "          [ 0.25+0.j  ,  0.25+0.j  ,  0.  +0.25j,  0.  -0.25j],\n",
       "          [ 0.  -0.25j,  0.  -0.25j,  0.25+0.j  , -0.25-0.j  ],\n",
       "          [ 0.  +0.25j,  0.  +0.25j, -0.25+0.j  ,  0.25+0.j  ]]],\n",
       " \n",
       " \n",
       "        [[[ 0.25+0.j  ,  0.  +0.25j,  0.  +0.25j, -0.25-0.j  ],\n",
       "          [ 0.  -0.25j,  0.25+0.j  ,  0.25+0.j  , -0.  +0.25j],\n",
       "          [ 0.  -0.25j,  0.25+0.j  ,  0.25+0.j  , -0.  +0.25j],\n",
       "          [-0.25+0.j  , -0.  -0.25j, -0.  -0.25j,  0.25+0.j  ]],\n",
       " \n",
       "         [[ 0.25+0.j  ,  0.  +0.25j,  0.  -0.25j,  0.25+0.j  ],\n",
       "          [ 0.  -0.25j,  0.25+0.j  , -0.25-0.j  ,  0.  -0.25j],\n",
       "          [ 0.  +0.25j, -0.25+0.j  ,  0.25+0.j  ,  0.  +0.25j],\n",
       "          [ 0.25+0.j  ,  0.  +0.25j,  0.  -0.25j,  0.25+0.j  ]],\n",
       " \n",
       "         [[ 0.25+0.j  ,  0.  -0.25j,  0.  -0.25j, -0.25-0.j  ],\n",
       "          [ 0.  +0.25j,  0.25+0.j  ,  0.25+0.j  ,  0.  -0.25j],\n",
       "          [ 0.  +0.25j,  0.25+0.j  ,  0.25+0.j  ,  0.  -0.25j],\n",
       "          [-0.25+0.j  ,  0.  +0.25j,  0.  +0.25j,  0.25+0.j  ]],\n",
       " \n",
       "         [[ 0.25+0.j  ,  0.  -0.25j,  0.  +0.25j,  0.25+0.j  ],\n",
       "          [ 0.  +0.25j,  0.25+0.j  , -0.25+0.j  ,  0.  +0.25j],\n",
       "          [ 0.  -0.25j, -0.25-0.j  ,  0.25+0.j  ,  0.  -0.25j],\n",
       "          [ 0.25+0.j  ,  0.  -0.25j,  0.  +0.25j,  0.25+0.j  ]]],\n",
       " \n",
       " \n",
       "        [[[ 0.25+0.j  ,  0.  +0.25j, -0.25-0.j  ,  0.  +0.25j],\n",
       "          [ 0.  -0.25j,  0.25+0.j  , -0.  +0.25j,  0.25+0.j  ],\n",
       "          [-0.25+0.j  , -0.  -0.25j,  0.25+0.j  , -0.  -0.25j],\n",
       "          [ 0.  -0.25j,  0.25+0.j  , -0.  +0.25j,  0.25+0.j  ]],\n",
       " \n",
       "         [[ 0.25+0.j  ,  0.  +0.25j,  0.25+0.j  ,  0.  -0.25j],\n",
       "          [ 0.  -0.25j,  0.25+0.j  ,  0.  -0.25j, -0.25-0.j  ],\n",
       "          [ 0.25+0.j  ,  0.  +0.25j,  0.25+0.j  ,  0.  -0.25j],\n",
       "          [ 0.  +0.25j, -0.25+0.j  ,  0.  +0.25j,  0.25+0.j  ]],\n",
       " \n",
       "         [[ 0.25+0.j  ,  0.  -0.25j, -0.25-0.j  ,  0.  -0.25j],\n",
       "          [ 0.  +0.25j,  0.25+0.j  ,  0.  -0.25j,  0.25+0.j  ],\n",
       "          [-0.25+0.j  ,  0.  +0.25j,  0.25+0.j  ,  0.  +0.25j],\n",
       "          [ 0.  +0.25j,  0.25+0.j  ,  0.  -0.25j,  0.25+0.j  ]],\n",
       " \n",
       "         [[ 0.25+0.j  ,  0.  -0.25j,  0.25+0.j  ,  0.  +0.25j],\n",
       "          [ 0.  +0.25j,  0.25+0.j  ,  0.  +0.25j, -0.25+0.j  ],\n",
       "          [ 0.25+0.j  ,  0.  -0.25j,  0.25+0.j  ,  0.  +0.25j],\n",
       "          [ 0.  -0.25j, -0.25-0.j  ,  0.  -0.25j,  0.25+0.j  ]]]]),\n",
       " array([[ 1.  +0.j  ,  0.  +0.j  ,  0.  +0.j  ,  0.  +0.j  ,  0.  +0.j  ,\n",
       "          0.  +0.j  ,  0.  +0.j  ,  0.  +0.j  ,  0.  +0.j  ,  0.  +0.j  ,\n",
       "          0.  +0.j  ,  0.  +0.j  ,  0.  +0.j  ,  0.  +0.j  ,  0.  +0.j  ,\n",
       "          0.  +0.j  ],\n",
       "        [ 0.  +0.j  ,  0.  +0.j  ,  0.  +0.j  ,  0.  +0.j  ,  0.  +0.j  ,\n",
       "          1.  +0.j  ,  0.  +0.j  ,  0.  +0.j  ,  0.  +0.j  ,  0.  +0.j  ,\n",
       "          0.  +0.j  ,  0.  +0.j  ,  0.  +0.j  ,  0.  +0.j  ,  0.  +0.j  ,\n",
       "          0.  +0.j  ],\n",
       "        [ 0.  +0.j  ,  0.  +0.j  ,  0.  +0.j  ,  0.  +0.j  ,  0.  +0.j  ,\n",
       "          0.  +0.j  ,  0.  +0.j  ,  0.  +0.j  ,  0.  +0.j  ,  0.  +0.j  ,\n",
       "          1.  +0.j  ,  0.  +0.j  ,  0.  +0.j  ,  0.  +0.j  ,  0.  +0.j  ,\n",
       "          0.  +0.j  ],\n",
       "        [ 0.  +0.j  ,  0.  +0.j  ,  0.  +0.j  ,  0.  +0.j  ,  0.  +0.j  ,\n",
       "          0.  +0.j  ,  0.  +0.j  ,  0.  +0.j  ,  0.  +0.j  ,  0.  +0.j  ,\n",
       "          0.  +0.j  ,  0.  +0.j  ,  0.  +0.j  ,  0.  +0.j  ,  0.  +0.j  ,\n",
       "          1.  +0.j  ],\n",
       "        [ 0.25+0.j  ,  0.25+0.j  ,  0.25+0.j  ,  0.25+0.j  ,  0.25+0.j  ,\n",
       "          0.25+0.j  ,  0.25+0.j  ,  0.25+0.j  ,  0.25+0.j  ,  0.25+0.j  ,\n",
       "          0.25+0.j  ,  0.25+0.j  ,  0.25+0.j  ,  0.25+0.j  ,  0.25+0.j  ,\n",
       "          0.25+0.j  ],\n",
       "        [ 0.25+0.j  ,  0.25+0.j  , -0.25-0.j  , -0.25-0.j  ,  0.25+0.j  ,\n",
       "          0.25+0.j  , -0.25-0.j  , -0.25-0.j  , -0.25+0.j  , -0.25+0.j  ,\n",
       "          0.25+0.j  ,  0.25+0.j  , -0.25+0.j  , -0.25+0.j  ,  0.25+0.j  ,\n",
       "          0.25+0.j  ],\n",
       "        [ 0.25+0.j  , -0.25-0.j  , -0.25-0.j  ,  0.25+0.j  , -0.25+0.j  ,\n",
       "          0.25+0.j  ,  0.25+0.j  , -0.25+0.j  , -0.25+0.j  ,  0.25+0.j  ,\n",
       "          0.25+0.j  , -0.25+0.j  ,  0.25+0.j  , -0.25-0.j  , -0.25-0.j  ,\n",
       "          0.25+0.j  ],\n",
       "        [ 0.25+0.j  , -0.25-0.j  ,  0.25+0.j  , -0.25-0.j  , -0.25+0.j  ,\n",
       "          0.25+0.j  , -0.25+0.j  ,  0.25+0.j  ,  0.25+0.j  , -0.25-0.j  ,\n",
       "          0.25+0.j  , -0.25-0.j  , -0.25+0.j  ,  0.25+0.j  , -0.25+0.j  ,\n",
       "          0.25+0.j  ],\n",
       "        [ 0.25+0.j  , -0.25-0.j  ,  0.  +0.25j,  0.  +0.25j, -0.25+0.j  ,\n",
       "          0.25+0.j  , -0.  -0.25j, -0.  -0.25j,  0.  -0.25j, -0.  +0.25j,\n",
       "          0.25+0.j  ,  0.25+0.j  ,  0.  -0.25j, -0.  +0.25j,  0.25+0.j  ,\n",
       "          0.25+0.j  ],\n",
       "        [ 0.25+0.j  , -0.25-0.j  ,  0.  -0.25j,  0.  -0.25j, -0.25+0.j  ,\n",
       "          0.25+0.j  ,  0.  +0.25j,  0.  +0.25j,  0.  +0.25j,  0.  -0.25j,\n",
       "          0.25+0.j  ,  0.25+0.j  ,  0.  +0.25j,  0.  -0.25j,  0.25+0.j  ,\n",
       "          0.25+0.j  ],\n",
       "        [ 0.25+0.j  ,  0.25+0.j  ,  0.  -0.25j,  0.  +0.25j,  0.25+0.j  ,\n",
       "          0.25+0.j  ,  0.  -0.25j,  0.  +0.25j,  0.  +0.25j,  0.  +0.25j,\n",
       "          0.25+0.j  , -0.25+0.j  ,  0.  -0.25j,  0.  -0.25j, -0.25-0.j  ,\n",
       "          0.25+0.j  ],\n",
       "        [ 0.25+0.j  ,  0.25+0.j  ,  0.  +0.25j,  0.  -0.25j,  0.25+0.j  ,\n",
       "          0.25+0.j  ,  0.  +0.25j,  0.  -0.25j,  0.  -0.25j,  0.  -0.25j,\n",
       "          0.25+0.j  , -0.25-0.j  ,  0.  +0.25j,  0.  +0.25j, -0.25+0.j  ,\n",
       "          0.25+0.j  ],\n",
       "        [ 0.25+0.j  ,  0.  +0.25j,  0.  +0.25j, -0.25-0.j  ,  0.  -0.25j,\n",
       "          0.25+0.j  ,  0.25+0.j  , -0.  +0.25j,  0.  -0.25j,  0.25+0.j  ,\n",
       "          0.25+0.j  , -0.  +0.25j, -0.25+0.j  , -0.  -0.25j, -0.  -0.25j,\n",
       "          0.25+0.j  ],\n",
       "        [ 0.25+0.j  ,  0.  +0.25j,  0.  -0.25j,  0.25+0.j  ,  0.  -0.25j,\n",
       "          0.25+0.j  , -0.25-0.j  ,  0.  -0.25j,  0.  +0.25j, -0.25+0.j  ,\n",
       "          0.25+0.j  ,  0.  +0.25j,  0.25+0.j  ,  0.  +0.25j,  0.  -0.25j,\n",
       "          0.25+0.j  ],\n",
       "        [ 0.25+0.j  ,  0.  -0.25j,  0.  -0.25j, -0.25-0.j  ,  0.  +0.25j,\n",
       "          0.25+0.j  ,  0.25+0.j  ,  0.  -0.25j,  0.  +0.25j,  0.25+0.j  ,\n",
       "          0.25+0.j  ,  0.  -0.25j, -0.25+0.j  ,  0.  +0.25j,  0.  +0.25j,\n",
       "          0.25+0.j  ],\n",
       "        [ 0.25+0.j  ,  0.  -0.25j,  0.  +0.25j,  0.25+0.j  ,  0.  +0.25j,\n",
       "          0.25+0.j  , -0.25+0.j  ,  0.  +0.25j,  0.  -0.25j, -0.25-0.j  ,\n",
       "          0.25+0.j  ,  0.  -0.25j,  0.25+0.j  ,  0.  -0.25j,  0.  +0.25j,\n",
       "          0.25+0.j  ],\n",
       "        [ 0.25+0.j  ,  0.  +0.25j, -0.25-0.j  ,  0.  +0.25j,  0.  -0.25j,\n",
       "          0.25+0.j  , -0.  +0.25j,  0.25+0.j  , -0.25+0.j  , -0.  -0.25j,\n",
       "          0.25+0.j  , -0.  -0.25j,  0.  -0.25j,  0.25+0.j  , -0.  +0.25j,\n",
       "          0.25+0.j  ],\n",
       "        [ 0.25+0.j  ,  0.  +0.25j,  0.25+0.j  ,  0.  -0.25j,  0.  -0.25j,\n",
       "          0.25+0.j  ,  0.  -0.25j, -0.25-0.j  ,  0.25+0.j  ,  0.  +0.25j,\n",
       "          0.25+0.j  ,  0.  -0.25j,  0.  +0.25j, -0.25+0.j  ,  0.  +0.25j,\n",
       "          0.25+0.j  ],\n",
       "        [ 0.25+0.j  ,  0.  -0.25j, -0.25-0.j  ,  0.  -0.25j,  0.  +0.25j,\n",
       "          0.25+0.j  ,  0.  -0.25j,  0.25+0.j  , -0.25+0.j  ,  0.  +0.25j,\n",
       "          0.25+0.j  ,  0.  +0.25j,  0.  +0.25j,  0.25+0.j  ,  0.  -0.25j,\n",
       "          0.25+0.j  ],\n",
       "        [ 0.25+0.j  ,  0.  -0.25j,  0.25+0.j  ,  0.  +0.25j,  0.  +0.25j,\n",
       "          0.25+0.j  ,  0.  +0.25j, -0.25+0.j  ,  0.25+0.j  ,  0.  -0.25j,\n",
       "          0.25+0.j  ,  0.  +0.25j,  0.  -0.25j, -0.25-0.j  ,  0.  -0.25j,\n",
       "          0.25+0.j  ]]))"
      ]
     },
     "execution_count": 229,
     "metadata": {},
     "output_type": "execute_result"
    }
   ],
   "source": [
    "# Составим матрицы согласно заданию\n",
    "P, B = build_P(mub_array)\n",
    "X = build_X(mub_array)\n",
    "X,P,B"
   ]
  },
  {
   "cell_type": "markdown",
   "id": "6cff3901",
   "metadata": {},
   "source": [
    "## Пункт 2:\n",
    "#### Сгенерируем случайное чистое состояние размерности d = 4, проверим правильность полученных матриц:"
   ]
  },
  {
   "cell_type": "code",
   "execution_count": 619,
   "id": "07c9b0fa",
   "metadata": {},
   "outputs": [],
   "source": [
    "# Класс квантового состояния\n",
    "class State():\n",
    "    \n",
    "    def __init__(self, d = 4):\n",
    "        self.d = d\n",
    "        self.phi = None\n",
    "        self.rho = None\n",
    "        \n",
    "    def build_clear_state(self, random_state = 42):\n",
    "        phi = np.random.randn(int(d)) + 1j*np.random.randn(int(d))\n",
    "        self.phi = phi/np.sqrt(np.dot(phi, phi.conj()))\n",
    "        self.rho = np.outer(self.phi, self.phi.conj())\n",
    "        \n",
    "    def set_phi(self, coefs):\n",
    "        self.phi = coefs\n",
    "        self.rho = np.outer(self.phi, self.phi.conj())\n",
    "        \n",
    "    def get_phi(self):\n",
    "        return self.phi\n",
    "    \n",
    "    def get_rho(self):\n",
    "        return self.rho\n",
    "        \n",
    "#Вычисление Фиделити для матриц плотности\n",
    "def Fidelity(rho1, rho2):\n",
    "    return np.abs(np.trace(sLA.sqrtm(sLA.sqrtm(rho1) @ rho2 @ sLA.sqrtm(rho1))))**2       \n",
    "\n",
    "#Вычисление Фиделити для векторов чистых состояний\n",
    "def Fidelity_pure(vec0, vec1):\n",
    "    return np.abs(np.dot(vec0, vec1.conjugate())) ** 2"
   ]
  },
  {
   "cell_type": "code",
   "execution_count": 620,
   "id": "80b587cc",
   "metadata": {},
   "outputs": [
    {
     "data": {
      "text/plain": [
       "(0.9999999999999999,\n",
       " array([-0.50159697+0.44031641j, -0.45038702-0.01006215j,\n",
       "        -0.26321757+0.08808466j, -0.06321618+0.52012839j]),\n",
       " (0.9999999999999998+0j),\n",
       " (0.9999999999999998+1.3643223395046242e-18j))"
      ]
     },
     "execution_count": 620,
     "metadata": {},
     "output_type": "execute_result"
    }
   ],
   "source": [
    "# Создадим случайное чистое состояние размерности 4\n",
    "d = 4\n",
    "\n",
    "state = State(d)\n",
    "state.build_clear_state()\n",
    "phi = state.get_phi()\n",
    "rho = state.get_rho()\n",
    "\n",
    "#Проверка\n",
    "(np.abs(phi)**2).sum(),phi, np.trace(rho), np.trace(np.dot(rho, rho))"
   ]
  },
  {
   "cell_type": "code",
   "execution_count": 621,
   "id": "d5ce8fab",
   "metadata": {},
   "outputs": [],
   "source": [
    "# Получение вероятностей по правилу Борна\n",
    "def apply_P(rho,P):\n",
    "    p = np.zeros((P.shape[0], P.shape[1]))\n",
    "    j = 0\n",
    "    for P_j in P:\n",
    "        k = 0\n",
    "        for P_jk in P_j:\n",
    "            p[j][k] = np.trace(np.dot(P_jk, rho))\n",
    "            k += 1\n",
    "        j += 1\n",
    "        \n",
    "    return p\n",
    "\n",
    "# Сравним распределения вероятностей\n",
    "def compare_distr(m1,m2):\n",
    "    return np.sum(np.abs(m1 - m2))\n",
    "    "
   ]
  },
  {
   "cell_type": "code",
   "execution_count": 622,
   "id": "eb47bf4f",
   "metadata": {},
   "outputs": [
    {
     "name": "stderr",
     "output_type": "stream",
     "text": [
      "/home/stas/anaconda3/lib/python3.7/site-packages/ipykernel_launcher.py:8: ComplexWarning: Casting complex values to real discards the imaginary part\n",
      "  \n"
     ]
    }
   ],
   "source": [
    "# Получим вероятности измерений тремя способами\n",
    "p = apply_P(rho,P)\n",
    "p_X = np.abs(np.dot(X,phi))**2\n",
    "p_B = np.dot(B, np.ravel(rho, order = 'F'))"
   ]
  },
  {
   "cell_type": "code",
   "execution_count": 624,
   "id": "afb137a9",
   "metadata": {},
   "outputs": [
    {
     "name": "stdout",
     "output_type": "stream",
     "text": [
      "Сумма модулей разностей вероятностей полученных по правилу Борна и с помощбю матрицы X:  9.020562075079397e-16\n",
      "Сумма модулей разностей вероятностей полученных по правилу Борна и с помощбю матрицы B:  3.3680655117476335e-16\n"
     ]
    }
   ],
   "source": [
    "# Сравним распределения вероятностей, полученные разными способами\n",
    "print('Сумма модулей разностей вероятностей полученных по правилу Борна и с помощбю матрицы X: ', compare_distr(p_X.reshape((5,d)), p))\n",
    "print('Сумма модулей разностей вероятностей полученных по правилу Борна и с помощбю матрицы B: ', compare_distr(p_B.reshape((5,d)), p))"
   ]
  },
  {
   "cell_type": "code",
   "execution_count": 1021,
   "id": "1c29e663",
   "metadata": {},
   "outputs": [
    {
     "name": "stderr",
     "output_type": "stream",
     "text": [
      "No handles with labels found to put in legend.\n"
     ]
    },
    {
     "data": {
      "image/png": "[encoded data removed]",
      "text/plain": [
       "<Figure size 432x288 with 1 Axes>"
      ]
     },
     "metadata": {
      "needs_background": "light"
     },
     "output_type": "display_data"
    }
   ],
   "source": [
    "plt.hist(p, bins = 100, alpha = 0.3)\n",
    "plt.hist(p_X, bins = 100, alpha = 0.3)\n",
    "plt.hist(p_B, bins = 100, alpha = 0.3)\n",
    "\n",
    "plt.title(r'Сравнение распределений вероятностей')\n",
    "plt.xlabel(r'Событие')\n",
    "plt.ylabel(r'Вероятность')\n",
    "plt.legend()\n",
    "plt.show()"
   ]
  },
  {
   "cell_type": "markdown",
   "id": "e9b43708",
   "metadata": {},
   "source": [
    "распределения совпадают => все способы реализованы верно"
   ]
  },
  {
   "cell_type": "markdown",
   "id": "8bc56905",
   "metadata": {},
   "source": [
    "## Пункт 3:\n",
    "\n",
    "#### Сгенерируем состояние вида $(1 - \\gamma) | \\phi \\rangle \\langle \\phi | + \\gamma I/d$ для $ \\gamma = 0.1$\n",
    "\n"
   ]
  },
  {
   "cell_type": "code",
   "execution_count": 702,
   "id": "61cec77e",
   "metadata": {},
   "outputs": [],
   "source": [
    "# Генерирует единичную матрицу\n",
    "def get_Identity(d):\n",
    "    I = np.zeros((d,d))\n",
    "    for i in range(d):\n",
    "        I[i][i] = 1\n",
    "        \n",
    "    return I"
   ]
  },
  {
   "cell_type": "code",
   "execution_count": 752,
   "id": "ffaf7294",
   "metadata": {},
   "outputs": [],
   "source": [
    "# Генерирует случайную матрицу плотности, близкую к чистому состоянию\n",
    "def build_near_clear_rho(d = 4, gamma = 0.1):\n",
    "    state = State(d)\n",
    "    state.build_clear_state(random_state = 42)\n",
    "    rho0 = state.get_rho()\n",
    "\n",
    "    I = get_Identity(d)\n",
    "\n",
    "    rho = (1 - gamma)*rho0.copy() + gamma*I/d\n",
    "    \n",
    "    return rho"
   ]
  },
  {
   "cell_type": "code",
   "execution_count": 878,
   "id": "bf18a645",
   "metadata": {},
   "outputs": [
    {
     "data": {
      "text/plain": [
       "array([[ 0.46753412+0.j        ,  0.0401405 +0.01842765j,\n",
       "        -0.21465127+0.16277378j,  0.31399878+0.27537143j],\n",
       "       [ 0.0401405 -0.01842765j,  0.00417261+0.j        ,\n",
       "        -0.01201339+0.02243545j,  0.03781225+0.0112661j ],\n",
       "       [-0.21465127-0.16277378j, -0.01201339-0.02243545j,\n",
       "         0.15521962+0.j        , -0.0482895 -0.23574664j],\n",
       "       [ 0.31399878-0.27537143j,  0.03781225-0.0112661j ,\n",
       "        -0.0482895 +0.23574664j,  0.37307365+0.j        ]])"
      ]
     },
     "execution_count": 878,
     "metadata": {},
     "output_type": "execute_result"
    }
   ],
   "source": [
    "d = 4\n",
    "gamma = 0\n",
    "\n",
    "rho = build_near_clear_rho(d = d, gamma = gamma)\n",
    "rho"
   ]
  },
  {
   "cell_type": "markdown",
   "id": "4380efb2",
   "metadata": {},
   "source": [
    "## Пункт 4, Пункт 5:\n",
    "\n",
    "#### Проведём серию измерений согласно протоколу взаимо несмещённых базисов по n = 10 измерений на каждый базис. В результате получим оценку распределения вероятностей"
   ]
  },
  {
   "cell_type": "code",
   "execution_count": 961,
   "id": "c731d1d2",
   "metadata": {},
   "outputs": [],
   "source": [
    "# Моделирует серию измерений:\n",
    "\n",
    "def estimate_probs(rho, n_shots = 10, d = 4):\n",
    "    p_B = np.dot(B, np.ravel(rho, order = 'F'))\n",
    "    rng = np.random.default_rng()\n",
    "    p_B_matrix = p_B.reshape((5,d))\n",
    "    prob_res = np.ravel(np.array([rng.multinomial(n_shots, x.astype(dtype = np.float64)) for x in p_B_matrix])/n_shots, order = 'C')\n",
    "    return prob_res"
   ]
  },
  {
   "cell_type": "code",
   "execution_count": 962,
   "id": "800e8cb3",
   "metadata": {},
   "outputs": [
    {
     "name": "stderr",
     "output_type": "stream",
     "text": [
      "/home/stas/anaconda3/lib/python3.7/site-packages/ipykernel_launcher.py:7: ComplexWarning: Casting complex values to real discards the imaginary part\n",
      "  import sys\n"
     ]
    },
    {
     "data": {
      "text/plain": [
       "array([0. , 0.2, 0.3, 0.5, 0.4, 0.3, 0. , 0.3, 0.8, 0.2, 0. , 0. , 0. ,\n",
       "       0.9, 0.1, 0. , 0.2, 0.2, 0.5, 0.1])"
      ]
     },
     "execution_count": 962,
     "metadata": {},
     "output_type": "execute_result"
    }
   ],
   "source": [
    "n = 10\n",
    "\n",
    "prob_res = estimate_probs(rho, n_shots = n, d = 4)\n",
    "prob_res"
   ]
  },
  {
   "cell_type": "markdown",
   "id": "9fc7fabf",
   "metadata": {},
   "source": [
    "## Пункт 6:\n",
    "\n",
    "#### Восстановим матрицу плотности согласно методу псевдоинверсии:"
   ]
  },
  {
   "cell_type": "code",
   "execution_count": 963,
   "id": "05d57b67",
   "metadata": {},
   "outputs": [],
   "source": [
    "# SVD разложение\n",
    "u, s, vh = LA.linalg.svd(B)"
   ]
  },
  {
   "cell_type": "code",
   "execution_count": 964,
   "id": "92278c77",
   "metadata": {},
   "outputs": [
    {
     "data": {
      "text/plain": [
       "array([-1.11803399e+00+0.00000000e+00j,  4.81527754e-02+3.23056663e-01j,\n",
       "       -2.88675135e-01+0.00000000e+00j, -5.96138251e-02+1.70459672e-01j,\n",
       "        1.30324369e-01-9.37129614e-02j,  7.49236314e-03+1.66411120e-01j,\n",
       "       -2.07735202e-01+4.18792172e-01j, -3.43526970e-01+2.12332371e-01j,\n",
       "       -9.07366922e-02+2.09025514e-01j, -1.42470778e-01-2.96703116e-01j,\n",
       "        2.06279201e-01-2.24357090e-01j,  2.11559235e-01-1.73634841e-01j,\n",
       "        3.40071719e-01+8.62085163e-03j, -8.46748303e-02+1.92992182e-01j,\n",
       "       -3.39852924e-01-6.45791029e-02j, -7.47301215e-02-1.96918954e-01j,\n",
       "        1.66533454e-16-5.20417043e-17j, -1.38777878e-16-2.01227923e-16j,\n",
       "       -2.77555756e-17-8.67361738e-17j,  8.32667268e-17+2.77555756e-17j])"
      ]
     },
     "execution_count": 964,
     "metadata": {},
     "output_type": "execute_result"
    }
   ],
   "source": [
    "# Найдём вектор q = V.conj().T @ rho\n",
    "f_real = np.dot(vh, np.ravel(rho, order = 'F'))\n",
    "q = np.dot(u.conj().T, prob_res)\n",
    "q"
   ]
  },
  {
   "cell_type": "code",
   "execution_count": 965,
   "id": "c6b0a3b1",
   "metadata": {},
   "outputs": [
    {
     "data": {
      "text/plain": [
       "4"
      ]
     },
     "execution_count": 965,
     "metadata": {},
     "output_type": "execute_result"
    }
   ],
   "source": [
    "# Колличество зануляемых собственных значений\n",
    "tail_num = B.shape[0] - B.shape[1]\n",
    "tail_num"
   ]
  },
  {
   "cell_type": "code",
   "execution_count": 966,
   "id": "15f5672c",
   "metadata": {},
   "outputs": [
    {
     "data": {
      "text/plain": [
       "array([[ 1.88065163e-16-0.00000000e+00j, -1.50000000e-01+1.50000000e-01j,\n",
       "         1.11022302e-16-1.00000000e-01j,  1.50000000e-01+5.00000000e-02j],\n",
       "       [-1.50000000e-01-1.50000000e-01j,  2.00000000e-01+8.32667268e-17j,\n",
       "        -2.50000000e-01-2.50000000e-01j,  2.00000000e-01-4.00000000e-01j],\n",
       "       [ 3.05311332e-16+1.00000000e-01j, -2.50000000e-01+2.50000000e-01j,\n",
       "         3.00000000e-01-0.00000000e+00j,  3.50000000e-01+2.50000000e-01j],\n",
       "       [ 1.50000000e-01-5.00000000e-02j,  2.00000000e-01+4.00000000e-01j,\n",
       "         3.50000000e-01-2.50000000e-01j,  5.00000000e-01-4.51028104e-17j]])"
      ]
     },
     "execution_count": 966,
     "metadata": {},
     "output_type": "execute_result"
    }
   ],
   "source": [
    "# Вычислим матрицу плотности из СЗ вектора q\n",
    "f = q[:-tail_num]/s\n",
    "rho_new = np.reshape(np.dot(vh.conj().T, f),(4,4)).conj()\n",
    "rho_new"
   ]
  },
  {
   "cell_type": "code",
   "execution_count": 967,
   "id": "65059381",
   "metadata": {},
   "outputs": [
    {
     "data": {
      "text/plain": [
       "(array([ 1.19618909+3.31056508e-17j, -0.32438285+1.58139874e-16j,\n",
       "         0.15267058-6.55274673e-17j, -0.02447682-1.23983334e-16j]),\n",
       " array([[ 0.16056627+0.07552171j,  0.49806637-0.06823566j,\n",
       "          0.59082796+0.j        ,  0.60556672+0.j        ],\n",
       "        [ 0.1272882 -0.48748214j,  0.63276617+0.j        ,\n",
       "         -0.33909148-0.28444639j, -0.16255439+0.3513533j ],\n",
       "        [ 0.35351181+0.37616903j,  0.42319773-0.13865429j,\n",
       "         -0.36224151+0.44724267j, -0.15091699-0.42565723j],\n",
       "        [ 0.66947747+0.j        , -0.37762435-0.07719637j,\n",
       "         -0.34437218-0.07205852j,  0.4603682 +0.2598403j ]]))"
      ]
     },
     "execution_count": 967,
     "metadata": {},
     "output_type": "execute_result"
    }
   ],
   "source": [
    "# СЗ и СВ восстановленной матрицы плотности\n",
    "vals, vecs = LA.eig(rho_new)\n",
    "vals, vecs"
   ]
  },
  {
   "cell_type": "code",
   "execution_count": 968,
   "id": "25ff468b",
   "metadata": {},
   "outputs": [
    {
     "data": {
      "text/plain": [
       "0.34885966843220567"
      ]
     },
     "execution_count": 968,
     "metadata": {},
     "output_type": "execute_result"
    }
   ],
   "source": [
    "# Абсолютное значение суммы отрицательных CЗ\n",
    "delta = np.abs(np.sum(vals[vals<0]))\n",
    "delta"
   ]
  },
  {
   "cell_type": "code",
   "execution_count": 978,
   "id": "2fa7967e",
   "metadata": {},
   "outputs": [],
   "source": [
    "# Корректирует СЗ восстановленной матрицы, проектируя её на \n",
    "# множество матриц плотности\n",
    "def correct_eigvals(v):\n",
    "    \n",
    "    vals = sorted(v)[::-1]\n",
    "    inds = np.arange(len(vals))\n",
    "    w_list = np.abs(np.cumsum(vals)-1)/(inds + 1)\n",
    "    \n",
    "    j = 0\n",
    "    for val, w in zip(vals,w_list):\n",
    "        if (val - w) <0:\n",
    "            break\n",
    "        else:\n",
    "            j += 1\n",
    "        \n",
    "    vals_correct = copy.deepcopy(v)\n",
    "    \n",
    "    if  j <= (len(vals) - 1):\n",
    "        vals_correct = vals_correct - w_list[j-1]\n",
    "        vals_correct[vals_correct<0] = 0\n",
    "        \n",
    "    return vals_correct"
   ]
  },
  {
   "cell_type": "code",
   "execution_count": 979,
   "id": "cb0cf95a",
   "metadata": {},
   "outputs": [
    {
     "data": {
      "text/plain": [
       "array([1.+3.31056508e-17j, 0.+0.00000000e+00j, 0.+0.00000000e+00j,\n",
       "       0.+0.00000000e+00j])"
      ]
     },
     "execution_count": 979,
     "metadata": {},
     "output_type": "execute_result"
    }
   ],
   "source": [
    "vals_new = correct_eigvals(vals)\n",
    "vals_new"
   ]
  },
  {
   "cell_type": "code",
   "execution_count": 980,
   "id": "a3d6d4ee",
   "metadata": {},
   "outputs": [
    {
     "data": {
      "text/plain": [
       "array([[ 0.03148505+3.96425447e-19j, -0.01637729+8.78862091e-02j,\n",
       "         0.085171  -3.37022399e-02j,  0.1074955 +5.05600820e-02j],\n",
       "       [-0.01637729-8.78862091e-02j,  0.25384112+1.59488098e-17j,\n",
       "        -0.1383778 -2.20212573e-01j,  0.08521658-3.26358312e-01j],\n",
       "       [ 0.085171  +3.37022399e-02j, -0.1383778 +2.20212573e-01j,\n",
       "         0.26647374+4.08135189e-18j,  0.23666819+2.51836689e-01j],\n",
       "       [ 0.1074955 -5.05600820e-02j,  0.08521658+3.26358312e-01j,\n",
       "         0.23666819-2.51836689e-01j,  0.44820008+1.48379555e-17j]])"
      ]
     },
     "execution_count": 980,
     "metadata": {},
     "output_type": "execute_result"
    }
   ],
   "source": [
    "# Восстанавливаем матрицу плотности со скорректированными СЗ\n",
    "rho_new_correct = vecs @ np.diag(vals_new) @ vecs.conj().T\n",
    "rho_new_correct"
   ]
  },
  {
   "cell_type": "code",
   "execution_count": 981,
   "id": "3df24389",
   "metadata": {},
   "outputs": [
    {
     "data": {
      "text/plain": [
       "0.04548117057277681"
      ]
     },
     "execution_count": 981,
     "metadata": {},
     "output_type": "execute_result"
    }
   ],
   "source": [
    "# Расчитаем Fidelity полученной матрицы плотности\n",
    "Fidelity(rho_new_correct, rho)"
   ]
  },
  {
   "cell_type": "markdown",
   "id": "76a01131",
   "metadata": {},
   "source": [
    "## Пункт 7:\n",
    "\n",
    "#### Реализуем в виде функций и проведём серию экспериментов:"
   ]
  },
  {
   "cell_type": "code",
   "execution_count": 982,
   "id": "1955eb1e",
   "metadata": {},
   "outputs": [],
   "source": [
    "# реализут восстановление матрицы плотности\n",
    "def recover_rho(B, probs, correct_rho = True):\n",
    "    u, s, vh = LA.linalg.svd(B)\n",
    "    q = np.dot(u.conj().T, probs)\n",
    "    \n",
    "    tail_num = B.shape[0] - B.shape[1]\n",
    "    f = q[:-tail_num]/s\n",
    "    rho_new = np.reshape(np.dot(vh.conj().T, f),(4,4)).conj()\n",
    "    \n",
    "    vals, vecs = LA.eig(rho_new)\n",
    "    \n",
    "    delta = np.abs(np.sum(vals[vals<0]))\n",
    "    \n",
    "    rho_new_correct = rho_new.copy()\n",
    "    \n",
    "    if correct_rho == True:\n",
    "        vals_new = correct_eigvals(vals)\n",
    "        rho_new_correct = vecs @ np.diag(vals_new) @ vecs.conj().T\n",
    "        \n",
    "    return rho_new_correct, delta"
   ]
  },
  {
   "cell_type": "code",
   "execution_count": 983,
   "id": "87849056",
   "metadata": {},
   "outputs": [],
   "source": [
    "d = 4\n",
    "N = 100\n",
    "\n",
    "res = []\n",
    "gamma_list = np.linspace(0,1,100)\n",
    "for n in [10,100,1000]:\n",
    "    delta_list = []\n",
    "    for gamma in gamma_list:\n",
    "        dl = []\n",
    "        for i in range(N):\n",
    "            rho = build_near_clear_rho(d = d, gamma = gamma)\n",
    "            prob_res = estimate_probs(rho, n_shots = n, d = d)\n",
    "            _ , delta = recover_rho(B, prob_res, correct_rho = False)\n",
    "            dl.append(delta)\n",
    "        \n",
    "        delta_list.append(np.mean(dl))\n",
    "        \n",
    "    res.append([[n], gamma_list.copy(), delta_list.copy()])\n",
    "\n",
    "res = np.array(res).T"
   ]
  },
  {
   "cell_type": "code",
   "execution_count": 984,
   "id": "444b49a0",
   "metadata": {},
   "outputs": [
    {
     "data": {
      "image/png": "[encoded data removed]",
      "text/plain": [
       "<Figure size 432x288 with 1 Axes>"
      ]
     },
     "metadata": {
      "needs_background": "light"
     },
     "output_type": "display_data"
    }
   ],
   "source": [
    "plt.title(r'Зависимость абсолютного занчения суммы отрицательных СЗ МП \\delta от параметра \\gamma')\n",
    "for i in range(len(res)):\n",
    "    plt.plot(res[1][i], res[2][i], label = r'Количество измерений n = {}'.format(res[0][i]))\n",
    "    plt.xlabel(r'Значение \\gamma')\n",
    "    plt.xlabel(r'Среднее значение \\delta')\n",
    "plt.legend()\n",
    "plt.show()"
   ]
  },
  {
   "cell_type": "code",
   "execution_count": 1014,
   "id": "b1393cdf",
   "metadata": {},
   "outputs": [
    {
     "name": "stderr",
     "output_type": "stream",
     "text": [
      "/home/stas/anaconda3/lib/python3.7/site-packages/ipykernel_launcher.py:7: ComplexWarning: Casting complex values to real discards the imaginary part\n",
      "  import sys\n"
     ]
    }
   ],
   "source": [
    "d = 4\n",
    "n = 100\n",
    "gamma = 0\n",
    "N = 1000\n",
    "\n",
    "F_list = []\n",
    "for i in range(N):\n",
    "    rho = build_near_clear_rho(d = d, gamma = gamma)\n",
    "    prob_res = estimate_probs(rho, n_shots = n, d = d)\n",
    "    rho_new, delta = recover_rho(B, prob_res, correct_rho = True)\n",
    "    F_list.append(Fidelity(rho_new,rho))"
   ]
  },
  {
   "cell_type": "code",
   "execution_count": 1017,
   "id": "0e5949e9",
   "metadata": {},
   "outputs": [
    {
     "name": "stderr",
     "output_type": "stream",
     "text": [
      "No handles with labels found to put in legend.\n"
     ]
    },
    {
     "data": {
      "image/png": "[encoded data removed]",
      "text/plain": [
       "<Figure size 432x288 with 1 Axes>"
      ]
     },
     "metadata": {
      "needs_background": "light"
     },
     "output_type": "display_data"
    }
   ],
   "source": [
    "plt.hist(F_list, bins = 100)\n",
    "plt.title(r'Гистограмма Fidelity восстановленного состояния \\gamma')\n",
    "plt.xlabel(r'Значение Fidelity F(\\rho, rho_{new})')\n",
    "plt.ylabel(r'Вероятность')\n",
    "plt.legend()\n",
    "plt.show()"
   ]
  },
  {
   "cell_type": "code",
   "execution_count": null,
   "id": "71d3a361",
   "metadata": {},
   "outputs": [],
   "source": []
  },
  {
   "cell_type": "code",
   "execution_count": null,
   "id": "89f314be",
   "metadata": {},
   "outputs": [],
   "source": []
  }
 ],
 "metadata": {
  "kernelspec": {
   "display_name": "Python 3",
   "language": "python",
   "name": "python3"
  },
  "language_info": {
   "codemirror_mode": {
    "name": "ipython",
    "version": 3
   },
   "file_extension": ".py",
   "mimetype": "text/x-python",
   "name": "python",
   "nbconvert_exporter": "python",
   "pygments_lexer": "ipython3",
   "version": "3.7.11"
  }
 },
 "nbformat": 4,
 "nbformat_minor": 5
}
