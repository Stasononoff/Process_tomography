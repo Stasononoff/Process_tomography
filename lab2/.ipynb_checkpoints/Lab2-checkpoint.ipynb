{
 "cells": [
  {
   "cell_type": "code",
   "execution_count": 1022,
   "id": "328701f2",
   "metadata": {},
   "outputs": [],
   "source": [
    "import numpy as np\n",
    "from scipy import linalg as sLA\n",
    "from numpy import linalg as LA\n",
    "import copy\n",
    "from matplotlib import pyplot as plt\n",
    "from matplotlib import style"
   ]
  },
  {
   "cell_type": "code",
   "execution_count": 1023,
   "id": "b71a8379",
   "metadata": {},
   "outputs": [],
   "source": [
    "style.use('ggplot')"
   ]
  },
  {
   "cell_type": "markdown",
   "id": "c2b496ba",
   "metadata": {},
   "source": [
    "# Лабораторная работа No2. Протоколы квантовых измерений и реконструкция матрицы плотности методом псевдо-инверсии\n",
    "\n",
    "## Пункт 1:\n",
    "#### Рассмотрим протокол томогрфии квантового состояния, основанный на измерениях во взаимно-несмещённых базисах (MUB) для размености d = 4:"
   ]
  },
  {
   "cell_type": "code",
   "execution_count": 1024,
   "id": "9a3fa754",
   "metadata": {},
   "outputs": [],
   "source": [
    "# Массив унитарных матриц образующих MUB для d = 4\n",
    "\n",
    "mub_array = 1/2*np.array([\n",
    "    [[2,0,0,0],\n",
    "     [0,2,0,0],\n",
    "     [0,0,2,0],\n",
    "     [0,0,0,2]],\n",
    "    \n",
    "    [[1,1,1,1],\n",
    "     [1,1,-1,-1],\n",
    "     [1,-1,-1,1],\n",
    "     [1,-1,1,-1]],\n",
    "    \n",
    "    [[1,1,1,1],\n",
    "     [-1,-1,1,1],\n",
    "     [-1j,1j,1j,-1j],\n",
    "     [-1j,1j,-1j,1j]],\n",
    "    \n",
    "    [[1,1,1,1],\n",
    "     [-1j,-1j,1j,1j],\n",
    "     [-1j,1j,1j,-1j],\n",
    "     [-1,1,-1,1]],\n",
    "    \n",
    "    [[1,1,1,1],\n",
    "     [-1j,-1j,1j,1j],\n",
    "     [-1,1,-1,1],\n",
    "     [-1j,1j,1j,-1j]],\n",
    "      \n",
    "])"
   ]
  },
  {
   "cell_type": "code",
   "execution_count": 1025,
   "id": "50836f6b",
   "metadata": {},
   "outputs": [],
   "source": [
    "# Получаем операторы P(j,k) и B из набора матриц, соответствующих заданному MUB \n",
    "def build_P(mub_array):\n",
    "    P = []\n",
    "    B = []\n",
    "    for mub in mub_array:\n",
    "        P_part = []\n",
    "        B_part = []\n",
    "        for string in mub.T:\n",
    "            op = np.outer(string, string.conj())\n",
    "            P_part.append(op)\n",
    "            B_part.append(np.ravel(op, order = 'C'))\n",
    "        B.append(B_part)\n",
    "        P.append(P_part)\n",
    "    return np.array(P), np.vstack(np.array(B))\n",
    "\n",
    "# Получаем операторы X из набора матриц, соответствующих заданному MUB \n",
    "def build_X(mub_array):\n",
    "    X = np.vstack(copy.deepcopy(mub_array).transpose((0,2,1)).conj())\n",
    "    return X\n",
    "    "
   ]
  },
  {
   "cell_type": "code",
   "execution_count": 1026,
   "id": "5c8af02e",
   "metadata": {},
   "outputs": [
    {
     "data": {
      "text/plain": [
       "(array([[ 1. -0.j ,  0. -0.j ,  0. -0.j ,  0. -0.j ],\n",
       "        [ 0. -0.j ,  1. -0.j ,  0. -0.j ,  0. -0.j ],\n",
       "        [ 0. -0.j ,  0. -0.j ,  1. -0.j ,  0. -0.j ],\n",
       "        [ 0. -0.j ,  0. -0.j ,  0. -0.j ,  1. -0.j ],\n",
       "        [ 0.5-0.j ,  0.5-0.j ,  0.5-0.j ,  0.5-0.j ],\n",
       "        [ 0.5-0.j ,  0.5-0.j , -0.5-0.j , -0.5-0.j ],\n",
       "        [ 0.5-0.j , -0.5-0.j , -0.5-0.j ,  0.5-0.j ],\n",
       "        [ 0.5-0.j , -0.5-0.j ,  0.5-0.j , -0.5-0.j ],\n",
       "        [ 0.5-0.j , -0.5-0.j ,  0. +0.5j,  0. +0.5j],\n",
       "        [ 0.5-0.j , -0.5-0.j ,  0. -0.5j,  0. -0.5j],\n",
       "        [ 0.5-0.j ,  0.5-0.j ,  0. -0.5j,  0. +0.5j],\n",
       "        [ 0.5-0.j ,  0.5-0.j ,  0. +0.5j,  0. -0.5j],\n",
       "        [ 0.5-0.j ,  0. +0.5j,  0. +0.5j, -0.5-0.j ],\n",
       "        [ 0.5-0.j ,  0. +0.5j,  0. -0.5j,  0.5-0.j ],\n",
       "        [ 0.5-0.j ,  0. -0.5j,  0. -0.5j, -0.5-0.j ],\n",
       "        [ 0.5-0.j ,  0. -0.5j,  0. +0.5j,  0.5-0.j ],\n",
       "        [ 0.5-0.j ,  0. +0.5j, -0.5-0.j ,  0. +0.5j],\n",
       "        [ 0.5-0.j ,  0. +0.5j,  0.5-0.j ,  0. -0.5j],\n",
       "        [ 0.5-0.j ,  0. -0.5j, -0.5-0.j ,  0. -0.5j],\n",
       "        [ 0.5-0.j ,  0. -0.5j,  0.5-0.j ,  0. +0.5j]]),\n",
       " array([[[[ 1.  +0.j  ,  0.  +0.j  ,  0.  +0.j  ,  0.  +0.j  ],\n",
       "          [ 0.  +0.j  ,  0.  +0.j  ,  0.  +0.j  ,  0.  +0.j  ],\n",
       "          [ 0.  +0.j  ,  0.  +0.j  ,  0.  +0.j  ,  0.  +0.j  ],\n",
       "          [ 0.  +0.j  ,  0.  +0.j  ,  0.  +0.j  ,  0.  +0.j  ]],\n",
       " \n",
       "         [[ 0.  +0.j  ,  0.  +0.j  ,  0.  +0.j  ,  0.  +0.j  ],\n",
       "          [ 0.  +0.j  ,  1.  +0.j  ,  0.  +0.j  ,  0.  +0.j  ],\n",
       "          [ 0.  +0.j  ,  0.  +0.j  ,  0.  +0.j  ,  0.  +0.j  ],\n",
       "          [ 0.  +0.j  ,  0.  +0.j  ,  0.  +0.j  ,  0.  +0.j  ]],\n",
       " \n",
       "         [[ 0.  +0.j  ,  0.  +0.j  ,  0.  +0.j  ,  0.  +0.j  ],\n",
       "          [ 0.  +0.j  ,  0.  +0.j  ,  0.  +0.j  ,  0.  +0.j  ],\n",
       "          [ 0.  +0.j  ,  0.  +0.j  ,  1.  +0.j  ,  0.  +0.j  ],\n",
       "          [ 0.  +0.j  ,  0.  +0.j  ,  0.  +0.j  ,  0.  +0.j  ]],\n",
       " \n",
       "         [[ 0.  +0.j  ,  0.  +0.j  ,  0.  +0.j  ,  0.  +0.j  ],\n",
       "          [ 0.  +0.j  ,  0.  +0.j  ,  0.  +0.j  ,  0.  +0.j  ],\n",
       "          [ 0.  +0.j  ,  0.  +0.j  ,  0.  +0.j  ,  0.  +0.j  ],\n",
       "          [ 0.  +0.j  ,  0.  +0.j  ,  0.  +0.j  ,  1.  +0.j  ]]],\n",
       " \n",
       " \n",
       "        [[[ 0.25+0.j  ,  0.25+0.j  ,  0.25+0.j  ,  0.25+0.j  ],\n",
       "          [ 0.25+0.j  ,  0.25+0.j  ,  0.25+0.j  ,  0.25+0.j  ],\n",
       "          [ 0.25+0.j  ,  0.25+0.j  ,  0.25+0.j  ,  0.25+0.j  ],\n",
       "          [ 0.25+0.j  ,  0.25+0.j  ,  0.25+0.j  ,  0.25+0.j  ]],\n",
       " \n",
       "         [[ 0.25+0.j  ,  0.25+0.j  , -0.25-0.j  , -0.25-0.j  ],\n",
       "          [ 0.25+0.j  ,  0.25+0.j  , -0.25-0.j  , -0.25-0.j  ],\n",
       "          [-0.25+0.j  , -0.25+0.j  ,  0.25+0.j  ,  0.25+0.j  ],\n",
       "          [-0.25+0.j  , -0.25+0.j  ,  0.25+0.j  ,  0.25+0.j  ]],\n",
       " \n",
       "         [[ 0.25+0.j  , -0.25-0.j  , -0.25-0.j  ,  0.25+0.j  ],\n",
       "          [-0.25+0.j  ,  0.25+0.j  ,  0.25+0.j  , -0.25+0.j  ],\n",
       "          [-0.25+0.j  ,  0.25+0.j  ,  0.25+0.j  , -0.25+0.j  ],\n",
       "          [ 0.25+0.j  , -0.25-0.j  , -0.25-0.j  ,  0.25+0.j  ]],\n",
       " \n",
       "         [[ 0.25+0.j  , -0.25-0.j  ,  0.25+0.j  , -0.25-0.j  ],\n",
       "          [-0.25+0.j  ,  0.25+0.j  , -0.25+0.j  ,  0.25+0.j  ],\n",
       "          [ 0.25+0.j  , -0.25-0.j  ,  0.25+0.j  , -0.25-0.j  ],\n",
       "          [-0.25+0.j  ,  0.25+0.j  , -0.25+0.j  ,  0.25+0.j  ]]],\n",
       " \n",
       " \n",
       "        [[[ 0.25+0.j  , -0.25-0.j  ,  0.  +0.25j,  0.  +0.25j],\n",
       "          [-0.25+0.j  ,  0.25+0.j  , -0.  -0.25j, -0.  -0.25j],\n",
       "          [ 0.  -0.25j, -0.  +0.25j,  0.25+0.j  ,  0.25+0.j  ],\n",
       "          [ 0.  -0.25j, -0.  +0.25j,  0.25+0.j  ,  0.25+0.j  ]],\n",
       " \n",
       "         [[ 0.25+0.j  , -0.25-0.j  ,  0.  -0.25j,  0.  -0.25j],\n",
       "          [-0.25+0.j  ,  0.25+0.j  ,  0.  +0.25j,  0.  +0.25j],\n",
       "          [ 0.  +0.25j,  0.  -0.25j,  0.25+0.j  ,  0.25+0.j  ],\n",
       "          [ 0.  +0.25j,  0.  -0.25j,  0.25+0.j  ,  0.25+0.j  ]],\n",
       " \n",
       "         [[ 0.25+0.j  ,  0.25+0.j  ,  0.  -0.25j,  0.  +0.25j],\n",
       "          [ 0.25+0.j  ,  0.25+0.j  ,  0.  -0.25j,  0.  +0.25j],\n",
       "          [ 0.  +0.25j,  0.  +0.25j,  0.25+0.j  , -0.25+0.j  ],\n",
       "          [ 0.  -0.25j,  0.  -0.25j, -0.25-0.j  ,  0.25+0.j  ]],\n",
       " \n",
       "         [[ 0.25+0.j  ,  0.25+0.j  ,  0.  +0.25j,  0.  -0.25j],\n",
       "          [ 0.25+0.j  ,  0.25+0.j  ,  0.  +0.25j,  0.  -0.25j],\n",
       "          [ 0.  -0.25j,  0.  -0.25j,  0.25+0.j  , -0.25-0.j  ],\n",
       "          [ 0.  +0.25j,  0.  +0.25j, -0.25+0.j  ,  0.25+0.j  ]]],\n",
       " \n",
       " \n",
       "        [[[ 0.25+0.j  ,  0.  +0.25j,  0.  +0.25j, -0.25-0.j  ],\n",
       "          [ 0.  -0.25j,  0.25+0.j  ,  0.25+0.j  , -0.  +0.25j],\n",
       "          [ 0.  -0.25j,  0.25+0.j  ,  0.25+0.j  , -0.  +0.25j],\n",
       "          [-0.25+0.j  , -0.  -0.25j, -0.  -0.25j,  0.25+0.j  ]],\n",
       " \n",
       "         [[ 0.25+0.j  ,  0.  +0.25j,  0.  -0.25j,  0.25+0.j  ],\n",
       "          [ 0.  -0.25j,  0.25+0.j  , -0.25-0.j  ,  0.  -0.25j],\n",
       "          [ 0.  +0.25j, -0.25+0.j  ,  0.25+0.j  ,  0.  +0.25j],\n",
       "          [ 0.25+0.j  ,  0.  +0.25j,  0.  -0.25j,  0.25+0.j  ]],\n",
       " \n",
       "         [[ 0.25+0.j  ,  0.  -0.25j,  0.  -0.25j, -0.25-0.j  ],\n",
       "          [ 0.  +0.25j,  0.25+0.j  ,  0.25+0.j  ,  0.  -0.25j],\n",
       "          [ 0.  +0.25j,  0.25+0.j  ,  0.25+0.j  ,  0.  -0.25j],\n",
       "          [-0.25+0.j  ,  0.  +0.25j,  0.  +0.25j,  0.25+0.j  ]],\n",
       " \n",
       "         [[ 0.25+0.j  ,  0.  -0.25j,  0.  +0.25j,  0.25+0.j  ],\n",
       "          [ 0.  +0.25j,  0.25+0.j  , -0.25+0.j  ,  0.  +0.25j],\n",
       "          [ 0.  -0.25j, -0.25-0.j  ,  0.25+0.j  ,  0.  -0.25j],\n",
       "          [ 0.25+0.j  ,  0.  -0.25j,  0.  +0.25j,  0.25+0.j  ]]],\n",
       " \n",
       " \n",
       "        [[[ 0.25+0.j  ,  0.  +0.25j, -0.25-0.j  ,  0.  +0.25j],\n",
       "          [ 0.  -0.25j,  0.25+0.j  , -0.  +0.25j,  0.25+0.j  ],\n",
       "          [-0.25+0.j  , -0.  -0.25j,  0.25+0.j  , -0.  -0.25j],\n",
       "          [ 0.  -0.25j,  0.25+0.j  , -0.  +0.25j,  0.25+0.j  ]],\n",
       " \n",
       "         [[ 0.25+0.j  ,  0.  +0.25j,  0.25+0.j  ,  0.  -0.25j],\n",
       "          [ 0.  -0.25j,  0.25+0.j  ,  0.  -0.25j, -0.25-0.j  ],\n",
       "          [ 0.25+0.j  ,  0.  +0.25j,  0.25+0.j  ,  0.  -0.25j],\n",
       "          [ 0.  +0.25j, -0.25+0.j  ,  0.  +0.25j,  0.25+0.j  ]],\n",
       " \n",
       "         [[ 0.25+0.j  ,  0.  -0.25j, -0.25-0.j  ,  0.  -0.25j],\n",
       "          [ 0.  +0.25j,  0.25+0.j  ,  0.  -0.25j,  0.25+0.j  ],\n",
       "          [-0.25+0.j  ,  0.  +0.25j,  0.25+0.j  ,  0.  +0.25j],\n",
       "          [ 0.  +0.25j,  0.25+0.j  ,  0.  -0.25j,  0.25+0.j  ]],\n",
       " \n",
       "         [[ 0.25+0.j  ,  0.  -0.25j,  0.25+0.j  ,  0.  +0.25j],\n",
       "          [ 0.  +0.25j,  0.25+0.j  ,  0.  +0.25j, -0.25+0.j  ],\n",
       "          [ 0.25+0.j  ,  0.  -0.25j,  0.25+0.j  ,  0.  +0.25j],\n",
       "          [ 0.  -0.25j, -0.25-0.j  ,  0.  -0.25j,  0.25+0.j  ]]]]),\n",
       " array([[ 1.  +0.j  ,  0.  +0.j  ,  0.  +0.j  ,  0.  +0.j  ,  0.  +0.j  ,\n",
       "          0.  +0.j  ,  0.  +0.j  ,  0.  +0.j  ,  0.  +0.j  ,  0.  +0.j  ,\n",
       "          0.  +0.j  ,  0.  +0.j  ,  0.  +0.j  ,  0.  +0.j  ,  0.  +0.j  ,\n",
       "          0.  +0.j  ],\n",
       "        [ 0.  +0.j  ,  0.  +0.j  ,  0.  +0.j  ,  0.  +0.j  ,  0.  +0.j  ,\n",
       "          1.  +0.j  ,  0.  +0.j  ,  0.  +0.j  ,  0.  +0.j  ,  0.  +0.j  ,\n",
       "          0.  +0.j  ,  0.  +0.j  ,  0.  +0.j  ,  0.  +0.j  ,  0.  +0.j  ,\n",
       "          0.  +0.j  ],\n",
       "        [ 0.  +0.j  ,  0.  +0.j  ,  0.  +0.j  ,  0.  +0.j  ,  0.  +0.j  ,\n",
       "          0.  +0.j  ,  0.  +0.j  ,  0.  +0.j  ,  0.  +0.j  ,  0.  +0.j  ,\n",
       "          1.  +0.j  ,  0.  +0.j  ,  0.  +0.j  ,  0.  +0.j  ,  0.  +0.j  ,\n",
       "          0.  +0.j  ],\n",
       "        [ 0.  +0.j  ,  0.  +0.j  ,  0.  +0.j  ,  0.  +0.j  ,  0.  +0.j  ,\n",
       "          0.  +0.j  ,  0.  +0.j  ,  0.  +0.j  ,  0.  +0.j  ,  0.  +0.j  ,\n",
       "          0.  +0.j  ,  0.  +0.j  ,  0.  +0.j  ,  0.  +0.j  ,  0.  +0.j  ,\n",
       "          1.  +0.j  ],\n",
       "        [ 0.25+0.j  ,  0.25+0.j  ,  0.25+0.j  ,  0.25+0.j  ,  0.25+0.j  ,\n",
       "          0.25+0.j  ,  0.25+0.j  ,  0.25+0.j  ,  0.25+0.j  ,  0.25+0.j  ,\n",
       "          0.25+0.j  ,  0.25+0.j  ,  0.25+0.j  ,  0.25+0.j  ,  0.25+0.j  ,\n",
       "          0.25+0.j  ],\n",
       "        [ 0.25+0.j  ,  0.25+0.j  , -0.25-0.j  , -0.25-0.j  ,  0.25+0.j  ,\n",
       "          0.25+0.j  , -0.25-0.j  , -0.25-0.j  , -0.25+0.j  , -0.25+0.j  ,\n",
       "          0.25+0.j  ,  0.25+0.j  , -0.25+0.j  , -0.25+0.j  ,  0.25+0.j  ,\n",
       "          0.25+0.j  ],\n",
       "        [ 0.25+0.j  , -0.25-0.j  , -0.25-0.j  ,  0.25+0.j  , -0.25+0.j  ,\n",
       "          0.25+0.j  ,  0.25+0.j  , -0.25+0.j  , -0.25+0.j  ,  0.25+0.j  ,\n",
       "          0.25+0.j  , -0.25+0.j  ,  0.25+0.j  , -0.25-0.j  , -0.25-0.j  ,\n",
       "          0.25+0.j  ],\n",
       "        [ 0.25+0.j  , -0.25-0.j  ,  0.25+0.j  , -0.25-0.j  , -0.25+0.j  ,\n",
       "          0.25+0.j  , -0.25+0.j  ,  0.25+0.j  ,  0.25+0.j  , -0.25-0.j  ,\n",
       "          0.25+0.j  , -0.25-0.j  , -0.25+0.j  ,  0.25+0.j  , -0.25+0.j  ,\n",
       "          0.25+0.j  ],\n",
       "        [ 0.25+0.j  , -0.25-0.j  ,  0.  +0.25j,  0.  +0.25j, -0.25+0.j  ,\n",
       "          0.25+0.j  , -0.  -0.25j, -0.  -0.25j,  0.  -0.25j, -0.  +0.25j,\n",
       "          0.25+0.j  ,  0.25+0.j  ,  0.  -0.25j, -0.  +0.25j,  0.25+0.j  ,\n",
       "          0.25+0.j  ],\n",
       "        [ 0.25+0.j  , -0.25-0.j  ,  0.  -0.25j,  0.  -0.25j, -0.25+0.j  ,\n",
       "          0.25+0.j  ,  0.  +0.25j,  0.  +0.25j,  0.  +0.25j,  0.  -0.25j,\n",
       "          0.25+0.j  ,  0.25+0.j  ,  0.  +0.25j,  0.  -0.25j,  0.25+0.j  ,\n",
       "          0.25+0.j  ],\n",
       "        [ 0.25+0.j  ,  0.25+0.j  ,  0.  -0.25j,  0.  +0.25j,  0.25+0.j  ,\n",
       "          0.25+0.j  ,  0.  -0.25j,  0.  +0.25j,  0.  +0.25j,  0.  +0.25j,\n",
       "          0.25+0.j  , -0.25+0.j  ,  0.  -0.25j,  0.  -0.25j, -0.25-0.j  ,\n",
       "          0.25+0.j  ],\n",
       "        [ 0.25+0.j  ,  0.25+0.j  ,  0.  +0.25j,  0.  -0.25j,  0.25+0.j  ,\n",
       "          0.25+0.j  ,  0.  +0.25j,  0.  -0.25j,  0.  -0.25j,  0.  -0.25j,\n",
       "          0.25+0.j  , -0.25-0.j  ,  0.  +0.25j,  0.  +0.25j, -0.25+0.j  ,\n",
       "          0.25+0.j  ],\n",
       "        [ 0.25+0.j  ,  0.  +0.25j,  0.  +0.25j, -0.25-0.j  ,  0.  -0.25j,\n",
       "          0.25+0.j  ,  0.25+0.j  , -0.  +0.25j,  0.  -0.25j,  0.25+0.j  ,\n",
       "          0.25+0.j  , -0.  +0.25j, -0.25+0.j  , -0.  -0.25j, -0.  -0.25j,\n",
       "          0.25+0.j  ],\n",
       "        [ 0.25+0.j  ,  0.  +0.25j,  0.  -0.25j,  0.25+0.j  ,  0.  -0.25j,\n",
       "          0.25+0.j  , -0.25-0.j  ,  0.  -0.25j,  0.  +0.25j, -0.25+0.j  ,\n",
       "          0.25+0.j  ,  0.  +0.25j,  0.25+0.j  ,  0.  +0.25j,  0.  -0.25j,\n",
       "          0.25+0.j  ],\n",
       "        [ 0.25+0.j  ,  0.  -0.25j,  0.  -0.25j, -0.25-0.j  ,  0.  +0.25j,\n",
       "          0.25+0.j  ,  0.25+0.j  ,  0.  -0.25j,  0.  +0.25j,  0.25+0.j  ,\n",
       "          0.25+0.j  ,  0.  -0.25j, -0.25+0.j  ,  0.  +0.25j,  0.  +0.25j,\n",
       "          0.25+0.j  ],\n",
       "        [ 0.25+0.j  ,  0.  -0.25j,  0.  +0.25j,  0.25+0.j  ,  0.  +0.25j,\n",
       "          0.25+0.j  , -0.25+0.j  ,  0.  +0.25j,  0.  -0.25j, -0.25-0.j  ,\n",
       "          0.25+0.j  ,  0.  -0.25j,  0.25+0.j  ,  0.  -0.25j,  0.  +0.25j,\n",
       "          0.25+0.j  ],\n",
       "        [ 0.25+0.j  ,  0.  +0.25j, -0.25-0.j  ,  0.  +0.25j,  0.  -0.25j,\n",
       "          0.25+0.j  , -0.  +0.25j,  0.25+0.j  , -0.25+0.j  , -0.  -0.25j,\n",
       "          0.25+0.j  , -0.  -0.25j,  0.  -0.25j,  0.25+0.j  , -0.  +0.25j,\n",
       "          0.25+0.j  ],\n",
       "        [ 0.25+0.j  ,  0.  +0.25j,  0.25+0.j  ,  0.  -0.25j,  0.  -0.25j,\n",
       "          0.25+0.j  ,  0.  -0.25j, -0.25-0.j  ,  0.25+0.j  ,  0.  +0.25j,\n",
       "          0.25+0.j  ,  0.  -0.25j,  0.  +0.25j, -0.25+0.j  ,  0.  +0.25j,\n",
       "          0.25+0.j  ],\n",
       "        [ 0.25+0.j  ,  0.  -0.25j, -0.25-0.j  ,  0.  -0.25j,  0.  +0.25j,\n",
       "          0.25+0.j  ,  0.  -0.25j,  0.25+0.j  , -0.25+0.j  ,  0.  +0.25j,\n",
       "          0.25+0.j  ,  0.  +0.25j,  0.  +0.25j,  0.25+0.j  ,  0.  -0.25j,\n",
       "          0.25+0.j  ],\n",
       "        [ 0.25+0.j  ,  0.  -0.25j,  0.25+0.j  ,  0.  +0.25j,  0.  +0.25j,\n",
       "          0.25+0.j  ,  0.  +0.25j, -0.25+0.j  ,  0.25+0.j  ,  0.  -0.25j,\n",
       "          0.25+0.j  ,  0.  +0.25j,  0.  -0.25j, -0.25-0.j  ,  0.  -0.25j,\n",
       "          0.25+0.j  ]]))"
      ]
     },
     "execution_count": 1026,
     "metadata": {},
     "output_type": "execute_result"
    }
   ],
   "source": [
    "# Составим матрицы согласно заданию\n",
    "P, B = build_P(mub_array)\n",
    "X = build_X(mub_array)\n",
    "X,P,B"
   ]
  },
  {
   "cell_type": "markdown",
   "id": "6cff3901",
   "metadata": {},
   "source": [
    "## Пункт 2:\n",
    "#### Сгенерируем случайное чистое состояние размерности d = 4, проверим правильность полученных матриц:"
   ]
  },
  {
   "cell_type": "code",
   "execution_count": 1027,
   "id": "07c9b0fa",
   "metadata": {},
   "outputs": [],
   "source": [
    "# Класс квантового состояния\n",
    "class State():\n",
    "    \n",
    "    def __init__(self, d = 4):\n",
    "        self.d = d\n",
    "        self.phi = None\n",
    "        self.rho = None\n",
    "        \n",
    "    def build_clear_state(self, random_state = 42):\n",
    "        phi = np.random.randn(int(d)) + 1j*np.random.randn(int(d))\n",
    "        self.phi = phi/np.sqrt(np.dot(phi, phi.conj()))\n",
    "        self.rho = np.outer(self.phi, self.phi.conj())\n",
    "        \n",
    "    def set_phi(self, coefs):\n",
    "        self.phi = coefs\n",
    "        self.rho = np.outer(self.phi, self.phi.conj())\n",
    "        \n",
    "    def get_phi(self):\n",
    "        return self.phi\n",
    "    \n",
    "    def get_rho(self):\n",
    "        return self.rho\n",
    "        \n",
    "#Вычисление Фиделити для матриц плотности\n",
    "def Fidelity(rho1, rho2):\n",
    "    return np.abs(np.trace(sLA.sqrtm(sLA.sqrtm(rho1) @ rho2 @ sLA.sqrtm(rho1))))**2       \n",
    "\n",
    "#Вычисление Фиделити для векторов чистых состояний\n",
    "def Fidelity_pure(vec0, vec1):\n",
    "    return np.abs(np.dot(vec0, vec1.conjugate())) ** 2"
   ]
  },
  {
   "cell_type": "code",
   "execution_count": 1028,
   "id": "80b587cc",
   "metadata": {},
   "outputs": [
    {
     "data": {
      "text/plain": [
       "(1.0,\n",
       " array([-0.08364259-0.08048041j,  0.59814688+0.17040049j,\n",
       "         0.48166756+0.21308884j, -0.56386998-0.06596181j]),\n",
       " (1+0j),\n",
       " (1+1.3438895159624463e-18j))"
      ]
     },
     "execution_count": 1028,
     "metadata": {},
     "output_type": "execute_result"
    }
   ],
   "source": [
    "# Создадим случайное чистое состояние размерности 4\n",
    "d = 4\n",
    "\n",
    "state = State(d)\n",
    "state.build_clear_state()\n",
    "phi = state.get_phi()\n",
    "rho = state.get_rho()\n",
    "\n",
    "#Проверка\n",
    "(np.abs(phi)**2).sum(),phi, np.trace(rho), np.trace(np.dot(rho, rho))"
   ]
  },
  {
   "cell_type": "code",
   "execution_count": 1029,
   "id": "d5ce8fab",
   "metadata": {},
   "outputs": [],
   "source": [
    "# Получение вероятностей по правилу Борна\n",
    "def apply_P(rho,P):\n",
    "    p = np.zeros((P.shape[0], P.shape[1]))\n",
    "    j = 0\n",
    "    for P_j in P:\n",
    "        k = 0\n",
    "        for P_jk in P_j:\n",
    "            p[j][k] = np.trace(np.dot(P_jk, rho))\n",
    "            k += 1\n",
    "        j += 1\n",
    "        \n",
    "    return p\n",
    "\n",
    "# Сравним распределения вероятностей\n",
    "def compare_distr(m1,m2):\n",
    "    return np.sum(np.abs(m1 - m2))\n",
    "    "
   ]
  },
  {
   "cell_type": "code",
   "execution_count": 1030,
   "id": "eb47bf4f",
   "metadata": {},
   "outputs": [
    {
     "name": "stderr",
     "output_type": "stream",
     "text": [
      "/home/stas/anaconda3/lib/python3.7/site-packages/ipykernel_launcher.py:8: ComplexWarning: Casting complex values to real discards the imaginary part\n",
      "  \n"
     ]
    }
   ],
   "source": [
    "# Получим вероятности измерений тремя способами\n",
    "p = apply_P(rho,P)\n",
    "p_X = np.abs(np.dot(X,phi))**2\n",
    "p_B = np.dot(B, np.ravel(rho, order = 'F'))"
   ]
  },
  {
   "cell_type": "code",
   "execution_count": 1031,
   "id": "afb137a9",
   "metadata": {},
   "outputs": [
    {
     "name": "stdout",
     "output_type": "stream",
     "text": [
      "Сумма модулей разностей вероятностей полученных по правилу Борна и с помощбю матрицы X:  1.1188966420050406e-15\n",
      "Сумма модулей разностей вероятностей полученных по правилу Борна и с помощбю матрицы B:  3.7927769382649766e-16\n"
     ]
    }
   ],
   "source": [
    "# Сравним распределения вероятностей, полученные разными способами\n",
    "print('Сумма модулей разностей вероятностей полученных по правилу Борна и с помощбю матрицы X: ', compare_distr(p_X.reshape((5,d)), p))\n",
    "print('Сумма модулей разностей вероятностей полученных по правилу Борна и с помощбю матрицы B: ', compare_distr(p_B.reshape((5,d)), p))"
   ]
  },
  {
   "cell_type": "code",
   "execution_count": 1032,
   "id": "6eb0d25c",
   "metadata": {},
   "outputs": [
    {
     "name": "stderr",
     "output_type": "stream",
     "text": [
      "/home/stas/anaconda3/lib/python3.7/site-packages/numpy/lib/histograms.py:851: ComplexWarning: Casting complex values to real discards the imaginary part\n",
      "  indices = f_indices.astype(np.intp)\n",
      "/home/stas/anaconda3/lib/python3.7/site-packages/numpy/core/_asarray.py:83: ComplexWarning: Casting complex values to real discards the imaginary part\n",
      "  return array(a, dtype, copy=False, order=order)\n",
      "No handles with labels found to put in legend.\n"
     ]
    },
    {
     "data": {
      "image/png": "[encoded data removed]",
      "text/plain": [
       "<Figure size 432x288 with 1 Axes>"
      ]
     },
     "metadata": {},
     "output_type": "display_data"
    }
   ],
   "source": [
    "plt.hist(p, bins = 100, alpha = 0.3)\n",
    "plt.hist(p_X, bins = 100, alpha = 0.3)\n",
    "plt.hist(p_B, bins = 100, alpha = 0.3)\n",
    "\n",
    "plt.title(r'Сравнение распределений вероятностей')\n",
    "plt.xlabel(r'Событие')\n",
    "plt.ylabel(r'Вероятность')\n",
    "plt.legend()\n",
    "plt.show()"
   ]
  },
  {
   "cell_type": "markdown",
   "id": "68499376",
   "metadata": {},
   "source": [
    "распределения совпадают => все способы реализованы верно"
   ]
  },
  {
   "cell_type": "markdown",
   "id": "8bc56905",
   "metadata": {},
   "source": [
    "## Пункт 3:\n",
    "\n",
    "#### Сгенерируем состояние вида $(1 - \\gamma) | \\phi \\rangle \\langle \\phi | + \\gamma I/d$ для $ \\gamma = 0.1$\n",
    "\n"
   ]
  },
  {
   "cell_type": "code",
   "execution_count": 1033,
   "id": "61cec77e",
   "metadata": {},
   "outputs": [],
   "source": [
    "# Генерирует единичную матрицу\n",
    "def get_Identity(d):\n",
    "    I = np.zeros((d,d))\n",
    "    for i in range(d):\n",
    "        I[i][i] = 1\n",
    "        \n",
    "    return I"
   ]
  },
  {
   "cell_type": "code",
   "execution_count": 1034,
   "id": "b466123a",
   "metadata": {},
   "outputs": [],
   "source": [
    "# Генерирует случайную матрицу плотности, близкую к чистому состоянию\n",
    "def build_near_clear_rho(d = 4, gamma = 0.1):\n",
    "    state = State(d)\n",
    "    state.build_clear_state(random_state = 42)\n",
    "    rho0 = state.get_rho()\n",
    "\n",
    "    I = get_Identity(d)\n",
    "\n",
    "    rho = (1 - gamma)*rho0.copy() + gamma*I/d\n",
    "    \n",
    "    return rho"
   ]
  },
  {
   "cell_type": "code",
   "execution_count": 1035,
   "id": "bf18a645",
   "metadata": {},
   "outputs": [
    {
     "data": {
      "text/plain": [
       "array([[ 0.32573881+0.j        ,  0.03065281-0.35097824j,\n",
       "        -0.14531915-0.14816723j, -0.20175264+0.10831622j],\n",
       "       [ 0.03065281+0.35097824j,  0.38105783+0.j        ,\n",
       "         0.14597288-0.17052191j, -0.13569437-0.20719235j],\n",
       "       [-0.14531915+0.14816723j,  0.14597288+0.17052191j,\n",
       "         0.13222614+0.j        ,  0.04073696-0.14009246j],\n",
       "       [-0.20175264-0.10831622j, -0.13569437+0.20719235j,\n",
       "         0.04073696+0.14009246j,  0.16097723+0.j        ]])"
      ]
     },
     "execution_count": 1035,
     "metadata": {},
     "output_type": "execute_result"
    }
   ],
   "source": [
    "d = 4\n",
    "gamma = 0\n",
    "\n",
    "rho = build_near_clear_rho(d = d, gamma = gamma)\n",
    "rho"
   ]
  },
  {
   "cell_type": "markdown",
   "id": "4380efb2",
   "metadata": {},
   "source": [
    "## Пункт 4, Пункт 5:\n",
    "\n",
    "#### Проведём серию измерений согласно протоколу взаимо несмещённых базисов по n = 10 измерений на каждый базис. В результате получим оценку распределения вероятностей"
   ]
  },
  {
   "cell_type": "code",
   "execution_count": 1036,
   "id": "5ec6b6f2",
   "metadata": {},
   "outputs": [],
   "source": [
    "# Моделирует серию измерений:\n",
    "\n",
    "def estimate_probs(rho, n_shots = 10, d = 4):\n",
    "    p_B = np.dot(B, np.ravel(rho, order = 'F'))\n",
    "    rng = np.random.default_rng()\n",
    "    p_B_matrix = p_B.reshape((5,d))\n",
    "    prob_res = np.ravel(np.array([rng.multinomial(n_shots, x.astype(dtype = np.float64)) for x in p_B_matrix])/n_shots, order = 'C')\n",
    "    return prob_res"
   ]
  },
  {
   "cell_type": "code",
   "execution_count": 1037,
   "id": "800e8cb3",
   "metadata": {},
   "outputs": [
    {
     "name": "stderr",
     "output_type": "stream",
     "text": [
      "/home/stas/anaconda3/lib/python3.7/site-packages/ipykernel_launcher.py:7: ComplexWarning: Casting complex values to real discards the imaginary part\n",
      "  import sys\n"
     ]
    },
    {
     "data": {
      "text/plain": [
       "array([0.3, 0.1, 0.2, 0.4, 0.3, 0.2, 0.2, 0.3, 0.4, 0. , 0.3, 0.3, 0. ,\n",
       "       0. , 0.8, 0.2, 0.2, 0.2, 0.4, 0.2])"
      ]
     },
     "execution_count": 1037,
     "metadata": {},
     "output_type": "execute_result"
    }
   ],
   "source": [
    "n = 10\n",
    "\n",
    "prob_res = estimate_probs(rho, n_shots = n, d = 4)\n",
    "prob_res"
   ]
  },
  {
   "cell_type": "markdown",
   "id": "9fc7fabf",
   "metadata": {},
   "source": [
    "## Пункт 6:\n",
    "\n",
    "#### Восстановим матрицу плотности согласно методу псевдоинверсии:"
   ]
  },
  {
   "cell_type": "code",
   "execution_count": 1038,
   "id": "05d57b67",
   "metadata": {},
   "outputs": [],
   "source": [
    "# SVD разложение\n",
    "u, s, vh = LA.linalg.svd(B)"
   ]
  },
  {
   "cell_type": "code",
   "execution_count": 1039,
   "id": "80ca200d",
   "metadata": {},
   "outputs": [
    {
     "data": {
      "text/plain": [
       "array([-1.11803399e+00+0.00000000e+00j,  2.21985959e-02-2.19895003e-01j,\n",
       "        5.77350269e-02+0.00000000e+00j,  3.25614816e-02-3.40919344e-01j,\n",
       "       -2.98192659e-02+3.82532846e-02j,  1.88157012e-01+2.53705812e-02j,\n",
       "       -1.64368582e-03-2.23155227e-02j,  5.00954099e-02-7.76873481e-02j,\n",
       "        3.12657143e-01+2.57714525e-02j, -1.01445063e-01-3.07716064e-01j,\n",
       "        1.63089608e-01-9.70605691e-04j,  1.23965155e-01-1.92729481e-01j,\n",
       "        8.67191444e-02+7.72887799e-02j,  1.69853444e-01+7.19027567e-02j,\n",
       "        4.51372945e-03-2.10127045e-01j, -3.81999455e-03+1.37392232e-01j,\n",
       "        8.32667268e-17-4.16333634e-17j, -8.32667268e-17+1.11022302e-16j,\n",
       "        2.77555756e-17-1.35308431e-16j,  1.38777878e-16-5.55111512e-17j])"
      ]
     },
     "execution_count": 1039,
     "metadata": {},
     "output_type": "execute_result"
    }
   ],
   "source": [
    "# Найдём вектор q = V.conj().T @ rho\n",
    "f_real = np.dot(vh, np.ravel(rho, order = 'F'))\n",
    "q = np.dot(u.conj().T, prob_res)\n",
    "q"
   ]
  },
  {
   "cell_type": "code",
   "execution_count": 1040,
   "id": "2b22a547",
   "metadata": {},
   "outputs": [
    {
     "data": {
      "text/plain": [
       "4"
      ]
     },
     "execution_count": 1040,
     "metadata": {},
     "output_type": "execute_result"
    }
   ],
   "source": [
    "# Колличество зануляемых собственных значений\n",
    "tail_num = B.shape[0] - B.shape[1]\n",
    "tail_num"
   ]
  },
  {
   "cell_type": "code",
   "execution_count": 1041,
   "id": "00a83da7",
   "metadata": {},
   "outputs": [
    {
     "data": {
      "text/plain": [
       "array([[ 3.00000000e-01-0.00000000e+00j,  5.00000000e-02-3.00000000e-01j,\n",
       "        -1.31838984e-16-5.00000000e-02j, -1.50000000e-01+5.00000000e-02j],\n",
       "       [ 5.00000000e-02+3.00000000e-01j,  1.00000000e-01-1.87350135e-16j,\n",
       "         1.50000000e-01-1.50000000e-01j,  1.00000000e-01-2.50000000e-01j],\n",
       "       [ 9.02056208e-17+5.00000000e-02j,  1.50000000e-01+1.50000000e-01j,\n",
       "         2.00000000e-01+9.02056208e-17j, -5.00000000e-02-2.00000000e-01j],\n",
       "       [-1.50000000e-01-5.00000000e-02j,  1.00000000e-01+2.50000000e-01j,\n",
       "        -5.00000000e-02+2.00000000e-01j,  4.00000000e-01+2.08166817e-17j]])"
      ]
     },
     "execution_count": 1041,
     "metadata": {},
     "output_type": "execute_result"
    }
   ],
   "source": [
    "# Вычислим матрицу плотности из СЗ вектора q\n",
    "f = q[:-tail_num]/s\n",
    "rho_new = np.reshape(np.dot(vh.conj().T, f),(4,4)).conj()\n",
    "rho_new"
   ]
  },
  {
   "cell_type": "code",
   "execution_count": 1042,
   "id": "924cc499",
   "metadata": {},
   "outputs": [
    {
     "data": {
      "text/plain": [
       "(array([ 0.83056619+1.17851634e-16j, -0.2627665 -1.53687425e-16j,\n",
       "         0.1539913 -6.29894410e-17j,  0.278209  +2.94362929e-17j]),\n",
       " array([[-0.49071188+0.01315045j, -0.1289308 +0.36099217j,\n",
       "          0.49285955+0.11515444j,  0.59658976+0.j        ],\n",
       "        [-0.01441109-0.49798138j,  0.75014892+0.j        ,\n",
       "          0.10710478-0.2759026j ,  0.12601303+0.29259272j],\n",
       "        [ 0.06512974-0.35623873j, -0.15240592-0.37764475j,\n",
       "          0.70037804+0.j        , -0.32160523-0.33022665j],\n",
       "        [ 0.61618818+0.j        , -0.2950562 -0.19348594j,\n",
       "          0.09554128-0.39569902j,  0.55759254+0.13857078j]]))"
      ]
     },
     "execution_count": 1042,
     "metadata": {},
     "output_type": "execute_result"
    }
   ],
   "source": [
    "# СЗ и СВ восстановленной матрицы плотности\n",
    "vals, vecs = LA.eig(rho_new)\n",
    "vals, vecs"
   ]
  },
  {
   "cell_type": "code",
   "execution_count": 1043,
   "id": "7309b61f",
   "metadata": {},
   "outputs": [
    {
     "data": {
      "text/plain": [
       "0.26276649662881474"
      ]
     },
     "execution_count": 1043,
     "metadata": {},
     "output_type": "execute_result"
    }
   ],
   "source": [
    "# Абсолютное значение суммы отрицательных CЗ\n",
    "delta = np.abs(np.sum(vals[vals<0]))\n",
    "delta"
   ]
  },
  {
   "cell_type": "code",
   "execution_count": 1044,
   "id": "1debec33",
   "metadata": {},
   "outputs": [],
   "source": [
    "# Корректирует СЗ восстановленной матрицы, проектируя её на \n",
    "# множество матриц плотности\n",
    "def correct_eigvals(v):\n",
    "    \n",
    "    vals = sorted(v)[::-1]\n",
    "    inds = np.arange(len(vals))\n",
    "    w_list = np.abs(np.cumsum(vals)-1)/(inds + 1)\n",
    "    \n",
    "    j = 0\n",
    "    for val, w in zip(vals,w_list):\n",
    "        if (val - w) <0:\n",
    "            break\n",
    "        else:\n",
    "            j += 1\n",
    "        \n",
    "    vals_correct = copy.deepcopy(v)\n",
    "    \n",
    "    if  j <= (len(vals) - 1):\n",
    "        vals_correct = vals_correct - w_list[j-1]\n",
    "        vals_correct[vals_correct<0] = 0\n",
    "        \n",
    "    return vals_correct"
   ]
  },
  {
   "cell_type": "code",
   "execution_count": 1045,
   "id": "b68511cd",
   "metadata": {},
   "outputs": [
    {
     "data": {
      "text/plain": [
       "array([0.74297736+1.17851634e-16j, 0.        +0.00000000e+00j,\n",
       "       0.06640247-6.29894410e-17j, 0.19062017+2.94362929e-17j])"
      ]
     },
     "execution_count": 1045,
     "metadata": {},
     "output_type": "execute_result"
    }
   ],
   "source": [
    "vals_new = correct_eigvals(vals)\n",
    "vals_new"
   ]
  },
  {
   "cell_type": "code",
   "execution_count": 1046,
   "id": "c33b21e5",
   "metadata": {},
   "outputs": [
    {
     "data": {
      "text/plain": [
       "array([[ 0.26389185+2.31665255e-17j,  0.01611458-2.05124516e-01j,\n",
       "        -0.0408784 -8.63344344e-02j, -0.16114308+3.94254141e-03j],\n",
       "       [ 0.01611458+2.05124516e-01j,  0.20956431+2.73901522e-17j,\n",
       "         0.10994488-5.07479089e-02j,  0.02245372-1.99148282e-01j],\n",
       "       [-0.0408784 +8.63344344e-02j,  0.10994488+5.07479089e-02j,\n",
       "         0.17051519-9.78557672e-18j, -0.00864502-1.71292577e-01j],\n",
       "       [-0.16114308-3.94254141e-03j,  0.02245372+1.99148282e-01j,\n",
       "        -0.00864502+1.71292577e-01j,  0.35602864+4.27146120e-17j]])"
      ]
     },
     "execution_count": 1046,
     "metadata": {},
     "output_type": "execute_result"
    }
   ],
   "source": [
    "# Восстанавливаем матрицу плотности со скорректированными СЗ\n",
    "rho_new_correct = vecs @ np.diag(vals_new) @ vecs.conj().T\n",
    "rho_new_correct"
   ]
  },
  {
   "cell_type": "code",
   "execution_count": 1047,
   "id": "bac4e8a8",
   "metadata": {},
   "outputs": [
    {
     "data": {
      "text/plain": [
       "0.6671170529695075"
      ]
     },
     "execution_count": 1047,
     "metadata": {},
     "output_type": "execute_result"
    }
   ],
   "source": [
    "# Расчитаем Fidelity полученной матрицы плотности\n",
    "Fidelity(rho_new_correct, rho)"
   ]
  },
  {
   "cell_type": "markdown",
   "id": "560d6e2e",
   "metadata": {},
   "source": [
    "## Пункт 7:\n",
    "\n",
    "#### Реализуем в виде функций и проведём серию экспериментов:"
   ]
  },
  {
   "cell_type": "code",
   "execution_count": 1048,
   "id": "b09d447b",
   "metadata": {},
   "outputs": [],
   "source": [
    "# реализут восстановление матрицы плотности\n",
    "def recover_rho(B, probs, correct_rho = True):\n",
    "    u, s, vh = LA.linalg.svd(B)\n",
    "    q = np.dot(u.conj().T, probs)\n",
    "    \n",
    "    tail_num = B.shape[0] - B.shape[1]\n",
    "    f = q[:-tail_num]/s\n",
    "    rho_new = np.reshape(np.dot(vh.conj().T, f),(4,4)).conj()\n",
    "    \n",
    "    vals, vecs = LA.eig(rho_new)\n",
    "    \n",
    "    delta = np.abs(np.sum(vals[vals<0]))\n",
    "    \n",
    "    rho_new_correct = rho_new.copy()\n",
    "    \n",
    "    if correct_rho == True:\n",
    "        vals_new = correct_eigvals(vals)\n",
    "        rho_new_correct = vecs @ np.diag(vals_new) @ vecs.conj().T\n",
    "        \n",
    "    return rho_new_correct, delta"
   ]
  },
  {
   "cell_type": "code",
   "execution_count": 1049,
   "id": "fd93aff4",
   "metadata": {},
   "outputs": [
    {
     "name": "stderr",
     "output_type": "stream",
     "text": [
      "/home/stas/anaconda3/lib/python3.7/site-packages/ipykernel_launcher.py:7: ComplexWarning: Casting complex values to real discards the imaginary part\n",
      "  import sys\n",
      "/home/stas/anaconda3/lib/python3.7/site-packages/ipykernel_launcher.py:20: VisibleDeprecationWarning: Creating an ndarray from ragged nested sequences (which is a list-or-tuple of lists-or-tuples-or ndarrays with different lengths or shapes) is deprecated. If you meant to do this, you must specify 'dtype=object' when creating the ndarray\n"
     ]
    }
   ],
   "source": [
    "d = 4\n",
    "N = 100\n",
    "\n",
    "res = []\n",
    "gamma_list = np.linspace(0,1,100)\n",
    "for n in [10,100,1000]:\n",
    "    delta_list = []\n",
    "    for gamma in gamma_list:\n",
    "        dl = []\n",
    "        for i in range(N):\n",
    "            rho = build_near_clear_rho(d = d, gamma = gamma)\n",
    "            prob_res = estimate_probs(rho, n_shots = n, d = d)\n",
    "            _ , delta = recover_rho(B, prob_res, correct_rho = False)\n",
    "            dl.append(delta)\n",
    "        \n",
    "        delta_list.append(np.mean(dl))\n",
    "        \n",
    "    res.append([[n], gamma_list.copy(), delta_list.copy()])\n",
    "\n",
    "res = np.array(res).T"
   ]
  },
  {
   "cell_type": "code",
   "execution_count": 1054,
   "id": "6eca6d56",
   "metadata": {},
   "outputs": [
    {
     "data": {
      "image/png": "[encoded data removed]",
      "text/plain": [
       "<Figure size 432x288 with 1 Axes>"
      ]
     },
     "metadata": {},
     "output_type": "display_data"
    }
   ],
   "source": [
    "plt.title(r'Зависимость абсолютного занчения суммы отрицательных СЗ МП $\\delta$ от параметра $\\gamma$')\n",
    "for i in range(len(res)):\n",
    "    plt.plot(res[1][i], res[2][i], label = r'Количество измерений n = {}'.format(res[0][i]))\n",
    "    plt.xlabel(r'Значение $\\gamma$')\n",
    "    plt.ylabel(r'Среднее значение $\\delta$')\n",
    "plt.legend()\n",
    "plt.show()"
   ]
  },
  {
   "cell_type": "code",
   "execution_count": 1051,
   "id": "1161f2e8",
   "metadata": {},
   "outputs": [
    {
     "name": "stderr",
     "output_type": "stream",
     "text": [
      "/home/stas/anaconda3/lib/python3.7/site-packages/ipykernel_launcher.py:7: ComplexWarning: Casting complex values to real discards the imaginary part\n",
      "  import sys\n"
     ]
    }
   ],
   "source": [
    "d = 4\n",
    "n = 100\n",
    "gamma = 0\n",
    "N = 1000\n",
    "\n",
    "F_list = []\n",
    "for i in range(N):\n",
    "    rho = build_near_clear_rho(d = d, gamma = gamma)\n",
    "    prob_res = estimate_probs(rho, n_shots = n, d = d)\n",
    "    rho_new, delta = recover_rho(B, prob_res, correct_rho = True)\n",
    "    F_list.append(Fidelity(rho_new,rho))"
   ]
  },
  {
   "cell_type": "code",
   "execution_count": 1056,
   "id": "dcac9fe8",
   "metadata": {},
   "outputs": [
    {
     "name": "stderr",
     "output_type": "stream",
     "text": [
      "No handles with labels found to put in legend.\n"
     ]
    },
    {
     "data": {
      "image/png": "[encoded data removed]",
      "text/plain": [
       "<Figure size 432x288 with 1 Axes>"
      ]
     },
     "metadata": {},
     "output_type": "display_data"
    }
   ],
   "source": [
    "plt.hist(F_list, bins = 100)\n",
    "plt.title(r'Гистограмма Fidelity восстановленного состояния $\\gamma$')\n",
    "plt.xlabel(r'Значение Fidelity $F(\\rho, \\rho_{new})$')\n",
    "plt.ylabel(r'Вероятность')\n",
    "plt.legend()\n",
    "plt.show()"
   ]
  },
  {
   "cell_type": "code",
   "execution_count": null,
   "id": "04ab1525",
   "metadata": {},
   "outputs": [],
   "source": []
  },
  {
   "cell_type": "code",
   "execution_count": null,
   "id": "4fb9c904",
   "metadata": {},
   "outputs": [],
   "source": []
  }
 ],
 "metadata": {
  "kernelspec": {
   "display_name": "Python 3",
   "language": "python",
   "name": "python3"
  },
  "language_info": {
   "codemirror_mode": {
    "name": "ipython",
    "version": 3
   },
   "file_extension": ".py",
   "mimetype": "text/x-python",
   "name": "python",
   "nbconvert_exporter": "python",
   "pygments_lexer": "ipython3",
   "version": "3.7.11"
  }
 },
 "nbformat": 4,
 "nbformat_minor": 5
}
