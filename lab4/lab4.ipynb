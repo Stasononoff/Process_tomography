{
 "cells": [
  {
   "cell_type": "code",
   "execution_count": 321,
   "id": "0c690aae",
   "metadata": {},
   "outputs": [],
   "source": [
    "import numpy as np\n",
    "from matplotlib import pyplot as plt\n",
    "from scipy import linalg as sLA\n",
    "\n",
    "from IPython.display import Image\n",
    "from IPython.display import display, Latex\n",
    "\n",
    "from mpl_toolkits.mplot3d import axes3d\n",
    "import matplotlib.pyplot as plt\n",
    "\n",
    "from matplotlib import style\n",
    "# style.use('ggplot')"
   ]
  },
  {
   "cell_type": "code",
   "execution_count": 322,
   "id": "ea111854",
   "metadata": {},
   "outputs": [],
   "source": [
    "from scipy import linalg as sLA\n",
    "from scipy.special import hermite, factorial\n",
    "from scipy.integrate import quad\n",
    "from scipy.stats import chi2, chisquare\n",
    "from scipy import interpolate\n",
    "from tqdm import tqdm"
   ]
  },
  {
   "cell_type": "code",
   "execution_count": 323,
   "id": "26549481",
   "metadata": {},
   "outputs": [],
   "source": [
    "#Вычисление Фиделити для векторов чистых состояний\n",
    "def Fidelity_pure(vec0, vec1):\n",
    "    return np.abs(np.dot(vec0, vec1.conjugate())) ** 2\n",
    "\n",
    "# Функция для отрисовки 3-D barchart\n",
    "def plot_matrix(m, title = 'Входное состояние'):\n",
    "    \n",
    "    style.use('ggplot')\n",
    "\n",
    "    fig = plt.figure(figsize = (8,8))\n",
    "    ax1 = fig.add_subplot(111, projection='3d')\n",
    "    \n",
    "    xi = np.reshape(list(np.arange(m.shape[0]))*m.shape[1], (-1))\n",
    "    yi = np.reshape(np.reshape((list(np.arange(m.shape[1]))*m.shape[0]), (m.shape[1], m.shape[0])).T, (-1))\n",
    "    z0 = np.zeros(m.shape[0]*m.shape[1])\n",
    "    \n",
    "    dx = np.ones(m.shape[0]*m.shape[1])\n",
    "    dy = np.ones(m.shape[1]*m.shape[0])\n",
    "    dz = np.reshape(m, (-1))\n",
    "    \n",
    "    ax1.bar3d(xi, yi, z0, dx, dy, dz, shade=True)\n",
    "\n",
    "\n",
    "    ax1.set_xlabel('Колличество фотонов во втором канале n2')\n",
    "    ax1.set_ylabel('Колличество фотонов в первом канале n1')\n",
    "    ax1.set_zlabel('Вероятность p1p2')\n",
    "    ax1.set_title(title)\n",
    "\n",
    "    plt.show()"
   ]
  },
  {
   "cell_type": "markdown",
   "id": "c58ad88d",
   "metadata": {},
   "source": [
    "# Пункт 1:\n",
    "### Зададим состояниее согласно 3-му варианту и определим для него фоковское пространство, достаточное для представленияя с точностью $10^{-6}$"
   ]
  },
  {
   "cell_type": "markdown",
   "id": "d67ad06f",
   "metadata": {},
   "source": [
    "Вариант 3:\n",
    "\n",
    "Рассматриваемое состояние:\n",
    "\n",
    "$\\phi ~ | \\alpha \\rangle + |1 \\rangle$, где $\\alpha = 0.9i$ =>\n",
    "\n",
    "$\\phi =  (|1 \\rangle + e^{\\frac{-|\\alpha|^2}{2}} \\sum_{n=0}^{n_{max}} \\frac{\\alpha^{n}}{\\sqrt{n!}} |n\\rangle) /  norm$, где $n = 0.9i$"
   ]
  },
  {
   "cell_type": "code",
   "execution_count": 324,
   "id": "ba2ece65",
   "metadata": {},
   "outputs": [],
   "source": [
    "# Создаёт когерентное состояние\n",
    "def get_rho_coherent(N, d, alpha = 0.9*1j):\n",
    "    n = np.arange(N)\n",
    "    fact_n = np.array([np.math.factorial(x) for x in n]).astype(float)\n",
    "    state = np.exp((-np.abs(alpha) ** 2) / 2) * (alpha ** n) / np.sqrt(fact_n)\n",
    "    rho = np.outer(state,state.conjugate())\n",
    "    \n",
    "    rho_full = np.zeros((d,d))\n",
    "    rho_full[:N,:N] = rho\n",
    "    return rho_full, state\n",
    "\n",
    "\n",
    "def get_coherent_probs(n, alpha = 0.9*1j):\n",
    "    return np.exp((-np.abs(alpha) ** 2)) * (np.abs(alpha) ** (2*n)) / float(np.math.factorial(n))\n",
    "\n",
    "def get_coherent_coefs(n, alpha = 0.9*1j):\n",
    "    return np.exp((-np.abs(alpha) ** 2) / 2) * (alpha ** (2*n)) / np.sqrt(float(np.math.factorial(n)))\n",
    "    \n",
    "# Расчитывает ошибку ограничения размерности рассматриваемой системы\n",
    "def restrictions_err(N, func = get_coherent_probs):\n",
    "    return 1 - sum([func(i) for i in range(N)])\n",
    "\n",
    "def get_my_state(N, d):\n",
    "    _, state = get_rho_coherent(N, d, alpha = 0.9*1j)\n",
    "    state1 = np.zeros(len(state))\n",
    "    state1[1] = 1\n",
    "    state += state1\n",
    "    norm_coef = np.sqrt(state@state.conj())\n",
    "    \n",
    "    state = state/norm_coef\n",
    "    rho = np.outer(state,state.conjugate())\n",
    "    \n",
    "    rho_full = np.zeros((d,d))\n",
    "    rho_full[:N,:N] = rho\n",
    "    return rho, state"
   ]
  },
  {
   "cell_type": "markdown",
   "id": "26ada4a6",
   "metadata": {},
   "source": [
    "Заданное состояние является суперпозицией фоковского и когерентного. При этом фоковское cостояние $|1 \\rangle$ представляется точно в рассматриваемом фоковском пространнстве $n>=1$.\n",
    "Будем следить только за точностью представления когерентного состояния.\n",
    "\n",
    "Найдём размерность достаточную для представления когерентного состояния с точностью $10^{-6}$"
   ]
  },
  {
   "cell_type": "code",
   "execution_count": 325,
   "id": "2b212694",
   "metadata": {},
   "outputs": [
    {
     "name": "stdout",
     "output_type": "stream",
     "text": [
      "Ошибка в распределении за счёт сокращения размерности до 8: 2.244554789920805e-06\n",
      "Ошибка в распределении за счёт сокращения размерности до 9: 2.0008311862884653e-07\n"
     ]
    }
   ],
   "source": [
    "print('Ошибка в распределении за счёт сокращения размерности до 8:', restrictions_err(8))\n",
    "print('Ошибка в распределении за счёт сокращения размерности до 9:', restrictions_err(9))"
   ]
  },
  {
   "cell_type": "markdown",
   "id": "3ce2defc",
   "metadata": {},
   "source": [
    "Достаточно рассмотреть фоковское пространство размерностью 9"
   ]
  },
  {
   "cell_type": "code",
   "execution_count": 326,
   "id": "8d85b2ae",
   "metadata": {},
   "outputs": [
    {
     "name": "stderr",
     "output_type": "stream",
     "text": [
      "/home/stas/anaconda3/lib/python3.7/site-packages/ipykernel_launcher.py:9: ComplexWarning: Casting complex values to real discards the imaginary part\n",
      "  if __name__ == '__main__':\n",
      "/home/stas/anaconda3/lib/python3.7/site-packages/ipykernel_launcher.py:34: ComplexWarning: Casting complex values to real discards the imaginary part\n"
     ]
    }
   ],
   "source": [
    "N = 9\n",
    "# Получим заданное состояние\n",
    "my_rho, my_state = get_my_state(N, N)\n",
    "\n",
    "# Определим массив коэфициентов cn при соответствующих состояниях |n>\n",
    "cn_list = my_state"
   ]
  },
  {
   "cell_type": "markdown",
   "id": "2cf6407f",
   "metadata": {},
   "source": [
    "\n",
    "# Пункт 2:\n",
    "#### Зададим состояние через разложение на полиномы Эрмита"
   ]
  },
  {
   "cell_type": "code",
   "execution_count": 327,
   "id": "97f2bb28",
   "metadata": {},
   "outputs": [
    {
     "data": {
      "image/png": "[encoded data removed]",
      "text/plain": [
       "<IPython.core.display.Image object>"
      ]
     },
     "execution_count": 327,
     "metadata": {},
     "output_type": "execute_result"
    }
   ],
   "source": [
    "from IPython.display import Image\n",
    "Image(filename='pics/Chebyshev_hermit_basis.png')"
   ]
  },
  {
   "cell_type": "markdown",
   "id": "db6f97a6",
   "metadata": {},
   "source": [
    "Также учтём зависимость от фазы"
   ]
  },
  {
   "cell_type": "code",
   "execution_count": 328,
   "id": "160dd45d",
   "metadata": {},
   "outputs": [
    {
     "data": {
      "image/png": "[encoded data removed]",
      "text/plain": [
       "<IPython.core.display.Image object>"
      ]
     },
     "execution_count": 328,
     "metadata": {},
     "output_type": "execute_result"
    }
   ],
   "source": [
    "Image(filename='pics/psi_theta.png')"
   ]
  },
  {
   "cell_type": "markdown",
   "id": "2d35c75b",
   "metadata": {},
   "source": [
    "И окончательно получим состояние через найденные пункте 1 коэффициенты $c_n$"
   ]
  },
  {
   "cell_type": "code",
   "execution_count": 329,
   "id": "3f143237",
   "metadata": {},
   "outputs": [
    {
     "data": {
      "image/png": "[encoded data removed]",
      "text/plain": [
       "<IPython.core.display.Image object>"
      ]
     },
     "execution_count": 329,
     "metadata": {},
     "output_type": "execute_result"
    }
   ],
   "source": [
    "Image(filename='pics/state.png')"
   ]
  },
  {
   "cell_type": "code",
   "execution_count": 330,
   "id": "6fd8441f",
   "metadata": {},
   "outputs": [],
   "source": [
    "def phi_theta(n, x, theta):\n",
    "    return (1/(np.pi**0.5*2**n*factorial(n)))**(1/2)*hermite(n)(x)*np.exp(-x**2/2)*np.exp(1j*n*theta)\n",
    "\n",
    "def get_theor_state(cn_list, N, x, theta):\n",
    "    return np.sum(np.array([cn_list[i]*phi_theta(i, x, theta) for i in range(N)]), axis = 0)\n",
    "    \n",
    "def get_probs(state):\n",
    "    return abs(state)**2\n",
    "\n",
    "# Более быстрая функция для вероятности. Понадобится при решении УП\n",
    "def p_(phi_theta, psi):\n",
    "    return abs(np.tensordot(psi, phi_theta, axes=1))**2"
   ]
  },
  {
   "cell_type": "code",
   "execution_count": 331,
   "id": "077ed326",
   "metadata": {},
   "outputs": [
    {
     "data": {
      "image/png": "[encoded data removed]",
      "text/plain": [
       "<Figure size 432x288 with 1 Axes>"
      ]
     },
     "metadata": {
      "needs_background": "light"
     },
     "output_type": "display_data"
    }
   ],
   "source": [
    "x_list = np.linspace(-8, 8, 1000)\n",
    "thetas = [0, np.pi/4, np.pi/2, 3*np.pi/4]\n",
    "thetas_label = ['0', '$\\pi/4$', '$\\pi/2$', '$3\\pi/4$']\n",
    "\n",
    "for theta, theta_label in zip(thetas, thetas_label):\n",
    "    p_list = get_probs(get_theor_state(cn_list, N, x_list, theta))\n",
    "    plt.plot(x_list, p_list, '-', alpha=0.7, label=theta_label)\n",
    "plt.xlabel('$x_\\Theta$')\n",
    "plt.ylabel('Вероятность')\n",
    "plt.legend()\n",
    "plt.grid()\n",
    "plt.show()"
   ]
  },
  {
   "cell_type": "markdown",
   "id": "68adab04",
   "metadata": {},
   "source": [
    "# Пункт 3:\n",
    "#### Выполним симуляцию измерений для каждого значения $\\theta$"
   ]
  },
  {
   "cell_type": "code",
   "execution_count": 332,
   "id": "a27098c4",
   "metadata": {},
   "outputs": [],
   "source": [
    "def F(z, x_list, state):\n",
    "    return np.trapz(get_probs(state)[x_list <= z], x_list[x_list <= z])"
   ]
  },
  {
   "cell_type": "code",
   "execution_count": 333,
   "id": "99131ff2",
   "metadata": {},
   "outputs": [
    {
     "name": "stderr",
     "output_type": "stream",
     "text": [
      "100%|██████████| 100/100 [00:00<00:00, 13575.56it/s]\n",
      "100%|██████████| 100/100 [00:00<00:00, 13094.92it/s]\n",
      "100%|██████████| 100/100 [00:00<00:00, 9920.07it/s]\n",
      "100%|██████████| 100/100 [00:00<00:00, 10899.96it/s]\n"
     ]
    }
   ],
   "source": [
    "n = 10000\n",
    "L = 10\n",
    "inv_points = 100\n",
    "\n",
    "\n",
    "\n",
    "x_list = np.linspace(-L, L, inv_points)\n",
    "\n",
    "thetas = [0, np.pi/4, np.pi/2, 3*np.pi/4]\n",
    "thetas_label = ['0', '$\\pi/4$', '$\\pi/2$', '$3\\pi/4$']\n",
    "\n",
    "Func_list = []\n",
    "x_rec_list = []\n",
    "\n",
    "for theta in thetas:\n",
    "    y = []\n",
    "    state = get_theor_state(cn_list, N, x_list, theta)\n",
    "    for x_inv in tqdm(x_list):\n",
    "        y.append(F(x_inv, x_list, state))\n",
    "                 \n",
    "    # Восстановим функцию распределения\n",
    "    F_inv = interpolate.interp1d(y, x_list, fill_value=(0, 1), bounds_error=False)\n",
    "    Func_list.append(F_inv)\n",
    "    \n",
    "    # Из восстановленной ф-ии распределения сгенерируем 1000 случайных величин\n",
    "    # Каждое соответствует измерению\n",
    "    y_random = np.random.rand(n)\n",
    "    x_reconstructed = F_inv(y_random)\n",
    "    x_rec_list.append(x_reconstructed)\n",
    "    "
   ]
  },
  {
   "cell_type": "markdown",
   "id": "19a5f636",
   "metadata": {},
   "source": [
    "#### Построим соответствующие распределения"
   ]
  },
  {
   "cell_type": "code",
   "execution_count": 334,
   "id": "a971327f",
   "metadata": {},
   "outputs": [
    {
     "data": {
      "image/png": "[encoded data removed]",
      "text/plain": [
       "<Figure size 432x288 with 1 Axes>"
      ]
     },
     "metadata": {
      "needs_background": "light"
     },
     "output_type": "display_data"
    },
    {
     "data": {
      "image/png": "[encoded data removed]",
      "text/plain": [
       "<Figure size 432x288 with 1 Axes>"
      ]
     },
     "metadata": {
      "needs_background": "light"
     },
     "output_type": "display_data"
    },
    {
     "data": {
      "image/png": "[encoded data removed]",
      "text/plain": [
       "<Figure size 432x288 with 1 Axes>"
      ]
     },
     "metadata": {
      "needs_background": "light"
     },
     "output_type": "display_data"
    },
    {
     "data": {
      "image/png": "[encoded data removed]",
      "text/plain": [
       "<Figure size 432x288 with 1 Axes>"
      ]
     },
     "metadata": {
      "needs_background": "light"
     },
     "output_type": "display_data"
    }
   ],
   "source": [
    "for x_rec, theta_label in zip(x_rec_list, thetas_label):   \n",
    "    plt.hist(x_rec, bins=100, density=True, label=f'Результаты измерений theta = {theta_label}')\n",
    "    plt.xlabel('$x \\Theta$')\n",
    "    plt.ylabel('Вероятность')\n",
    "    plt.title(r'$\\theta = $' + f'{theta_label}')\n",
    "    plt.xlim(-6, 6)\n",
    "    plt.legend()\n",
    "    plt.show()"
   ]
  },
  {
   "cell_type": "markdown",
   "id": "0ef55a45",
   "metadata": {},
   "source": [
    "# Пункт 4:\n",
    "\n",
    "#### Проведём реконструкцию состояния методом MLE"
   ]
  },
  {
   "cell_type": "code",
   "execution_count": 335,
   "id": "29aee8a5",
   "metadata": {},
   "outputs": [
    {
     "data": {
      "image/png": "[encoded data removed]",
      "text/plain": [
       "<IPython.core.display.Image object>"
      ]
     },
     "execution_count": 335,
     "metadata": {},
     "output_type": "execute_result"
    }
   ],
   "source": [
    "Image(filename='pics/R_matrix.png')"
   ]
  },
  {
   "cell_type": "markdown",
   "id": "3dcb638a",
   "metadata": {},
   "source": [
    "Создадим полный набор $(x_j, \\theta_j)$"
   ]
  },
  {
   "cell_type": "code",
   "execution_count": 336,
   "id": "a7e96279",
   "metadata": {},
   "outputs": [
    {
     "data": {
      "text/plain": [
       "10000"
      ]
     },
     "execution_count": 336,
     "metadata": {},
     "output_type": "execute_result"
    }
   ],
   "source": [
    "len(x_rec_list[0])"
   ]
  },
  {
   "cell_type": "code",
   "execution_count": 337,
   "id": "e2982241",
   "metadata": {},
   "outputs": [],
   "source": [
    "# Полный набор измерений состоит из 4000 измерений по 4000 на каждую theta\n",
    "x_rec_list = np.array(x_rec_list)\n",
    "\n",
    "thetas_list = []\n",
    "for theta in thetas:\n",
    "    thetas_list.append([theta]*x_rec_list.shape[1])\n",
    "    \n",
    "thetas_list = np.array(thetas_list)\n"
   ]
  },
  {
   "cell_type": "code",
   "execution_count": 338,
   "id": "f3aeffb8",
   "metadata": {},
   "outputs": [],
   "source": [
    "# Зададим функцию собирающую матрицу R(c)\n",
    "\n",
    "# Заметим, что числители дробей в сумме выше не зависят от c. \n",
    "# Посчитаем их заранее, чтобы не пересчитывать на каждой итерации далее\n",
    "\n",
    "\n",
    "def get_R_numerators(N = 9, thetas = thetas, x_rec_list = x_rec_list):\n",
    "    psi_n_list = []\n",
    "    for n in range(N):\n",
    "        psi = []\n",
    "        for theta, x in zip(thetas, x_rec_list):       \n",
    "            psi.append(phi_theta(n, x, theta))\n",
    "        psi = np.array(psi).flatten()\n",
    "        psi_n_list.append(psi)\n",
    "    \n",
    "    numerators_list = np.reshape([psi1.conj()*psi2 for psi1 in psi_n_list for psi2 in  psi_n_list], (9,9,40000))                       \n",
    "    return np.array(numerators_list).T\n",
    "\n",
    "numerators_list = get_R_numerators()"
   ]
  },
  {
   "cell_type": "code",
   "execution_count": 339,
   "id": "bf35854c",
   "metadata": {},
   "outputs": [],
   "source": [
    "def get_R(c, numerators_list):\n",
    "    denumerators_list = []\n",
    "    for theta, x in zip(thetas, x_rec_list):\n",
    "        state = get_theor_state(c, N, x, theta)\n",
    "        p = get_probs(state)\n",
    "        denumerators_list.append(p)\n",
    "        \n",
    "    denumerators_list = np.array(denumerators_list).flatten()\n",
    "    return np.sum(numerators_list/np.reshape(denumerators_list, (40000, 1, 1)), axis = 0).T\n",
    "    \n",
    "    "
   ]
  },
  {
   "cell_type": "code",
   "execution_count": 340,
   "id": "c9a62b6c",
   "metadata": {},
   "outputs": [
    {
     "name": "stdout",
     "output_type": "stream",
     "text": [
      "[[ 33050960.49548192+0.00000000e+00j  28413912.5373168 -3.23583567e+03j\n",
      "     983735.08023671-7.73769031e+01j -12860178.75399077+1.26015439e+03j\n",
      "   -2156337.29892262-1.28228650e-12j   6168699.50732652+5.61076018e+02j\n",
      "   -2051143.33170204+1.34777086e+03j  -6355095.26077142-3.78475282e+02j\n",
      "    4819121.7908384 +2.26656831e-12j]\n",
      " [ 28413912.5373168 +3.23583567e+03j  34441845.38766157+0.00000000e+00j\n",
      "   17897618.48490906-1.27450405e+03j  -2619392.41188923+1.87139089e+03j\n",
      "  -11926726.07682998+1.26570467e+03j  -9859944.44005159+2.11166880e-12j\n",
      "   -1699651.07222234+1.48169050e+03j   8213656.6625741 -3.78276333e+02j\n",
      "   11265683.79833854-1.27012299e+03j]\n",
      " [   983735.08023671+7.73769031e+01j  17897618.48490906+1.27450405e+03j\n",
      "   30530377.98236234+0.00000000e+00j  14145223.7845127 -6.97785984e+02j\n",
      "  -17762453.50116404+2.62732568e+02j -26163620.98081426-1.68367775e+02j\n",
      "    -257999.23107358+1.97542430e-13j  23855192.29857524+1.23169627e+02j\n",
      "   12970618.07268413-6.38034344e+01j]\n",
      " [-12860178.75399077-1.26015439e+03j  -2619392.41188923-1.87139089e+03j\n",
      "   14145223.7845127 +6.97785984e+02j  12160332.60088162+0.00000000e+00j\n",
      "   -7702097.3454863 -1.24252018e+03j -15246543.8149854 +9.58062729e+02j\n",
      "     826219.79936579+7.83542525e+02j  14081367.51746486-2.74003648e-13j\n",
      "    4192540.82535465+6.80054926e+02j]\n",
      " [ -2156337.29892262+1.28228650e-12j -11926726.07682998-1.26570467e+03j\n",
      "  -17762453.50116404-2.62732568e+02j  -7702097.3454863 +1.24252018e+03j\n",
      "   10495149.21845475+0.00000000e+00j  15054114.98428786-2.29855855e+02j\n",
      "     177487.63897581+7.01783906e+02j -13637068.38800984+1.81454457e+02j\n",
      "   -7746834.31264547+4.82968838e-13j]\n",
      " [  6168699.50732652-5.61076018e+02j  -9859944.44005159-2.11166880e-12j\n",
      "  -26163620.98081426+1.68367775e+02j -15246543.8149854 -9.58062729e+02j\n",
      "   15054114.98428786+2.29855855e+02j  24324642.85795612+0.00000000e+00j\n",
      "    -379407.35166058-7.75875042e+02j -22182355.84358275+1.23680857e+02j\n",
      "  -10135612.13300419+4.93255491e+02j]\n",
      " [ -2051143.33170204-1.34777086e+03j  -1699651.07222234-1.48169050e+03j\n",
      "    -257999.23107358-1.97542430e-13j    826219.79936579-7.83542525e+02j\n",
      "     177487.63897581-7.01783906e+02j   -379407.35166058+7.75875042e+02j\n",
      "     204503.48185444+0.00000000e+00j    332346.28089303-2.63744554e+02j\n",
      "    -399631.70242106+8.63422449e+02j]\n",
      " [ -6355095.26077142+3.78475282e+02j   8213656.6625741 +3.78276333e+02j\n",
      "   23855192.29857524-1.23169627e+02j  14081367.51746486+2.74003648e-13j\n",
      "  -13637068.38800984-1.81454457e+02j -22182355.84358275-1.23680857e+02j\n",
      "     332346.28089303+2.63744554e+02j  20311096.36645899+0.00000000e+00j\n",
      "    9166138.93175731-3.08858208e+02j]\n",
      " [  4819121.7908384 -2.26656831e-12j  11265683.79833854+1.27012299e+03j\n",
      "   12970618.07268413+6.38034344e+01j   4192540.82535465-6.80054926e+02j\n",
      "   -7746834.31264547-4.82968838e-13j -10135612.13300419-4.93255491e+02j\n",
      "    -399631.70242106-8.63422449e+02j   9166138.93175731+3.08858208e+02j\n",
      "    6113567.78922258+0.00000000e+00j]]\n"
     ]
    }
   ],
   "source": [
    "# Проверим работу ф-ии\n",
    "c = np.random.randn(9)\n",
    "c = c/np.sqrt(c**2)\n",
    "R = get_R(c, numerators_list)\n",
    "print(R)"
   ]
  },
  {
   "cell_type": "code",
   "execution_count": 341,
   "id": "595e0271",
   "metadata": {},
   "outputs": [
    {
     "data": {
      "image/png": "[encoded data removed]",
      "text/plain": [
       "<IPython.core.display.Image object>"
      ]
     },
     "execution_count": 341,
     "metadata": {},
     "output_type": "execute_result"
    }
   ],
   "source": [
    "Image(filename='pics/iter_method.png')"
   ]
  },
  {
   "cell_type": "code",
   "execution_count": null,
   "id": "55fbb7b7",
   "metadata": {},
   "outputs": [
    {
     "name": "stderr",
     "output_type": "stream",
     "text": [
      "  0%|          | 1/1000 [00:00<02:18,  7.21it/s]"
     ]
    },
    {
     "name": "stdout",
     "output_type": "stream",
     "text": [
      "1.3642155442443105\n"
     ]
    },
    {
     "name": "stderr",
     "output_type": "stream",
     "text": [
      "\r",
      "  0%|          | 2/1000 [00:00<02:33,  6.52it/s]"
     ]
    },
    {
     "name": "stdout",
     "output_type": "stream",
     "text": [
      "0.637510725278479\n"
     ]
    },
    {
     "name": "stderr",
     "output_type": "stream",
     "text": [
      "\r",
      "  0%|          | 3/1000 [00:00<02:28,  6.73it/s]"
     ]
    },
    {
     "name": "stdout",
     "output_type": "stream",
     "text": [
      "0.33228336624033034\n"
     ]
    },
    {
     "name": "stderr",
     "output_type": "stream",
     "text": [
      "\r",
      "  0%|          | 4/1000 [00:00<02:22,  6.97it/s]"
     ]
    },
    {
     "name": "stdout",
     "output_type": "stream",
     "text": [
      "0.17151939607522745\n"
     ]
    },
    {
     "name": "stderr",
     "output_type": "stream",
     "text": [
      "\r",
      "  0%|          | 5/1000 [00:00<02:20,  7.07it/s]"
     ]
    },
    {
     "name": "stdout",
     "output_type": "stream",
     "text": [
      "0.10088806853036636\n"
     ]
    },
    {
     "name": "stderr",
     "output_type": "stream",
     "text": [
      "\r",
      "  1%|          | 6/1000 [00:00<02:24,  6.87it/s]"
     ]
    },
    {
     "name": "stdout",
     "output_type": "stream",
     "text": [
      "0.08061690308282872\n"
     ]
    },
    {
     "name": "stderr",
     "output_type": "stream",
     "text": [
      "\r",
      "  1%|          | 7/1000 [00:01<02:30,  6.59it/s]"
     ]
    },
    {
     "name": "stdout",
     "output_type": "stream",
     "text": [
      "0.06917512496694198\n"
     ]
    },
    {
     "name": "stderr",
     "output_type": "stream",
     "text": [
      "\r",
      "  1%|          | 8/1000 [00:01<02:29,  6.64it/s]"
     ]
    },
    {
     "name": "stdout",
     "output_type": "stream",
     "text": [
      "0.05952379610989506\n"
     ]
    },
    {
     "name": "stderr",
     "output_type": "stream",
     "text": [
      "\r",
      "  1%|          | 9/1000 [00:01<02:30,  6.60it/s]"
     ]
    },
    {
     "name": "stdout",
     "output_type": "stream",
     "text": [
      "0.050273247219445365\n"
     ]
    },
    {
     "name": "stderr",
     "output_type": "stream",
     "text": [
      "\r",
      "  1%|          | 10/1000 [00:01<02:32,  6.50it/s]"
     ]
    },
    {
     "name": "stdout",
     "output_type": "stream",
     "text": [
      "0.04097627300243435\n"
     ]
    },
    {
     "name": "stderr",
     "output_type": "stream",
     "text": [
      "\r",
      "  1%|          | 11/1000 [00:01<02:27,  6.71it/s]"
     ]
    },
    {
     "name": "stdout",
     "output_type": "stream",
     "text": [
      "0.03535606573254021\n"
     ]
    },
    {
     "name": "stderr",
     "output_type": "stream",
     "text": [
      "\r",
      "  1%|          | 12/1000 [00:01<02:17,  7.19it/s]"
     ]
    },
    {
     "name": "stdout",
     "output_type": "stream",
     "text": [
      "0.036052717620500996\n"
     ]
    },
    {
     "name": "stderr",
     "output_type": "stream",
     "text": [
      "\r",
      "  1%|▏         | 13/1000 [00:01<02:10,  7.58it/s]"
     ]
    },
    {
     "name": "stdout",
     "output_type": "stream",
     "text": [
      "0.048444195450184746\n"
     ]
    },
    {
     "name": "stderr",
     "output_type": "stream",
     "text": [
      "\r",
      "  1%|▏         | 14/1000 [00:02<02:11,  7.51it/s]"
     ]
    },
    {
     "name": "stdout",
     "output_type": "stream",
     "text": [
      "0.03793545533796147\n"
     ]
    },
    {
     "name": "stderr",
     "output_type": "stream",
     "text": [
      "\r",
      "  2%|▏         | 15/1000 [00:02<02:18,  7.11it/s]"
     ]
    },
    {
     "name": "stdout",
     "output_type": "stream",
     "text": [
      "0.03900765597507525\n"
     ]
    },
    {
     "name": "stderr",
     "output_type": "stream",
     "text": [
      "\r",
      "  2%|▏         | 16/1000 [00:02<02:23,  6.85it/s]"
     ]
    },
    {
     "name": "stdout",
     "output_type": "stream",
     "text": [
      "0.0420016960420446\n"
     ]
    },
    {
     "name": "stderr",
     "output_type": "stream",
     "text": [
      "\r",
      "  2%|▏         | 17/1000 [00:02<02:25,  6.75it/s]"
     ]
    },
    {
     "name": "stdout",
     "output_type": "stream",
     "text": [
      "0.045938656729641265\n"
     ]
    },
    {
     "name": "stderr",
     "output_type": "stream",
     "text": [
      "\r",
      "  2%|▏         | 18/1000 [00:02<02:22,  6.90it/s]"
     ]
    },
    {
     "name": "stdout",
     "output_type": "stream",
     "text": [
      "0.05046176813162618\n"
     ]
    },
    {
     "name": "stderr",
     "output_type": "stream",
     "text": [
      "\r",
      "  2%|▏         | 19/1000 [00:02<02:19,  7.06it/s]"
     ]
    },
    {
     "name": "stdout",
     "output_type": "stream",
     "text": [
      "0.05546238794334615\n"
     ]
    },
    {
     "name": "stderr",
     "output_type": "stream",
     "text": [
      "\r",
      "  2%|▏         | 20/1000 [00:02<02:17,  7.13it/s]"
     ]
    },
    {
     "name": "stdout",
     "output_type": "stream",
     "text": [
      "0.06016852273225597\n"
     ]
    },
    {
     "name": "stderr",
     "output_type": "stream",
     "text": [
      "\r",
      "  2%|▏         | 21/1000 [00:03<02:23,  6.81it/s]"
     ]
    },
    {
     "name": "stdout",
     "output_type": "stream",
     "text": [
      "0.0636986764563808\n"
     ]
    },
    {
     "name": "stderr",
     "output_type": "stream",
     "text": [
      "\r",
      "  2%|▏         | 22/1000 [00:03<02:17,  7.09it/s]"
     ]
    },
    {
     "name": "stdout",
     "output_type": "stream",
     "text": [
      "0.06625854755870648\n"
     ]
    },
    {
     "name": "stderr",
     "output_type": "stream",
     "text": [
      "\r",
      "  2%|▏         | 23/1000 [00:03<02:08,  7.60it/s]"
     ]
    },
    {
     "name": "stdout",
     "output_type": "stream",
     "text": [
      "0.06798531626785662\n"
     ]
    },
    {
     "name": "stderr",
     "output_type": "stream",
     "text": [
      "\r",
      "  2%|▏         | 24/1000 [00:03<02:11,  7.41it/s]"
     ]
    },
    {
     "name": "stdout",
     "output_type": "stream",
     "text": [
      "0.06925185758124797\n"
     ]
    },
    {
     "name": "stderr",
     "output_type": "stream",
     "text": [
      "\r",
      "  2%|▎         | 25/1000 [00:03<02:11,  7.44it/s]"
     ]
    },
    {
     "name": "stdout",
     "output_type": "stream",
     "text": [
      "0.07027395915065084\n"
     ]
    },
    {
     "name": "stderr",
     "output_type": "stream",
     "text": [
      "\r",
      "  3%|▎         | 26/1000 [00:03<02:10,  7.47it/s]"
     ]
    },
    {
     "name": "stdout",
     "output_type": "stream",
     "text": [
      "0.07100504247695755\n"
     ]
    },
    {
     "name": "stderr",
     "output_type": "stream",
     "text": [
      "\r",
      "  3%|▎         | 27/1000 [00:03<02:09,  7.49it/s]"
     ]
    },
    {
     "name": "stdout",
     "output_type": "stream",
     "text": [
      "0.07116807336329903\n"
     ]
    },
    {
     "name": "stderr",
     "output_type": "stream",
     "text": [
      "\r",
      "  3%|▎         | 28/1000 [00:03<02:09,  7.49it/s]"
     ]
    },
    {
     "name": "stdout",
     "output_type": "stream",
     "text": [
      "0.07049268750108623\n"
     ]
    },
    {
     "name": "stderr",
     "output_type": "stream",
     "text": [
      "\r",
      "  3%|▎         | 29/1000 [00:04<02:10,  7.46it/s]"
     ]
    },
    {
     "name": "stdout",
     "output_type": "stream",
     "text": [
      "0.07877785044810502\n"
     ]
    },
    {
     "name": "stderr",
     "output_type": "stream",
     "text": [
      "\r",
      "  3%|▎         | 30/1000 [00:04<02:10,  7.45it/s]"
     ]
    },
    {
     "name": "stdout",
     "output_type": "stream",
     "text": [
      "0.06869690681013155\n"
     ]
    },
    {
     "name": "stderr",
     "output_type": "stream",
     "text": [
      "\r",
      "  3%|▎         | 31/1000 [00:04<02:10,  7.42it/s]"
     ]
    },
    {
     "name": "stdout",
     "output_type": "stream",
     "text": [
      "0.06265593327234341\n"
     ]
    },
    {
     "name": "stderr",
     "output_type": "stream",
     "text": [
      "\r",
      "  3%|▎         | 32/1000 [00:04<02:08,  7.51it/s]"
     ]
    },
    {
     "name": "stdout",
     "output_type": "stream",
     "text": [
      "0.05562077525442271\n"
     ]
    },
    {
     "name": "stderr",
     "output_type": "stream",
     "text": [
      "\r",
      "  3%|▎         | 33/1000 [00:04<02:02,  7.88it/s]"
     ]
    },
    {
     "name": "stdout",
     "output_type": "stream",
     "text": [
      "0.048131553529256334\n"
     ]
    },
    {
     "name": "stderr",
     "output_type": "stream",
     "text": [
      "\r",
      "  3%|▎         | 34/1000 [00:04<01:56,  8.27it/s]"
     ]
    },
    {
     "name": "stdout",
     "output_type": "stream",
     "text": [
      "0.04015558592548078\n"
     ]
    },
    {
     "name": "stderr",
     "output_type": "stream",
     "text": [
      "\r",
      "  4%|▎         | 35/1000 [00:04<01:51,  8.64it/s]"
     ]
    },
    {
     "name": "stdout",
     "output_type": "stream",
     "text": [
      "0.03264720419656343\n"
     ]
    },
    {
     "name": "stderr",
     "output_type": "stream",
     "text": [
      "\r",
      "  4%|▎         | 36/1000 [00:04<01:48,  8.88it/s]"
     ]
    },
    {
     "name": "stdout",
     "output_type": "stream",
     "text": [
      "0.026130095028080634\n"
     ]
    },
    {
     "name": "stderr",
     "output_type": "stream",
     "text": [
      "\r",
      "  4%|▎         | 37/1000 [00:05<01:47,  9.00it/s]"
     ]
    },
    {
     "name": "stdout",
     "output_type": "stream",
     "text": [
      "0.020800139107761656\n"
     ]
    },
    {
     "name": "stderr",
     "output_type": "stream",
     "text": [
      "\r",
      "  4%|▍         | 38/1000 [00:05<01:45,  9.08it/s]"
     ]
    },
    {
     "name": "stdout",
     "output_type": "stream",
     "text": [
      "0.016692293877604653\n"
     ]
    },
    {
     "name": "stderr",
     "output_type": "stream",
     "text": [
      "\r",
      "  4%|▍         | 39/1000 [00:05<01:44,  9.20it/s]"
     ]
    },
    {
     "name": "stdout",
     "output_type": "stream",
     "text": [
      "0.01379727103608812\n"
     ]
    },
    {
     "name": "stderr",
     "output_type": "stream",
     "text": [
      "\r",
      "  4%|▍         | 40/1000 [00:05<01:43,  9.31it/s]"
     ]
    },
    {
     "name": "stdout",
     "output_type": "stream",
     "text": [
      "0.012132141524011496\n"
     ]
    },
    {
     "name": "stderr",
     "output_type": "stream",
     "text": [
      "\r",
      "  4%|▍         | 41/1000 [00:05<01:43,  9.30it/s]"
     ]
    },
    {
     "name": "stdout",
     "output_type": "stream",
     "text": [
      "0.011473563312887439\n"
     ]
    },
    {
     "name": "stderr",
     "output_type": "stream",
     "text": [
      "\r",
      "  4%|▍         | 42/1000 [00:05<01:43,  9.22it/s]"
     ]
    },
    {
     "name": "stdout",
     "output_type": "stream",
     "text": [
      "0.010953958629503312\n"
     ]
    },
    {
     "name": "stderr",
     "output_type": "stream",
     "text": [
      "\r",
      "  4%|▍         | 43/1000 [00:05<01:43,  9.25it/s]"
     ]
    },
    {
     "name": "stdout",
     "output_type": "stream",
     "text": [
      "0.00991517338725208\n"
     ]
    },
    {
     "name": "stderr",
     "output_type": "stream",
     "text": [
      "\r",
      "  4%|▍         | 44/1000 [00:05<01:42,  9.36it/s]"
     ]
    },
    {
     "name": "stdout",
     "output_type": "stream",
     "text": [
      "0.008458893785964402\n"
     ]
    },
    {
     "name": "stderr",
     "output_type": "stream",
     "text": [
      "\r",
      "  4%|▍         | 45/1000 [00:05<01:46,  8.99it/s]"
     ]
    },
    {
     "name": "stdout",
     "output_type": "stream",
     "text": [
      "0.0068774736745713695\n"
     ]
    },
    {
     "name": "stderr",
     "output_type": "stream",
     "text": [
      "\r",
      "  5%|▍         | 46/1000 [00:06<01:44,  9.15it/s]"
     ]
    },
    {
     "name": "stdout",
     "output_type": "stream",
     "text": [
      "0.005385338020278655\n"
     ]
    },
    {
     "name": "stderr",
     "output_type": "stream",
     "text": [
      "\r",
      "  5%|▍         | 47/1000 [00:06<01:41,  9.35it/s]"
     ]
    },
    {
     "name": "stdout",
     "output_type": "stream",
     "text": [
      "0.00410027379746595\n"
     ]
    },
    {
     "name": "stderr",
     "output_type": "stream",
     "text": [
      "\r",
      "  5%|▍         | 48/1000 [00:06<01:41,  9.33it/s]"
     ]
    },
    {
     "name": "stdout",
     "output_type": "stream",
     "text": [
      "0.003065028341163864\n"
     ]
    },
    {
     "name": "stderr",
     "output_type": "stream",
     "text": [
      "\r",
      "  5%|▍         | 49/1000 [00:06<01:42,  9.30it/s]"
     ]
    },
    {
     "name": "stdout",
     "output_type": "stream",
     "text": [
      "0.002270846253536647\n"
     ]
    },
    {
     "name": "stderr",
     "output_type": "stream",
     "text": [
      "\r",
      "  5%|▌         | 50/1000 [00:06<01:42,  9.30it/s]"
     ]
    },
    {
     "name": "stdout",
     "output_type": "stream",
     "text": [
      "0.001681616778057827\n"
     ]
    },
    {
     "name": "stderr",
     "output_type": "stream",
     "text": [
      "\r",
      "  5%|▌         | 51/1000 [00:06<01:42,  9.26it/s]"
     ]
    },
    {
     "name": "stdout",
     "output_type": "stream",
     "text": [
      "0.0012532485245584722\n"
     ]
    },
    {
     "name": "stderr",
     "output_type": "stream",
     "text": [
      "\r",
      "  5%|▌         | 52/1000 [00:06<01:41,  9.30it/s]"
     ]
    },
    {
     "name": "stdout",
     "output_type": "stream",
     "text": [
      "0.0009447961151565409\n"
     ]
    },
    {
     "name": "stderr",
     "output_type": "stream",
     "text": [
      "\r",
      "  5%|▌         | 53/1000 [00:06<01:41,  9.33it/s]"
     ]
    },
    {
     "name": "stdout",
     "output_type": "stream",
     "text": [
      "0.0007228357627554239\n"
     ]
    },
    {
     "name": "stderr",
     "output_type": "stream",
     "text": [
      "\r",
      "  5%|▌         | 54/1000 [00:06<01:40,  9.37it/s]"
     ]
    },
    {
     "name": "stdout",
     "output_type": "stream",
     "text": [
      "0.0005620209082586654\n"
     ]
    },
    {
     "name": "stderr",
     "output_type": "stream",
     "text": [
      "\r",
      "  6%|▌         | 55/1000 [00:06<01:40,  9.41it/s]"
     ]
    },
    {
     "name": "stdout",
     "output_type": "stream",
     "text": [
      "0.00044400530739449243\n"
     ]
    },
    {
     "name": "stderr",
     "output_type": "stream",
     "text": [
      "\r",
      "  6%|▌         | 56/1000 [00:07<01:40,  9.41it/s]"
     ]
    },
    {
     "name": "stdout",
     "output_type": "stream",
     "text": [
      "0.00035591546719274277\n"
     ]
    },
    {
     "name": "stderr",
     "output_type": "stream",
     "text": [
      "\r",
      "  6%|▌         | 57/1000 [00:07<01:40,  9.35it/s]"
     ]
    },
    {
     "name": "stdout",
     "output_type": "stream",
     "text": [
      "0.0002888969970536931\n"
     ]
    },
    {
     "name": "stderr",
     "output_type": "stream",
     "text": [
      "\r",
      "  6%|▌         | 58/1000 [00:07<01:40,  9.35it/s]"
     ]
    },
    {
     "name": "stdout",
     "output_type": "stream",
     "text": [
      "0.00023692254500597918\n"
     ]
    },
    {
     "name": "stderr",
     "output_type": "stream",
     "text": [
      "\r",
      "  6%|▌         | 59/1000 [00:07<01:40,  9.37it/s]"
     ]
    },
    {
     "name": "stdout",
     "output_type": "stream",
     "text": [
      "0.00019589362772222112\n"
     ]
    },
    {
     "name": "stderr",
     "output_type": "stream",
     "text": [
      "\r",
      "  6%|▌         | 60/1000 [00:07<01:41,  9.30it/s]"
     ]
    },
    {
     "name": "stdout",
     "output_type": "stream",
     "text": [
      "0.00016300216883876492\n"
     ]
    },
    {
     "name": "stderr",
     "output_type": "stream",
     "text": [
      "\r",
      "  6%|▌         | 61/1000 [00:07<01:43,  9.11it/s]"
     ]
    },
    {
     "name": "stdout",
     "output_type": "stream",
     "text": [
      "0.00013629527664076486\n"
     ]
    },
    {
     "name": "stderr",
     "output_type": "stream",
     "text": [
      "\r",
      "  6%|▌         | 62/1000 [00:07<01:48,  8.67it/s]"
     ]
    },
    {
     "name": "stdout",
     "output_type": "stream",
     "text": [
      "0.00011438694513771611\n"
     ]
    },
    {
     "name": "stderr",
     "output_type": "stream",
     "text": [
      "\r",
      "  6%|▋         | 63/1000 [00:07<01:45,  8.88it/s]"
     ]
    },
    {
     "name": "stdout",
     "output_type": "stream",
     "text": [
      "9.627027368334405e-05\n"
     ]
    },
    {
     "name": "stderr",
     "output_type": "stream",
     "text": [
      "\r",
      "  6%|▋         | 64/1000 [00:07<01:43,  9.06it/s]"
     ]
    },
    {
     "name": "stdout",
     "output_type": "stream",
     "text": [
      "8.119593818368849e-05\n"
     ]
    },
    {
     "name": "stderr",
     "output_type": "stream",
     "text": [
      "\r",
      "  6%|▋         | 65/1000 [00:08<01:42,  9.09it/s]"
     ]
    },
    {
     "name": "stdout",
     "output_type": "stream",
     "text": [
      "6.859332972062867e-05\n"
     ]
    },
    {
     "name": "stderr",
     "output_type": "stream",
     "text": [
      "\r",
      "  7%|▋         | 66/1000 [00:08<01:42,  9.09it/s]"
     ]
    },
    {
     "name": "stdout",
     "output_type": "stream",
     "text": [
      "5.801885336835152e-05\n"
     ]
    },
    {
     "name": "stderr",
     "output_type": "stream",
     "text": [
      "\r",
      "  7%|▋         | 67/1000 [00:08<01:44,  8.93it/s]"
     ]
    }
   ],
   "source": [
    "%%time\n",
    "\n",
    "eps = 1e-8\n",
    "mu=0.5\n",
    "\n",
    "# Зададим случайное чистое состояние в качестве начального приближения\n",
    "c = np.random.randn(9)\n",
    "c = c/np.sqrt(c**2)\n",
    "\n",
    "for i in tqdm(range(1000)):\n",
    "    c_prev = c\n",
    "    c = (1-mu)*get_R(c_prev, numerators_list) @ c_prev/ 40000 + mu*c_prev\n",
    "    print(np.sum(abs(c_prev - c)**2)**0.5)\n",
    "    if np.sum(abs(c_prev - c)**2)**0.5 < eps:\n",
    "        break\n",
    "    \n",
    "    \n"
   ]
  },
  {
   "cell_type": "code",
   "execution_count": null,
   "id": "c1a25ad7",
   "metadata": {},
   "outputs": [],
   "source": [
    "n_list = np.arange(9)\n",
    "\n",
    "plt.bar(n_list-0.1, abs(c)**2, alpha=0.5, width=0.5, label='Реконструкция')\n",
    "plt.bar(n_list+0.1, abs(cn_list)**2, alpha=0.5, width=0.5, label='Реальное состояние')\n",
    "plt.xticks(n_list)\n",
    "plt.xlim(-1, 10)\n",
    "plt.xlabel('Число фотонов')\n",
    "plt.ylabel('Вероятность')\n",
    "plt.legend()\n",
    "plt.show()"
   ]
  },
  {
   "cell_type": "code",
   "execution_count": null,
   "id": "e469aa81",
   "metadata": {},
   "outputs": [],
   "source": [
    "# Рассчитаем Fidelity между реконструкцией и реальным состоянием\n",
    "Fidelity_pure(c, cn_list)"
   ]
  },
  {
   "cell_type": "markdown",
   "id": "936c62c5",
   "metadata": {},
   "source": [
    "Состояния совпадаяют с высокой точностью"
   ]
  },
  {
   "cell_type": "markdown",
   "id": "7591a5e8",
   "metadata": {},
   "source": [
    "# Пункт 4:\n",
    "\n",
    "#### Построим распределения для различных $\\theta$"
   ]
  },
  {
   "cell_type": "code",
   "execution_count": null,
   "id": "fd2c85f3",
   "metadata": {},
   "outputs": [],
   "source": [
    "x_list = np.linspace(-8, 8, 1000)\n",
    "thetas = [0, np.pi/4, np.pi/2, 3*np.pi/4]\n",
    "thetas_label = ['0', '$\\pi/4$', '$\\pi/2$', '$3\\pi/4$']\n",
    "\n",
    "\n",
    "for x, theta, theta_label in zip(x_rec_list, thetas, thetas_label):\n",
    "    \n",
    "    plt.hist(x, density = True, bins = 50, alpha = 0.3, label = 'Статистика моделирования измерений')\n",
    "    \n",
    "    p_list = get_probs(get_theor_state(cn_list, N, x_list, theta))\n",
    "    plt.plot(x_list, p_list, '-', linewidth = 3, alpha=0.7, label='Реальное состояние')\n",
    "    \n",
    "    p_list = get_probs(get_theor_state(c, N, x_list, theta))\n",
    "    plt.plot(x_list, p_list, '-.', linewidth = 2, alpha=0.7, label='Реконструкция')\n",
    "    \n",
    "    plt.title(f'Theta = {theta}')\n",
    "    plt.xlabel('$x_\\Theta$')\n",
    "    plt.ylabel('Вероятность')\n",
    "    plt.legend(loc='upper left')\n",
    "    plt.grid()\n",
    "    \n",
    "    plt.show()\n",
    "    \n",
    "    "
   ]
  },
  {
   "cell_type": "markdown",
   "id": "c868ac3d",
   "metadata": {},
   "source": [
    "# Пункт 6:\n",
    "\n",
    "#### Вычислим p-value для всех $\\theta$"
   ]
  },
  {
   "cell_type": "code",
   "execution_count": null,
   "id": "f20572c8",
   "metadata": {},
   "outputs": [],
   "source": [
    "Image(filename='pics/Chi2.png')"
   ]
  },
  {
   "cell_type": "code",
   "execution_count": null,
   "id": "7617c2e2",
   "metadata": {},
   "outputs": [],
   "source": [
    "# Разобьём данные по квантилям, чтобы в один бин не попадало менее 5-ти измерений\n",
    "n_bins = 10\n",
    "nt = 10000\n",
    "\n",
    "\n",
    "\n",
    "E_list = []\n",
    "O_list = []\n",
    "\n",
    "for x, theta in zip(x_rec_list, thetas):\n",
    "    x = np.array(sorted(x))\n",
    "#     x_bins = np.quantile(x, np.linspace(0,1,n_bins+1))\n",
    "    x_bins = np.linspace(x.min(), x.max(), n_bins+1)\n",
    "#     x_bins[0] -= 1\n",
    "    x_bin_prev = x_bins[0]\n",
    "#     x_bins[-1] += 1\n",
    "    for x_bin in x_bins[1:]:\n",
    "        x_vals = x[(x<x_bin) & (x>x_bin_prev)]\n",
    "        O = len(x_vals)\n",
    "        E = nt * np.trapz(get_probs(get_theor_state(c, N, x_vals, theta)), x_vals)\n",
    "        E_list.append(E)\n",
    "        O_list.append(O)\n",
    "        \n",
    "        x_bin_prev = x_bin\n",
    "        \n",
    "O_list = np.array(O_list)\n",
    "E_list = np.array(E_list)\n",
    "\n",
    "Xi2 = np.sum((O_list - E_list)**2/E_list)"
   ]
  },
  {
   "cell_type": "code",
   "execution_count": null,
   "id": "0ec2cfd3",
   "metadata": {},
   "outputs": [],
   "source": [
    "print(f'nt = {nt}')\n",
    "print(f'sum(E_list) для соответствующих theta = {np.sum(np.reshape(E_list, (4, n_bins)), axis = 1)}')"
   ]
  },
  {
   "cell_type": "code",
   "execution_count": null,
   "id": "c05556ce",
   "metadata": {},
   "outputs": [],
   "source": [
    "nu = 4*n_bins - len(thetas) - 2*(N - 1) - 1\n",
    "p_value = 1 - chi2.cdf(Xi2.real, nu)\n",
    "print('p-value = ' + str(p_value))"
   ]
  },
  {
   "cell_type": "markdown",
   "id": "9e51341d",
   "metadata": {},
   "source": [
    "Для визуализации разобьём на меньшее количество бинов (n_bins = 10)"
   ]
  },
  {
   "cell_type": "code",
   "execution_count": null,
   "id": "c64043fa",
   "metadata": {},
   "outputs": [],
   "source": [
    "# Разобьём данные по квантилям, чтобы в один бин не попадало менее 5-ти измерений\n",
    "n_bins = 10\n",
    "nt = 10000\n",
    "\n",
    "E_list = []\n",
    "O_list = []\n",
    "\n",
    "for x, theta in zip(x_rec_list, thetas):\n",
    "    x = np.array(sorted(x))\n",
    "#     x_bins = np.quantile(x, np.linspace(0,1,n_bins+1))\n",
    "    x_bins = np.linspace(x.min(), x.max(), n_bins+1)\n",
    "#     x_bins[0] -= 1\n",
    "    x_bin_prev = x.min()\n",
    "#     x_bins[-1] += 1\n",
    "    \n",
    "    for x_bin in x_bins[1:]:\n",
    "        x_vals = x[(x<x_bin) & (x>x_bin_prev)]\n",
    "        O = len(x_vals)\n",
    "        E = nt * np.trapz(get_probs(get_theor_state(c, N, x_vals, theta)), x_vals)\n",
    "        E_list.append(E)\n",
    "        O_list.append(O)\n",
    "        \n",
    "        x_bin_prev = x_bin\n",
    "        \n",
    "O_list = np.array(O_list)\n",
    "E_list = np.array(E_list)\n",
    "\n",
    "Xi2 = np.sum((O_list - E_list)**2/E_list)"
   ]
  },
  {
   "cell_type": "code",
   "execution_count": null,
   "id": "6af62e4c",
   "metadata": {},
   "outputs": [],
   "source": [
    "n_list = np.arange(E_list.shape[0])\n",
    "\n",
    "plt.bar(n_list-0.1, E_list, alpha=0.5, width=0.5, label='Теоретическое значение')\n",
    "plt.bar(n_list+0.1, O_list, alpha=0.5, width=0.5, label='Колличество наблюдений в бине')\n",
    "plt.xticks(n_list[0::2])\n",
    "plt.xlim(-1, E_list.shape[0])\n",
    "plt.xlabel('Число фотонов')\n",
    "plt.ylabel('Вероятность')\n",
    "plt.legend(loc = 'lower right')\n",
    "plt.show()"
   ]
  },
  {
   "cell_type": "code",
   "execution_count": null,
   "id": "d788b281",
   "metadata": {},
   "outputs": [],
   "source": [
    "x_bins"
   ]
  }
 ],
 "metadata": {
  "kernelspec": {
   "display_name": "Python 3",
   "language": "python",
   "name": "python3"
  },
  "language_info": {
   "codemirror_mode": {
    "name": "ipython",
    "version": 3
   },
   "file_extension": ".py",
   "mimetype": "text/x-python",
   "name": "python",
   "nbconvert_exporter": "python",
   "pygments_lexer": "ipython3",
   "version": "3.7.11"
  }
 },
 "nbformat": 4,
 "nbformat_minor": 5
}
