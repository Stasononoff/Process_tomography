{
 "cells": [
  {
   "cell_type": "code",
   "execution_count": 171,
   "id": "0c690aae",
   "metadata": {},
   "outputs": [],
   "source": [
    "import numpy as np\n",
    "from matplotlib import pyplot as plt\n",
    "from scipy import linalg as sLA\n",
    "\n",
    "from IPython.display import Image\n",
    "from IPython.display import display, Latex\n",
    "\n",
    "from mpl_toolkits.mplot3d import axes3d\n",
    "import matplotlib.pyplot as plt\n",
    "\n",
    "from matplotlib import style\n",
    "# style.use('ggplot')"
   ]
  },
  {
   "cell_type": "code",
   "execution_count": 172,
   "id": "ea111854",
   "metadata": {},
   "outputs": [],
   "source": [
    "from scipy import linalg as sLA\n",
    "from scipy.special import hermite, factorial\n",
    "from scipy.integrate import quad\n",
    "from scipy.stats import chi2, chisquare\n",
    "from scipy import interpolate\n",
    "from tqdm import tqdm"
   ]
  },
  {
   "cell_type": "code",
   "execution_count": 173,
   "id": "26549481",
   "metadata": {},
   "outputs": [],
   "source": [
    "#Вычисление Фиделити для векторов чистых состояний\n",
    "def Fidelity_pure(vec0, vec1):\n",
    "    return np.abs(np.dot(vec0, vec1.conjugate())) ** 2\n",
    "\n",
    "# Функция для отрисовки 3-D barchart\n",
    "def plot_matrix(m, title = 'Входное состояние'):\n",
    "    \n",
    "    style.use('ggplot')\n",
    "\n",
    "    fig = plt.figure(figsize = (8,8))\n",
    "    ax1 = fig.add_subplot(111, projection='3d')\n",
    "    \n",
    "    xi = np.reshape(list(np.arange(m.shape[0]))*m.shape[1], (-1))\n",
    "    yi = np.reshape(np.reshape((list(np.arange(m.shape[1]))*m.shape[0]), (m.shape[1], m.shape[0])).T, (-1))\n",
    "    z0 = np.zeros(m.shape[0]*m.shape[1])\n",
    "    \n",
    "    dx = np.ones(m.shape[0]*m.shape[1])\n",
    "    dy = np.ones(m.shape[1]*m.shape[0])\n",
    "    dz = np.reshape(m, (-1))\n",
    "    \n",
    "    ax1.bar3d(xi, yi, z0, dx, dy, dz, shade=True)\n",
    "\n",
    "\n",
    "    ax1.set_xlabel('Колличество фотонов во втором канале n2')\n",
    "    ax1.set_ylabel('Колличество фотонов в первом канале n1')\n",
    "    ax1.set_zlabel('Вероятность p1p2')\n",
    "    ax1.set_title(title)\n",
    "\n",
    "    plt.show()"
   ]
  },
  {
   "cell_type": "markdown",
   "id": "c58ad88d",
   "metadata": {},
   "source": [
    "# Пункт 1:\n",
    "### Зададим состояниее согласно 3-му варианту и определим для него фоковское пространство, достаточное для представленияя с точностью $10^{-6}$"
   ]
  },
  {
   "cell_type": "markdown",
   "id": "d67ad06f",
   "metadata": {},
   "source": [
    "Вариант 3:\n",
    "\n",
    "Рассматриваемое состояние:\n",
    "\n",
    "$\\phi ~ | \\alpha \\rangle + |1 \\rangle$, где $\\alpha = 0.9i$ =>\n",
    "\n",
    "$\\phi =  (|1 \\rangle + e^{\\frac{-|\\alpha|^2}{2}} \\sum_{n=0}^{n_{max}} \\frac{\\alpha^{n}}{\\sqrt{n!}} |n\\rangle) /  norm$, где $n = 0.9i$"
   ]
  },
  {
   "cell_type": "code",
   "execution_count": 174,
   "id": "ba2ece65",
   "metadata": {},
   "outputs": [],
   "source": [
    "# Создаёт когерентное состояние\n",
    "def get_rho_coherent(N, d, alpha = 0.9*1j):\n",
    "    n = np.arange(N)\n",
    "    fact_n = np.array([np.math.factorial(x) for x in n]).astype(float)\n",
    "    state = np.exp((-np.abs(alpha) ** 2) / 2) * (alpha ** n) / np.sqrt(fact_n)\n",
    "    rho = np.outer(state,state.conjugate())\n",
    "    \n",
    "    rho_full = np.zeros((d,d))\n",
    "    rho_full[:N,:N] = rho\n",
    "    return rho_full, state\n",
    "\n",
    "\n",
    "def get_coherent_probs(n, alpha = 0.9*1j):\n",
    "    return np.exp((-np.abs(alpha) ** 2)) * (np.abs(alpha) ** (2*n)) / float(np.math.factorial(n))\n",
    "\n",
    "def get_coherent_coefs(n, alpha = 0.9*1j):\n",
    "    return np.exp((-np.abs(alpha) ** 2) / 2) * (alpha ** (2*n)) / np.sqrt(float(np.math.factorial(n)))\n",
    "    \n",
    "# Расчитывает ошибку ограничения размерности рассматриваемой системы\n",
    "def restrictions_err(N, func = get_coherent_probs):\n",
    "    return 1 - sum([func(i) for i in range(N)])\n",
    "\n",
    "def get_my_state(N, d):\n",
    "    _, state = get_rho_coherent(N, d, alpha = 0.9*1j)\n",
    "    state1 = np.zeros(len(state))\n",
    "    state1[1] = 1\n",
    "    state += state1\n",
    "    norm_coef = np.sqrt(state@state.conj())\n",
    "    \n",
    "    state = state/norm_coef\n",
    "    rho = np.outer(state,state.conjugate())\n",
    "    \n",
    "    rho_full = np.zeros((d,d))\n",
    "    rho_full[:N,:N] = rho\n",
    "    return rho, state"
   ]
  },
  {
   "cell_type": "markdown",
   "id": "26ada4a6",
   "metadata": {},
   "source": [
    "Заданное состояние является суперпозицией фоковского и когерентного. При этом фоковское cостояние $|1 \\rangle$ представляется точно в рассматриваемом фоковском пространнстве $n>=1$.\n",
    "Будем следить только за точностью представления когерентного состояния.\n",
    "\n",
    "Найдём размерность достаточную для представления когерентного состояния с точностью $10^{-6}$"
   ]
  },
  {
   "cell_type": "code",
   "execution_count": 175,
   "id": "2b212694",
   "metadata": {},
   "outputs": [
    {
     "name": "stdout",
     "output_type": "stream",
     "text": [
      "Ошибка в распределении за счёт сокращения размерности до 8: 2.244554789920805e-06\n",
      "Ошибка в распределении за счёт сокращения размерности до 9: 2.0008311862884653e-07\n"
     ]
    }
   ],
   "source": [
    "print('Ошибка в распределении за счёт сокращения размерности до 8:', restrictions_err(8))\n",
    "print('Ошибка в распределении за счёт сокращения размерности до 9:', restrictions_err(9))"
   ]
  },
  {
   "cell_type": "markdown",
   "id": "3ce2defc",
   "metadata": {},
   "source": [
    "Достаточно рассмотреть фоковское пространство размерностью 9"
   ]
  },
  {
   "cell_type": "code",
   "execution_count": 176,
   "id": "8d85b2ae",
   "metadata": {},
   "outputs": [
    {
     "name": "stderr",
     "output_type": "stream",
     "text": [
      "/home/stas/anaconda3/lib/python3.7/site-packages/ipykernel_launcher.py:9: ComplexWarning: Casting complex values to real discards the imaginary part\n",
      "  if __name__ == '__main__':\n",
      "/home/stas/anaconda3/lib/python3.7/site-packages/ipykernel_launcher.py:34: ComplexWarning: Casting complex values to real discards the imaginary part\n"
     ]
    }
   ],
   "source": [
    "N = 9\n",
    "# Получим заданное состояние\n",
    "my_rho, my_state = get_my_state(N, N)\n",
    "\n",
    "# Определим массив коэфициентов cn при соответствующих состояниях |n>\n",
    "cn_list = my_state"
   ]
  },
  {
   "cell_type": "markdown",
   "id": "2cf6407f",
   "metadata": {},
   "source": [
    "\n",
    "# Пункт 2:\n",
    "#### Зададим состояние через разложение на полиномы Эрмита"
   ]
  },
  {
   "cell_type": "code",
   "execution_count": 177,
   "id": "97f2bb28",
   "metadata": {},
   "outputs": [
    {
     "data": {
      "image/png": "[encoded data removed]",
      "text/plain": [
       "<IPython.core.display.Image object>"
      ]
     },
     "execution_count": 177,
     "metadata": {},
     "output_type": "execute_result"
    }
   ],
   "source": [
    "from IPython.display import Image\n",
    "Image(filename='pics/Chebyshev_hermit_basis.png')"
   ]
  },
  {
   "cell_type": "markdown",
   "id": "db6f97a6",
   "metadata": {},
   "source": [
    "Также учтём зависимость от фазы"
   ]
  },
  {
   "cell_type": "code",
   "execution_count": 178,
   "id": "160dd45d",
   "metadata": {},
   "outputs": [
    {
     "data": {
      "image/png": "[encoded data removed]",
      "text/plain": [
       "<IPython.core.display.Image object>"
      ]
     },
     "execution_count": 178,
     "metadata": {},
     "output_type": "execute_result"
    }
   ],
   "source": [
    "Image(filename='pics/psi_theta.png')"
   ]
  },
  {
   "cell_type": "markdown",
   "id": "2d35c75b",
   "metadata": {},
   "source": [
    "И окончательно получим состояние через найденные пункте 1 коэффициенты $c_n$"
   ]
  },
  {
   "cell_type": "code",
   "execution_count": 179,
   "id": "3f143237",
   "metadata": {},
   "outputs": [
    {
     "data": {
      "image/png": "[encoded data removed]",
      "text/plain": [
       "<IPython.core.display.Image object>"
      ]
     },
     "execution_count": 179,
     "metadata": {},
     "output_type": "execute_result"
    }
   ],
   "source": [
    "Image(filename='pics/state.png')"
   ]
  },
  {
   "cell_type": "code",
   "execution_count": 180,
   "id": "6fd8441f",
   "metadata": {},
   "outputs": [],
   "source": [
    "def phi_theta(n, x, theta):\n",
    "    return (1/(np.pi**0.5*2**n*factorial(n)))**(1/2)*hermite(n)(x)*np.exp(-x**2/2)*np.exp(1j*n*theta)\n",
    "\n",
    "def get_theor_state(cn_list, N, x, theta):\n",
    "    return np.sum(np.array([cn_list[i]*phi_theta(i, x, theta) for i in range(N)]), axis = 0)\n",
    "    \n",
    "def get_probs(state):\n",
    "    return abs(state)**2\n",
    "\n",
    "# Более быстрая функция для вероятности. Понадобится при решении УП\n",
    "def p_(phi_theta, psi):\n",
    "    return abs(np.tensordot(psi, phi_theta, axes=1))**2"
   ]
  },
  {
   "cell_type": "code",
   "execution_count": 181,
   "id": "077ed326",
   "metadata": {},
   "outputs": [
    {
     "data": {
      "image/png": "[encoded data removed]",
      "text/plain": [
       "<Figure size 432x288 with 1 Axes>"
      ]
     },
     "metadata": {
      "needs_background": "light"
     },
     "output_type": "display_data"
    }
   ],
   "source": [
    "x_list = np.linspace(-8, 8, 1000)\n",
    "thetas = [0, np.pi/4, np.pi/2, 3*np.pi/4]\n",
    "thetas_label = ['0', '$\\pi/4$', '$\\pi/2$', '$3\\pi/4$']\n",
    "\n",
    "for theta, theta_label in zip(thetas, thetas_label):\n",
    "    p_list = get_probs(get_theor_state(cn_list, N, x_list, theta))\n",
    "    plt.plot(x_list, p_list, '-', alpha=0.7, label=theta_label)\n",
    "plt.xlabel('$x_\\Theta$')\n",
    "plt.ylabel('Вероятность')\n",
    "plt.legend()\n",
    "plt.grid()\n",
    "plt.show()"
   ]
  },
  {
   "cell_type": "markdown",
   "id": "68adab04",
   "metadata": {},
   "source": [
    "# Пункт 3:\n",
    "#### Выполним симуляцию измерений для каждого значения $\\theta$"
   ]
  },
  {
   "cell_type": "code",
   "execution_count": 182,
   "id": "a27098c4",
   "metadata": {},
   "outputs": [],
   "source": [
    "def F(z, x_list, state):\n",
    "    return np.trapz(get_probs(state)[x_list <= z], x_list[x_list <= z])"
   ]
  },
  {
   "cell_type": "code",
   "execution_count": 183,
   "id": "99131ff2",
   "metadata": {},
   "outputs": [
    {
     "name": "stderr",
     "output_type": "stream",
     "text": [
      "100%|██████████| 100/100 [00:00<00:00, 31543.24it/s]\n",
      "100%|██████████| 100/100 [00:00<00:00, 10726.57it/s]\n",
      "100%|██████████| 100/100 [00:00<00:00, 15472.57it/s]\n",
      "100%|██████████| 100/100 [00:00<00:00, 10114.80it/s]\n"
     ]
    }
   ],
   "source": [
    "n = 10000\n",
    "L = 10\n",
    "inv_points = 100\n",
    "\n",
    "\n",
    "\n",
    "x_list = np.linspace(-L, L, inv_points)\n",
    "\n",
    "thetas = [0, np.pi/4, np.pi/2, 3*np.pi/4]\n",
    "thetas_label = ['0', '$\\pi/4$', '$\\pi/2$', '$3\\pi/4$']\n",
    "\n",
    "Func_list = []\n",
    "x_rec_list = []\n",
    "\n",
    "for theta in thetas:\n",
    "    y = []\n",
    "    state = get_theor_state(cn_list, N, x_list, theta)\n",
    "    for x_inv in tqdm(x_list):\n",
    "        y.append(F(x_inv, x_list, state))\n",
    "                 \n",
    "    # Восстановим функцию распределения\n",
    "    F_inv = interpolate.interp1d(y, x_list, fill_value=(0, 1), bounds_error=False)\n",
    "    Func_list.append(F_inv)\n",
    "    \n",
    "    # Из восстановленной ф-ии распределения сгенерируем 1000 случайных величин\n",
    "    # Каждое соответствует измерению\n",
    "    y_random = np.random.rand(n)\n",
    "    x_reconstructed = F_inv(y_random)\n",
    "    x_rec_list.append(x_reconstructed)\n",
    "    "
   ]
  },
  {
   "cell_type": "markdown",
   "id": "19a5f636",
   "metadata": {},
   "source": [
    "#### Построим соответствующие распределения"
   ]
  },
  {
   "cell_type": "code",
   "execution_count": 184,
   "id": "a971327f",
   "metadata": {},
   "outputs": [
    {
     "data": {
      "image/png": "[encoded data removed]",
      "text/plain": [
       "<Figure size 432x288 with 1 Axes>"
      ]
     },
     "metadata": {
      "needs_background": "light"
     },
     "output_type": "display_data"
    },
    {
     "data": {
      "image/png": "[encoded data removed]",
      "text/plain": [
       "<Figure size 432x288 with 1 Axes>"
      ]
     },
     "metadata": {
      "needs_background": "light"
     },
     "output_type": "display_data"
    },
    {
     "data": {
      "image/png": "[encoded data removed]",
      "text/plain": [
       "<Figure size 432x288 with 1 Axes>"
      ]
     },
     "metadata": {
      "needs_background": "light"
     },
     "output_type": "display_data"
    },
    {
     "data": {
      "image/png": "[encoded data removed]",
      "text/plain": [
       "<Figure size 432x288 with 1 Axes>"
      ]
     },
     "metadata": {
      "needs_background": "light"
     },
     "output_type": "display_data"
    }
   ],
   "source": [
    "for x_rec, theta_label in zip(x_rec_list, thetas_label):   \n",
    "    plt.hist(x_rec, bins=100, density=True, label=f'Результаты измерений theta = {theta_label}')\n",
    "    plt.xlabel('$x \\Theta$')\n",
    "    plt.ylabel('Вероятность')\n",
    "    plt.title(r'$\\theta = $' + f'{theta_label}')\n",
    "    plt.xlim(-6, 6)\n",
    "    plt.legend()\n",
    "    plt.show()"
   ]
  },
  {
   "cell_type": "markdown",
   "id": "0ef55a45",
   "metadata": {},
   "source": [
    "# Пункт 4:\n",
    "\n",
    "#### Проведём реконструкцию состояния методом MLE"
   ]
  },
  {
   "cell_type": "code",
   "execution_count": 185,
   "id": "29aee8a5",
   "metadata": {},
   "outputs": [
    {
     "data": {
      "image/png": "[encoded data removed]",
      "text/plain": [
       "<IPython.core.display.Image object>"
      ]
     },
     "execution_count": 185,
     "metadata": {},
     "output_type": "execute_result"
    }
   ],
   "source": [
    "Image(filename='pics/R_matrix.png')"
   ]
  },
  {
   "cell_type": "markdown",
   "id": "3dcb638a",
   "metadata": {},
   "source": [
    "Создадим полный набор $(x_j, \\theta_j)$"
   ]
  },
  {
   "cell_type": "code",
   "execution_count": 186,
   "id": "a7e96279",
   "metadata": {},
   "outputs": [
    {
     "data": {
      "text/plain": [
       "10000"
      ]
     },
     "execution_count": 186,
     "metadata": {},
     "output_type": "execute_result"
    }
   ],
   "source": [
    "len(x_rec_list[0])"
   ]
  },
  {
   "cell_type": "code",
   "execution_count": 187,
   "id": "e2982241",
   "metadata": {},
   "outputs": [],
   "source": [
    "# Полный набор измерений состоит из 4000 измерений по 4000 на каждую theta\n",
    "x_rec_list = np.array(x_rec_list)\n",
    "\n",
    "thetas_list = []\n",
    "for theta in thetas:\n",
    "    thetas_list.append([theta]*x_rec_list.shape[1])\n",
    "    \n",
    "thetas_list = np.array(thetas_list)\n"
   ]
  },
  {
   "cell_type": "code",
   "execution_count": 188,
   "id": "f3aeffb8",
   "metadata": {},
   "outputs": [],
   "source": [
    "# Зададим функцию собирающую матрицу R(c)\n",
    "\n",
    "# Заметим, что числители дробей в сумме выше не зависят от c. \n",
    "# Посчитаем их заранее, чтобы не пересчитывать на каждой итерации далее\n",
    "\n",
    "\n",
    "def get_R_numerators(N = 9, thetas = thetas, x_rec_list = x_rec_list):\n",
    "    psi_n_list = []\n",
    "    for n in range(N):\n",
    "        psi = []\n",
    "        for theta, x in zip(thetas, x_rec_list):       \n",
    "            psi.append(phi_theta(n, x, theta))\n",
    "        psi = np.array(psi).flatten()\n",
    "        psi_n_list.append(psi)\n",
    "    \n",
    "    numerators_list = np.reshape([psi1.conj()*psi2 for psi1 in psi_n_list for psi2 in  psi_n_list], (9,9,40000))                       \n",
    "    return np.array(numerators_list).T\n",
    "\n",
    "numerators_list = get_R_numerators()"
   ]
  },
  {
   "cell_type": "code",
   "execution_count": 189,
   "id": "bf35854c",
   "metadata": {},
   "outputs": [],
   "source": [
    "def get_R(c, numerators_list):\n",
    "    denumerators_list = []\n",
    "    for theta, x in zip(thetas, x_rec_list):\n",
    "        state = get_theor_state(c, N, x, theta)\n",
    "        p = get_probs(state)\n",
    "        denumerators_list.append(p)\n",
    "        \n",
    "    denumerators_list = np.array(denumerators_list).flatten()\n",
    "    return np.sum(numerators_list/np.reshape(denumerators_list, (40000, 1, 1)), axis = 0).T\n",
    "    \n",
    "    "
   ]
  },
  {
   "cell_type": "code",
   "execution_count": 190,
   "id": "c9a62b6c",
   "metadata": {},
   "outputs": [
    {
     "name": "stdout",
     "output_type": "stream",
     "text": [
      "[[ 28808677.46552015+0.00000000e+00j  24012842.44132614-9.19744950e+03j\n",
      "   -5919554.54776504-5.15303639e+02j -22537945.22015777+1.07156782e+03j\n",
      "   -4350789.05625375+2.53682069e-12j  18499905.50711714+4.23156535e+03j\n",
      "   10290084.80516431+1.60246754e+02j -13788785.96296572+3.97076969e+03j\n",
      "  -13743884.38082287-8.59726332e-13j]\n",
      " [ 24012842.44132614+9.19744950e+03j  20477758.47070506+0.00000000e+00j\n",
      "   -5076130.31596325-1.12044209e+04j -18909679.0092049 -1.99409198e+02j\n",
      "   -3708844.14907891-7.31893215e+03j  15493572.7763717 +4.04293197e-12j\n",
      "    8829674.76566805-1.58332634e+03j -11661375.14061878+5.01103643e+02j\n",
      "  -11747611.89745827+2.06904191e+03j]\n",
      " [ -5919554.54776504+5.15303639e+02j  -5076130.31596325+1.12044209e+04j\n",
      "    1482900.52663015+0.00000000e+00j   4472371.87780457-1.78205863e+03j\n",
      "     868566.19818053+7.75835854e+01j  -3652160.82578621-5.83767759e+03j\n",
      "   -2192902.62184396-6.29494677e-13j   2775300.28796291-5.89731191e+03j\n",
      "    2921877.39744017-1.20942989e+02j]\n",
      " [-22537945.22015777-1.07156782e+03j -18909679.0092049 +1.99409198e+02j\n",
      "    4472371.87780457+1.78205863e+03j  17885804.22166706+0.00000000e+00j\n",
      "    3479074.67068788-5.23189517e+02j -14666447.4019373 -4.40912438e+02j\n",
      "   -8134993.41339211-5.40210614e+02j  10935044.86489095-1.55468451e-13j\n",
      "   10847641.58003441-7.99373491e+02j]\n",
      " [ -4350789.05625375-2.53682069e-12j  -3708844.14907891+7.31893215e+03j\n",
      "     868566.19818053-7.75835854e+01j   3479074.67068788+5.23189517e+02j\n",
      "     758583.43678215+0.00000000e+00j  -2911308.38005666-4.55183480e+03j\n",
      "   -1594300.60660028+7.56729310e+01j   2175816.54524883-4.69136857e+03j\n",
      "    2094469.4276945 +1.05604020e-12j]\n",
      " [ 18499905.50711714-4.23156535e+03j  15493572.7763717 -4.04293197e-12j\n",
      "   -3652160.82578621+5.83767759e+03j -14666447.4019373 +4.40912438e+02j\n",
      "   -2911308.38005666+4.55183480e+03j  12122497.52986538+0.00000000e+00j\n",
      "    6661364.32731036+2.90416340e+02j  -9007106.58554602-3.90619795e+02j\n",
      "   -8852661.8239061 -2.04840566e+03j]\n",
      " [ 10290084.80516431-1.60246754e+02j   8829674.76566805+1.58332634e+03j\n",
      "   -2192902.62184396+6.29494677e-13j  -8134993.41339211+5.40210614e+02j\n",
      "   -1594300.60660028-7.56729310e+01j   6661364.32731036-2.90416340e+02j\n",
      "    3835489.06750421+0.00000000e+00j  -5012669.38570991-1.73775418e+03j\n",
      "   -5089677.20244791-6.34572700e+01j]\n",
      " [-13788785.96296572-3.97076969e+03j -11661375.14061878-5.01103643e+02j\n",
      "    2775300.28796291+5.89731191e+03j  10935044.86489095+1.55468451e-13j\n",
      "    2175816.54524883+4.69136857e+03j  -9007106.58554602+3.90619795e+02j\n",
      "   -5012669.38570991+1.73775418e+03j   6749966.25474752+0.00000000e+00j\n",
      "    6657135.50865995-1.81212865e+03j]\n",
      " [-13743884.38082287+8.59726332e-13j -11747611.89745827-2.06904191e+03j\n",
      "    2921877.39744017+1.20942989e+02j  10847641.58003441+7.99373491e+02j\n",
      "    2094469.4276945 -1.05604020e-12j  -8852661.8239061 +2.04840566e+03j\n",
      "   -5089677.20244791+6.34572700e+01j   6657135.50865995+1.81212865e+03j\n",
      "    6793564.4901908 +0.00000000e+00j]]\n"
     ]
    }
   ],
   "source": [
    "# Проверим работу ф-ии\n",
    "c = np.random.randn(9)\n",
    "c = c/np.sqrt(c**2)\n",
    "R = get_R(c, numerators_list)\n",
    "print(R)"
   ]
  },
  {
   "cell_type": "code",
   "execution_count": 191,
   "id": "595e0271",
   "metadata": {},
   "outputs": [
    {
     "data": {
      "image/png": "[encoded data removed]",
      "text/plain": [
       "<IPython.core.display.Image object>"
      ]
     },
     "execution_count": 191,
     "metadata": {},
     "output_type": "execute_result"
    }
   ],
   "source": [
    "Image(filename='pics/iter_method.png')"
   ]
  },
  {
   "cell_type": "code",
   "execution_count": 192,
   "id": "55fbb7b7",
   "metadata": {},
   "outputs": [
    {
     "name": "stderr",
     "output_type": "stream",
     "text": [
      "  0%|          | 1/1000 [00:00<02:02,  8.17it/s]"
     ]
    },
    {
     "name": "stdout",
     "output_type": "stream",
     "text": [
      "1.3516137610063743\n"
     ]
    },
    {
     "name": "stderr",
     "output_type": "stream",
     "text": [
      "\r",
      "  0%|          | 2/1000 [00:00<01:55,  8.65it/s]"
     ]
    },
    {
     "name": "stdout",
     "output_type": "stream",
     "text": [
      "0.6649906947332768\n"
     ]
    },
    {
     "name": "stderr",
     "output_type": "stream",
     "text": [
      "\r",
      "  0%|          | 3/1000 [00:00<01:48,  9.17it/s]"
     ]
    },
    {
     "name": "stdout",
     "output_type": "stream",
     "text": [
      "0.3110637524192636\n"
     ]
    },
    {
     "name": "stderr",
     "output_type": "stream",
     "text": [
      "\r",
      "  0%|          | 4/1000 [00:00<01:46,  9.36it/s]"
     ]
    },
    {
     "name": "stdout",
     "output_type": "stream",
     "text": [
      "0.1871641124260462\n"
     ]
    },
    {
     "name": "stderr",
     "output_type": "stream",
     "text": [
      "  1%|          | 6/1000 [00:00<01:42,  9.68it/s]"
     ]
    },
    {
     "name": "stdout",
     "output_type": "stream",
     "text": [
      "0.15203259656643833\n",
      "0.12656892851977444\n",
      "0.10892726811465639\n"
     ]
    },
    {
     "name": "stderr",
     "output_type": "stream",
     "text": [
      "\r",
      "  1%|          | 8/1000 [00:00<01:38, 10.06it/s]"
     ]
    },
    {
     "name": "stdout",
     "output_type": "stream",
     "text": [
      "0.10153270560889871\n",
      "0.13581359537293397\n"
     ]
    },
    {
     "name": "stderr",
     "output_type": "stream",
     "text": [
      "\r",
      "  1%|          | 10/1000 [00:01<01:37, 10.14it/s]"
     ]
    },
    {
     "name": "stdout",
     "output_type": "stream",
     "text": [
      "0.12476153222410827\n",
      "0.09503679125361549\n"
     ]
    },
    {
     "name": "stderr",
     "output_type": "stream",
     "text": [
      "\r",
      "  1%|          | 12/1000 [00:01<01:44,  9.47it/s]"
     ]
    },
    {
     "name": "stdout",
     "output_type": "stream",
     "text": [
      "0.07568328220872524\n"
     ]
    },
    {
     "name": "stderr",
     "output_type": "stream",
     "text": [
      "\r",
      "  1%|▏         | 13/1000 [00:01<01:46,  9.28it/s]"
     ]
    },
    {
     "name": "stdout",
     "output_type": "stream",
     "text": [
      "0.06301670680584041\n"
     ]
    },
    {
     "name": "stderr",
     "output_type": "stream",
     "text": [
      "\r",
      "  2%|▏         | 15/1000 [00:01<01:41,  9.71it/s]"
     ]
    },
    {
     "name": "stdout",
     "output_type": "stream",
     "text": [
      "0.0509315875132063\n",
      "0.040009954684484775\n"
     ]
    },
    {
     "name": "stderr",
     "output_type": "stream",
     "text": [
      "\r",
      "  2%|▏         | 16/1000 [00:01<01:43,  9.55it/s]"
     ]
    },
    {
     "name": "stdout",
     "output_type": "stream",
     "text": [
      "0.031225239673737658\n"
     ]
    },
    {
     "name": "stderr",
     "output_type": "stream",
     "text": [
      "\r",
      "  2%|▏         | 17/1000 [00:01<01:42,  9.56it/s]"
     ]
    },
    {
     "name": "stdout",
     "output_type": "stream",
     "text": [
      "0.021459848009250118\n"
     ]
    },
    {
     "name": "stderr",
     "output_type": "stream",
     "text": [
      "\r",
      "  2%|▏         | 19/1000 [00:01<01:39,  9.81it/s]"
     ]
    },
    {
     "name": "stdout",
     "output_type": "stream",
     "text": [
      "0.014438025474571084\n",
      "0.009663924260074891\n"
     ]
    },
    {
     "name": "stderr",
     "output_type": "stream",
     "text": [
      "  2%|▏         | 21/1000 [00:02<01:44,  9.40it/s]"
     ]
    },
    {
     "name": "stdout",
     "output_type": "stream",
     "text": [
      "0.006598373100489258\n",
      "0.004664094679559021\n",
      "0.0034258547283497064\n"
     ]
    },
    {
     "name": "stderr",
     "output_type": "stream",
     "text": [
      "  2%|▎         | 25/1000 [00:02<01:35, 10.26it/s]"
     ]
    },
    {
     "name": "stdout",
     "output_type": "stream",
     "text": [
      "0.0026047201001436963\n",
      "0.0020789356376607207\n",
      "0.0018876809030987033\n"
     ]
    },
    {
     "name": "stderr",
     "output_type": "stream",
     "text": [
      "\r",
      "  3%|▎         | 27/1000 [00:02<01:33, 10.40it/s]"
     ]
    },
    {
     "name": "stdout",
     "output_type": "stream",
     "text": [
      "0.002186145438040881\n",
      "0.0032946317275585903\n"
     ]
    },
    {
     "name": "stderr",
     "output_type": "stream",
     "text": [
      "\r",
      "  3%|▎         | 29/1000 [00:03<01:43,  9.35it/s]"
     ]
    },
    {
     "name": "stdout",
     "output_type": "stream",
     "text": [
      "0.005002984760233945\n",
      "0.004813575729611788\n"
     ]
    },
    {
     "name": "stderr",
     "output_type": "stream",
     "text": [
      "  3%|▎         | 32/1000 [00:03<01:38,  9.81it/s]"
     ]
    },
    {
     "name": "stdout",
     "output_type": "stream",
     "text": [
      "0.0038529325872986393\n",
      "0.003159360483550172\n",
      "0.0026158420411482174\n"
     ]
    },
    {
     "name": "stderr",
     "output_type": "stream",
     "text": [
      "  3%|▎         | 34/1000 [00:03<01:40,  9.66it/s]"
     ]
    },
    {
     "name": "stdout",
     "output_type": "stream",
     "text": [
      "0.0021737403535929457\n",
      "0.0018152504537631313\n"
     ]
    },
    {
     "name": "stderr",
     "output_type": "stream",
     "text": [
      "  4%|▎         | 36/1000 [00:03<01:53,  8.49it/s]"
     ]
    },
    {
     "name": "stdout",
     "output_type": "stream",
     "text": [
      "0.0015270590431273473\n",
      "0.001295633398645653\n"
     ]
    },
    {
     "name": "stderr",
     "output_type": "stream",
     "text": [
      "  4%|▍         | 38/1000 [00:04<01:50,  8.71it/s]"
     ]
    },
    {
     "name": "stdout",
     "output_type": "stream",
     "text": [
      "0.0011083012185613224\n",
      "0.0009546451824217628\n"
     ]
    },
    {
     "name": "stderr",
     "output_type": "stream",
     "text": [
      "  4%|▍         | 40/1000 [00:04<01:45,  9.07it/s]"
     ]
    },
    {
     "name": "stdout",
     "output_type": "stream",
     "text": [
      "0.0008268355771082261\n",
      "0.0007192096331828771\n"
     ]
    },
    {
     "name": "stderr",
     "output_type": "stream",
     "text": [
      "  4%|▍         | 42/1000 [00:04<01:53,  8.44it/s]"
     ]
    },
    {
     "name": "stdout",
     "output_type": "stream",
     "text": [
      "0.0006276657378430552\n",
      "0.0005491679619823968\n"
     ]
    },
    {
     "name": "stderr",
     "output_type": "stream",
     "text": [
      "  4%|▍         | 45/1000 [00:04<01:42,  9.35it/s]"
     ]
    },
    {
     "name": "stdout",
     "output_type": "stream",
     "text": [
      "0.00048141235270875876\n",
      "0.0004226137843016828\n",
      "0.0003713663869772993\n"
     ]
    },
    {
     "name": "stderr",
     "output_type": "stream",
     "text": [
      "  5%|▍         | 47/1000 [00:04<01:41,  9.42it/s]"
     ]
    },
    {
     "name": "stdout",
     "output_type": "stream",
     "text": [
      "0.0003265473269902636\n",
      "0.00028724764439973374\n"
     ]
    },
    {
     "name": "stderr",
     "output_type": "stream",
     "text": [
      "  5%|▍         | 49/1000 [00:05<01:38,  9.62it/s]"
     ]
    },
    {
     "name": "stdout",
     "output_type": "stream",
     "text": [
      "0.00025272145248720035\n",
      "0.00022234836423720453\n",
      "0.00019560569325594428\n"
     ]
    },
    {
     "name": "stderr",
     "output_type": "stream",
     "text": [
      "  5%|▌         | 53/1000 [00:05<01:32, 10.21it/s]"
     ]
    },
    {
     "name": "stdout",
     "output_type": "stream",
     "text": [
      "0.00017204789854664121\n",
      "0.00015129135813473884\n",
      "0.0001330030229152443\n"
     ]
    },
    {
     "name": "stderr",
     "output_type": "stream",
     "text": [
      "\r",
      "  6%|▌         | 55/1000 [00:05<01:30, 10.46it/s]"
     ]
    },
    {
     "name": "stdout",
     "output_type": "stream",
     "text": [
      "0.00011689186997053634\n",
      "0.00010270236318587586\n",
      "9.020935050741192e-05\n"
     ]
    },
    {
     "name": "stderr",
     "output_type": "stream",
     "text": [
      "  6%|▌         | 59/1000 [00:06<01:28, 10.68it/s]"
     ]
    },
    {
     "name": "stdout",
     "output_type": "stream",
     "text": [
      "7.921399302648893e-05\n",
      "6.954044229682159e-05\n",
      "6.1033069016659334e-05\n"
     ]
    },
    {
     "name": "stderr",
     "output_type": "stream",
     "text": [
      "\r",
      "  6%|▌         | 61/1000 [00:06<01:29, 10.47it/s]"
     ]
    },
    {
     "name": "stdout",
     "output_type": "stream",
     "text": [
      "5.355410709078829e-05\n",
      "4.698161913094059e-05\n",
      "4.12077180830275e-05\n"
     ]
    },
    {
     "name": "stderr",
     "output_type": "stream",
     "text": [
      "  6%|▋         | 65/1000 [00:06<01:29, 10.43it/s]"
     ]
    },
    {
     "name": "stdout",
     "output_type": "stream",
     "text": [
      "3.6136998940593995e-05\n",
      "3.1685147362333333e-05\n",
      "2.7777700547897502e-05\n"
     ]
    },
    {
     "name": "stderr",
     "output_type": "stream",
     "text": [
      "\r",
      "  7%|▋         | 67/1000 [00:06<01:29, 10.38it/s]"
     ]
    },
    {
     "name": "stdout",
     "output_type": "stream",
     "text": [
      "2.4348941393477255e-05\n",
      "2.1340910737278465e-05\n",
      "1.87025250815356e-05\n"
     ]
    },
    {
     "name": "stderr",
     "output_type": "stream",
     "text": [
      "  7%|▋         | 71/1000 [00:07<01:28, 10.46it/s]"
     ]
    },
    {
     "name": "stdout",
     "output_type": "stream",
     "text": [
      "1.6388788981319757e-05\n",
      "1.4360092605851284e-05\n",
      "1.2581585988844447e-05\n"
     ]
    },
    {
     "name": "stderr",
     "output_type": "stream",
     "text": [
      "\r",
      "  7%|▋         | 73/1000 [00:07<01:28, 10.49it/s]"
     ]
    },
    {
     "name": "stdout",
     "output_type": "stream",
     "text": [
      "1.1022622302966411e-05\n",
      "9.656263191594976e-06\n",
      "8.458839807831142e-06\n"
     ]
    },
    {
     "name": "stderr",
     "output_type": "stream",
     "text": [
      "  8%|▊         | 77/1000 [00:07<01:26, 10.69it/s]"
     ]
    },
    {
     "name": "stdout",
     "output_type": "stream",
     "text": [
      "7.40956377215787e-06\n",
      "6.490182778257297e-06\n",
      "5.684676058066293e-06\n"
     ]
    },
    {
     "name": "stderr",
     "output_type": "stream",
     "text": [
      "\r",
      "  8%|▊         | 79/1000 [00:08<01:26, 10.60it/s]"
     ]
    },
    {
     "name": "stdout",
     "output_type": "stream",
     "text": [
      "4.978985366626856e-06\n",
      "4.360777565307659e-06\n",
      "3.819235269453791e-06\n"
     ]
    },
    {
     "name": "stderr",
     "output_type": "stream",
     "text": [
      "  8%|▊         | 83/1000 [00:08<01:25, 10.76it/s]"
     ]
    },
    {
     "name": "stdout",
     "output_type": "stream",
     "text": [
      "3.3448723851259585e-06\n",
      "2.9293716885863307e-06\n",
      "2.565441903791417e-06\n"
     ]
    },
    {
     "name": "stderr",
     "output_type": "stream",
     "text": [
      "\r",
      "  8%|▊         | 85/1000 [00:08<01:26, 10.53it/s]"
     ]
    },
    {
     "name": "stdout",
     "output_type": "stream",
     "text": [
      "2.24669200735441e-06\n",
      "1.9675207396843647e-06\n",
      "1.723019526006274e-06\n"
     ]
    },
    {
     "name": "stderr",
     "output_type": "stream",
     "text": [
      "  9%|▉         | 89/1000 [00:08<01:23, 10.90it/s]"
     ]
    },
    {
     "name": "stdout",
     "output_type": "stream",
     "text": [
      "1.508887213519223e-06\n",
      "1.321355212783105e-06\n",
      "1.1571217944169697e-06\n"
     ]
    },
    {
     "name": "stderr",
     "output_type": "stream",
     "text": [
      "\r",
      "  9%|▉         | 91/1000 [00:09<01:25, 10.66it/s]"
     ]
    },
    {
     "name": "stdout",
     "output_type": "stream",
     "text": [
      "1.0132944371737683e-06\n",
      "8.873392534421863e-07\n",
      "7.770366325987351e-07\n"
     ]
    },
    {
     "name": "stderr",
     "output_type": "stream",
     "text": [
      " 10%|▉         | 95/1000 [00:09<01:23, 10.90it/s]"
     ]
    },
    {
     "name": "stdout",
     "output_type": "stream",
     "text": [
      "6.80442345546721e-07\n",
      "5.958534435177694e-07\n",
      "5.217783648896722e-07\n"
     ]
    },
    {
     "name": "stderr",
     "output_type": "stream",
     "text": [
      "\r",
      " 10%|▉         | 97/1000 [00:09<01:21, 11.02it/s]"
     ]
    },
    {
     "name": "stdout",
     "output_type": "stream",
     "text": [
      "4.569107339817883e-07\n",
      "4.001063986913494e-07\n",
      "3.503633084408039e-07\n"
     ]
    },
    {
     "name": "stderr",
     "output_type": "stream",
     "text": [
      " 10%|█         | 101/1000 [00:10<01:21, 11.08it/s]"
     ]
    },
    {
     "name": "stdout",
     "output_type": "stream",
     "text": [
      "3.068038829388543e-07\n",
      "2.6865956436344387e-07\n",
      "2.3525728377090276e-07\n"
     ]
    },
    {
     "name": "stderr",
     "output_type": "stream",
     "text": [
      "\r",
      " 10%|█         | 103/1000 [00:10<01:21, 10.95it/s]"
     ]
    },
    {
     "name": "stdout",
     "output_type": "stream",
     "text": [
      "2.060076049195248e-07\n",
      "1.8039433868270893e-07\n",
      "1.5796544536560872e-07\n"
     ]
    },
    {
     "name": "stderr",
     "output_type": "stream",
     "text": [
      " 11%|█         | 107/1000 [00:10<01:20, 11.03it/s]"
     ]
    },
    {
     "name": "stdout",
     "output_type": "stream",
     "text": [
      "1.3832506624321952e-07\n",
      "1.21126543852399e-07\n",
      "1.0606630897350748e-07\n"
     ]
    },
    {
     "name": "stderr",
     "output_type": "stream",
     "text": [
      "\r",
      " 11%|█         | 109/1000 [00:10<01:21, 10.90it/s]"
     ]
    },
    {
     "name": "stdout",
     "output_type": "stream",
     "text": [
      "9.287852642660634e-08\n",
      "8.133040603507712e-08\n",
      "7.121809579144768e-08\n"
     ]
    },
    {
     "name": "stderr",
     "output_type": "stream",
     "text": [
      " 11%|█▏        | 113/1000 [00:11<01:23, 10.69it/s]"
     ]
    },
    {
     "name": "stdout",
     "output_type": "stream",
     "text": [
      "6.236308531354438e-08\n",
      "5.46090560739647e-08\n",
      "4.781912305263613e-08\n"
     ]
    },
    {
     "name": "stderr",
     "output_type": "stream",
     "text": [
      "\r",
      " 12%|█▏        | 115/1000 [00:11<01:22, 10.74it/s]"
     ]
    },
    {
     "name": "stdout",
     "output_type": "stream",
     "text": [
      "4.18734190414527e-08\n",
      "3.666697921780315e-08\n",
      "3.210788865170028e-08\n"
     ]
    },
    {
     "name": "stderr",
     "output_type": "stream",
     "text": [
      " 12%|█▏        | 119/1000 [00:11<01:20, 10.93it/s]"
     ]
    },
    {
     "name": "stdout",
     "output_type": "stream",
     "text": [
      "2.8115659950274947e-08\n",
      "2.4619812685368925e-08\n",
      "2.155862924600822e-08\n"
     ]
    },
    {
     "name": "stderr",
     "output_type": "stream",
     "text": [
      "\r",
      " 12%|█▏        | 121/1000 [00:11<01:20, 10.88it/s]"
     ]
    },
    {
     "name": "stdout",
     "output_type": "stream",
     "text": [
      "1.8878065494402523e-08\n",
      "1.6530796697388363e-08\n",
      "1.4475382183104606e-08\n"
     ]
    },
    {
     "name": "stderr",
     "output_type": "stream",
     "text": [
      " 12%|█▏        | 124/1000 [00:12<01:26, 10.09it/s]"
     ]
    },
    {
     "name": "stdout",
     "output_type": "stream",
     "text": [
      "1.2675533771188999e-08\n",
      "1.1099475109545644e-08\n",
      "9.719380811750765e-09\n",
      "CPU times: user 11.5 s, sys: 855 ms, total: 12.4 s\n",
      "Wall time: 12.3 s\n"
     ]
    },
    {
     "name": "stderr",
     "output_type": "stream",
     "text": [
      "\n"
     ]
    }
   ],
   "source": [
    "%%time\n",
    "\n",
    "eps = 1e-8\n",
    "mu=0.5\n",
    "\n",
    "# Зададим случайное чистое состояние в качестве начального приближения\n",
    "c = np.random.randn(9)\n",
    "c = c/np.sqrt(c**2)\n",
    "\n",
    "for i in tqdm(range(1000)):\n",
    "    c_prev = c\n",
    "    c = (1-mu)*get_R(c_prev, numerators_list) @ c_prev/ 40000 + mu*c_prev\n",
    "    print(np.sum(abs(c_prev - c)**2)**0.5)\n",
    "    if np.sum(abs(c_prev - c)**2)**0.5 < eps:\n",
    "        break\n",
    "    \n",
    "    \n"
   ]
  },
  {
   "cell_type": "code",
   "execution_count": 193,
   "id": "c1a25ad7",
   "metadata": {},
   "outputs": [
    {
     "data": {
      "image/png": "[encoded data removed]",
      "text/plain": [
       "<Figure size 432x288 with 1 Axes>"
      ]
     },
     "metadata": {
      "needs_background": "light"
     },
     "output_type": "display_data"
    }
   ],
   "source": [
    "n_list = np.arange(9)\n",
    "\n",
    "plt.bar(n_list-0.1, abs(c)**2, alpha=0.5, width=0.5, label='Реконструкция')\n",
    "plt.bar(n_list+0.1, abs(cn_list)**2, alpha=0.5, width=0.5, label='Реальное состояние')\n",
    "plt.xticks(n_list)\n",
    "plt.xlim(-1, 10)\n",
    "plt.xlabel('Число фотонов')\n",
    "plt.ylabel('Вероятность')\n",
    "plt.legend()\n",
    "plt.show()"
   ]
  },
  {
   "cell_type": "code",
   "execution_count": 194,
   "id": "e469aa81",
   "metadata": {},
   "outputs": [
    {
     "data": {
      "text/plain": [
       "0.9994586162756013"
      ]
     },
     "execution_count": 194,
     "metadata": {},
     "output_type": "execute_result"
    }
   ],
   "source": [
    "# Рассчитаем Fidelity между реконструкцией и реальным состоянием\n",
    "Fidelity_pure(c, cn_list)"
   ]
  },
  {
   "cell_type": "markdown",
   "id": "936c62c5",
   "metadata": {},
   "source": [
    "Состояния совпадаяют с высокой точностью"
   ]
  },
  {
   "cell_type": "markdown",
   "id": "7591a5e8",
   "metadata": {},
   "source": [
    "# Пункт 4:\n",
    "\n",
    "#### Построим распределения для различных $\\theta$"
   ]
  },
  {
   "cell_type": "code",
   "execution_count": 195,
   "id": "fd2c85f3",
   "metadata": {},
   "outputs": [
    {
     "data": {
      "image/png": "[encoded data removed]",
      "text/plain": [
       "<Figure size 432x288 with 1 Axes>"
      ]
     },
     "metadata": {
      "needs_background": "light"
     },
     "output_type": "display_data"
    },
    {
     "data": {
      "image/png": "[encoded data removed]",
      "text/plain": [
       "<Figure size 432x288 with 1 Axes>"
      ]
     },
     "metadata": {
      "needs_background": "light"
     },
     "output_type": "display_data"
    },
    {
     "data": {
      "image/png": "[encoded data removed]",
      "text/plain": [
       "<Figure size 432x288 with 1 Axes>"
      ]
     },
     "metadata": {
      "needs_background": "light"
     },
     "output_type": "display_data"
    },
    {
     "data": {
      "image/png": "[encoded data removed]",
      "text/plain": [
       "<Figure size 432x288 with 1 Axes>"
      ]
     },
     "metadata": {
      "needs_background": "light"
     },
     "output_type": "display_data"
    }
   ],
   "source": [
    "x_list = np.linspace(-8, 8, 1000)\n",
    "thetas = [0, np.pi/4, np.pi/2, 3*np.pi/4]\n",
    "thetas_label = ['0', '$\\pi/4$', '$\\pi/2$', '$3\\pi/4$']\n",
    "\n",
    "\n",
    "for x, theta, theta_label in zip(x_rec_list, thetas, thetas_label):\n",
    "    \n",
    "    plt.hist(x, density = True, bins = 50, alpha = 0.3, label = 'Статистика моделирования измерений')\n",
    "    \n",
    "    p_list = get_probs(get_theor_state(cn_list, N, x_list, theta))\n",
    "    plt.plot(x_list, p_list, '-', linewidth = 3, alpha=0.7, label='Реальное состояние')\n",
    "    \n",
    "    p_list = get_probs(get_theor_state(c, N, x_list, theta))\n",
    "    plt.plot(x_list, p_list, '-.', linewidth = 2, alpha=0.7, label='Реконструкция')\n",
    "    \n",
    "    plt.title(f'Theta = {theta}')\n",
    "    plt.xlabel('$x_\\Theta$')\n",
    "    plt.ylabel('Вероятность')\n",
    "    plt.legend(loc='upper left')\n",
    "    plt.grid()\n",
    "    \n",
    "    plt.show()\n",
    "    \n",
    "    "
   ]
  },
  {
   "cell_type": "markdown",
   "id": "c868ac3d",
   "metadata": {},
   "source": [
    "# Пункт 6:\n",
    "\n",
    "#### Вычислим p-value для всех $\\theta$"
   ]
  },
  {
   "cell_type": "code",
   "execution_count": 196,
   "id": "f20572c8",
   "metadata": {},
   "outputs": [
    {
     "data": {
      "image/png": "[encoded data removed]",
      "text/plain": [
       "<IPython.core.display.Image object>"
      ]
     },
     "execution_count": 196,
     "metadata": {},
     "output_type": "execute_result"
    }
   ],
   "source": [
    "Image(filename='pics/Chi2.png')"
   ]
  },
  {
   "cell_type": "code",
   "execution_count": 197,
   "id": "7617c2e2",
   "metadata": {},
   "outputs": [],
   "source": [
    "# Разобьём данные по квантилям, чтобы в один бин не попадало менее 5-ти измерений\n",
    "n_bins = 10\n",
    "nt = 10000\n",
    "\n",
    "\n",
    "\n",
    "E_list = []\n",
    "O_list = []\n",
    "\n",
    "for x, theta in zip(x_rec_list, thetas):\n",
    "    x = np.array(sorted(x))\n",
    "#     x_bins = np.quantile(x, np.linspace(0,1,n_bins+1))\n",
    "    x_bins = np.linspace(x.min(), x.max(), n_bins+1)\n",
    "#     x_bins[0] -= 1\n",
    "    x_bin_prev = x_bins[0]\n",
    "#     x_bins[-1] += 1\n",
    "    for x_bin in x_bins[1:]:\n",
    "        x_vals = x[(x<x_bin) & (x>x_bin_prev)]\n",
    "        O = len(x_vals)\n",
    "        E = nt * np.trapz(get_probs(get_theor_state(c, N, x_vals, theta)), x_vals)\n",
    "        E_list.append(E)\n",
    "        O_list.append(O)\n",
    "        \n",
    "        x_bin_prev = x_bin\n",
    "        \n",
    "O_list = np.array(O_list)\n",
    "E_list = np.array(E_list)\n",
    "\n",
    "Xi2 = np.sum((O_list - E_list)**2/E_list)"
   ]
  },
  {
   "cell_type": "code",
   "execution_count": 198,
   "id": "0ec2cfd3",
   "metadata": {},
   "outputs": [
    {
     "name": "stdout",
     "output_type": "stream",
     "text": [
      "nt = 10000\n",
      "sum(E_list) для соответствующих theta = [9977.02688953 9972.51386195 9976.38697017 9981.95634046]\n"
     ]
    }
   ],
   "source": [
    "print(f'nt = {nt}')\n",
    "print(f'sum(E_list) для соответствующих theta = {np.sum(np.reshape(E_list, (4, n_bins)), axis = 1)}')"
   ]
  },
  {
   "cell_type": "code",
   "execution_count": 199,
   "id": "c05556ce",
   "metadata": {},
   "outputs": [
    {
     "name": "stdout",
     "output_type": "stream",
     "text": [
      "p-value = 1.1885588668825164e-07\n"
     ]
    }
   ],
   "source": [
    "nu = 4*n_bins - len(thetas) - 2*(N - 1) + 1\n",
    "p_value = 1 - chi2.cdf(np.abs(Xi2), nu)\n",
    "print('p-value = ' + str(p_value))"
   ]
  },
  {
   "cell_type": "markdown",
   "id": "9e51341d",
   "metadata": {},
   "source": [
    "Для визуализации разобьём на меньшее количество бинов (n_bins = 10)"
   ]
  },
  {
   "cell_type": "code",
   "execution_count": 200,
   "id": "c64043fa",
   "metadata": {},
   "outputs": [],
   "source": [
    "# Разобьём данные по квантилям, чтобы в один бин не попадало менее 5-ти измерений\n",
    "n_bins = 10\n",
    "nt = 10000\n",
    "\n",
    "E_list = []\n",
    "O_list = []\n",
    "\n",
    "for x, theta in zip(x_rec_list, thetas):\n",
    "    x = np.array(sorted(x))\n",
    "#     x_bins = np.quantile(x, np.linspace(0,1,n_bins+1))\n",
    "    x_bins = np.linspace(x.min(), x.max(), n_bins+1)\n",
    "#     x_bins[0] -= 1\n",
    "    x_bin_prev = x.min()\n",
    "#     x_bins[-1] += 1\n",
    "    \n",
    "    for x_bin in x_bins[1:]:\n",
    "        x_vals = x[(x<x_bin) & (x>x_bin_prev)]\n",
    "        O = len(x_vals)\n",
    "        E = nt * np.trapz(get_probs(get_theor_state(c, N, x_vals, theta)), x_vals)\n",
    "        E_list.append(E)\n",
    "        O_list.append(O)\n",
    "        \n",
    "        x_bin_prev = x_bin\n",
    "        \n",
    "O_list = np.array(O_list)\n",
    "E_list = np.array(E_list)\n",
    "\n",
    "Xi2 = np.sum((O_list - E_list)**2/E_list)"
   ]
  },
  {
   "cell_type": "code",
   "execution_count": 201,
   "id": "6af62e4c",
   "metadata": {},
   "outputs": [
    {
     "data": {
      "image/png": "[encoded data removed]",
      "text/plain": [
       "<Figure size 432x288 with 1 Axes>"
      ]
     },
     "metadata": {
      "needs_background": "light"
     },
     "output_type": "display_data"
    }
   ],
   "source": [
    "n_list = np.arange(E_list.shape[0])\n",
    "\n",
    "plt.bar(n_list-0.1, E_list, alpha=0.5, width=0.5, label='Теоретическое значение')\n",
    "plt.bar(n_list+0.1, O_list, alpha=0.5, width=0.5, label='Колличество наблюдений в бине')\n",
    "plt.xticks(n_list[0::2])\n",
    "plt.xlim(-1, E_list.shape[0])\n",
    "plt.xlabel('Номер  бина')\n",
    "plt.ylabel('Колличество наблюдений')\n",
    "plt.legend(loc = 'lower right')\n",
    "plt.show()"
   ]
  },
  {
   "cell_type": "code",
   "execution_count": 202,
   "id": "d788b281",
   "metadata": {},
   "outputs": [
    {
     "data": {
      "text/plain": [
       "array([-3.2725732 , -2.60115484, -1.92973649, -1.25831814, -0.58689979,\n",
       "        0.08451857,  0.75593692,  1.42735527,  2.09877362,  2.77019197,\n",
       "        3.44161033])"
      ]
     },
     "execution_count": 202,
     "metadata": {},
     "output_type": "execute_result"
    }
   ],
   "source": [
    "x_bins"
   ]
  }
 ],
 "metadata": {
  "kernelspec": {
   "display_name": "Python 3",
   "language": "python",
   "name": "python3"
  },
  "language_info": {
   "codemirror_mode": {
    "name": "ipython",
    "version": 3
   },
   "file_extension": ".py",
   "mimetype": "text/x-python",
   "name": "python",
   "nbconvert_exporter": "python",
   "pygments_lexer": "ipython3",
   "version": "3.7.11"
  }
 },
 "nbformat": 4,
 "nbformat_minor": 5
}
