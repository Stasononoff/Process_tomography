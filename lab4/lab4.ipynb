{
 "cells": [
  {
   "cell_type": "code",
   "execution_count": 331,
   "id": "0c690aae",
   "metadata": {},
   "outputs": [],
   "source": [
    "import numpy as np\n",
    "from matplotlib import pyplot as plt\n",
    "from scipy import linalg as sLA\n",
    "\n",
    "from IPython.display import Image\n",
    "from IPython.display import display, Latex\n",
    "\n",
    "from mpl_toolkits.mplot3d import axes3d\n",
    "import matplotlib.pyplot as plt\n",
    "\n",
    "from matplotlib import style\n",
    "# style.use('ggplot')"
   ]
  },
  {
   "cell_type": "code",
   "execution_count": 332,
   "id": "ea111854",
   "metadata": {},
   "outputs": [],
   "source": [
    "from scipy import linalg as sLA\n",
    "from scipy.special import hermite, factorial\n",
    "from scipy.integrate import quad\n",
    "from scipy.stats import chi2, chisquare\n",
    "from scipy import interpolate\n",
    "from tqdm import tqdm"
   ]
  },
  {
   "cell_type": "code",
   "execution_count": 333,
   "id": "26549481",
   "metadata": {},
   "outputs": [],
   "source": [
    "#Вычисление Фиделити для векторов чистых состояний\n",
    "def Fidelity_pure(vec0, vec1):\n",
    "    return np.abs(np.dot(vec0, vec1.conjugate())) ** 2\n",
    "\n",
    "# Функция для отрисовки 3-D barchart\n",
    "def plot_matrix(m, title = 'Входное состояние'):\n",
    "    \n",
    "    style.use('ggplot')\n",
    "\n",
    "    fig = plt.figure(figsize = (8,8))\n",
    "    ax1 = fig.add_subplot(111, projection='3d')\n",
    "    \n",
    "    xi = np.reshape(list(np.arange(m.shape[0]))*m.shape[1], (-1))\n",
    "    yi = np.reshape(np.reshape((list(np.arange(m.shape[1]))*m.shape[0]), (m.shape[1], m.shape[0])).T, (-1))\n",
    "    z0 = np.zeros(m.shape[0]*m.shape[1])\n",
    "    \n",
    "    dx = np.ones(m.shape[0]*m.shape[1])\n",
    "    dy = np.ones(m.shape[1]*m.shape[0])\n",
    "    dz = np.reshape(m, (-1))\n",
    "    \n",
    "    ax1.bar3d(xi, yi, z0, dx, dy, dz, shade=True)\n",
    "\n",
    "\n",
    "    ax1.set_xlabel('Колличество фотонов во втором канале n2')\n",
    "    ax1.set_ylabel('Колличество фотонов в первом канале n1')\n",
    "    ax1.set_zlabel('Вероятность p1p2')\n",
    "    ax1.set_title(title)\n",
    "\n",
    "    plt.show()"
   ]
  },
  {
   "cell_type": "markdown",
   "id": "c58ad88d",
   "metadata": {},
   "source": [
    "# Пункт 1:\n",
    "### Зададим состояниее согласно 3-му варианту и определим для него фоковское пространство, достаточное для представленияя с точностью $10^{-6}$"
   ]
  },
  {
   "cell_type": "markdown",
   "id": "d67ad06f",
   "metadata": {},
   "source": [
    "Вариант 3:\n",
    "\n",
    "Рассматриваемое состояние:\n",
    "\n",
    "$\\phi ~ | \\alpha \\rangle + |1 \\rangle$, где $\\alpha = 0.9i$ =>\n",
    "\n",
    "$\\phi =  (|1 \\rangle + e^{\\frac{-|\\alpha|^2}{2}} \\sum_{n=0}^{n_{max}} \\frac{\\alpha^{n}}{\\sqrt{n!}} |n\\rangle) /  norm$, где $n = 0.9i$"
   ]
  },
  {
   "cell_type": "code",
   "execution_count": 334,
   "id": "ba2ece65",
   "metadata": {},
   "outputs": [],
   "source": [
    "# Создаёт когерентное состояние\n",
    "def get_rho_coherent(N, d, alpha = 0.9*1j):\n",
    "    n = np.arange(N)\n",
    "    fact_n = np.array([np.math.factorial(x) for x in n]).astype(float)\n",
    "    state = np.exp((-np.abs(alpha) ** 2) / 2) * (alpha ** n) / np.sqrt(fact_n)\n",
    "    rho = np.outer(state,state.conjugate())\n",
    "    \n",
    "    rho_full = np.zeros((d,d))\n",
    "    rho_full[:N,:N] = rho\n",
    "    return rho_full, state\n",
    "\n",
    "\n",
    "def get_coherent_probs(n, alpha = 0.9*1j):\n",
    "    return np.exp((-np.abs(alpha) ** 2)) * (np.abs(alpha) ** (2*n)) / float(np.math.factorial(n))\n",
    "\n",
    "def get_coherent_coefs(n, alpha = 0.9*1j):\n",
    "    return np.exp((-np.abs(alpha) ** 2) / 2) * (alpha ** (2*n)) / np.sqrt(float(np.math.factorial(n)))\n",
    "    \n",
    "# Расчитывает ошибку ограничения размерности рассматриваемой системы\n",
    "def restrictions_err(N, func = get_coherent_probs):\n",
    "    return 1 - sum([func(i) for i in range(N)])\n",
    "\n",
    "def get_my_state(N, d):\n",
    "    _, state = get_rho_coherent(N, d, alpha = 0.9*1j)\n",
    "    state1 = np.zeros(len(state))\n",
    "    state1[1] = 1\n",
    "    state += state1\n",
    "    norm_coef = np.sqrt(state@state.conj())\n",
    "    \n",
    "    state = state/norm_coef\n",
    "    rho = np.outer(state,state.conjugate())\n",
    "    \n",
    "    rho_full = np.zeros((d,d))\n",
    "    rho_full[:N,:N] = rho\n",
    "    return rho, state"
   ]
  },
  {
   "cell_type": "markdown",
   "id": "26ada4a6",
   "metadata": {},
   "source": [
    "Заданное состояние является суперпозицией фоковского и когерентного. При этом фоковское cостояние $|1 \\rangle$ представляется точно в рассматриваемом фоковском пространнстве $n>=1$.\n",
    "Будем следить только за точностью представления когерентного состояния.\n",
    "\n",
    "Найдём размерность достаточную для представления когерентного состояния с точностью $10^{-6}$"
   ]
  },
  {
   "cell_type": "code",
   "execution_count": 335,
   "id": "2b212694",
   "metadata": {},
   "outputs": [
    {
     "name": "stdout",
     "output_type": "stream",
     "text": [
      "Ошибка в распределении за счёт сокращения размерности до 8: 2.244554789920805e-06\n",
      "Ошибка в распределении за счёт сокращения размерности до 9: 2.0008311862884653e-07\n"
     ]
    }
   ],
   "source": [
    "print('Ошибка в распределении за счёт сокращения размерности до 8:', restrictions_err(8))\n",
    "print('Ошибка в распределении за счёт сокращения размерности до 9:', restrictions_err(9))"
   ]
  },
  {
   "cell_type": "markdown",
   "id": "3ce2defc",
   "metadata": {},
   "source": [
    "Достаточно рассмотреть фоковское пространство размерностью 9"
   ]
  },
  {
   "cell_type": "code",
   "execution_count": 336,
   "id": "8d85b2ae",
   "metadata": {},
   "outputs": [
    {
     "name": "stderr",
     "output_type": "stream",
     "text": [
      "/home/stas/anaconda3/lib/python3.7/site-packages/ipykernel_launcher.py:9: ComplexWarning: Casting complex values to real discards the imaginary part\n",
      "  if __name__ == '__main__':\n",
      "/home/stas/anaconda3/lib/python3.7/site-packages/ipykernel_launcher.py:34: ComplexWarning: Casting complex values to real discards the imaginary part\n"
     ]
    }
   ],
   "source": [
    "N = 9\n",
    "# Получим заданное состояние\n",
    "my_rho, my_state = get_my_state(N, N)\n",
    "\n",
    "# Определим массив коэфициентов cn при соответствующих состояниях |n>\n",
    "cn_list = my_state"
   ]
  },
  {
   "cell_type": "markdown",
   "id": "2cf6407f",
   "metadata": {},
   "source": [
    "\n",
    "# Пункт 2:\n",
    "#### Зададим состояние через разложение на полиномы Эрмита"
   ]
  },
  {
   "cell_type": "code",
   "execution_count": 337,
   "id": "97f2bb28",
   "metadata": {},
   "outputs": [
    {
     "data": {
      "image/png": "[encoded data removed]",
      "text/plain": [
       "<IPython.core.display.Image object>"
      ]
     },
     "execution_count": 337,
     "metadata": {},
     "output_type": "execute_result"
    }
   ],
   "source": [
    "from IPython.display import Image\n",
    "Image(filename='pics/Chebyshev_hermit_basis.png')"
   ]
  },
  {
   "cell_type": "markdown",
   "id": "db6f97a6",
   "metadata": {},
   "source": [
    "Также учтём зависимость от фазы"
   ]
  },
  {
   "cell_type": "code",
   "execution_count": 338,
   "id": "160dd45d",
   "metadata": {},
   "outputs": [
    {
     "data": {
      "image/png": "[encoded data removed]",
      "text/plain": [
       "<IPython.core.display.Image object>"
      ]
     },
     "execution_count": 338,
     "metadata": {},
     "output_type": "execute_result"
    }
   ],
   "source": [
    "Image(filename='pics/psi_theta.png')"
   ]
  },
  {
   "cell_type": "markdown",
   "id": "2d35c75b",
   "metadata": {},
   "source": [
    "И окончательно получим состояние через найденные пункте 1 коэффициенты $c_n$"
   ]
  },
  {
   "cell_type": "code",
   "execution_count": 339,
   "id": "3f143237",
   "metadata": {},
   "outputs": [
    {
     "data": {
      "image/png": "[encoded data removed]",
      "text/plain": [
       "<IPython.core.display.Image object>"
      ]
     },
     "execution_count": 339,
     "metadata": {},
     "output_type": "execute_result"
    }
   ],
   "source": [
    "Image(filename='pics/state.png')"
   ]
  },
  {
   "cell_type": "code",
   "execution_count": 340,
   "id": "6fd8441f",
   "metadata": {},
   "outputs": [],
   "source": [
    "def phi_theta(n, x, theta):\n",
    "    return (1/(np.pi**0.5*2**n*factorial(n)))**(1/2)*hermite(n)(x)*np.exp(-x**2/2)*np.exp(1j*n*theta)\n",
    "\n",
    "def get_theor_state(cn_list, N, x, theta):\n",
    "    return np.sum(np.array([cn_list[i]*phi_theta(i, x, theta) for i in range(N)]), axis = 0)\n",
    "    \n",
    "def get_probs(state):\n",
    "    return abs(state)**2\n",
    "\n",
    "# Более быстрая функция для вероятности. Понадобится при решении УП\n",
    "def p_(phi_theta, psi):\n",
    "    return abs(np.tensordot(psi, phi_theta, axes=1))**2"
   ]
  },
  {
   "cell_type": "code",
   "execution_count": 341,
   "id": "077ed326",
   "metadata": {},
   "outputs": [
    {
     "data": {
      "image/png": "[encoded data removed]",
      "text/plain": [
       "<Figure size 432x288 with 1 Axes>"
      ]
     },
     "metadata": {
      "needs_background": "light"
     },
     "output_type": "display_data"
    }
   ],
   "source": [
    "x_list = np.linspace(-8, 8, 1000)\n",
    "thetas = [0, np.pi/4, np.pi/2, 3*np.pi/4]\n",
    "thetas_label = ['0', '$\\pi/4$', '$\\pi/2$', '$3\\pi/4$']\n",
    "\n",
    "for theta, theta_label in zip(thetas, thetas_label):\n",
    "    p_list = get_probs(get_theor_state(cn_list, N, x_list, theta))\n",
    "    plt.plot(x_list, p_list, '-', alpha=0.7, label=theta_label)\n",
    "plt.xlabel('$x_\\Theta$')\n",
    "plt.ylabel('Вероятность')\n",
    "plt.legend()\n",
    "plt.grid()\n",
    "plt.show()"
   ]
  },
  {
   "cell_type": "markdown",
   "id": "68adab04",
   "metadata": {},
   "source": [
    "# Пункт 3:\n",
    "#### Выполним симуляцию измерений для каждого значения $\\theta$"
   ]
  },
  {
   "cell_type": "code",
   "execution_count": 342,
   "id": "a27098c4",
   "metadata": {},
   "outputs": [],
   "source": [
    "def F(z, x_list, state):\n",
    "    return np.trapz(get_probs(state)[x_list <= z], x_list[x_list <= z])"
   ]
  },
  {
   "cell_type": "code",
   "execution_count": 418,
   "id": "99131ff2",
   "metadata": {},
   "outputs": [
    {
     "name": "stderr",
     "output_type": "stream",
     "text": [
      "100%|██████████| 100/100 [00:00<00:00, 33238.01it/s]\n",
      "100%|██████████| 100/100 [00:00<00:00, 32778.24it/s]\n",
      "100%|██████████| 100/100 [00:00<00:00, 17913.66it/s]\n",
      "100%|██████████| 100/100 [00:00<00:00, 22651.10it/s]\n"
     ]
    }
   ],
   "source": [
    "n = 10000\n",
    "L = 10\n",
    "inv_points = 100\n",
    "\n",
    "\n",
    "\n",
    "x_list = np.linspace(-L, L, inv_points)\n",
    "\n",
    "thetas = [0, np.pi/4, np.pi/2, 3*np.pi/4]\n",
    "thetas_label = ['0', '$\\pi/4$', '$\\pi/2$', '$3\\pi/4$']\n",
    "\n",
    "Func_list = []\n",
    "x_rec_list = []\n",
    "\n",
    "for theta in thetas:\n",
    "    y = []\n",
    "    state = get_theor_state(cn_list, N, x_list, theta)\n",
    "    for x_inv in tqdm(x_list):\n",
    "        y.append(F(x_inv, x_list, state))\n",
    "                 \n",
    "    # Восстановим функцию распределения\n",
    "    F_inv = interpolate.interp1d(y, x_list, fill_value=(0, 1), bounds_error=False)\n",
    "    Func_list.append(F_inv)\n",
    "    \n",
    "    # Из восстановленной ф-ии распределения сгенерируем 1000 случайных величин\n",
    "    # Каждое соответствует измерению\n",
    "    y_random = np.random.rand(n)\n",
    "    x_reconstructed = F_inv(y_random)\n",
    "    x_rec_list.append(x_reconstructed)\n",
    "    "
   ]
  },
  {
   "cell_type": "markdown",
   "id": "19a5f636",
   "metadata": {},
   "source": [
    "#### Построим соответствующие распределения"
   ]
  },
  {
   "cell_type": "code",
   "execution_count": 439,
   "id": "a971327f",
   "metadata": {},
   "outputs": [
    {
     "data": {
      "image/png": "[encoded data removed]",
      "text/plain": [
       "<Figure size 432x288 with 1 Axes>"
      ]
     },
     "metadata": {
      "needs_background": "light"
     },
     "output_type": "display_data"
    },
    {
     "data": {
      "image/png": "[encoded data removed]",
      "text/plain": [
       "<Figure size 432x288 with 1 Axes>"
      ]
     },
     "metadata": {
      "needs_background": "light"
     },
     "output_type": "display_data"
    },
    {
     "data": {
      "image/png": "[encoded data removed]",
      "text/plain": [
       "<Figure size 432x288 with 1 Axes>"
      ]
     },
     "metadata": {
      "needs_background": "light"
     },
     "output_type": "display_data"
    },
    {
     "data": {
      "image/png": "[encoded data removed]",
      "text/plain": [
       "<Figure size 432x288 with 1 Axes>"
      ]
     },
     "metadata": {
      "needs_background": "light"
     },
     "output_type": "display_data"
    }
   ],
   "source": [
    "for x_rec, theta_label in zip(x_rec_list, thetas_label):   \n",
    "    plt.hist(x_rec, bins=100, density=True, label=f'Результаты измерений theta = {theta_label}')\n",
    "    plt.xlabel('$x \\Theta$')\n",
    "    plt.ylabel('Вероятность')\n",
    "    plt.title(r'$\\theta = $' + f'{theta_label}')\n",
    "    plt.xlim(-6, 6)\n",
    "    plt.legend()\n",
    "    plt.show()"
   ]
  },
  {
   "cell_type": "markdown",
   "id": "0ef55a45",
   "metadata": {},
   "source": [
    "# Пункт 4:\n",
    "\n",
    "#### Проведём реконструкцию состояния методом MLE"
   ]
  },
  {
   "cell_type": "code",
   "execution_count": 440,
   "id": "29aee8a5",
   "metadata": {},
   "outputs": [
    {
     "data": {
      "image/png": "[encoded data removed]",
      "text/plain": [
       "<IPython.core.display.Image object>"
      ]
     },
     "execution_count": 440,
     "metadata": {},
     "output_type": "execute_result"
    }
   ],
   "source": [
    "Image(filename='pics/R_matrix.png')"
   ]
  },
  {
   "cell_type": "markdown",
   "id": "3dcb638a",
   "metadata": {},
   "source": [
    "Создадим полный набор $(x_j, \\theta_j)$"
   ]
  },
  {
   "cell_type": "code",
   "execution_count": 441,
   "id": "a7e96279",
   "metadata": {},
   "outputs": [
    {
     "data": {
      "text/plain": [
       "10000"
      ]
     },
     "execution_count": 441,
     "metadata": {},
     "output_type": "execute_result"
    }
   ],
   "source": [
    "len(x_rec_list[0])"
   ]
  },
  {
   "cell_type": "code",
   "execution_count": 442,
   "id": "e2982241",
   "metadata": {},
   "outputs": [],
   "source": [
    "# Полный набор измерений состоит из 4000 измерений по 4000 на каждую theta\n",
    "x_rec_list = np.array(x_rec_list)\n",
    "\n",
    "thetas_list = []\n",
    "for theta in thetas:\n",
    "    thetas_list.append([theta]*x_rec_list.shape[1])\n",
    "    \n",
    "thetas_list = np.array(thetas_list)\n"
   ]
  },
  {
   "cell_type": "code",
   "execution_count": 443,
   "id": "f3aeffb8",
   "metadata": {},
   "outputs": [],
   "source": [
    "# Зададим функцию собирающую матрицу R(c)\n",
    "\n",
    "# Заметим, что числители дробей в сумме выше не зависят от c. \n",
    "# Посчитаем их заранее, чтобы не пересчитывать на каждой итерации далее\n",
    "\n",
    "\n",
    "def get_R_numerators(N = 9, thetas = thetas, x_rec_list = x_rec_list):\n",
    "    psi_n_list = []\n",
    "    for n in range(N):\n",
    "        psi = []\n",
    "        for theta, x in zip(thetas, x_rec_list):       \n",
    "            psi.append(phi_theta(n, x, theta))\n",
    "        psi = np.array(psi).flatten()\n",
    "        psi_n_list.append(psi)\n",
    "    \n",
    "    numerators_list = np.reshape([psi1.conj()*psi2 for psi1 in psi_n_list for psi2 in  psi_n_list], (9,9,40000))                       \n",
    "    return np.array(numerators_list).T\n",
    "\n",
    "numerators_list = get_R_numerators()"
   ]
  },
  {
   "cell_type": "code",
   "execution_count": 444,
   "id": "bf35854c",
   "metadata": {},
   "outputs": [],
   "source": [
    "def get_R(c, numerators_list):\n",
    "    denumerators_list = []\n",
    "    for theta, x in zip(thetas, x_rec_list):\n",
    "        state = get_theor_state(c, N, x, theta)\n",
    "        p = get_probs(state)\n",
    "        denumerators_list.append(p)\n",
    "        \n",
    "    denumerators_list = np.array(denumerators_list).flatten()\n",
    "    return np.sum(numerators_list/np.reshape(denumerators_list, (40000, 1, 1)), axis = 0).T\n",
    "    \n",
    "    "
   ]
  },
  {
   "cell_type": "code",
   "execution_count": 445,
   "id": "c9a62b6c",
   "metadata": {},
   "outputs": [
    {
     "name": "stdout",
     "output_type": "stream",
     "text": [
      "[[ 3966157.0758365 +0.00000000e+00j  2221773.69465205-9.75814041e+03j\n",
      "  -1662710.37858611-1.35582934e+02j -2049406.99241828-3.30639515e+03j\n",
      "    956383.63121036+1.50200866e-12j  1883918.2426799 -1.65251579e+03j\n",
      "   -621087.79406482+1.44902788e+03j -1830071.72584271-3.03996781e+02j\n",
      "    346741.74580292+7.17825140e-12j]\n",
      " [ 2221773.69465205+9.75814041e+03j  1629197.66788104+0.00000000e+00j\n",
      "   -419531.35544607-4.37951333e+03j  -933996.49785126+2.65344584e+03j\n",
      "    113755.26984764-2.91765267e+03j   666282.65445414-4.76762921e-13j\n",
      "   -226089.8614702 -4.47207310e+03j  -591557.08333061+6.76781317e+02j\n",
      "    338393.71685556-6.97871636e+03j]\n",
      " [-1662710.37858611+1.35582934e+02j  -419531.35544607+4.37951333e+03j\n",
      "   1620886.05829492+0.00000000e+00j  1091009.97720036-3.11745867e+03j\n",
      "   -974411.69432036+2.22512636e+03j -1543867.6174598 +1.96413877e+03j\n",
      "    471664.35526261-6.65898821e-13j  1555477.51261373+9.19117128e+02j\n",
      "    -31793.21610213+7.88507409e+02j]\n",
      " [-2049406.99241828+3.30639515e+03j  -933996.49785126-2.65344584e+03j\n",
      "   1091009.97720036+3.11745867e+03j  1282029.24867024+0.00000000e+00j\n",
      "   -824012.72728722-9.93630378e+03j -1133621.01528369+2.00820511e+03j\n",
      "    377274.22353724-2.27769531e+03j  1137633.98548761+4.34568057e-13j\n",
      "    -53080.69312515-6.40105821e+02j]\n",
      " [  956383.63121036-1.50200866e-12j   113755.26984764+2.91765267e+03j\n",
      "   -974411.69432036-2.22512636e+03j  -824012.72728722+9.93630378e+03j\n",
      "    854483.82303851+0.00000000e+00j   876401.85471082-3.27261335e+03j\n",
      "   -280442.75430247+5.67925037e+02j  -923063.59127941-1.31188256e+03j\n",
      "   -130413.34233766-4.25618145e-13j]\n",
      " [ 1883918.2426799 +1.65251579e+03j   666282.65445414+4.76762921e-13j\n",
      "  -1543867.6174598 -1.96413877e+03j -1133621.01528369-2.00820511e+03j\n",
      "    876401.85471082+3.27261335e+03j  1543171.25620102+0.00000000e+00j\n",
      "   -463766.68647094-2.67323690e+03j -1525798.08984494-7.72967650e+02j\n",
      "    108581.81803868-2.73848363e+03j]\n",
      " [ -621087.79406482-1.44902788e+03j  -226089.8614702 +4.47207310e+03j\n",
      "    471664.35526261+6.65898821e-13j   377274.22353724+2.27769531e+03j\n",
      "   -280442.75430247-5.67925037e+02j  -463766.68647094+2.67323690e+03j\n",
      "    159279.9132167 +0.00000000e+00j   464865.88338514-6.48272365e+02j\n",
      "    -17933.45181986+9.39687232e+02j]\n",
      " [-1830071.72584271+3.03996781e+02j  -591557.08333061-6.76781317e+02j\n",
      "   1555477.51261373-9.19117128e+02j  1137633.98548761-4.34568057e-13j\n",
      "   -923063.59127941+1.31188256e+03j -1525798.08984494+7.72967650e+02j\n",
      "    464865.88338514+6.48272365e+02j  1537769.83198245+0.00000000e+00j\n",
      "    -77870.83853609-2.66707175e+03j]\n",
      " [  346741.74580292-7.17825140e-12j   338393.71685556+6.97871636e+03j\n",
      "    -31793.21610213-7.88507409e+02j   -53080.69312515+6.40105821e+02j\n",
      "   -130413.34233766+4.25618145e-13j   108581.81803868+2.73848363e+03j\n",
      "    -17933.45181986-9.39687232e+02j   -77870.83853609+2.66707175e+03j\n",
      "    158539.50659406+0.00000000e+00j]]\n"
     ]
    }
   ],
   "source": [
    "# Проверим работу ф-ии\n",
    "c = np.random.randn(9)\n",
    "c = c/np.sqrt(c**2)\n",
    "R = get_R(c, numerators_list)\n",
    "print(R)"
   ]
  },
  {
   "cell_type": "code",
   "execution_count": 446,
   "id": "595e0271",
   "metadata": {},
   "outputs": [
    {
     "data": {
      "image/png": "[encoded data removed]",
      "text/plain": [
       "<IPython.core.display.Image object>"
      ]
     },
     "execution_count": 446,
     "metadata": {},
     "output_type": "execute_result"
    }
   ],
   "source": [
    "Image(filename='pics/iter_method.png')"
   ]
  },
  {
   "cell_type": "code",
   "execution_count": 447,
   "id": "55fbb7b7",
   "metadata": {},
   "outputs": [
    {
     "name": "stderr",
     "output_type": "stream",
     "text": [
      "  0%|          | 2/1000 [00:00<02:38,  6.31it/s]"
     ]
    },
    {
     "name": "stdout",
     "output_type": "stream",
     "text": [
      "1.3392613512603122\n",
      "0.5839684266684068\n"
     ]
    },
    {
     "name": "stderr",
     "output_type": "stream",
     "text": [
      "  0%|          | 4/1000 [00:00<02:11,  7.55it/s]"
     ]
    },
    {
     "name": "stdout",
     "output_type": "stream",
     "text": [
      "0.3370096772309127\n",
      "0.18238091449453295\n"
     ]
    },
    {
     "name": "stderr",
     "output_type": "stream",
     "text": [
      "  1%|          | 6/1000 [00:00<02:04,  7.98it/s]"
     ]
    },
    {
     "name": "stdout",
     "output_type": "stream",
     "text": [
      "0.26713633319877683\n",
      "0.14805919097183023\n"
     ]
    },
    {
     "name": "stderr",
     "output_type": "stream",
     "text": [
      "  1%|          | 8/1000 [00:01<02:04,  7.99it/s]"
     ]
    },
    {
     "name": "stdout",
     "output_type": "stream",
     "text": [
      "0.09842371133284664\n",
      "0.182439748182179\n"
     ]
    },
    {
     "name": "stderr",
     "output_type": "stream",
     "text": [
      "  1%|          | 10/1000 [00:01<02:05,  7.89it/s]"
     ]
    },
    {
     "name": "stdout",
     "output_type": "stream",
     "text": [
      "0.09543400768370484\n",
      "0.1149015683912305\n"
     ]
    },
    {
     "name": "stderr",
     "output_type": "stream",
     "text": [
      "  1%|          | 12/1000 [00:01<02:03,  7.99it/s]"
     ]
    },
    {
     "name": "stdout",
     "output_type": "stream",
     "text": [
      "0.0591885229230212\n",
      "0.04151159799654674\n"
     ]
    },
    {
     "name": "stderr",
     "output_type": "stream",
     "text": [
      "  1%|▏         | 14/1000 [00:01<02:04,  7.94it/s]"
     ]
    },
    {
     "name": "stdout",
     "output_type": "stream",
     "text": [
      "0.03366210541129224\n",
      "0.03131993717893971\n"
     ]
    },
    {
     "name": "stderr",
     "output_type": "stream",
     "text": [
      "  2%|▏         | 16/1000 [00:02<02:02,  8.04it/s]"
     ]
    },
    {
     "name": "stdout",
     "output_type": "stream",
     "text": [
      "0.017945059465970963\n",
      "0.01324702910629359\n"
     ]
    },
    {
     "name": "stderr",
     "output_type": "stream",
     "text": [
      "  2%|▏         | 18/1000 [00:02<02:01,  8.08it/s]"
     ]
    },
    {
     "name": "stdout",
     "output_type": "stream",
     "text": [
      "0.01011114628455314\n",
      "0.007988704234801936\n"
     ]
    },
    {
     "name": "stderr",
     "output_type": "stream",
     "text": [
      "  2%|▏         | 20/1000 [00:02<02:07,  7.71it/s]"
     ]
    },
    {
     "name": "stdout",
     "output_type": "stream",
     "text": [
      "0.006368320761042738\n",
      "0.005026897583633328\n"
     ]
    },
    {
     "name": "stderr",
     "output_type": "stream",
     "text": [
      "  2%|▏         | 22/1000 [00:02<02:02,  8.00it/s]"
     ]
    },
    {
     "name": "stdout",
     "output_type": "stream",
     "text": [
      "0.003928936495003165\n",
      "0.0030592428250811056\n"
     ]
    },
    {
     "name": "stderr",
     "output_type": "stream",
     "text": [
      "  2%|▏         | 24/1000 [00:03<01:57,  8.30it/s]"
     ]
    },
    {
     "name": "stdout",
     "output_type": "stream",
     "text": [
      "0.002388855730907893\n",
      "0.0018837786076141112\n"
     ]
    },
    {
     "name": "stderr",
     "output_type": "stream",
     "text": [
      "  3%|▎         | 26/1000 [00:03<02:02,  7.94it/s]"
     ]
    },
    {
     "name": "stdout",
     "output_type": "stream",
     "text": [
      "0.001510902515863325\n",
      "0.0012405065929397476\n"
     ]
    },
    {
     "name": "stderr",
     "output_type": "stream",
     "text": [
      "  3%|▎         | 28/1000 [00:03<02:11,  7.40it/s]"
     ]
    },
    {
     "name": "stdout",
     "output_type": "stream",
     "text": [
      "0.0010471051631410642\n",
      "0.0009095886222049804\n"
     ]
    },
    {
     "name": "stderr",
     "output_type": "stream",
     "text": [
      "  3%|▎         | 30/1000 [00:03<02:22,  6.81it/s]"
     ]
    },
    {
     "name": "stdout",
     "output_type": "stream",
     "text": [
      "0.0008111606258973477\n",
      "0.0007391137893235651\n"
     ]
    },
    {
     "name": "stderr",
     "output_type": "stream",
     "text": [
      "  3%|▎         | 32/1000 [00:04<02:08,  7.53it/s]"
     ]
    },
    {
     "name": "stdout",
     "output_type": "stream",
     "text": [
      "0.0006843463179509043\n",
      "0.0006406599569854564\n"
     ]
    },
    {
     "name": "stderr",
     "output_type": "stream",
     "text": [
      "  3%|▎         | 34/1000 [00:04<02:03,  7.83it/s]"
     ]
    },
    {
     "name": "stdout",
     "output_type": "stream",
     "text": [
      "0.0006040041565442748\n",
      "0.00057181417748466\n"
     ]
    },
    {
     "name": "stderr",
     "output_type": "stream",
     "text": [
      "  4%|▎         | 36/1000 [00:04<02:23,  6.70it/s]"
     ]
    },
    {
     "name": "stdout",
     "output_type": "stream",
     "text": [
      "0.0005425056053401282\n",
      "0.0005151206275481929\n"
     ]
    },
    {
     "name": "stderr",
     "output_type": "stream",
     "text": [
      "  4%|▍         | 38/1000 [00:05<02:33,  6.26it/s]"
     ]
    },
    {
     "name": "stdout",
     "output_type": "stream",
     "text": [
      "0.0004890934963416789\n",
      "0.0004640999723345301\n"
     ]
    },
    {
     "name": "stderr",
     "output_type": "stream",
     "text": [
      "  4%|▍         | 40/1000 [00:05<02:47,  5.72it/s]"
     ]
    },
    {
     "name": "stdout",
     "output_type": "stream",
     "text": [
      "0.0004399625336565169\n",
      "0.0004165914073692889\n"
     ]
    },
    {
     "name": "stderr",
     "output_type": "stream",
     "text": [
      "  4%|▍         | 42/1000 [00:05<02:41,  5.92it/s]"
     ]
    },
    {
     "name": "stdout",
     "output_type": "stream",
     "text": [
      "0.00039394817774926277\n",
      "0.00037202345944364884\n"
     ]
    },
    {
     "name": "stderr",
     "output_type": "stream",
     "text": [
      "  4%|▍         | 44/1000 [00:06<02:44,  5.81it/s]"
     ]
    },
    {
     "name": "stdout",
     "output_type": "stream",
     "text": [
      "0.00035082326657967397\n",
      "0.0003303607314350727\n"
     ]
    },
    {
     "name": "stderr",
     "output_type": "stream",
     "text": [
      "  5%|▍         | 46/1000 [00:06<02:43,  5.83it/s]"
     ]
    },
    {
     "name": "stdout",
     "output_type": "stream",
     "text": [
      "0.0003106511051294622\n",
      "0.0002917087721733806\n"
     ]
    },
    {
     "name": "stderr",
     "output_type": "stream",
     "text": [
      "  5%|▍         | 48/1000 [00:06<02:20,  6.75it/s]"
     ]
    },
    {
     "name": "stdout",
     "output_type": "stream",
     "text": [
      "0.0002735455058016459\n",
      "0.0002561694949887793\n"
     ]
    },
    {
     "name": "stderr",
     "output_type": "stream",
     "text": [
      "  5%|▌         | 50/1000 [00:07<02:01,  7.83it/s]"
     ]
    },
    {
     "name": "stdout",
     "output_type": "stream",
     "text": [
      "0.00023958485896881742\n",
      "0.00022379147645321703\n"
     ]
    },
    {
     "name": "stderr",
     "output_type": "stream",
     "text": [
      "  5%|▌         | 52/1000 [00:07<02:14,  7.03it/s]"
     ]
    },
    {
     "name": "stdout",
     "output_type": "stream",
     "text": [
      "0.00020878502308113676\n",
      "0.00019455714972350837\n"
     ]
    },
    {
     "name": "stderr",
     "output_type": "stream",
     "text": [
      "  5%|▌         | 54/1000 [00:07<02:16,  6.95it/s]"
     ]
    },
    {
     "name": "stdout",
     "output_type": "stream",
     "text": [
      "0.00018109575710412268\n",
      "0.00016838533555627868\n"
     ]
    },
    {
     "name": "stderr",
     "output_type": "stream",
     "text": [
      "  6%|▌         | 56/1000 [00:07<02:08,  7.34it/s]"
     ]
    },
    {
     "name": "stdout",
     "output_type": "stream",
     "text": [
      "0.00015640734669697498\n",
      "0.00014514062880691063\n"
     ]
    },
    {
     "name": "stderr",
     "output_type": "stream",
     "text": [
      "  6%|▌         | 58/1000 [00:08<01:57,  7.99it/s]"
     ]
    },
    {
     "name": "stdout",
     "output_type": "stream",
     "text": [
      "0.00013456181115593732\n",
      "0.00012464572518072647\n"
     ]
    },
    {
     "name": "stderr",
     "output_type": "stream",
     "text": [
      "  6%|▌         | 60/1000 [00:08<01:49,  8.55it/s]"
     ]
    },
    {
     "name": "stdout",
     "output_type": "stream",
     "text": [
      "0.00011536580269914411\n",
      "0.00010669445340677399\n"
     ]
    },
    {
     "name": "stderr",
     "output_type": "stream",
     "text": [
      "  6%|▌         | 62/1000 [00:08<01:45,  8.87it/s]"
     ]
    },
    {
     "name": "stdout",
     "output_type": "stream",
     "text": [
      "9.860341580448243e-05\n",
      "9.106407745064808e-05\n"
     ]
    },
    {
     "name": "stderr",
     "output_type": "stream",
     "text": [
      "  6%|▋         | 64/1000 [00:08<01:45,  8.85it/s]"
     ]
    },
    {
     "name": "stdout",
     "output_type": "stream",
     "text": [
      "8.404776199708643e-05\n",
      "7.752598183230429e-05\n"
     ]
    },
    {
     "name": "stderr",
     "output_type": "stream",
     "text": [
      "  7%|▋         | 66/1000 [00:09<01:47,  8.71it/s]"
     ]
    },
    {
     "name": "stdout",
     "output_type": "stream",
     "text": [
      "7.147065630418051e-05\n",
      "6.585429642377798e-05\n"
     ]
    },
    {
     "name": "stderr",
     "output_type": "stream",
     "text": [
      "  7%|▋         | 68/1000 [00:09<01:43,  9.03it/s]"
     ]
    },
    {
     "name": "stdout",
     "output_type": "stream",
     "text": [
      "6.065015766997428e-05\n",
      "5.583236303673119e-05\n"
     ]
    },
    {
     "name": "stderr",
     "output_type": "stream",
     "text": [
      "  7%|▋         | 70/1000 [00:09<01:41,  9.18it/s]"
     ]
    },
    {
     "name": "stdout",
     "output_type": "stream",
     "text": [
      "5.137599881265108e-05\n",
      "4.725718578181717e-05\n"
     ]
    },
    {
     "name": "stderr",
     "output_type": "stream",
     "text": [
      "  7%|▋         | 72/1000 [00:09<01:41,  9.12it/s]"
     ]
    },
    {
     "name": "stdout",
     "output_type": "stream",
     "text": [
      "4.345312861039173e-05\n",
      "3.994214616226722e-05\n"
     ]
    },
    {
     "name": "stderr",
     "output_type": "stream",
     "text": [
      "  7%|▋         | 74/1000 [00:09<01:40,  9.18it/s]"
     ]
    },
    {
     "name": "stdout",
     "output_type": "stream",
     "text": [
      "3.67036853903093e-05\n",
      "3.37183213006846e-05\n"
     ]
    },
    {
     "name": "stderr",
     "output_type": "stream",
     "text": [
      "  8%|▊         | 76/1000 [00:10<01:39,  9.29it/s]"
     ]
    },
    {
     "name": "stdout",
     "output_type": "stream",
     "text": [
      "3.0967745301789614e-05\n",
      "2.843474404266258e-05\n"
     ]
    },
    {
     "name": "stderr",
     "output_type": "stream",
     "text": [
      "  8%|▊         | 78/1000 [00:10<01:42,  9.03it/s]"
     ]
    },
    {
     "name": "stdout",
     "output_type": "stream",
     "text": [
      "2.6103170629527106e-05\n",
      "2.3957909892358718e-05\n"
     ]
    },
    {
     "name": "stderr",
     "output_type": "stream",
     "text": [
      "  8%|▊         | 80/1000 [00:10<01:45,  8.73it/s]"
     ]
    },
    {
     "name": "stdout",
     "output_type": "stream",
     "text": [
      "2.1984839163020225e-05\n",
      "2.0170785827063582e-05\n"
     ]
    },
    {
     "name": "stderr",
     "output_type": "stream",
     "text": [
      "  8%|▊         | 82/1000 [00:10<01:43,  8.87it/s]"
     ]
    },
    {
     "name": "stdout",
     "output_type": "stream",
     "text": [
      "1.8503482726150396e-05\n",
      "1.6971522318698855e-05\n"
     ]
    },
    {
     "name": "stderr",
     "output_type": "stream",
     "text": [
      "  8%|▊         | 84/1000 [00:11<01:46,  8.64it/s]"
     ]
    },
    {
     "name": "stdout",
     "output_type": "stream",
     "text": [
      "1.5564310354038874e-05\n",
      "1.4272019679429132e-05\n"
     ]
    },
    {
     "name": "stderr",
     "output_type": "stream",
     "text": [
      "  9%|▊         | 86/1000 [00:11<01:45,  8.66it/s]"
     ]
    },
    {
     "name": "stdout",
     "output_type": "stream",
     "text": [
      "1.3085544680384045e-05\n",
      "1.1996456750380978e-05\n"
     ]
    },
    {
     "name": "stderr",
     "output_type": "stream",
     "text": [
      "  9%|▉         | 88/1000 [00:11<01:42,  8.87it/s]"
     ]
    },
    {
     "name": "stdout",
     "output_type": "stream",
     "text": [
      "1.0996961097148186e-05\n",
      "1.0079855115780495e-05\n"
     ]
    },
    {
     "name": "stderr",
     "output_type": "stream",
     "text": [
      "  9%|▉         | 90/1000 [00:11<01:40,  9.06it/s]"
     ]
    },
    {
     "name": "stdout",
     "output_type": "stream",
     "text": [
      "9.238488494816477e-06\n",
      "8.466725167094039e-06\n"
     ]
    },
    {
     "name": "stderr",
     "output_type": "stream",
     "text": [
      "  9%|▉         | 92/1000 [00:12<02:01,  7.45it/s]"
     ]
    },
    {
     "name": "stdout",
     "output_type": "stream",
     "text": [
      "7.75890717255176e-06\n",
      "7.1098204636658106e-06\n"
     ]
    },
    {
     "name": "stderr",
     "output_type": "stream",
     "text": [
      "  9%|▉         | 94/1000 [00:12<02:11,  6.90it/s]"
     ]
    },
    {
     "name": "stdout",
     "output_type": "stream",
     "text": [
      "6.514662654153972e-06\n",
      "5.969012688336116e-06\n"
     ]
    },
    {
     "name": "stderr",
     "output_type": "stream",
     "text": [
      "\r",
      " 10%|▉         | 95/1000 [00:12<02:24,  6.28it/s]"
     ]
    },
    {
     "name": "stdout",
     "output_type": "stream",
     "text": [
      "5.468802389919352e-06\n"
     ]
    },
    {
     "name": "stderr",
     "output_type": "stream",
     "text": [
      "\r",
      " 10%|▉         | 96/1000 [00:12<02:36,  5.78it/s]"
     ]
    },
    {
     "name": "stdout",
     "output_type": "stream",
     "text": [
      "5.010289834683563e-06\n"
     ]
    },
    {
     "name": "stderr",
     "output_type": "stream",
     "text": [
      " 10%|▉         | 98/1000 [00:13<02:32,  5.91it/s]"
     ]
    },
    {
     "name": "stdout",
     "output_type": "stream",
     "text": [
      "4.59003448124646e-06\n",
      "4.2048739863148655e-06\n"
     ]
    },
    {
     "name": "stderr",
     "output_type": "stream",
     "text": [
      " 10%|█         | 100/1000 [00:13<02:06,  7.10it/s]"
     ]
    },
    {
     "name": "stdout",
     "output_type": "stream",
     "text": [
      "3.8519026261023685e-06\n",
      "3.5284512423083997e-06\n"
     ]
    },
    {
     "name": "stderr",
     "output_type": "stream",
     "text": [
      " 10%|█         | 102/1000 [00:13<01:51,  8.04it/s]"
     ]
    },
    {
     "name": "stdout",
     "output_type": "stream",
     "text": [
      "3.2320686300456905e-06\n",
      "2.960504284749287e-06\n"
     ]
    },
    {
     "name": "stderr",
     "output_type": "stream",
     "text": [
      " 10%|█         | 104/1000 [00:13<02:08,  7.00it/s]"
     ]
    },
    {
     "name": "stdout",
     "output_type": "stream",
     "text": [
      "2.711692426564708e-06\n",
      "2.4837372220423925e-06\n"
     ]
    },
    {
     "name": "stderr",
     "output_type": "stream",
     "text": [
      " 11%|█         | 106/1000 [00:14<02:35,  5.76it/s]"
     ]
    },
    {
     "name": "stdout",
     "output_type": "stream",
     "text": [
      "2.274899125828671e-06\n",
      "2.083582267689768e-06\n"
     ]
    },
    {
     "name": "stderr",
     "output_type": "stream",
     "text": [
      " 11%|█         | 108/1000 [00:14<02:07,  7.02it/s]"
     ]
    },
    {
     "name": "stdout",
     "output_type": "stream",
     "text": [
      "1.9083228135322116e-06\n",
      "1.7477782323649262e-06\n"
     ]
    },
    {
     "name": "stderr",
     "output_type": "stream",
     "text": [
      " 11%|█         | 110/1000 [00:14<01:50,  8.08it/s]"
     ]
    },
    {
     "name": "stdout",
     "output_type": "stream",
     "text": [
      "1.6007174047729792e-06\n",
      "1.4660115120383677e-06\n"
     ]
    },
    {
     "name": "stderr",
     "output_type": "stream",
     "text": [
      " 11%|█         | 112/1000 [00:14<01:43,  8.55it/s]"
     ]
    },
    {
     "name": "stdout",
     "output_type": "stream",
     "text": [
      "1.3426256484420982e-06\n",
      "1.229611103036657e-06\n"
     ]
    },
    {
     "name": "stderr",
     "output_type": "stream",
     "text": [
      " 11%|█▏        | 114/1000 [00:15<01:41,  8.76it/s]"
     ]
    },
    {
     "name": "stdout",
     "output_type": "stream",
     "text": [
      "1.1260982603132285e-06\n",
      "1.0312900727902031e-06\n"
     ]
    },
    {
     "name": "stderr",
     "output_type": "stream",
     "text": [
      " 12%|█▏        | 116/1000 [00:15<01:39,  8.89it/s]"
     ]
    },
    {
     "name": "stdout",
     "output_type": "stream",
     "text": [
      "9.44456061404032e-07\n",
      "8.649268028453776e-07\n"
     ]
    },
    {
     "name": "stderr",
     "output_type": "stream",
     "text": [
      " 12%|█▏        | 118/1000 [00:15<02:05,  7.05it/s]"
     ]
    },
    {
     "name": "stdout",
     "output_type": "stream",
     "text": [
      "7.920888658566772e-07\n",
      "7.25380161063945e-07\n"
     ]
    },
    {
     "name": "stderr",
     "output_type": "stream",
     "text": [
      " 12%|█▏        | 120/1000 [00:15<01:52,  7.81it/s]"
     ]
    },
    {
     "name": "stdout",
     "output_type": "stream",
     "text": [
      "6.642856716244343e-07\n",
      "6.083335344621159e-07\n"
     ]
    },
    {
     "name": "stderr",
     "output_type": "stream",
     "text": [
      " 12%|█▏        | 122/1000 [00:16<01:47,  8.19it/s]"
     ]
    },
    {
     "name": "stdout",
     "output_type": "stream",
     "text": [
      "5.570914439178191e-07\n",
      "5.101633519965454e-07\n"
     ]
    },
    {
     "name": "stderr",
     "output_type": "stream",
     "text": [
      " 12%|█▏        | 124/1000 [00:16<01:42,  8.53it/s]"
     ]
    },
    {
     "name": "stdout",
     "output_type": "stream",
     "text": [
      "4.6718644113162807e-07\n",
      "4.278283476264504e-07\n"
     ]
    },
    {
     "name": "stderr",
     "output_type": "stream",
     "text": [
      " 13%|█▎        | 126/1000 [00:16<01:43,  8.44it/s]"
     ]
    },
    {
     "name": "stdout",
     "output_type": "stream",
     "text": [
      "3.917846150095583e-07\n",
      "3.587763590029797e-07\n"
     ]
    },
    {
     "name": "stderr",
     "output_type": "stream",
     "text": [
      " 13%|█▎        | 128/1000 [00:16<01:42,  8.54it/s]"
     ]
    },
    {
     "name": "stdout",
     "output_type": "stream",
     "text": [
      "3.2854812643442e-07\n",
      "3.008659322761591e-07\n"
     ]
    },
    {
     "name": "stderr",
     "output_type": "stream",
     "text": [
      " 13%|█▎        | 130/1000 [00:17<01:42,  8.45it/s]"
     ]
    },
    {
     "name": "stdout",
     "output_type": "stream",
     "text": [
      "2.7551546035341864e-07\n",
      "2.523004139166419e-07\n"
     ]
    },
    {
     "name": "stderr",
     "output_type": "stream",
     "text": [
      " 13%|█▎        | 132/1000 [00:17<01:50,  7.85it/s]"
     ]
    },
    {
     "name": "stdout",
     "output_type": "stream",
     "text": [
      "2.3104100402599946e-07\n",
      "2.1157256409061e-07\n"
     ]
    },
    {
     "name": "stderr",
     "output_type": "stream",
     "text": [
      " 13%|█▎        | 134/1000 [00:17<01:42,  8.44it/s]"
     ]
    },
    {
     "name": "stdout",
     "output_type": "stream",
     "text": [
      "1.9374428032066992e-07\n",
      "1.7741802826816553e-07\n"
     ]
    },
    {
     "name": "stderr",
     "output_type": "stream",
     "text": [
      " 14%|█▎        | 136/1000 [00:17<01:37,  8.83it/s]"
     ]
    },
    {
     "name": "stdout",
     "output_type": "stream",
     "text": [
      "1.6246730688406027e-07\n",
      "1.487762617536399e-07\n"
     ]
    },
    {
     "name": "stderr",
     "output_type": "stream",
     "text": [
      " 14%|█▍        | 138/1000 [00:18<01:38,  8.76it/s]"
     ]
    },
    {
     "name": "stdout",
     "output_type": "stream",
     "text": [
      "1.362387902537592e-07\n",
      "1.247577216579775e-07\n"
     ]
    },
    {
     "name": "stderr",
     "output_type": "stream",
     "text": [
      " 14%|█▍        | 140/1000 [00:18<01:36,  8.94it/s]"
     ]
    },
    {
     "name": "stdout",
     "output_type": "stream",
     "text": [
      "1.1424406609036541e-07\n",
      "1.0461632647386502e-07\n"
     ]
    },
    {
     "name": "stderr",
     "output_type": "stream",
     "text": [
      " 14%|█▍        | 142/1000 [00:18<01:39,  8.65it/s]"
     ]
    },
    {
     "name": "stdout",
     "output_type": "stream",
     "text": [
      "9.579986821390913e-08\n",
      "8.772634180693445e-08\n"
     ]
    },
    {
     "name": "stderr",
     "output_type": "stream",
     "text": [
      " 14%|█▍        | 144/1000 [00:18<01:59,  7.18it/s]"
     ]
    },
    {
     "name": "stdout",
     "output_type": "stream",
     "text": [
      "8.033315404087847e-08\n",
      "7.356298345034873e-08\n"
     ]
    },
    {
     "name": "stderr",
     "output_type": "stream",
     "text": [
      " 15%|█▍        | 146/1000 [00:19<01:51,  7.68it/s]"
     ]
    },
    {
     "name": "stdout",
     "output_type": "stream",
     "text": [
      "6.736333670366035e-08\n",
      "6.168614211783155e-08\n"
     ]
    },
    {
     "name": "stderr",
     "output_type": "stream",
     "text": [
      " 15%|█▍        | 148/1000 [00:19<01:44,  8.16it/s]"
     ]
    },
    {
     "name": "stdout",
     "output_type": "stream",
     "text": [
      "5.6487377424252194e-08\n",
      "5.172672881410777e-08\n"
     ]
    },
    {
     "name": "stderr",
     "output_type": "stream",
     "text": [
      " 15%|█▌        | 150/1000 [00:19<01:40,  8.48it/s]"
     ]
    },
    {
     "name": "stdout",
     "output_type": "stream",
     "text": [
      "4.736727873326631e-08\n",
      "4.337521981058808e-08\n"
     ]
    },
    {
     "name": "stderr",
     "output_type": "stream",
     "text": [
      " 15%|█▌        | 152/1000 [00:19<01:35,  8.84it/s]"
     ]
    },
    {
     "name": "stdout",
     "output_type": "stream",
     "text": [
      "3.971959297415915e-08\n",
      "3.6372047535795794e-08\n"
     ]
    },
    {
     "name": "stderr",
     "output_type": "stream",
     "text": [
      " 15%|█▌        | 154/1000 [00:20<01:32,  9.18it/s]"
     ]
    },
    {
     "name": "stdout",
     "output_type": "stream",
     "text": [
      "3.330662157161886e-08\n",
      "3.0499540594317876e-08\n"
     ]
    },
    {
     "name": "stderr",
     "output_type": "stream",
     "text": [
      " 16%|█▌        | 156/1000 [00:20<01:35,  8.83it/s]"
     ]
    },
    {
     "name": "stdout",
     "output_type": "stream",
     "text": [
      "2.7929033405012154e-08\n",
      "2.557516325835653e-08\n"
     ]
    },
    {
     "name": "stderr",
     "output_type": "stream",
     "text": [
      " 16%|█▌        | 158/1000 [00:20<01:35,  8.85it/s]"
     ]
    },
    {
     "name": "stdout",
     "output_type": "stream",
     "text": [
      "2.3419673360093504e-08\n",
      "2.1445845373443323e-08\n"
     ]
    },
    {
     "name": "stderr",
     "output_type": "stream",
     "text": [
      " 16%|█▌        | 160/1000 [00:20<01:34,  8.86it/s]"
     ]
    },
    {
     "name": "stdout",
     "output_type": "stream",
     "text": [
      "1.963836968724419e-08\n",
      "1.7983226860103746e-08\n"
     ]
    },
    {
     "name": "stderr",
     "output_type": "stream",
     "text": [
      " 16%|█▌        | 162/1000 [00:20<01:35,  8.74it/s]"
     ]
    },
    {
     "name": "stdout",
     "output_type": "stream",
     "text": [
      "1.6467578840452858e-08\n",
      "1.5079669445087075e-08\n"
     ]
    },
    {
     "name": "stderr",
     "output_type": "stream",
     "text": [
      " 16%|█▋        | 164/1000 [00:21<01:33,  8.99it/s]"
     ]
    },
    {
     "name": "stdout",
     "output_type": "stream",
     "text": [
      "1.3808733216191697e-08\n",
      "1.2644911900794881e-08\n"
     ]
    },
    {
     "name": "stderr",
     "output_type": "stream",
     "text": [
      " 17%|█▋        | 166/1000 [00:21<01:29,  9.29it/s]"
     ]
    },
    {
     "name": "stdout",
     "output_type": "stream",
     "text": [
      "1.1579178036095076e-08\n",
      "1.0603264977374495e-08\n"
     ]
    },
    {
     "name": "stderr",
     "output_type": "stream",
     "text": [
      "\r",
      " 17%|█▋        | 166/1000 [00:21<01:48,  7.71it/s]"
     ]
    },
    {
     "name": "stdout",
     "output_type": "stream",
     "text": [
      "9.709602725660643e-09\n",
      "CPU times: user 16.7 s, sys: 4.81 s, total: 21.5 s\n",
      "Wall time: 21.5 s\n"
     ]
    },
    {
     "name": "stderr",
     "output_type": "stream",
     "text": [
      "\n"
     ]
    }
   ],
   "source": [
    "%%time\n",
    "\n",
    "eps = 1e-8\n",
    "mu=0.5\n",
    "\n",
    "# Зададим случайное чистое состояние в качестве начального приближения\n",
    "c = np.random.randn(9)\n",
    "c = c/np.sqrt(c**2)\n",
    "\n",
    "for i in tqdm(range(1000)):\n",
    "    c_prev = c\n",
    "    c = (1-mu)*get_R(c_prev, numerators_list) @ c_prev/ 40000 + mu*c_prev\n",
    "    print(np.sum(abs(c_prev - c)**2)**0.5)\n",
    "    if np.sum(abs(c_prev - c)**2)**0.5 < eps:\n",
    "        break\n",
    "    \n",
    "    \n"
   ]
  },
  {
   "cell_type": "code",
   "execution_count": 448,
   "id": "c1a25ad7",
   "metadata": {},
   "outputs": [
    {
     "data": {
      "image/png": "[encoded data removed]",
      "text/plain": [
       "<Figure size 432x288 with 1 Axes>"
      ]
     },
     "metadata": {
      "needs_background": "light"
     },
     "output_type": "display_data"
    }
   ],
   "source": [
    "n_list = np.arange(9)\n",
    "\n",
    "plt.bar(n_list-0.1, abs(c)**2, alpha=0.5, width=0.5, label='Реконструкция')\n",
    "plt.bar(n_list+0.1, abs(cn_list)**2, alpha=0.5, width=0.5, label='Реальное состояние')\n",
    "plt.xticks(n_list)\n",
    "plt.xlim(-1, 10)\n",
    "plt.xlabel('Число фотонов')\n",
    "plt.ylabel('Вероятность')\n",
    "plt.legend()\n",
    "plt.show()"
   ]
  },
  {
   "cell_type": "code",
   "execution_count": 449,
   "id": "e469aa81",
   "metadata": {},
   "outputs": [
    {
     "data": {
      "text/plain": [
       "0.9989853802692745"
      ]
     },
     "execution_count": 449,
     "metadata": {},
     "output_type": "execute_result"
    }
   ],
   "source": [
    "# Рассчитаем Fidelity между реконструкцией и реальным состоянием\n",
    "Fidelity_pure(c, cn_list)"
   ]
  },
  {
   "cell_type": "markdown",
   "id": "936c62c5",
   "metadata": {},
   "source": [
    "Состояния совпадаяют с высокой точностью"
   ]
  },
  {
   "cell_type": "markdown",
   "id": "7591a5e8",
   "metadata": {},
   "source": [
    "# Пункт 4:\n",
    "\n",
    "#### Построим распределения для различных $\\theta$"
   ]
  },
  {
   "cell_type": "code",
   "execution_count": 450,
   "id": "fd2c85f3",
   "metadata": {},
   "outputs": [
    {
     "data": {
      "image/png": "[encoded data removed]",
      "text/plain": [
       "<Figure size 432x288 with 1 Axes>"
      ]
     },
     "metadata": {
      "needs_background": "light"
     },
     "output_type": "display_data"
    },
    {
     "data": {
      "image/png": "[encoded data removed]",
      "text/plain": [
       "<Figure size 432x288 with 1 Axes>"
      ]
     },
     "metadata": {
      "needs_background": "light"
     },
     "output_type": "display_data"
    },
    {
     "data": {
      "image/png": "[encoded data removed]",
      "text/plain": [
       "<Figure size 432x288 with 1 Axes>"
      ]
     },
     "metadata": {
      "needs_background": "light"
     },
     "output_type": "display_data"
    },
    {
     "data": {
      "image/png": "[encoded data removed]",
      "text/plain": [
       "<Figure size 432x288 with 1 Axes>"
      ]
     },
     "metadata": {
      "needs_background": "light"
     },
     "output_type": "display_data"
    }
   ],
   "source": [
    "x_list = np.linspace(-8, 8, 1000)\n",
    "thetas = [0, np.pi/4, np.pi/2, 3*np.pi/4]\n",
    "thetas_label = ['0', '$\\pi/4$', '$\\pi/2$', '$3\\pi/4$']\n",
    "\n",
    "\n",
    "for x, theta, theta_label in zip(x_rec_list, thetas, thetas_label):\n",
    "    \n",
    "    plt.hist(x, density = True, bins = 50, alpha = 0.3, label = 'Статистика моделирования измерений')\n",
    "    \n",
    "    p_list = get_probs(get_theor_state(cn_list, N, x_list, theta))\n",
    "    plt.plot(x_list, p_list, '-', linewidth = 3, alpha=0.7, label='Реальное состояние')\n",
    "    \n",
    "    p_list = get_probs(get_theor_state(c, N, x_list, theta))\n",
    "    plt.plot(x_list, p_list, '-.', linewidth = 2, alpha=0.7, label='Реконструкция')\n",
    "    \n",
    "    plt.title(f'Theta = {theta}')\n",
    "    plt.xlabel('$x_\\Theta$')\n",
    "    plt.ylabel('Вероятность')\n",
    "    plt.legend(loc='upper left')\n",
    "    plt.grid()\n",
    "    \n",
    "    plt.show()\n",
    "    \n",
    "    "
   ]
  },
  {
   "cell_type": "markdown",
   "id": "c868ac3d",
   "metadata": {},
   "source": [
    "# Пункт 6:\n",
    "\n",
    "#### Вычислим p-value для всех $\\theta$"
   ]
  },
  {
   "cell_type": "code",
   "execution_count": 451,
   "id": "f20572c8",
   "metadata": {},
   "outputs": [
    {
     "data": {
      "image/png": "[encoded data removed]",
      "text/plain": [
       "<IPython.core.display.Image object>"
      ]
     },
     "execution_count": 451,
     "metadata": {},
     "output_type": "execute_result"
    }
   ],
   "source": [
    "Image(filename='pics/Chi2.png')"
   ]
  },
  {
   "cell_type": "code",
   "execution_count": 452,
   "id": "7617c2e2",
   "metadata": {},
   "outputs": [],
   "source": [
    "# Разобьём данные по квантилям, чтобы в один бин не попадало менее 5-ти измерений\n",
    "n_bins = 10\n",
    "nt = 10000\n",
    "\n",
    "\n",
    "\n",
    "E_list = []\n",
    "O_list = []\n",
    "\n",
    "for x, theta in zip(x_rec_list, thetas):\n",
    "    x_bin_prev = x.min()\n",
    "    x_bins = np.quantile(x, np.linspace(0,1,n_bins+1))\n",
    "    x = np.array(sorted(x))\n",
    "    for x_bin in x_bins[1:]:\n",
    "        x_vals = x[(x<x_bin) & (x>x_bin_prev)]\n",
    "        O = len(x_vals)\n",
    "        E = nt * np.trapz(get_probs(get_theor_state(c, N, x_vals, theta)), x_vals)\n",
    "        E_list.append(E)\n",
    "        O_list.append(O)\n",
    "        \n",
    "        x_bin_prev = x_bin\n",
    "        \n",
    "O_list = np.array(O_list)\n",
    "E_list = np.array(E_list)\n",
    "\n",
    "Xi2 = np.sum((O_list - E_list)**2/E_list)"
   ]
  },
  {
   "cell_type": "code",
   "execution_count": 453,
   "id": "0ec2cfd3",
   "metadata": {},
   "outputs": [
    {
     "name": "stdout",
     "output_type": "stream",
     "text": [
      "nt = 10000\n",
      "sum(E_list) для соответствующих theta = [10064.18496016 10071.00079037  9807.17117845 10009.87662778]\n"
     ]
    }
   ],
   "source": [
    "print(f'nt = {nt}')\n",
    "print(f'sum(E_list) для соответствующих theta = {np.sum(np.reshape(E_list, (n_bins, 4)), axis = 0)}')"
   ]
  },
  {
   "cell_type": "code",
   "execution_count": 454,
   "id": "c05556ce",
   "metadata": {},
   "outputs": [
    {
     "name": "stdout",
     "output_type": "stream",
     "text": [
      "p-value = 2.2300994631185844e-05\n"
     ]
    }
   ],
   "source": [
    "nu = 4*n_bins - len(thetas) - 2*(N - 1) - 1\n",
    "p_value = 1 - chi2.cdf(Xi2.real, nu)\n",
    "print('p-value = ' + str(p_value))"
   ]
  },
  {
   "cell_type": "markdown",
   "id": "9e51341d",
   "metadata": {},
   "source": [
    "Для визуализации разобьём на меньшее количество бинов (n_bins = 10)"
   ]
  },
  {
   "cell_type": "code",
   "execution_count": 455,
   "id": "c64043fa",
   "metadata": {},
   "outputs": [],
   "source": [
    "# Разобьём данные по квантилям, чтобы в один бин не попадало менее 5-ти измерений\n",
    "n_bins = 10\n",
    "nt = 10000\n",
    "\n",
    "E_list = []\n",
    "O_list = []\n",
    "\n",
    "for x, theta in zip(x_rec_list, thetas):\n",
    "    x_bin_prev = x.min()\n",
    "    x_bins = np.quantile(x, np.linspace(0,1,n_bins+1))\n",
    "    x = np.array(sorted(x))\n",
    "    for x_bin in x_bins[1:]:\n",
    "        x_vals = x[(x<x_bin) & (x>x_bin_prev)]\n",
    "        O = len(x_vals)\n",
    "        E = nt * np.trapz(get_probs(get_theor_state(c, N, x_vals, theta)), x_vals)\n",
    "        E_list.append(E)\n",
    "        O_list.append(O)\n",
    "        \n",
    "        x_bin_prev = x_bin\n",
    "        \n",
    "O_list = np.array(O_list)\n",
    "E_list = np.array(E_list)\n",
    "\n",
    "Xi2 = np.sum((O_list - E_list)**2/E_list)"
   ]
  },
  {
   "cell_type": "code",
   "execution_count": 456,
   "id": "6af62e4c",
   "metadata": {},
   "outputs": [
    {
     "data": {
      "image/png": "[encoded data removed]",
      "text/plain": [
       "<Figure size 432x288 with 1 Axes>"
      ]
     },
     "metadata": {
      "needs_background": "light"
     },
     "output_type": "display_data"
    }
   ],
   "source": [
    "n_list = np.arange(E_list.shape[0])\n",
    "\n",
    "plt.bar(n_list-0.1, E_list, alpha=0.5, width=0.5, label='Теоретическое значение')\n",
    "plt.bar(n_list+0.1, O_list, alpha=0.5, width=0.5, label='Колличество наблюдений в бине')\n",
    "plt.xticks(n_list[0::2])\n",
    "plt.xlim(-1, E_list.shape[0])\n",
    "plt.xlabel('Число фотонов')\n",
    "plt.ylabel('Вероятность')\n",
    "plt.legend(loc = 'lower right')\n",
    "plt.show()"
   ]
  },
  {
   "cell_type": "code",
   "execution_count": null,
   "id": "d788b281",
   "metadata": {},
   "outputs": [],
   "source": []
  }
 ],
 "metadata": {
  "kernelspec": {
   "display_name": "Python 3",
   "language": "python",
   "name": "python3"
  },
  "language_info": {
   "codemirror_mode": {
    "name": "ipython",
    "version": 3
   },
   "file_extension": ".py",
   "mimetype": "text/x-python",
   "name": "python",
   "nbconvert_exporter": "python",
   "pygments_lexer": "ipython3",
   "version": "3.7.11"
  }
 },
 "nbformat": 4,
 "nbformat_minor": 5
}
