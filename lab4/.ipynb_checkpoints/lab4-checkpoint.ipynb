{
 "cells": [
  {
   "cell_type": "code",
   "execution_count": 251,
   "id": "0c690aae",
   "metadata": {},
   "outputs": [],
   "source": [
    "import numpy as np\n",
    "from matplotlib import pyplot as plt\n",
    "from scipy import linalg as sLA\n",
    "\n",
    "from IPython.display import Image\n",
    "from IPython.display import display, Latex\n",
    "\n",
    "from mpl_toolkits.mplot3d import axes3d\n",
    "import matplotlib.pyplot as plt\n",
    "\n",
    "from matplotlib import style\n",
    "# style.use('ggplot')"
   ]
  },
  {
   "cell_type": "code",
   "execution_count": 252,
   "id": "ea111854",
   "metadata": {},
   "outputs": [],
   "source": [
    "from scipy import linalg as sLA\n",
    "from scipy.special import hermite, factorial\n",
    "from scipy.integrate import quad\n",
    "from scipy.stats import chi2, chisquare\n",
    "from scipy import interpolate\n",
    "from tqdm import tqdm"
   ]
  },
  {
   "cell_type": "code",
   "execution_count": 253,
   "id": "26549481",
   "metadata": {},
   "outputs": [],
   "source": [
    "#Вычисление Фиделити для векторов чистых состояний\n",
    "def Fidelity_pure(vec0, vec1):\n",
    "    return np.abs(np.dot(vec0, vec1.conjugate())) ** 2\n",
    "\n",
    "# Функция для отрисовки 3-D barchart\n",
    "def plot_matrix(m, title = 'Входное состояние'):\n",
    "    \n",
    "    style.use('ggplot')\n",
    "\n",
    "    fig = plt.figure(figsize = (8,8))\n",
    "    ax1 = fig.add_subplot(111, projection='3d')\n",
    "    \n",
    "    xi = np.reshape(list(np.arange(m.shape[0]))*m.shape[1], (-1))\n",
    "    yi = np.reshape(np.reshape((list(np.arange(m.shape[1]))*m.shape[0]), (m.shape[1], m.shape[0])).T, (-1))\n",
    "    z0 = np.zeros(m.shape[0]*m.shape[1])\n",
    "    \n",
    "    dx = np.ones(m.shape[0]*m.shape[1])\n",
    "    dy = np.ones(m.shape[1]*m.shape[0])\n",
    "    dz = np.reshape(m, (-1))\n",
    "    \n",
    "    ax1.bar3d(xi, yi, z0, dx, dy, dz, shade=True)\n",
    "\n",
    "\n",
    "    ax1.set_xlabel('Колличество фотонов во втором канале n2')\n",
    "    ax1.set_ylabel('Колличество фотонов в первом канале n1')\n",
    "    ax1.set_zlabel('Вероятность p1p2')\n",
    "    ax1.set_title(title)\n",
    "\n",
    "    plt.show()"
   ]
  },
  {
   "cell_type": "markdown",
   "id": "c58ad88d",
   "metadata": {},
   "source": [
    "# Пункт 1:\n",
    "### Зададим состояниее согласно 3-му варианту и определим для него фоковское пространство, достаточное для представленияя с точностью $10^{-6}$"
   ]
  },
  {
   "cell_type": "markdown",
   "id": "d67ad06f",
   "metadata": {},
   "source": [
    "Вариант 3:\n",
    "\n",
    "Рассматриваемое состояние:\n",
    "\n",
    "$\\phi ~ | \\alpha \\rangle + |1 \\rangle$, где $\\alpha = 0.9i$ =>\n",
    "\n",
    "$\\phi =  (|1 \\rangle + e^{\\frac{-|\\alpha|^2}{2}} \\sum_{n=0}^{n_{max}} \\frac{\\alpha^{n}}{\\sqrt{n!}} |n\\rangle) /  norm$, где $n = 0.9i$"
   ]
  },
  {
   "cell_type": "code",
   "execution_count": 254,
   "id": "ba2ece65",
   "metadata": {},
   "outputs": [],
   "source": [
    "# Создаёт когерентное состояние\n",
    "def get_rho_coherent(N, d, alpha = 0.9*1j):\n",
    "    n = np.arange(N)\n",
    "    fact_n = np.array([np.math.factorial(x) for x in n]).astype(float)\n",
    "    state = np.exp((-np.abs(alpha) ** 2) / 2) * (alpha ** n) / np.sqrt(fact_n)\n",
    "    rho = np.outer(state,state.conjugate())\n",
    "    \n",
    "    rho_full = np.zeros((d,d))\n",
    "    rho_full[:N,:N] = rho\n",
    "    return rho_full, state\n",
    "\n",
    "\n",
    "def get_coherent_probs(n, alpha = 0.9*1j):\n",
    "    return np.exp((-np.abs(alpha) ** 2)) * (np.abs(alpha) ** (2*n)) / float(np.math.factorial(n))\n",
    "\n",
    "def get_coherent_coefs(n, alpha = 0.9*1j):\n",
    "    return np.exp((-np.abs(alpha) ** 2) / 2) * (alpha ** (2*n)) / np.sqrt(float(np.math.factorial(n)))\n",
    "    \n",
    "# Расчитывает ошибку ограничения размерности рассматриваемой системы\n",
    "def restrictions_err(N, func = get_coherent_probs):\n",
    "    return 1 - sum([func(i) for i in range(N)])\n",
    "\n",
    "def get_my_state(N, d):\n",
    "    _, state = get_rho_coherent(N, d, alpha = 0.9*1j)\n",
    "    state1 = np.zeros(len(state))\n",
    "    state1[1] = 1\n",
    "    state += state1\n",
    "    norm_coef = np.sqrt(state@state.conj())\n",
    "    \n",
    "    state = state/norm_coef\n",
    "    rho = np.outer(state,state.conjugate())\n",
    "    \n",
    "    rho_full = np.zeros((d,d))\n",
    "    rho_full[:N,:N] = rho\n",
    "    return rho, state"
   ]
  },
  {
   "cell_type": "markdown",
   "id": "26ada4a6",
   "metadata": {},
   "source": [
    "Заданное состояние является суперпозицией фоковского и когерентного. При этом фоковское cостояние $|1 \\rangle$ представляется точно в рассматриваемом фоковском пространнстве $n>=1$.\n",
    "Будем следить только за точностью представления когерентного состояния.\n",
    "\n",
    "Найдём размерность достаточную для представления когерентного состояния с точностью $10^{-6}$"
   ]
  },
  {
   "cell_type": "code",
   "execution_count": 255,
   "id": "2b212694",
   "metadata": {},
   "outputs": [
    {
     "name": "stdout",
     "output_type": "stream",
     "text": [
      "Ошибка в распределении за счёт сокращения размерности до 8: 2.244554789920805e-06\n",
      "Ошибка в распределении за счёт сокращения размерности до 9: 2.0008311862884653e-07\n"
     ]
    }
   ],
   "source": [
    "print('Ошибка в распределении за счёт сокращения размерности до 8:', restrictions_err(8))\n",
    "print('Ошибка в распределении за счёт сокращения размерности до 9:', restrictions_err(9))"
   ]
  },
  {
   "cell_type": "markdown",
   "id": "3ce2defc",
   "metadata": {},
   "source": [
    "Достаточно рассмотреть фоковское пространство размерностью 9"
   ]
  },
  {
   "cell_type": "code",
   "execution_count": 256,
   "id": "8d85b2ae",
   "metadata": {},
   "outputs": [
    {
     "name": "stderr",
     "output_type": "stream",
     "text": [
      "/home/stas/anaconda3/lib/python3.7/site-packages/ipykernel_launcher.py:9: ComplexWarning: Casting complex values to real discards the imaginary part\n",
      "  if __name__ == '__main__':\n",
      "/home/stas/anaconda3/lib/python3.7/site-packages/ipykernel_launcher.py:34: ComplexWarning: Casting complex values to real discards the imaginary part\n"
     ]
    }
   ],
   "source": [
    "N = 9\n",
    "# Получим заданное состояние\n",
    "my_rho, my_state = get_my_state(N, N)\n",
    "\n",
    "# Определим массив коэфициентов cn при соответствующих состояниях |n>\n",
    "cn_list = my_state"
   ]
  },
  {
   "cell_type": "markdown",
   "id": "2cf6407f",
   "metadata": {},
   "source": [
    "\n",
    "# Пункт 2:\n",
    "#### Зададим состояние через разложение на полиномы Эрмита"
   ]
  },
  {
   "cell_type": "code",
   "execution_count": 257,
   "id": "97f2bb28",
   "metadata": {},
   "outputs": [
    {
     "data": {
      "image/png": "[encoded data removed]",
      "text/plain": [
       "<IPython.core.display.Image object>"
      ]
     },
     "execution_count": 257,
     "metadata": {},
     "output_type": "execute_result"
    }
   ],
   "source": [
    "from IPython.display import Image\n",
    "Image(filename='pics/Chebyshev_hermit_basis.png')"
   ]
  },
  {
   "cell_type": "markdown",
   "id": "db6f97a6",
   "metadata": {},
   "source": [
    "Также учтём зависимость от фазы"
   ]
  },
  {
   "cell_type": "code",
   "execution_count": 258,
   "id": "160dd45d",
   "metadata": {},
   "outputs": [
    {
     "data": {
      "image/png": "[encoded data removed]",
      "text/plain": [
       "<IPython.core.display.Image object>"
      ]
     },
     "execution_count": 258,
     "metadata": {},
     "output_type": "execute_result"
    }
   ],
   "source": [
    "Image(filename='pics/psi_theta.png')"
   ]
  },
  {
   "cell_type": "markdown",
   "id": "2d35c75b",
   "metadata": {},
   "source": [
    "И окончательно получим состояние через найденные пункте 1 коэффициенты $c_n$"
   ]
  },
  {
   "cell_type": "code",
   "execution_count": 259,
   "id": "3f143237",
   "metadata": {},
   "outputs": [
    {
     "data": {
      "image/png": "[encoded data removed]",
      "text/plain": [
       "<IPython.core.display.Image object>"
      ]
     },
     "execution_count": 259,
     "metadata": {},
     "output_type": "execute_result"
    }
   ],
   "source": [
    "Image(filename='pics/state.png')"
   ]
  },
  {
   "cell_type": "code",
   "execution_count": 260,
   "id": "6fd8441f",
   "metadata": {},
   "outputs": [],
   "source": [
    "def phi_theta(n, x, theta):\n",
    "    return (1/(np.pi**0.5*2**n*factorial(n)))**(1/2)*hermite(n)(x)*np.exp(-x**2/2)*np.exp(1j*n*theta)\n",
    "\n",
    "def get_theor_state(cn_list, N, x, theta):\n",
    "    return np.sum(np.array([cn_list[i]*phi_theta(i, x, theta) for i in range(N)]), axis = 0)\n",
    "    \n",
    "def get_probs(state):\n",
    "    return abs(state)**2\n",
    "\n",
    "# Более быстрая функция для вероятности. Понадобится при решении УП\n",
    "def p_(phi_theta, psi):\n",
    "    return abs(np.tensordot(psi, phi_theta, axes=1))**2"
   ]
  },
  {
   "cell_type": "code",
   "execution_count": 261,
   "id": "077ed326",
   "metadata": {},
   "outputs": [
    {
     "data": {
      "image/png": "[encoded data removed]",
      "text/plain": [
       "<Figure size 432x288 with 1 Axes>"
      ]
     },
     "metadata": {
      "needs_background": "light"
     },
     "output_type": "display_data"
    }
   ],
   "source": [
    "x_list = np.linspace(-8, 8, 1000)\n",
    "thetas = [0, np.pi/4, np.pi/2, 3*np.pi/4]\n",
    "thetas_label = ['0', '$\\pi/4$', '$\\pi/2$', '$3\\pi/4$']\n",
    "\n",
    "for theta, theta_label in zip(thetas, thetas_label):\n",
    "    p_list = get_probs(get_theor_state(cn_list, N, x_list, theta))\n",
    "    plt.plot(x_list, p_list, '-', alpha=0.7, label=theta_label)\n",
    "plt.xlabel('$x_\\Theta$')\n",
    "plt.ylabel('Вероятность')\n",
    "plt.legend()\n",
    "plt.grid()\n",
    "plt.show()"
   ]
  },
  {
   "cell_type": "markdown",
   "id": "68adab04",
   "metadata": {},
   "source": [
    "# Пункт 3:\n",
    "#### Выполним симуляцию измерений для каждого значения $\\theta$"
   ]
  },
  {
   "cell_type": "code",
   "execution_count": 262,
   "id": "a27098c4",
   "metadata": {},
   "outputs": [],
   "source": [
    "def F(z, x_list, state):\n",
    "    return np.trapz(get_probs(state)[x_list <= z], x_list[x_list <= z])"
   ]
  },
  {
   "cell_type": "code",
   "execution_count": 263,
   "id": "99131ff2",
   "metadata": {},
   "outputs": [
    {
     "name": "stderr",
     "output_type": "stream",
     "text": [
      "100%|██████████| 100/100 [00:00<00:00, 12667.40it/s]\n",
      "100%|██████████| 100/100 [00:00<00:00, 10319.11it/s]\n",
      "100%|██████████| 100/100 [00:00<00:00, 9766.01it/s]\n",
      "100%|██████████| 100/100 [00:00<00:00, 7248.93it/s]\n"
     ]
    }
   ],
   "source": [
    "n = 10000\n",
    "L = 10\n",
    "inv_points = 100\n",
    "\n",
    "\n",
    "\n",
    "x_list = np.linspace(-L, L, inv_points)\n",
    "\n",
    "thetas = [0, np.pi/4, np.pi/2, 3*np.pi/4]\n",
    "thetas_label = ['0', '$\\pi/4$', '$\\pi/2$', '$3\\pi/4$']\n",
    "\n",
    "Func_list = []\n",
    "x_rec_list = []\n",
    "\n",
    "for theta in thetas:\n",
    "    y = []\n",
    "    state = get_theor_state(cn_list, N, x_list, theta)\n",
    "    for x_inv in tqdm(x_list):\n",
    "        y.append(F(x_inv, x_list, state))\n",
    "                 \n",
    "    # Восстановим функцию распределения\n",
    "    F_inv = interpolate.interp1d(y, x_list, fill_value=(0, 1), bounds_error=False)\n",
    "    Func_list.append(F_inv)\n",
    "    \n",
    "    # Из восстановленной ф-ии распределения сгенерируем 1000 случайных величин\n",
    "    # Каждое соответствует измерению\n",
    "    y_random = np.random.rand(n)\n",
    "    x_reconstructed = F_inv(y_random)\n",
    "    x_rec_list.append(x_reconstructed)\n",
    "    "
   ]
  },
  {
   "cell_type": "markdown",
   "id": "19a5f636",
   "metadata": {},
   "source": [
    "#### Построим соответствующие распределения"
   ]
  },
  {
   "cell_type": "code",
   "execution_count": 264,
   "id": "a971327f",
   "metadata": {},
   "outputs": [
    {
     "data": {
      "image/png": "[encoded data removed]",
      "text/plain": [
       "<Figure size 432x288 with 1 Axes>"
      ]
     },
     "metadata": {
      "needs_background": "light"
     },
     "output_type": "display_data"
    },
    {
     "data": {
      "image/png": "[encoded data removed]",
      "text/plain": [
       "<Figure size 432x288 with 1 Axes>"
      ]
     },
     "metadata": {
      "needs_background": "light"
     },
     "output_type": "display_data"
    },
    {
     "data": {
      "image/png": "[encoded data removed]",
      "text/plain": [
       "<Figure size 432x288 with 1 Axes>"
      ]
     },
     "metadata": {
      "needs_background": "light"
     },
     "output_type": "display_data"
    },
    {
     "data": {
      "image/png": "[encoded data removed]",
      "text/plain": [
       "<Figure size 432x288 with 1 Axes>"
      ]
     },
     "metadata": {
      "needs_background": "light"
     },
     "output_type": "display_data"
    }
   ],
   "source": [
    "for x_rec, theta_label in zip(x_rec_list, thetas_label):   \n",
    "    plt.hist(x_rec, bins=100, density=True, label=f'Результаты измерений theta = {theta_label}')\n",
    "    plt.xlabel('$x \\Theta$')\n",
    "    plt.ylabel('Вероятность')\n",
    "    plt.title(r'$\\theta = $' + f'{theta_label}')\n",
    "    plt.xlim(-6, 6)\n",
    "    plt.legend()\n",
    "    plt.show()"
   ]
  },
  {
   "cell_type": "markdown",
   "id": "0ef55a45",
   "metadata": {},
   "source": [
    "# Пункт 4:\n",
    "\n",
    "#### Проведём реконструкцию состояния методом MLE"
   ]
  },
  {
   "cell_type": "code",
   "execution_count": 265,
   "id": "29aee8a5",
   "metadata": {},
   "outputs": [
    {
     "data": {
      "image/png": "[encoded data removed]",
      "text/plain": [
       "<IPython.core.display.Image object>"
      ]
     },
     "execution_count": 265,
     "metadata": {},
     "output_type": "execute_result"
    }
   ],
   "source": [
    "Image(filename='pics/R_matrix.png')"
   ]
  },
  {
   "cell_type": "markdown",
   "id": "3dcb638a",
   "metadata": {},
   "source": [
    "Создадим полный набор $(x_j, \\theta_j)$"
   ]
  },
  {
   "cell_type": "code",
   "execution_count": 266,
   "id": "a7e96279",
   "metadata": {},
   "outputs": [
    {
     "data": {
      "text/plain": [
       "10000"
      ]
     },
     "execution_count": 266,
     "metadata": {},
     "output_type": "execute_result"
    }
   ],
   "source": [
    "len(x_rec_list[0])"
   ]
  },
  {
   "cell_type": "code",
   "execution_count": 267,
   "id": "e2982241",
   "metadata": {},
   "outputs": [],
   "source": [
    "# Полный набор измерений состоит из 4000 измерений по 4000 на каждую theta\n",
    "x_rec_list = np.array(x_rec_list)\n",
    "\n",
    "thetas_list = []\n",
    "for theta in thetas:\n",
    "    thetas_list.append([theta]*x_rec_list.shape[1])\n",
    "    \n",
    "thetas_list = np.array(thetas_list)\n"
   ]
  },
  {
   "cell_type": "code",
   "execution_count": 268,
   "id": "f3aeffb8",
   "metadata": {},
   "outputs": [],
   "source": [
    "# Зададим функцию собирающую матрицу R(c)\n",
    "\n",
    "# Заметим, что числители дробей в сумме выше не зависят от c. \n",
    "# Посчитаем их заранее, чтобы не пересчитывать на каждой итерации далее\n",
    "\n",
    "\n",
    "def get_R_numerators(N = 9, thetas = thetas, x_rec_list = x_rec_list):\n",
    "    psi_n_list = []\n",
    "    for n in range(N):\n",
    "        psi = []\n",
    "        for theta, x in zip(thetas, x_rec_list):       \n",
    "            psi.append(phi_theta(n, x, theta))\n",
    "        psi = np.array(psi).flatten()\n",
    "        psi_n_list.append(psi)\n",
    "    \n",
    "    numerators_list = np.reshape([psi1.conj()*psi2 for psi1 in psi_n_list for psi2 in  psi_n_list], (9,9,40000))                       \n",
    "    return np.array(numerators_list).T\n",
    "\n",
    "numerators_list = get_R_numerators()"
   ]
  },
  {
   "cell_type": "code",
   "execution_count": 269,
   "id": "bf35854c",
   "metadata": {},
   "outputs": [],
   "source": [
    "def get_R(c, numerators_list):\n",
    "    denumerators_list = []\n",
    "    for theta, x in zip(thetas, x_rec_list):\n",
    "        state = get_theor_state(c, N, x, theta)\n",
    "        p = get_probs(state)\n",
    "        denumerators_list.append(p)\n",
    "        \n",
    "    denumerators_list = np.array(denumerators_list).flatten()\n",
    "    return np.sum(numerators_list/np.reshape(denumerators_list, (40000, 1, 1)), axis = 0).T\n",
    "    \n",
    "    "
   ]
  },
  {
   "cell_type": "code",
   "execution_count": 270,
   "id": "c9a62b6c",
   "metadata": {},
   "outputs": [
    {
     "name": "stdout",
     "output_type": "stream",
     "text": [
      "[[ 20868686.71049435+0.00000000e+00j -24180176.26044122-1.09776035e+04j\n",
      "    5617590.61983606+5.31561761e+02j  15329462.73118142+5.86735022e+03j\n",
      "  -13632291.12648614+1.02201196e-12j  -6375205.06411106+7.08310439e+03j\n",
      "   15312650.90083278-9.59131444e+02j   -927614.90297259+2.19739585e+03j\n",
      "  -13853436.87238291-4.02830060e-12j]\n",
      " [-24180176.26044122+1.09776035e+04j  28861815.2590508 +0.00000000e+00j\n",
      "   -7636239.76038955-1.83149028e+04j -17515240.04373867-8.72708028e+02j\n",
      "   16403533.5685096 -4.10360247e+03j   6994101.21584502+6.71111148e-12j\n",
      "  -18075756.81056529+6.08560477e+03j   1279689.89251638+8.03456361e+02j\n",
      "   16430728.5905637 +9.23229629e+03j]\n",
      " [  5617590.61983606-5.31561761e+02j  -7636239.76038955+1.83149028e+04j\n",
      "    3451782.14700604+0.00000000e+00j   3007562.73559573-1.21711923e+04j\n",
      "   -3995168.71338116-5.57460294e+01j   -863914.57311049-1.20204307e+04j\n",
      "    3747214.89431226+3.03066857e-12j   -300543.48287025-7.01466895e+03j\n",
      "   -3626893.70429682-1.39528266e+03j]\n",
      " [ 15329462.73118142-5.86735022e+03j -17515240.04373867+8.72708028e+02j\n",
      "    3007562.73559573+1.21711923e+04j  13082780.21943678+0.00000000e+00j\n",
      "  -11031871.86082853+5.86128603e+02j  -5576734.94534885-2.59460466e+03j\n",
      "   13077946.17419014-1.31549685e+03j  -1191209.10479125-1.86370996e-12j\n",
      "  -11560624.31121872-3.48569616e+03j]\n",
      " [-13632291.12648614-1.02201196e-12j  16403533.5685096 +4.10360247e+03j\n",
      "   -3995168.71338116+5.57460294e+01j -11031871.86082853-5.86128603e+02j\n",
      "   10292833.70905947+0.00000000e+00j   4435295.83107417-5.67708898e+03j\n",
      "  -11691307.11065575-1.12593236e+03j   1211583.2188797 -2.88560150e+03j\n",
      "   10428230.31982743+2.71739378e-12j]\n",
      " [ -6375205.06411106-7.08310439e+03j   6994101.21584502-6.71111148e-12j\n",
      "    -863914.57311049+1.20204307e+04j  -5576734.94534885+2.59460466e+03j\n",
      "    4435295.83107417+5.67708898e+03j   2509426.72519861+0.00000000e+00j\n",
      "   -5409753.67776065-6.58828693e+03j    461515.43849084-1.01054867e+03j\n",
      "    4746738.89400801-7.97412192e+03j]\n",
      " [ 15312650.90083278+9.59131444e+02j -18075756.81056529-6.08560477e+03j\n",
      "    3747214.89431226-3.03066857e-12j  13077946.17419014+1.31549685e+03j\n",
      "  -11691307.11065575+1.12593236e+03j  -5409753.67776065+6.58828693e+03j\n",
      "   13644131.57860748+0.00000000e+00j  -1463410.22863916+2.18425611e+03j\n",
      "  -12059971.66565507-2.21542473e+03j]\n",
      " [  -927614.90297259-2.19739585e+03j   1279689.89251638-8.03456361e+02j\n",
      "    -300543.48287025+7.01466895e+03j  -1191209.10479125+1.86370996e-12j\n",
      "    1211583.2188797 +2.88560150e+03j    461515.43849084+1.01054867e+03j\n",
      "   -1463410.22863916-2.18425611e+03j    326942.41947194+0.00000000e+00j\n",
      "    1249309.57539962-5.73586213e+03j]\n",
      " [-13853436.87238291+4.02830060e-12j  16430728.5905637 -9.23229629e+03j\n",
      "   -3626893.70429682+1.39528266e+03j -11560624.31121872+3.48569616e+03j\n",
      "   10428230.31982743-2.71739378e-12j   4746738.89400801+7.97412192e+03j\n",
      "  -12059971.66565507+2.21542473e+03j   1249309.57539962+5.73586213e+03j\n",
      "   10747302.09289021+0.00000000e+00j]]\n"
     ]
    }
   ],
   "source": [
    "# Проверим работу ф-ии\n",
    "c = np.random.randn(9)\n",
    "c = c/np.sqrt(c**2)\n",
    "R = get_R(c, numerators_list)\n",
    "print(R)"
   ]
  },
  {
   "cell_type": "code",
   "execution_count": 271,
   "id": "595e0271",
   "metadata": {},
   "outputs": [
    {
     "data": {
      "image/png": "[encoded data removed]",
      "text/plain": [
       "<IPython.core.display.Image object>"
      ]
     },
     "execution_count": 271,
     "metadata": {},
     "output_type": "execute_result"
    }
   ],
   "source": [
    "Image(filename='pics/iter_method.png')"
   ]
  },
  {
   "cell_type": "code",
   "execution_count": 272,
   "id": "55fbb7b7",
   "metadata": {},
   "outputs": [
    {
     "name": "stderr",
     "output_type": "stream",
     "text": [
      "  0%|          | 2/1000 [00:00<02:10,  7.66it/s]"
     ]
    },
    {
     "name": "stdout",
     "output_type": "stream",
     "text": [
      "2.4245794534902605\n",
      "1.1310773303612098\n"
     ]
    },
    {
     "name": "stderr",
     "output_type": "stream",
     "text": [
      "  0%|          | 4/1000 [00:00<02:04,  7.98it/s]"
     ]
    },
    {
     "name": "stdout",
     "output_type": "stream",
     "text": [
      "0.47352888427692\n",
      "0.21383116341084982\n"
     ]
    },
    {
     "name": "stderr",
     "output_type": "stream",
     "text": [
      "  1%|          | 6/1000 [00:00<02:08,  7.72it/s]"
     ]
    },
    {
     "name": "stdout",
     "output_type": "stream",
     "text": [
      "0.23941939335822918\n",
      "0.12105247314145276\n"
     ]
    },
    {
     "name": "stderr",
     "output_type": "stream",
     "text": [
      "  1%|          | 8/1000 [00:01<02:05,  7.93it/s]"
     ]
    },
    {
     "name": "stdout",
     "output_type": "stream",
     "text": [
      "0.08270830292690187\n",
      "0.062486997549081824\n"
     ]
    },
    {
     "name": "stderr",
     "output_type": "stream",
     "text": [
      "  1%|          | 10/1000 [00:01<02:08,  7.69it/s]"
     ]
    },
    {
     "name": "stdout",
     "output_type": "stream",
     "text": [
      "0.04929753310039509\n",
      "0.038266322571368916\n"
     ]
    },
    {
     "name": "stderr",
     "output_type": "stream",
     "text": [
      "  1%|          | 12/1000 [00:01<02:18,  7.14it/s]"
     ]
    },
    {
     "name": "stdout",
     "output_type": "stream",
     "text": [
      "0.02954582640615418\n",
      "0.022781220763992655\n"
     ]
    },
    {
     "name": "stderr",
     "output_type": "stream",
     "text": [
      "  1%|▏         | 14/1000 [00:01<02:05,  7.87it/s]"
     ]
    },
    {
     "name": "stdout",
     "output_type": "stream",
     "text": [
      "0.01769764515159258\n",
      "0.013488488771561877\n"
     ]
    },
    {
     "name": "stderr",
     "output_type": "stream",
     "text": [
      "  2%|▏         | 16/1000 [00:02<02:03,  7.94it/s]"
     ]
    },
    {
     "name": "stdout",
     "output_type": "stream",
     "text": [
      "0.010302517850951265\n",
      "0.007946261833387952\n"
     ]
    },
    {
     "name": "stderr",
     "output_type": "stream",
     "text": [
      "  2%|▏         | 18/1000 [00:02<02:03,  7.97it/s]"
     ]
    },
    {
     "name": "stdout",
     "output_type": "stream",
     "text": [
      "0.006160731397325897\n",
      "0.004787992143154316\n"
     ]
    },
    {
     "name": "stderr",
     "output_type": "stream",
     "text": [
      "  2%|▏         | 20/1000 [00:02<01:58,  8.30it/s]"
     ]
    },
    {
     "name": "stdout",
     "output_type": "stream",
     "text": [
      "0.0037412374620426\n",
      "0.002948587141543558\n"
     ]
    },
    {
     "name": "stderr",
     "output_type": "stream",
     "text": [
      "  2%|▏         | 22/1000 [00:02<01:59,  8.20it/s]"
     ]
    },
    {
     "name": "stdout",
     "output_type": "stream",
     "text": [
      "0.0023455719719038177\n",
      "0.0018816288810738191\n"
     ]
    },
    {
     "name": "stderr",
     "output_type": "stream",
     "text": [
      "  2%|▏         | 24/1000 [00:03<01:53,  8.58it/s]"
     ]
    },
    {
     "name": "stdout",
     "output_type": "stream",
     "text": [
      "0.0015201746194853133\n",
      "0.0012352972923412682\n"
     ]
    },
    {
     "name": "stderr",
     "output_type": "stream",
     "text": [
      "  3%|▎         | 26/1000 [00:03<01:53,  8.57it/s]"
     ]
    },
    {
     "name": "stdout",
     "output_type": "stream",
     "text": [
      "0.0010085429882906794\n",
      "0.0008265865790606406\n"
     ]
    },
    {
     "name": "stderr",
     "output_type": "stream",
     "text": [
      "  3%|▎         | 28/1000 [00:03<01:51,  8.75it/s]"
     ]
    },
    {
     "name": "stdout",
     "output_type": "stream",
     "text": [
      "0.0006796448429635629\n",
      "0.0005604010576249357\n"
     ]
    },
    {
     "name": "stderr",
     "output_type": "stream",
     "text": [
      "  3%|▎         | 30/1000 [00:03<01:57,  8.28it/s]"
     ]
    },
    {
     "name": "stdout",
     "output_type": "stream",
     "text": [
      "0.00046327731820754593\n",
      "0.0003839442954552001\n"
     ]
    },
    {
     "name": "stderr",
     "output_type": "stream",
     "text": [
      "  3%|▎         | 32/1000 [00:04<02:28,  6.53it/s]"
     ]
    },
    {
     "name": "stdout",
     "output_type": "stream",
     "text": [
      "0.00031899075726699386\n",
      "0.0002656980927807512\n"
     ]
    },
    {
     "name": "stderr",
     "output_type": "stream",
     "text": [
      "  3%|▎         | 34/1000 [00:04<02:48,  5.73it/s]"
     ]
    },
    {
     "name": "stdout",
     "output_type": "stream",
     "text": [
      "0.00022188268494199178\n",
      "0.00018578205826753658\n"
     ]
    },
    {
     "name": "stderr",
     "output_type": "stream",
     "text": [
      "  4%|▎         | 36/1000 [00:04<02:29,  6.46it/s]"
     ]
    },
    {
     "name": "stdout",
     "output_type": "stream",
     "text": [
      "0.00015596975677062639\n",
      "0.00013128972466320445\n"
     ]
    },
    {
     "name": "stderr",
     "output_type": "stream",
     "text": [
      "  4%|▍         | 38/1000 [00:04<02:06,  7.59it/s]"
     ]
    },
    {
     "name": "stdout",
     "output_type": "stream",
     "text": [
      "0.00011080452047723048\n",
      "9.375379793026504e-05\n"
     ]
    },
    {
     "name": "stderr",
     "output_type": "stream",
     "text": [
      "  4%|▍         | 40/1000 [00:05<01:58,  8.12it/s]"
     ]
    },
    {
     "name": "stdout",
     "output_type": "stream",
     "text": [
      "7.952070976812363e-05\n",
      "6.760460496667033e-05\n"
     ]
    },
    {
     "name": "stderr",
     "output_type": "stream",
     "text": [
      "  4%|▍         | 42/1000 [00:05<01:52,  8.49it/s]"
     ]
    },
    {
     "name": "stdout",
     "output_type": "stream",
     "text": [
      "5.759881810107521e-05\n",
      "4.9172620120234815e-05\n"
     ]
    },
    {
     "name": "stderr",
     "output_type": "stream",
     "text": [
      "  4%|▍         | 44/1000 [00:05<01:51,  8.56it/s]"
     ]
    },
    {
     "name": "stdout",
     "output_type": "stream",
     "text": [
      "4.205658278946433e-05\n",
      "3.6030742699388296e-05\n"
     ]
    },
    {
     "name": "stderr",
     "output_type": "stream",
     "text": [
      "  5%|▍         | 46/1000 [00:05<01:50,  8.63it/s]"
     ]
    },
    {
     "name": "stdout",
     "output_type": "stream",
     "text": [
      "3.0915055019018283e-05\n",
      "2.6561712518133946e-05\n"
     ]
    },
    {
     "name": "stderr",
     "output_type": "stream",
     "text": [
      "  5%|▍         | 48/1000 [00:06<01:54,  8.29it/s]"
     ]
    },
    {
     "name": "stdout",
     "output_type": "stream",
     "text": [
      "2.2848977183609717e-05\n",
      "1.9676232867322385e-05\n"
     ]
    },
    {
     "name": "stderr",
     "output_type": "stream",
     "text": [
      "  5%|▌         | 50/1000 [00:06<01:51,  8.52it/s]"
     ]
    },
    {
     "name": "stdout",
     "output_type": "stream",
     "text": [
      "1.6960019472160016e-05\n",
      "1.4630853312456972e-05\n"
     ]
    },
    {
     "name": "stderr",
     "output_type": "stream",
     "text": [
      "  5%|▌         | 52/1000 [00:06<01:46,  8.91it/s]"
     ]
    },
    {
     "name": "stdout",
     "output_type": "stream",
     "text": [
      "1.2630675362797063e-05\n",
      "1.0910799959402808e-05\n"
     ]
    },
    {
     "name": "stderr",
     "output_type": "stream",
     "text": [
      "  5%|▌         | 54/1000 [00:06<01:44,  9.08it/s]"
     ]
    },
    {
     "name": "stdout",
     "output_type": "stream",
     "text": [
      "9.430261919746076e-06\n",
      "8.154480763911004e-06\n"
     ]
    },
    {
     "name": "stderr",
     "output_type": "stream",
     "text": [
      "  6%|▌         | 56/1000 [00:07<01:45,  8.94it/s]"
     ]
    },
    {
     "name": "stdout",
     "output_type": "stream",
     "text": [
      "7.054177470349216e-06\n",
      "6.104492632078925e-06\n"
     ]
    },
    {
     "name": "stderr",
     "output_type": "stream",
     "text": [
      "  6%|▌         | 58/1000 [00:07<01:43,  9.14it/s]"
     ]
    },
    {
     "name": "stdout",
     "output_type": "stream",
     "text": [
      "5.284265585387381e-06\n",
      "4.575442567926853e-06\n"
     ]
    },
    {
     "name": "stderr",
     "output_type": "stream",
     "text": [
      "  6%|▌         | 60/1000 [00:07<01:40,  9.31it/s]"
     ]
    },
    {
     "name": "stdout",
     "output_type": "stream",
     "text": [
      "3.962588660003517e-06\n",
      "3.4324835325548525e-06\n"
     ]
    },
    {
     "name": "stderr",
     "output_type": "stream",
     "text": [
      "  6%|▌         | 62/1000 [00:07<01:44,  9.01it/s]"
     ]
    },
    {
     "name": "stdout",
     "output_type": "stream",
     "text": [
      "2.9737851617270504e-06\n",
      "2.5767489180868586e-06\n"
     ]
    },
    {
     "name": "stderr",
     "output_type": "stream",
     "text": [
      "  6%|▋         | 64/1000 [00:07<01:41,  9.19it/s]"
     ]
    },
    {
     "name": "stdout",
     "output_type": "stream",
     "text": [
      "2.2329919835759217e-06\n",
      "1.93529505055642e-06\n"
     ]
    },
    {
     "name": "stderr",
     "output_type": "stream",
     "text": [
      "  7%|▋         | 66/1000 [00:08<01:42,  9.09it/s]"
     ]
    },
    {
     "name": "stdout",
     "output_type": "stream",
     "text": [
      "1.677434830625065e-06\n",
      "1.454042141441839e-06\n"
     ]
    },
    {
     "name": "stderr",
     "output_type": "stream",
     "text": [
      "  7%|▋         | 68/1000 [00:08<01:40,  9.24it/s]"
     ]
    },
    {
     "name": "stdout",
     "output_type": "stream",
     "text": [
      "1.2604813230859073e-06\n",
      "1.0927475145990066e-06\n"
     ]
    },
    {
     "name": "stderr",
     "output_type": "stream",
     "text": [
      "  7%|▋         | 70/1000 [00:08<01:42,  9.10it/s]"
     ]
    },
    {
     "name": "stdout",
     "output_type": "stream",
     "text": [
      "9.473789447841087e-07\n",
      "8.213818899670871e-07\n"
     ]
    },
    {
     "name": "stderr",
     "output_type": "stream",
     "text": [
      "  7%|▋         | 72/1000 [00:08<01:40,  9.23it/s]"
     ]
    },
    {
     "name": "stdout",
     "output_type": "stream",
     "text": [
      "7.121663536826545e-07\n",
      "6.174908491322643e-07\n"
     ]
    },
    {
     "name": "stderr",
     "output_type": "stream",
     "text": [
      "  7%|▋         | 74/1000 [00:08<01:40,  9.17it/s]"
     ]
    },
    {
     "name": "stdout",
     "output_type": "stream",
     "text": [
      "5.354149305413268e-07\n",
      "4.6425833646889923e-07\n"
     ]
    },
    {
     "name": "stderr",
     "output_type": "stream",
     "text": [
      "  8%|▊         | 76/1000 [00:09<01:39,  9.26it/s]"
     ]
    },
    {
     "name": "stdout",
     "output_type": "stream",
     "text": [
      "4.025657873124212e-07\n",
      "3.49076626762438e-07\n"
     ]
    },
    {
     "name": "stderr",
     "output_type": "stream",
     "text": [
      "  8%|▊         | 78/1000 [00:09<01:45,  8.74it/s]"
     ]
    },
    {
     "name": "stdout",
     "output_type": "stream",
     "text": [
      "3.026986200314005e-07\n",
      "2.6248532448856754e-07\n"
     ]
    },
    {
     "name": "stderr",
     "output_type": "stream",
     "text": [
      "  8%|▊         | 80/1000 [00:09<01:47,  8.57it/s]"
     ]
    },
    {
     "name": "stdout",
     "output_type": "stream",
     "text": [
      "2.2761653390365895e-07\n",
      "1.9738137049907415e-07\n"
     ]
    },
    {
     "name": "stderr",
     "output_type": "stream",
     "text": [
      "  8%|▊         | 82/1000 [00:09<01:41,  9.01it/s]"
     ]
    },
    {
     "name": "stdout",
     "output_type": "stream",
     "text": [
      "1.711636598304171e-07\n",
      "1.4842927583527198e-07\n"
     ]
    },
    {
     "name": "stderr",
     "output_type": "stream",
     "text": [
      "  8%|▊         | 84/1000 [00:10<01:41,  9.00it/s]"
     ]
    },
    {
     "name": "stdout",
     "output_type": "stream",
     "text": [
      "1.2871518666368953e-07\n",
      "1.1161997071189284e-07\n"
     ]
    },
    {
     "name": "stderr",
     "output_type": "stream",
     "text": [
      "  9%|▊         | 86/1000 [00:10<01:38,  9.23it/s]"
     ]
    },
    {
     "name": "stdout",
     "output_type": "stream",
     "text": [
      "9.679560311907714e-08\n",
      "8.394034137921168e-08\n"
     ]
    },
    {
     "name": "stderr",
     "output_type": "stream",
     "text": [
      "  9%|▉         | 88/1000 [00:10<01:38,  9.25it/s]"
     ]
    },
    {
     "name": "stdout",
     "output_type": "stream",
     "text": [
      "7.279256190539544e-08\n",
      "6.312541951688878e-08\n"
     ]
    },
    {
     "name": "stderr",
     "output_type": "stream",
     "text": [
      "  9%|▉         | 90/1000 [00:10<01:38,  9.28it/s]"
     ]
    },
    {
     "name": "stdout",
     "output_type": "stream",
     "text": [
      "5.47422196027847e-08\n",
      "4.747240720974745e-08\n"
     ]
    },
    {
     "name": "stderr",
     "output_type": "stream",
     "text": [
      "  9%|▉         | 92/1000 [00:10<01:37,  9.30it/s]"
     ]
    },
    {
     "name": "stdout",
     "output_type": "stream",
     "text": [
      "4.1168090684210316e-08\n",
      "3.5701028264002076e-08\n"
     ]
    },
    {
     "name": "stderr",
     "output_type": "stream",
     "text": [
      "  9%|▉         | 94/1000 [00:11<01:37,  9.26it/s]"
     ]
    },
    {
     "name": "stdout",
     "output_type": "stream",
     "text": [
      "3.0960015865484285e-08\n",
      "2.6848622462564686e-08\n"
     ]
    },
    {
     "name": "stderr",
     "output_type": "stream",
     "text": [
      " 10%|▉         | 96/1000 [00:11<01:37,  9.29it/s]"
     ]
    },
    {
     "name": "stdout",
     "output_type": "stream",
     "text": [
      "2.328322681167323e-08\n",
      "2.0191315194823894e-08\n"
     ]
    },
    {
     "name": "stderr",
     "output_type": "stream",
     "text": [
      "\r",
      " 10%|▉         | 98/1000 [00:11<01:33,  9.67it/s]"
     ]
    },
    {
     "name": "stdout",
     "output_type": "stream",
     "text": [
      "1.7510005627424473e-08\n",
      "1.518476816832765e-08\n"
     ]
    },
    {
     "name": "stderr",
     "output_type": "stream",
     "text": [
      " 10%|█         | 100/1000 [00:11<01:36,  9.31it/s]"
     ]
    },
    {
     "name": "stdout",
     "output_type": "stream",
     "text": [
      "1.3168315369655545e-08\n",
      "1.1419640162084967e-08\n"
     ]
    },
    {
     "name": "stderr",
     "output_type": "stream",
     "text": [
      "\r",
      " 10%|█         | 100/1000 [00:11<01:47,  8.40it/s]"
     ]
    },
    {
     "name": "stdout",
     "output_type": "stream",
     "text": [
      "9.903181639544078e-09\n",
      "CPU times: user 10.8 s, sys: 849 ms, total: 11.6 s\n",
      "Wall time: 11.9 s\n"
     ]
    },
    {
     "name": "stderr",
     "output_type": "stream",
     "text": [
      "\n"
     ]
    }
   ],
   "source": [
    "%%time\n",
    "\n",
    "eps = 1e-8\n",
    "mu=0.5\n",
    "\n",
    "# Зададим случайное чистое состояние в качестве начального приближения\n",
    "c = np.random.randn(9)\n",
    "c = c/np.sqrt(c**2)\n",
    "\n",
    "for i in tqdm(range(1000)):\n",
    "    c_prev = c\n",
    "    c = (1-mu)*get_R(c_prev, numerators_list) @ c_prev/ 40000 + mu*c_prev\n",
    "    print(np.sum(abs(c_prev - c)**2)**0.5)\n",
    "    if np.sum(abs(c_prev - c)**2)**0.5 < eps:\n",
    "        break\n",
    "    \n",
    "    \n"
   ]
  },
  {
   "cell_type": "code",
   "execution_count": 273,
   "id": "c1a25ad7",
   "metadata": {},
   "outputs": [
    {
     "data": {
      "image/png": "[encoded data removed]",
      "text/plain": [
       "<Figure size 432x288 with 1 Axes>"
      ]
     },
     "metadata": {
      "needs_background": "light"
     },
     "output_type": "display_data"
    }
   ],
   "source": [
    "n_list = np.arange(9)\n",
    "\n",
    "plt.bar(n_list-0.1, abs(c)**2, alpha=0.5, width=0.5, label='Реконструкция')\n",
    "plt.bar(n_list+0.1, abs(cn_list)**2, alpha=0.5, width=0.5, label='Реальное состояние')\n",
    "plt.xticks(n_list)\n",
    "plt.xlim(-1, 10)\n",
    "plt.xlabel('Число фотонов')\n",
    "plt.ylabel('Вероятность')\n",
    "plt.legend()\n",
    "plt.show()"
   ]
  },
  {
   "cell_type": "code",
   "execution_count": 274,
   "id": "e469aa81",
   "metadata": {},
   "outputs": [
    {
     "data": {
      "text/plain": [
       "0.9992777257231451"
      ]
     },
     "execution_count": 274,
     "metadata": {},
     "output_type": "execute_result"
    }
   ],
   "source": [
    "# Рассчитаем Fidelity между реконструкцией и реальным состоянием\n",
    "Fidelity_pure(c, cn_list)"
   ]
  },
  {
   "cell_type": "markdown",
   "id": "936c62c5",
   "metadata": {},
   "source": [
    "Состояния совпадаяют с высокой точностью"
   ]
  },
  {
   "cell_type": "markdown",
   "id": "7591a5e8",
   "metadata": {},
   "source": [
    "# Пункт 4:\n",
    "\n",
    "#### Построим распределения для различных $\\theta$"
   ]
  },
  {
   "cell_type": "code",
   "execution_count": 275,
   "id": "fd2c85f3",
   "metadata": {},
   "outputs": [
    {
     "data": {
      "image/png": "[encoded data removed]",
      "text/plain": [
       "<Figure size 432x288 with 1 Axes>"
      ]
     },
     "metadata": {
      "needs_background": "light"
     },
     "output_type": "display_data"
    },
    {
     "data": {
      "image/png": "[encoded data removed]",
      "text/plain": [
       "<Figure size 432x288 with 1 Axes>"
      ]
     },
     "metadata": {
      "needs_background": "light"
     },
     "output_type": "display_data"
    },
    {
     "data": {
      "image/png": "[encoded data removed]",
      "text/plain": [
       "<Figure size 432x288 with 1 Axes>"
      ]
     },
     "metadata": {
      "needs_background": "light"
     },
     "output_type": "display_data"
    },
    {
     "data": {
      "image/png": "[encoded data removed]",
      "text/plain": [
       "<Figure size 432x288 with 1 Axes>"
      ]
     },
     "metadata": {
      "needs_background": "light"
     },
     "output_type": "display_data"
    }
   ],
   "source": [
    "x_list = np.linspace(-8, 8, 1000)\n",
    "thetas = [0, np.pi/4, np.pi/2, 3*np.pi/4]\n",
    "thetas_label = ['0', '$\\pi/4$', '$\\pi/2$', '$3\\pi/4$']\n",
    "\n",
    "\n",
    "for x, theta, theta_label in zip(x_rec_list, thetas, thetas_label):\n",
    "    \n",
    "    plt.hist(x, density = True, bins = 50, alpha = 0.3, label = 'Статистика моделирования измерений')\n",
    "    \n",
    "    p_list = get_probs(get_theor_state(cn_list, N, x_list, theta))\n",
    "    plt.plot(x_list, p_list, '-', linewidth = 3, alpha=0.7, label='Реальное состояние')\n",
    "    \n",
    "    p_list = get_probs(get_theor_state(c, N, x_list, theta))\n",
    "    plt.plot(x_list, p_list, '-.', linewidth = 2, alpha=0.7, label='Реконструкция')\n",
    "    \n",
    "    plt.title(f'Theta = {theta}')\n",
    "    plt.xlabel('$x_\\Theta$')\n",
    "    plt.ylabel('Вероятность')\n",
    "    plt.legend(loc='upper left')\n",
    "    plt.grid()\n",
    "    \n",
    "    plt.show()\n",
    "    \n",
    "    "
   ]
  },
  {
   "cell_type": "markdown",
   "id": "c868ac3d",
   "metadata": {},
   "source": [
    "# Пункт 6:\n",
    "\n",
    "#### Вычислим p-value для всех $\\theta$"
   ]
  },
  {
   "cell_type": "code",
   "execution_count": 276,
   "id": "f20572c8",
   "metadata": {},
   "outputs": [
    {
     "data": {
      "image/png": "[encoded data removed]",
      "text/plain": [
       "<IPython.core.display.Image object>"
      ]
     },
     "execution_count": 276,
     "metadata": {},
     "output_type": "execute_result"
    }
   ],
   "source": [
    "Image(filename='pics/Chi2.png')"
   ]
  },
  {
   "cell_type": "code",
   "execution_count": 286,
   "id": "7617c2e2",
   "metadata": {},
   "outputs": [],
   "source": [
    "# Разобьём данные по квантилям, чтобы в один бин не попадало менее 5-ти измерений\n",
    "n_bins = 10\n",
    "nt = 10000\n",
    "\n",
    "\n",
    "\n",
    "E_list = []\n",
    "O_list = []\n",
    "\n",
    "for x, theta in zip(x_rec_list, thetas):\n",
    "    x = np.array(sorted(x))\n",
    "#     x_bins = np.quantile(x, np.linspace(0,1,n_bins+1))\n",
    "    x_bins = np.linspace(x.min(), x.max(), n_bins+1)\n",
    "#     x_bins[0] -= 1\n",
    "    x_bin_prev = x_bins[0]\n",
    "#     x_bins[-1] += 1\n",
    "    for x_bin in x_bins[1:]:\n",
    "        x_vals = x[(x<x_bin) & (x>x_bin_prev)]\n",
    "        O = len(x_vals)\n",
    "        E = nt * np.trapz(get_probs(get_theor_state(c, N, x_vals, theta)), x_vals)\n",
    "        E_list.append(E)\n",
    "        O_list.append(O)\n",
    "        \n",
    "        x_bin_prev = x_bin\n",
    "        \n",
    "O_list = np.array(O_list)\n",
    "E_list = np.array(E_list)\n",
    "\n",
    "Xi2 = np.sum((O_list - E_list)**2/E_list)"
   ]
  },
  {
   "cell_type": "code",
   "execution_count": 287,
   "id": "0ec2cfd3",
   "metadata": {},
   "outputs": [
    {
     "name": "stdout",
     "output_type": "stream",
     "text": [
      "nt = 10000\n",
      "sum(E_list) для соответствующих theta = [9987.23929618 9981.50263102 9982.78374187 9978.25241236]\n"
     ]
    }
   ],
   "source": [
    "print(f'nt = {nt}')\n",
    "print(f'sum(E_list) для соответствующих theta = {np.sum(np.reshape(E_list, (4, n_bins)), axis = 1)}')"
   ]
  },
  {
   "cell_type": "code",
   "execution_count": 288,
   "id": "c05556ce",
   "metadata": {},
   "outputs": [
    {
     "name": "stdout",
     "output_type": "stream",
     "text": [
      "p-value = 1.3130327516375218e-06\n"
     ]
    }
   ],
   "source": [
    "nu = 4*n_bins - len(thetas) - 2*(N - 1) - 1\n",
    "p_value = 1 - chi2.cdf(Xi2.real, nu)\n",
    "print('p-value = ' + str(p_value))"
   ]
  },
  {
   "cell_type": "markdown",
   "id": "9e51341d",
   "metadata": {},
   "source": [
    "Для визуализации разобьём на меньшее количество бинов (n_bins = 10)"
   ]
  },
  {
   "cell_type": "code",
   "execution_count": 280,
   "id": "c64043fa",
   "metadata": {},
   "outputs": [],
   "source": [
    "# Разобьём данные по квантилям, чтобы в один бин не попадало менее 5-ти измерений\n",
    "n_bins = 10\n",
    "nt = 10000\n",
    "\n",
    "E_list = []\n",
    "O_list = []\n",
    "\n",
    "for x, theta in zip(x_rec_list, thetas):\n",
    "    x = np.array(sorted(x))\n",
    "#     x_bins = np.quantile(x, np.linspace(0,1,n_bins+1))\n",
    "    x_bins = np.linspace(x.min(), x.max(), n_bins+1)\n",
    "#     x_bins[0] -= 1\n",
    "    x_bin_prev = x.min()\n",
    "#     x_bins[-1] += 1\n",
    "    \n",
    "    for x_bin in x_bins[1:]:\n",
    "        x_vals = x[(x<x_bin) & (x>x_bin_prev)]\n",
    "        O = len(x_vals)\n",
    "        E = nt * np.trapz(get_probs(get_theor_state(c, N, x_vals, theta)), x_vals)\n",
    "        E_list.append(E)\n",
    "        O_list.append(O)\n",
    "        \n",
    "        x_bin_prev = x_bin\n",
    "        \n",
    "O_list = np.array(O_list)\n",
    "E_list = np.array(E_list)\n",
    "\n",
    "Xi2 = np.sum((O_list - E_list)**2/E_list)"
   ]
  },
  {
   "cell_type": "code",
   "execution_count": 281,
   "id": "6af62e4c",
   "metadata": {},
   "outputs": [
    {
     "data": {
      "image/png": "[encoded data removed]",
      "text/plain": [
       "<Figure size 432x288 with 1 Axes>"
      ]
     },
     "metadata": {
      "needs_background": "light"
     },
     "output_type": "display_data"
    }
   ],
   "source": [
    "n_list = np.arange(E_list.shape[0])\n",
    "\n",
    "plt.bar(n_list-0.1, E_list, alpha=0.5, width=0.5, label='Теоретическое значение')\n",
    "plt.bar(n_list+0.1, O_list, alpha=0.5, width=0.5, label='Колличество наблюдений в бине')\n",
    "plt.xticks(n_list[0::2])\n",
    "plt.xlim(-1, E_list.shape[0])\n",
    "plt.xlabel('Число фотонов')\n",
    "plt.ylabel('Вероятность')\n",
    "plt.legend(loc = 'lower right')\n",
    "plt.show()"
   ]
  },
  {
   "cell_type": "code",
   "execution_count": 282,
   "id": "d788b281",
   "metadata": {},
   "outputs": [
    {
     "data": {
      "text/plain": [
       "array([-3.58235391, -2.93178077, -2.28120763, -1.63063448, -0.98006134,\n",
       "       -0.3294882 ,  0.32108495,  0.97165809,  1.62223123,  2.27280438,\n",
       "        2.92337752])"
      ]
     },
     "execution_count": 282,
     "metadata": {},
     "output_type": "execute_result"
    }
   ],
   "source": [
    "x_bins"
   ]
  },
  {
   "cell_type": "code",
   "execution_count": null,
   "id": "835aa28f",
   "metadata": {},
   "outputs": [],
   "source": []
  },
  {
   "cell_type": "code",
   "execution_count": null,
   "id": "15d93b0a",
   "metadata": {},
   "outputs": [],
   "source": []
  },
  {
   "cell_type": "code",
   "execution_count": null,
   "id": "1dbb2168",
   "metadata": {},
   "outputs": [],
   "source": []
  }
 ],
 "metadata": {
  "kernelspec": {
   "display_name": "Python 3",
   "language": "python",
   "name": "python3"
  },
  "language_info": {
   "codemirror_mode": {
    "name": "ipython",
    "version": 3
   },
   "file_extension": ".py",
   "mimetype": "text/x-python",
   "name": "python",
   "nbconvert_exporter": "python",
   "pygments_lexer": "ipython3",
   "version": "3.7.11"
  }
 },
 "nbformat": 4,
 "nbformat_minor": 5
}
