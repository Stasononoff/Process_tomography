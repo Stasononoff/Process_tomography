{
 "cells": [
  {
   "cell_type": "markdown",
   "id": "227900ed",
   "metadata": {},
   "source": [
    "## Лабораторная работа 4. Вариант 1. $\\ |{\\psi}> \\sim |{\\alpha_{1}}> + |{\\alpha_{2}}> ,\\alpha_{1} = -\\alpha_{2} = 0.7\\exp^{\\frac{i\\pi}{8}} $ "
   ]
  },
  {
   "cell_type": "code",
   "execution_count": 25,
   "id": "5fb0de67",
   "metadata": {},
   "outputs": [],
   "source": [
    "import numpy as np\n",
    "from matplotlib.pyplot import plot,legend,hist,imshow,colorbar,bar,show,subplots,xlabel,ylabel,title\n",
    "from math import sqrt\n",
    "from scipy.linalg import expm\n",
    "from scipy.special import hermite\n",
    "from scipy.integrate import quad\n",
    "from scipy.interpolate import interp1d\n",
    "from scipy.stats import chi2"
   ]
  },
  {
   "cell_type": "markdown",
   "id": "24f55988",
   "metadata": {},
   "source": [
    "## Функция усечения когерентных состояний до $\\ n_{max} $ с ошибкой $\\epsilon \\le 10^{-6} $"
   ]
  },
  {
   "cell_type": "code",
   "execution_count": 4,
   "id": "2de48014",
   "metadata": {},
   "outputs": [],
   "source": [
    "def check_norm(state, norm_coef):\n",
    "    norm = 1 - np.abs(state(0, norm_coef))**2\n",
    "    k = 0\n",
    "    while norm >= 1e-6: \n",
    "        norm -= np.abs(state(k+1, norm_coef))**2\n",
    "        k += 1\n",
    "    d = k+1 \n",
    "    return d"
   ]
  },
  {
   "cell_type": "markdown",
   "id": "5489175e",
   "metadata": {},
   "source": [
    "## Найдем нормировку состояния до усечения"
   ]
  },
  {
   "cell_type": "code",
   "execution_count": 5,
   "id": "14573f0c",
   "metadata": {},
   "outputs": [],
   "source": [
    "alpha_1 = 0.7*np.exp(1j*np.pi/8)\n",
    "alpha_2 = -0.7*np.exp(1j*np.pi/8)\n",
    "\n",
    "def coefficient_n(ind, norm_coef = 1,alpha_1 = alpha_1, alpha_2 = alpha_2):\n",
    "    return ((np.exp(-(np.abs(alpha_1)**2) /2 ) * ((alpha_1 ** ind) /(np.math.factorial(ind))** 0.5)) +  \n",
    "                  (np.exp(-(np.abs(alpha_2)**2) /2 ) * ((alpha_2 ** ind) /(np.math.factorial(ind))** 0.5))) / norm_coef\n"
   ]
  },
  {
   "cell_type": "code",
   "execution_count": 6,
   "id": "6d0bdc96",
   "metadata": {},
   "outputs": [],
   "source": [
    "norm_coef = np.sqrt(sum([np.abs(coefficient_n(ind))**2 for ind in range(100)]))\n",
    "\n"
   ]
  },
  {
   "cell_type": "markdown",
   "id": "704996f7",
   "metadata": {},
   "source": [
    "## Нормировочный коэффициент равен:"
   ]
  },
  {
   "cell_type": "code",
   "execution_count": 7,
   "id": "d488b7ab",
   "metadata": {},
   "outputs": [
    {
     "data": {
      "text/plain": [
       "1.6584999842335841"
      ]
     },
     "execution_count": 7,
     "metadata": {},
     "output_type": "execute_result"
    }
   ],
   "source": [
    "norm_coef"
   ]
  },
  {
   "cell_type": "markdown",
   "id": "f0c42e00",
   "metadata": {},
   "source": [
    "## После этого найдем размерность пространства:"
   ]
  },
  {
   "cell_type": "code",
   "execution_count": 8,
   "id": "0ed7d4c4",
   "metadata": {},
   "outputs": [],
   "source": [
    "n_max = check_norm(coefficient_n,norm_coef)"
   ]
  },
  {
   "cell_type": "code",
   "execution_count": 141,
   "id": "9c45a715",
   "metadata": {},
   "outputs": [
    {
     "name": "stdout",
     "output_type": "stream",
     "text": [
      "d =  8\n"
     ]
    }
   ],
   "source": [
    "print('d = ',n_max+1)"
   ]
  },
  {
   "cell_type": "markdown",
   "id": "7c326a20",
   "metadata": {},
   "source": [
    "## Напишем необходимые функции:"
   ]
  },
  {
   "cell_type": "code",
   "execution_count": 10,
   "id": "f3ceee49",
   "metadata": {},
   "outputs": [],
   "source": [
    "def chebyshev_hermite(n,x):\n",
    "    return np.sqrt(1/(np.sqrt(np.pi)*(2**n)*np.math.factorial(n))) * hermite(n)(x) * np.exp(-x*x/2)\n"
   ]
  },
  {
   "cell_type": "code",
   "execution_count": 12,
   "id": "9b549561",
   "metadata": {},
   "outputs": [],
   "source": [
    "def prob(x,theta):\n",
    "    psi_theta = 0  \n",
    "    psi_theta = sum([coefficient_n(n, norm_coef = norm_coef) * np.exp(1j*n*theta) * chebyshev_hermite(n,x) for n in range(n_max+1)])\n",
    "    return np.abs(psi_theta)**2"
   ]
  },
  {
   "cell_type": "markdown",
   "id": "b1119983",
   "metadata": {},
   "source": [
    "## Распределения квадратурных наблюдаемых для всех углов: "
   ]
  },
  {
   "cell_type": "code",
   "execution_count": 13,
   "id": "9473fd9f",
   "metadata": {},
   "outputs": [],
   "source": [
    "prob_for_theta_0     = (lambda x: prob(x,0))\n",
    "\n",
    "prob_for_theta_pi_4  = (lambda x: prob(x,np.pi/4))\n",
    "\n",
    "prob_for_theta_pi_2  = (lambda x: prob(x,np.pi/2))\n",
    "\n",
    "prob_for_theta_3pi_4 = (lambda x: prob(x,3*np.pi/4))\n"
   ]
  },
  {
   "cell_type": "code",
   "execution_count": 14,
   "id": "683b0519",
   "metadata": {},
   "outputs": [],
   "source": [
    "def visual(state):\n",
    "    imshow(state)\n",
    "    colorbar()   "
   ]
  },
  {
   "cell_type": "markdown",
   "id": "4dcd4416",
   "metadata": {},
   "source": [
    "## Проверим ортогональность функций Чебышева-Эрмита"
   ]
  },
  {
   "cell_type": "code",
   "execution_count": 15,
   "id": "0a1abe9f",
   "metadata": {},
   "outputs": [
    {
     "data": {
      "image/png": "[encoded data removed]",
      "text/plain": [
       "<Figure size 432x288 with 2 Axes>"
      ]
     },
     "metadata": {
      "needs_background": "light"
     },
     "output_type": "display_data"
    }
   ],
   "source": [
    " \n",
    "test = np.array([quad(lambda x: chebyshev_hermite(n,x) * chebyshev_hermite(m,x), -np.inf , np.inf)[0] for n in range(10) for m in range(10)]).reshape(10,10)\n",
    "visual(test)"
   ]
  },
  {
   "cell_type": "markdown",
   "id": "d05daea7",
   "metadata": {},
   "source": [
    "## Построим распределения квадратурных наблюдаемых для всех углов:"
   ]
  },
  {
   "cell_type": "code",
   "execution_count": 131,
   "id": "4d8528b9",
   "metadata": {},
   "outputs": [
    {
     "data": {
      "text/plain": [
       "<matplotlib.legend.Legend at 0x1e1b72c16d0>"
      ]
     },
     "execution_count": 131,
     "metadata": {},
     "output_type": "execute_result"
    },
    {
     "data": {
      "image/png": "[encoded data removed]",
      "text/plain": [
       "<Figure size 432x288 with 1 Axes>"
      ]
     },
     "metadata": {
      "needs_background": "light"
     },
     "output_type": "display_data"
    }
   ],
   "source": [
    "x = np.linspace(-5,5,100)\n",
    "xlabel('x')\n",
    "ylabel('N')\n",
    "plot(x,prob_for_theta_0(x), color = 'black', lw = 7,label = 'theta = 0')\n",
    "plot(x,prob_for_theta_pi_4(x), color = 'y', lw = 7, label = 'theta = pi/4')\n",
    "plot(x,prob_for_theta_pi_2(x), color = 'b', lw = 1, label = 'theta = pi/2')\n",
    "plot(x,prob_for_theta_3pi_4(x), color = 'red', lw = 3, label = 'theta = 3pi/4')\n",
    "legend()"
   ]
  },
  {
   "cell_type": "markdown",
   "id": "bf0b7eaf",
   "metadata": {},
   "source": [
    "## Напишем функцию нахождения статистики методом обратной функции:"
   ]
  },
  {
   "cell_type": "code",
   "execution_count": 37,
   "id": "2591398c",
   "metadata": {},
   "outputs": [],
   "source": [
    "def meas(func,for_title = ''):\n",
    "    fig, (ax1, ax2) = subplots(1, 2)\n",
    "    x = np.linspace(-5,5,100)\n",
    "    title(for_title)\n",
    "    ax1.plot(x,100*func(x))\n",
    "    CDF = [quad(lambda x_elem: func(x_elem), -np.inf, x_elem )[0] for x_elem in x]\n",
    "    ax2.plot(x,CDF)\n",
    "    invese_function = interp1d(CDF,x,bounds_error=False, fill_value=2.5)\n",
    "    uniform_x =  [np.random.uniform() for ind in range(1000)]\n",
    "    meas_list= [float(invese_function(elem)) for elem in uniform_x]\n",
    "    ax1.hist(meas_list, bins = 100, range = (-5,5))\n",
    "    return meas_list"
   ]
  },
  {
   "cell_type": "code",
   "execution_count": 38,
   "id": "5d444f01",
   "metadata": {},
   "outputs": [
    {
     "data": {
      "image/png": "[encoded data removed]",
      "text/plain": [
       "<Figure size 432x288 with 2 Axes>"
      ]
     },
     "metadata": {
      "needs_background": "light"
     },
     "output_type": "display_data"
    },
    {
     "data": {
      "image/png": "[encoded data removed]",
      "text/plain": [
       "<Figure size 432x288 with 2 Axes>"
      ]
     },
     "metadata": {
      "needs_background": "light"
     },
     "output_type": "display_data"
    },
    {
     "data": {
      "image/png": "[encoded data removed]",
      "text/plain": [
       "<Figure size 432x288 with 2 Axes>"
      ]
     },
     "metadata": {
      "needs_background": "light"
     },
     "output_type": "display_data"
    },
    {
     "data": {
      "image/png": "[encoded data removed]",
      "text/plain": [
       "<Figure size 432x288 with 2 Axes>"
      ]
     },
     "metadata": {
      "needs_background": "light"
     },
     "output_type": "display_data"
    }
   ],
   "source": [
    "statistics_theta_0 = meas(prob_for_theta_0,for_title ='theta_0')\n",
    "\n",
    "statistics_theta_pi_4  = meas(prob_for_theta_pi_4,for_title ='theta_pi/4')\n",
    "\n",
    "statistics_theta_pi_2  = meas(prob_for_theta_pi_2,for_title ='theta_pi/2')\n",
    "\n",
    "statistics_theta_3pi_4  = meas(prob_for_theta_3pi_4, for_title ='theta_3pi/4')"
   ]
  },
  {
   "cell_type": "code",
   "execution_count": 39,
   "id": "e0e797cd",
   "metadata": {},
   "outputs": [],
   "source": [
    "data_list = [statistics_theta_0,statistics_theta_pi_4,statistics_theta_pi_2,statistics_theta_3pi_4]\n",
    "data = [elem for stat in data_list for elem in stat ]\n",
    "theta_list = [0,np.pi/4,np.pi/2,3*np.pi/4]"
   ]
  },
  {
   "cell_type": "markdown",
   "id": "351586d8",
   "metadata": {},
   "source": [
    "## Подготовим функции и необходимые данные для нахождения матрицы $\\ R $"
   ]
  },
  {
   "cell_type": "code",
   "execution_count": 40,
   "id": "25f2df0b",
   "metadata": {},
   "outputs": [],
   "source": [
    "def cheb_exp(x,theta,k):\n",
    "    return chebyshev_hermite(k,x) * np.exp(1j*k*theta)"
   ]
  },
  {
   "cell_type": "code",
   "execution_count": 41,
   "id": "1cf6d057",
   "metadata": {},
   "outputs": [],
   "source": [
    "def prob_MLE(index,c):\n",
    "    psi_theta = 0 \n",
    "    for ind in range(n_max+1):\n",
    "        itr = n_max + 1\n",
    "        psi_theta += c[ind] * cheb_exp_list_prob[index*itr + ind]\n",
    "    return np.abs(psi_theta)**2"
   ]
  },
  {
   "cell_type": "code",
   "execution_count": 42,
   "id": "fa3cb5dd",
   "metadata": {},
   "outputs": [],
   "source": [
    "cheb_exp_list_k = []\n",
    "cheb_exp_list_l = []\n",
    "for k in range(n_max + 1):\n",
    "        for l in range(n_max + 1):\n",
    "            for ind in range(4000):\n",
    "                theta_index = ind // 1000\n",
    "                cheb_exp_list_k.append(np.conj(cheb_exp(data[ind],theta_list[theta_index],k)))\n",
    "                cheb_exp_list_l.append(cheb_exp(data[ind],theta_list[theta_index],l))"
   ]
  },
  {
   "cell_type": "code",
   "execution_count": 43,
   "id": "2a2aa521",
   "metadata": {},
   "outputs": [],
   "source": [
    "cheb_exp_list_prob = []\n",
    "for ind in range(4000):\n",
    "    for ind_2 in range(n_max+1):\n",
    "        theta_index = ind // 1000\n",
    "        cheb_exp_list_prob.append((cheb_exp(data[ind],theta_list[theta_index],ind_2)))"
   ]
  },
  {
   "cell_type": "code",
   "execution_count": 44,
   "id": "28be353d",
   "metadata": {},
   "outputs": [],
   "source": [
    "def R_gen(c):\n",
    "    index = 0\n",
    "    R_matrix = np.zeros((n_max+1,n_max+1), dtype = complex)\n",
    "    for k in range(n_max + 1):\n",
    "        for l in range(n_max + 1):\n",
    "            for ind in range(4000):\n",
    "                R_matrix[k][l] +=  cheb_exp_list_k[index] *  cheb_exp_list_l[index] / prob_MLE(ind,c)\n",
    "                index += 1\n",
    "    return R_matrix"
   ]
  },
  {
   "cell_type": "code",
   "execution_count": 45,
   "id": "96756696",
   "metadata": {},
   "outputs": [],
   "source": [
    "def frobenius_norm(matrix):\n",
    "    return np.sqrt(np.sum(list(map(lambda x: np.abs(x) ** 2,matrix))))"
   ]
  },
  {
   "cell_type": "code",
   "execution_count": 46,
   "id": "0dc44899",
   "metadata": {},
   "outputs": [],
   "source": [
    "def MLE(verbosity = False):\n",
    "    n = 4000 * np.identity(n_max+1)\n",
    "    eps = 1e-8\n",
    "    mu = 0.45\n",
    "    norm = 1\n",
    "    n_inv = np.linalg.inv(n)\n",
    "    c_zero_no_norm = np.random.rand(n_max + 1)\n",
    "    c = c_zero_no_norm / np.sqrt(sum([np.abs(elem)**2 for elem in c_zero_no_norm]))\n",
    "    while norm >= eps:\n",
    "        c_old = c[:]\n",
    "        R = R_gen(c)\n",
    "        c = (1 - mu)*np.dot(np.dot(n_inv,R),c) + mu*c\n",
    "        norm = frobenius_norm(c - c_old)\n",
    "        if verbosity == True:\n",
    "            print(norm,'Текущее значение нормы разности матриц на соседних итерациях')\n",
    "    return c"
   ]
  },
  {
   "cell_type": "markdown",
   "id": "839f5da7",
   "metadata": {},
   "source": [
    "## Проведем томографию:"
   ]
  },
  {
   "cell_type": "code",
   "execution_count": 48,
   "id": "dbd27c62",
   "metadata": {
    "scrolled": true
   },
   "outputs": [
    {
     "name": "stdout",
     "output_type": "stream",
     "text": [
      "0.8459600013360328 Текущее значение нормы разности матриц на соседних итерациях\n",
      "0.3420243188054875 Текущее значение нормы разности матриц на соседних итерациях\n",
      "0.11485501995715978 Текущее значение нормы разности матриц на соседних итерациях\n",
      "0.07501181351140784 Текущее значение нормы разности матриц на соседних итерациях\n",
      "0.05214495074340718 Текущее значение нормы разности матриц на соседних итерациях\n",
      "0.041304792765076724 Текущее значение нормы разности матриц на соседних итерациях\n",
      "0.0351601187911137 Текущее значение нормы разности матриц на соседних итерациях\n",
      "0.024331789208953205 Текущее значение нормы разности матриц на соседних итерациях\n",
      "0.017450246527992437 Текущее значение нормы разности матриц на соседних итерациях\n",
      "0.014294046660629637 Текущее значение нормы разности матриц на соседних итерациях\n",
      "0.011975966246741758 Текущее значение нормы разности матриц на соседних итерациях\n",
      "0.009921914012820538 Текущее значение нормы разности матриц на соседних итерациях\n",
      "0.007997403159524913 Текущее значение нормы разности матриц на соседних итерациях\n",
      "0.005934269254241076 Текущее значение нормы разности матриц на соседних итерациях\n",
      "0.004118423260082179 Текущее значение нормы разности матриц на соседних итерациях\n",
      "0.0028197712588267834 Текущее значение нормы разности матриц на соседних итерациях\n",
      "0.001956977075364929 Текущее значение нормы разности матриц на соседних итерациях\n",
      "0.0013826149844739124 Текущее значение нормы разности матриц на соседних итерациях\n",
      "0.0009921743233746844 Текущее значение нормы разности матриц на соседних итерациях\n",
      "0.0007209912011877104 Текущее значение нормы разности матриц на соседних итерациях\n",
      "0.0005291411964013851 Текущее значение нормы разности матриц на соседних итерациях\n",
      "0.00039137747874224235 Текущее значение нормы разности матриц на соседних итерациях\n",
      "0.00029127705495067297 Текущее значение нормы разности матриц на соседних итерациях\n",
      "0.0002178635272316059 Текущее значение нормы разности матриц на соседних итерациях\n",
      "0.00016362459101395345 Текущее значение нормы разности матриц на соседних итерациях\n",
      "0.0001233159773720053 Текущее значение нормы разности матриц на соседних итерациях\n",
      "9.321717549843585e-05 Текущее значение нормы разности матриц на соседних итерациях\n",
      "7.065409329187559e-05 Текущее значение нормы разности матриц на соседних итерациях\n",
      "5.368448188159125e-05 Текущее значение нормы разности матриц на соседних итерациях\n",
      "4.088568649497529e-05 Текущее значение нормы разности матриц на соседних итерациях\n",
      "3.1208537969855515e-05 Текущее значение нормы разности матриц на соседних итерациях\n",
      "2.3875054044653326e-05 Текущее значение нормы разности матриц на соседних итерациях\n",
      "1.8305785304693898e-05 Текущее значение нормы разности матриц на соседних итерациях\n",
      "1.4067596709085263e-05 Текущее значение нормы разности матриц на соседних итерациях\n",
      "1.0835764545567234e-05 Текущее значение нормы разности матриц на соседних итерациях\n",
      "8.366240626056059e-06 Текущее значение нормы разности матриц на соседних итерациях\n",
      "6.4752222772404655e-06 Текущее значение нормы разности матриц на соседних итерациях\n",
      "5.024023452877357e-06 Текущее значение нормы разности матриц на соседних итерациях\n",
      "3.907823455495145e-06 Текущее значение нормы разности матриц на соседних итерациях\n",
      "3.0472707119963727e-06 Текущее значение нормы разности матриц на соседних итерациях\n",
      "2.3821999193334807e-06 Текущее значение нормы разности матриц на соседних итерациях\n",
      "1.8669202287665633e-06 Текущее значение нормы разности матриц на соседних итерациях\n",
      "1.466675308164765e-06 Текущее значение нормы разности матриц на соседних итерациях\n",
      "1.1549799073843372e-06 Текущее значение нормы разности матриц на соседних итерациях\n",
      "9.116133957873285e-07 Текущее значение нормы разности матриц на соседних итерациях\n",
      "7.211065723552941e-07 Текущее значение нормы разности матриц на соседних итерациях\n",
      "5.71599313250077e-07 Текущее значение нормы разности матриц на соседних итерациях\n",
      "4.539773138437325e-07 Текущее значение нормы разности матриц на соседних итерациях\n",
      "3.612190522259746e-07 Текущее значение нормы разности матриц на соседних итерациях\n",
      "2.879012124770502e-07 Текущее значение нормы разности матриц на соседних итерациях\n",
      "2.2982362996767358e-07 Текущее значение нормы разности матриц на соседних итерациях\n",
      "1.8372445232011946e-07 Текущее значение нормы разности матриц на соседних итерациях\n",
      "1.4706344710773312e-07 Текущее значение нормы разности матриц на соседних итерациях\n",
      "1.1785683344704244e-07 Текущее значение нормы разности матриц на соседних итерациях\n",
      "9.455111501325677e-08 Текущее значение нормы разности матриц на соседних итерациях\n",
      "7.592647272831663e-08 Текущее значение нормы разности матриц на соседних итерациях\n",
      "6.10226014287703e-08 Текущее значение нормы разности матриц на соседних итерациях\n",
      "4.908161846733755e-08 Текущее значение нормы разности матриц на соседних итерациях\n",
      "3.950398607133683e-08 Текущее значение нормы разности матриц на соседних итерациях\n",
      "3.181438014046356e-08 Текущее значение нормы разности матриц на соседних итерациях\n",
      "2.5635179933009675e-08 Текущее значение нормы разности матриц на соседних итерациях\n",
      "2.0665815760715752e-08 Текущее значение нормы разности матриц на соседних итерациях\n",
      "1.6666629703397213e-08 Текущее значение нормы разности матриц на соседних итерациях\n",
      "1.344622785792821e-08 Текущее значение нормы разности матриц на соседних итерациях\n",
      "1.085154072943669e-08 Текущее значение нормы разности матриц на соседних итерациях\n",
      "8.759989539216555e-09 Текущее значение нормы разности матриц на соседних итерациях\n"
     ]
    }
   ],
   "source": [
    "c_after_tomography = MLE(verbosity = True)"
   ]
  },
  {
   "cell_type": "code",
   "execution_count": 49,
   "id": "90e92c0b",
   "metadata": {},
   "outputs": [],
   "source": [
    "fidelity = np.abs(sum([np.conj(c_after_tomography[ind])*coefficient_n(ind,norm_coef = norm_coef) for ind in range(n_max + 1)]))**2"
   ]
  },
  {
   "cell_type": "markdown",
   "id": "9b8a65fd",
   "metadata": {},
   "source": [
    "## Точность реконструированного состояния с теоретическим:"
   ]
  },
  {
   "cell_type": "code",
   "execution_count": 50,
   "id": "64437f3b",
   "metadata": {},
   "outputs": [
    {
     "data": {
      "text/plain": [
       "0.9975134926716424"
      ]
     },
     "execution_count": 50,
     "metadata": {},
     "output_type": "execute_result"
    }
   ],
   "source": [
    "fidelity"
   ]
  },
  {
   "cell_type": "code",
   "execution_count": 51,
   "id": "3c6d7c50",
   "metadata": {},
   "outputs": [],
   "source": [
    "def prob_MLE(x,theta):\n",
    "    #nonlocal norm_coef\n",
    "    psi_theta = 0  \n",
    "    psi_theta = sum([c_after_tomography[n] * np.exp(1j*n*theta) * chebyshev_hermite(n,x) for n in range(n_max+1)])\n",
    "    return np.abs(psi_theta)**2"
   ]
  },
  {
   "cell_type": "code",
   "execution_count": 52,
   "id": "99fe900e",
   "metadata": {},
   "outputs": [],
   "source": [
    "prob_for_theta_0_MLE     = (lambda x: prob_MLE(x,0))\n",
    "\n",
    "prob_for_theta_pi_4_MLE  = (lambda x: prob_MLE(x,np.pi/4))\n",
    "\n",
    "prob_for_theta_pi_2_MLE  = (lambda x: prob_MLE(x,np.pi/2))\n",
    "\n",
    "prob_for_theta_3pi_4_MLE = (lambda x: prob_MLE(x,3*np.pi/4))\n"
   ]
  },
  {
   "cell_type": "markdown",
   "id": "6a49dd7c",
   "metadata": {},
   "source": [
    "## Построим квадратурные распределения на основе реконструированного и теоретического состояния вместе с гистограммой для всех углов:"
   ]
  },
  {
   "cell_type": "code",
   "execution_count": 72,
   "id": "9d30b5e1",
   "metadata": {},
   "outputs": [
    {
     "data": {
      "text/plain": [
       "(array([ 0.,  0.,  0.,  0.,  0.,  0.,  0.,  0.,  0.,  0.,  0.,  0.,  0.,\n",
       "         0.,  0.,  0.,  0.,  1.,  1.,  1.,  1.,  0.,  0.,  1.,  1.,  4.,\n",
       "         1.,  2.,  4.,  7.,  8.,  8., 20., 15., 17.,  9., 17., 22., 24.,\n",
       "        21., 20., 39., 34., 28., 27., 41., 44., 29., 42., 34., 40., 31.,\n",
       "        35., 27., 41., 35., 28., 23., 24., 23., 19., 16., 19., 19., 11.,\n",
       "        11., 18., 16.,  9.,  9.,  5.,  5.,  4.,  3.,  1.,  3.,  1.,  0.,\n",
       "         0.,  1.,  0.,  0.,  0.,  0.,  0.,  0.,  0.,  0.,  0.,  0.,  0.,\n",
       "         0.,  0.,  0.,  0.,  0.,  0.,  0.,  0.,  0.]),\n",
       " array([-5. , -4.9, -4.8, -4.7, -4.6, -4.5, -4.4, -4.3, -4.2, -4.1, -4. ,\n",
       "        -3.9, -3.8, -3.7, -3.6, -3.5, -3.4, -3.3, -3.2, -3.1, -3. , -2.9,\n",
       "        -2.8, -2.7, -2.6, -2.5, -2.4, -2.3, -2.2, -2.1, -2. , -1.9, -1.8,\n",
       "        -1.7, -1.6, -1.5, -1.4, -1.3, -1.2, -1.1, -1. , -0.9, -0.8, -0.7,\n",
       "        -0.6, -0.5, -0.4, -0.3, -0.2, -0.1,  0. ,  0.1,  0.2,  0.3,  0.4,\n",
       "         0.5,  0.6,  0.7,  0.8,  0.9,  1. ,  1.1,  1.2,  1.3,  1.4,  1.5,\n",
       "         1.6,  1.7,  1.8,  1.9,  2. ,  2.1,  2.2,  2.3,  2.4,  2.5,  2.6,\n",
       "         2.7,  2.8,  2.9,  3. ,  3.1,  3.2,  3.3,  3.4,  3.5,  3.6,  3.7,\n",
       "         3.8,  3.9,  4. ,  4.1,  4.2,  4.3,  4.4,  4.5,  4.6,  4.7,  4.8,\n",
       "         4.9,  5. ]),\n",
       " <BarContainer object of 100 artists>)"
      ]
     },
     "execution_count": 72,
     "metadata": {},
     "output_type": "execute_result"
    },
    {
     "data": {
      "image/png": "[encoded data removed]",
      "text/plain": [
       "<Figure size 432x288 with 1 Axes>"
      ]
     },
     "metadata": {
      "needs_background": "light"
     },
     "output_type": "display_data"
    }
   ],
   "source": [
    "x = np.linspace(-5,5,100)\n",
    "xlabel('x')\n",
    "ylabel('N')\n",
    "\n",
    "plot(x,100*prob_for_theta_0_MLE(x),'r',linewidth = 7, label = 'After MLE')\n",
    "plot(x,100*prob_for_theta_0(x),color = 'black', label = 'Theoretical')\n",
    "legend()\n",
    "hist(statistics_theta_0, bins = 100,range = (-5,5),color = 'b')"
   ]
  },
  {
   "cell_type": "code",
   "execution_count": 76,
   "id": "df53d5d0",
   "metadata": {},
   "outputs": [
    {
     "data": {
      "text/plain": [
       "<matplotlib.legend.Legend at 0x1e1b4483df0>"
      ]
     },
     "execution_count": 76,
     "metadata": {},
     "output_type": "execute_result"
    },
    {
     "data": {
      "image/png": "[encoded data removed]",
      "text/plain": [
       "<Figure size 432x288 with 1 Axes>"
      ]
     },
     "metadata": {
      "needs_background": "light"
     },
     "output_type": "display_data"
    }
   ],
   "source": [
    "xlabel('x')\n",
    "ylabel('N')\n",
    "\n",
    "hist(statistics_theta_pi_4, bins = 100,range = (-5,5),color = 'b')\n",
    "plot(x,100*prob_for_theta_pi_4_MLE(x),'r',linewidth = 7, label = 'After MLE')\n",
    "plot(x,100*prob_for_theta_pi_4(x),color = 'black', label = 'Theoretical')\n",
    "legend()"
   ]
  },
  {
   "cell_type": "code",
   "execution_count": 77,
   "id": "4198aade",
   "metadata": {},
   "outputs": [
    {
     "data": {
      "text/plain": [
       "<matplotlib.legend.Legend at 0x1e1b62f95e0>"
      ]
     },
     "execution_count": 77,
     "metadata": {},
     "output_type": "execute_result"
    },
    {
     "data": {
      "image/png": "[encoded data removed]",
      "text/plain": [
       "<Figure size 432x288 with 1 Axes>"
      ]
     },
     "metadata": {
      "needs_background": "light"
     },
     "output_type": "display_data"
    }
   ],
   "source": [
    "xlabel('x')\n",
    "ylabel('N')\n",
    "\n",
    "hist(statistics_theta_pi_2, bins = 100,range = (-5,5),color = 'b')\n",
    "plot(x,100*prob_for_theta_pi_2_MLE(x),'r',linewidth = 7, label = 'After MLE')\n",
    "plot(x,100*prob_for_theta_pi_2(x),color = 'black', label = 'Theoretical')\n",
    "legend()"
   ]
  },
  {
   "cell_type": "code",
   "execution_count": 78,
   "id": "c9a3199c",
   "metadata": {},
   "outputs": [
    {
     "data": {
      "text/plain": [
       "<matplotlib.legend.Legend at 0x1e1b64542b0>"
      ]
     },
     "execution_count": 78,
     "metadata": {},
     "output_type": "execute_result"
    },
    {
     "data": {
      "image/png": "[encoded data removed]",
      "text/plain": [
       "<Figure size 432x288 with 1 Axes>"
      ]
     },
     "metadata": {
      "needs_background": "light"
     },
     "output_type": "display_data"
    }
   ],
   "source": [
    "xlabel('x')\n",
    "ylabel('N')\n",
    "\n",
    "hist(statistics_theta_3pi_4, bins = 100,range = (-5,5),color = 'b')\n",
    "plot(x,100*prob_for_theta_3pi_4_MLE(x),'r',linewidth = 7, label = 'After MLE')\n",
    "plot(x,100*prob_for_theta_3pi_4(x),color = 'black', label = 'Theoretical')\n",
    "legend()\n"
   ]
  },
  {
   "cell_type": "markdown",
   "id": "6bbff0d3",
   "metadata": {},
   "source": [
    "## Напишем функцию объединения столбцов гистограммы с количеством элементов меньше 5"
   ]
  },
  {
   "cell_type": "code",
   "execution_count": 109,
   "id": "6d7c9180",
   "metadata": {},
   "outputs": [],
   "source": [
    "def repair_fun(stat,plt):  \n",
    "    bins = hist(stat, bins= 100,range = (-5,5))[0] \n",
    "    stat_copy = sorted(stat[:])\n",
    "    x_part = []\n",
    "    for index in range(len(bins)):\n",
    "        x_part.append(stat_copy[:int(bins[index])])\n",
    "        stat_copy = stat_copy[int(bins[index]):]\n",
    "    \n",
    "    bins_repair = []\n",
    "    x_repair = []\n",
    "    for index in range(len(bins)):\n",
    "        if bins[index] > 0:\n",
    "            bins_repair.append(bins[index])\n",
    "            x_repair.append(x_part[index])       \n",
    "    index = 0\n",
    "    while index < len(x_repair)-1:\n",
    "        if len(x_repair[index]) < 5:\n",
    "            x_repair = x_repair[:index] + [x_repair[index] + x_repair[index+1]] + x_repair[index+2:]\n",
    "        else:\n",
    "            index += 1\n",
    "    \n",
    "    if len(x_repair[-1]) < 5:\n",
    "        x_repair = x_repair[:-2] + [x_repair[-2] + x_repair[-1]]   \n",
    "       \n",
    "    bins_print = [len(elem) for elem in x_repair]\n",
    "        \n",
    "    plot(x,100*plt(x))    \n",
    "    for elem in x_repair:\n",
    "        hist(elem,bins= 1)\n",
    "    return x_repair, bins, bins_print"
   ]
  },
  {
   "cell_type": "markdown",
   "id": "f74159d0",
   "metadata": {},
   "source": [
    "## $\\theta\\ = 0 $"
   ]
  },
  {
   "cell_type": "code",
   "execution_count": 110,
   "id": "0876c67d",
   "metadata": {},
   "outputs": [
    {
     "name": "stdout",
     "output_type": "stream",
     "text": [
      "Bins перед группировкой: \n",
      "\n",
      "[ 0.  0.  0.  0.  0.  0.  0.  0.  0.  0.  0.  0.  0.  0.  0.  0.  0.  1.\n",
      "  1.  1.  1.  0.  0.  1.  1.  4.  1.  2.  4.  7.  8.  8. 20. 15. 17.  9.\n",
      " 17. 22. 24. 21. 20. 39. 34. 28. 27. 41. 44. 29. 42. 34. 40. 31. 35. 27.\n",
      " 41. 35. 28. 23. 24. 23. 19. 16. 19. 19. 11. 11. 18. 16.  9.  9.  5.  5.\n",
      "  4.  3.  1.  3.  1.  0.  0.  1.  0.  0.  0.  0.  0.  0.  0.  0.  0.  0.\n",
      "  0.  0.  0.  0.  0.  0.  0.  0.  0.  0.]\n",
      "\n",
      "Bins после группировки: \n",
      "\n",
      "[5, 5, 7, 7, 8, 8, 20, 15, 17, 9, 17, 22, 24, 21, 20, 39, 34, 28, 27, 41, 44, 29, 42, 34, 40, 31, 35, 27, 41, 35, 28, 23, 24, 23, 19, 16, 19, 19, 11, 11, 18, 16, 9, 9, 5, 5, 7, 6]\n"
     ]
    },
    {
     "data": {
      "image/png": "[encoded data removed]",
      "text/plain": [
       "<Figure size 432x288 with 1 Axes>"
      ]
     },
     "metadata": {
      "needs_background": "light"
     },
     "output_type": "display_data"
    }
   ],
   "source": [
    "repair_theta_0, bins_1, bins_print = repair_fun(statistics_theta_0,prob_for_theta_0_MLE)\n",
    "print('Bins перед группировкой: ',bins_1,'Bins после группировки: ', bins_print,sep = '\\n\\n' )"
   ]
  },
  {
   "cell_type": "markdown",
   "id": "e6cb2ef6",
   "metadata": {},
   "source": [
    "## $\\theta\\ = \\pi/4 $"
   ]
  },
  {
   "cell_type": "code",
   "execution_count": 111,
   "id": "18f69564",
   "metadata": {},
   "outputs": [
    {
     "name": "stdout",
     "output_type": "stream",
     "text": [
      "Bins перед группировкой: \n",
      "\n",
      "[ 0.  0.  0.  0.  0.  0.  0.  0.  0.  0.  0.  0.  0.  0.  0.  0.  0.  0.\n",
      "  0.  0.  0.  1.  0.  0.  1.  0.  0.  1.  0.  0.  1.  3.  1.  4.  1.  6.\n",
      "  5.  5. 15.  8. 13. 23. 19. 36. 43. 53. 70. 69. 58. 63. 75. 69. 72. 48.\n",
      " 54. 32. 35. 23. 17. 21.  8. 14.  6.  8.  4.  7.  3.  2.  1.  0.  0.  0.\n",
      "  0.  1.  1.  0.  0.  0.  0.  0.  0.  0.  0.  0.  0.  0.  0.  0.  0.  0.\n",
      "  0.  0.  0.  0.  0.  0.  0.  0.  0.  0.]\n",
      "\n",
      "Bins после группировки: \n",
      "\n",
      "[7, 5, 7, 5, 5, 15, 8, 13, 23, 19, 36, 43, 53, 70, 69, 58, 63, 75, 69, 72, 48, 54, 32, 35, 23, 17, 21, 8, 14, 6, 8, 11, 8]\n"
     ]
    },
    {
     "data": {
      "image/png": "[encoded data removed]",
      "text/plain": [
       "<Figure size 432x288 with 1 Axes>"
      ]
     },
     "metadata": {
      "needs_background": "light"
     },
     "output_type": "display_data"
    }
   ],
   "source": [
    "repair_theta_pi_4, bins_1, bins_print = repair_fun(statistics_theta_pi_4,prob_for_theta_pi_4_MLE)\n",
    "print('Bins перед группировкой: ',bins_1,'Bins после группировки: ', bins_print,sep = '\\n\\n' )"
   ]
  },
  {
   "cell_type": "markdown",
   "id": "849eae66",
   "metadata": {},
   "source": [
    "## $\\theta\\ = \\pi/2 $"
   ]
  },
  {
   "cell_type": "code",
   "execution_count": 112,
   "id": "2d0b78d2",
   "metadata": {},
   "outputs": [
    {
     "name": "stdout",
     "output_type": "stream",
     "text": [
      "Bins перед группировкой: \n",
      "\n",
      "[ 0.  0.  0.  0.  0.  0.  0.  0.  0.  0.  0.  0.  0.  0.  0.  0.  0.  0.\n",
      "  0.  1.  0.  0.  0.  0.  0.  0.  0.  0.  1.  1.  2.  0.  2.  1.  3.  1.\n",
      "  6.  6.  8. 12. 13. 25. 28. 31. 41. 49. 68. 69. 78. 72. 66. 49. 66. 54.\n",
      " 59. 40. 29. 30. 28. 11. 15. 10.  9.  3.  4.  3.  1.  1.  1.  0.  1.  0.\n",
      "  0.  0.  0.  1.  0.  0.  0.  0.  0.  1.  0.  0.  0.  0.  0.  0.  0.  0.\n",
      "  0.  0.  0.  0.  0.  0.  0.  0.  0.  0.]\n",
      "\n",
      "Bins после группировки: \n",
      "\n",
      "[5, 6, 7, 6, 8, 12, 13, 25, 28, 31, 41, 49, 68, 69, 78, 72, 66, 49, 66, 54, 59, 40, 29, 30, 28, 11, 15, 10, 9, 7, 9]\n"
     ]
    },
    {
     "data": {
      "image/png": "[encoded data removed]",
      "text/plain": [
       "<Figure size 432x288 with 1 Axes>"
      ]
     },
     "metadata": {
      "needs_background": "light"
     },
     "output_type": "display_data"
    }
   ],
   "source": [
    "repair_theta_pi_2, bins_1, bins_print = repair_fun(statistics_theta_pi_2,prob_for_theta_pi_2_MLE)\n",
    "print('Bins перед группировкой: ',bins_1,'Bins после группировки: ', bins_print,sep = '\\n\\n' )"
   ]
  },
  {
   "cell_type": "markdown",
   "id": "bf24d576",
   "metadata": {},
   "source": [
    "## $\\theta\\ = 3\\pi/4 $"
   ]
  },
  {
   "cell_type": "code",
   "execution_count": 113,
   "id": "d52f7168",
   "metadata": {},
   "outputs": [
    {
     "name": "stdout",
     "output_type": "stream",
     "text": [
      "Bins перед группировкой: \n",
      "\n",
      "[ 0.  0.  0.  0.  0.  0.  0.  0.  0.  0.  0.  0.  0.  0.  0.  1.  0.  0.\n",
      "  0.  0.  0.  0.  0.  0.  2.  4.  7.  3.  7.  4.  5.  6. 13. 17. 21. 16.\n",
      " 19. 16. 24. 27. 31. 28. 35. 36. 25. 28. 35. 34. 21. 50. 44. 34. 33. 34.\n",
      " 25. 27. 34. 28. 33. 18. 30. 29. 22. 14. 12. 12. 10. 15.  5.  5.  6.  8.\n",
      "  2.  2.  0.  0.  1.  1.  0.  0.  1.  0.  0.  0.  0.  0.  0.  0.  0.  0.\n",
      "  0.  0.  0.  0.  0.  0.  0.  0.  0.  0.]\n",
      "\n",
      "Bins после группировки: \n",
      "\n",
      "[7, 7, 10, 9, 6, 13, 17, 21, 16, 19, 16, 24, 27, 31, 28, 35, 36, 25, 28, 35, 34, 21, 50, 44, 34, 33, 34, 25, 27, 34, 28, 33, 18, 30, 29, 22, 14, 12, 12, 10, 15, 5, 5, 6, 8, 7]\n"
     ]
    },
    {
     "data": {
      "image/png": "[encoded data removed]",
      "text/plain": [
       "<Figure size 432x288 with 1 Axes>"
      ]
     },
     "metadata": {
      "needs_background": "light"
     },
     "output_type": "display_data"
    }
   ],
   "source": [
    "repair_theta_3pi_4, bins_1, bins_print = repair_fun(statistics_theta_3pi_4,prob_for_theta_3pi_4_MLE)\n",
    "print('Bins перед группировкой: ',bins_1,'Bins после группировки: ', bins_print,sep = '\\n\\n' )"
   ]
  },
  {
   "cell_type": "markdown",
   "id": "eb693b5e",
   "metadata": {},
   "source": [
    "## Посчитаем тест $\\ \\chi^{2}$ и найдем значение $\\ p-value$ "
   ]
  },
  {
   "cell_type": "code",
   "execution_count": 114,
   "id": "3f7e2c71",
   "metadata": {},
   "outputs": [],
   "source": [
    "quad_list_theta_0 = [ 1000*quad(lambda x: prob_for_theta_0_MLE(x), elem[0], max(elem) )[0] for elem in repair_theta_0]\n"
   ]
  },
  {
   "cell_type": "code",
   "execution_count": 115,
   "id": "184264ff",
   "metadata": {},
   "outputs": [],
   "source": [
    "quad_list_theta_pi_4 = [ 1000*quad(lambda x: prob_for_theta_pi_4_MLE(x), elem[0], max(elem) )[0] for elem in repair_theta_pi_4   ]\n"
   ]
  },
  {
   "cell_type": "code",
   "execution_count": 116,
   "id": "efd13ac1",
   "metadata": {},
   "outputs": [],
   "source": [
    "quad_list_theta_pi_2  = [ 1000*quad(lambda x: prob_for_theta_pi_2_MLE(x), elem[0], max(elem) )[0] for elem in repair_theta_pi_2   ]\n"
   ]
  },
  {
   "cell_type": "code",
   "execution_count": 117,
   "id": "5f1b82f3",
   "metadata": {},
   "outputs": [],
   "source": [
    "quad_list_theta_3pi_4 = [1000* quad(lambda x: prob_for_theta_3pi_4_MLE(x), elem[0], max(elem) )[0] for elem in repair_theta_3pi_4   ]\n"
   ]
  },
  {
   "cell_type": "code",
   "execution_count": 118,
   "id": "625562af",
   "metadata": {},
   "outputs": [],
   "source": [
    "E  = quad_list_theta_0 + quad_list_theta_pi_4 + quad_list_theta_pi_2 + quad_list_theta_3pi_4\n",
    "O = repair_theta_0 + repair_theta_pi_4 + repair_theta_pi_2 + repair_theta_3pi_4"
   ]
  },
  {
   "cell_type": "code",
   "execution_count": 119,
   "id": "b41bde45",
   "metadata": {},
   "outputs": [],
   "source": [
    "chi_2 = 0\n",
    "for ind in range(len(E)):\n",
    "    chi_2 += ((len(O[ind]) - E[ind])**2)/E[ind]"
   ]
  },
  {
   "cell_type": "code",
   "execution_count": 139,
   "id": "0afe3169",
   "metadata": {},
   "outputs": [
    {
     "name": "stdout",
     "output_type": "stream",
     "text": [
      "Суммарное количество интервалов =  158\n"
     ]
    }
   ],
   "source": [
    "intervals = np.size(O)\n",
    "print('Суммарное количество интервалов = ', intervals)"
   ]
  },
  {
   "cell_type": "code",
   "execution_count": 140,
   "id": "645fcbbd",
   "metadata": {},
   "outputs": [
    {
     "name": "stdout",
     "output_type": "stream",
     "text": [
      "p-value =  1.0\n"
     ]
    }
   ],
   "source": [
    "m = 4\n",
    "\n",
    "d = n_max+1\n",
    "rank = 1\n",
    "nu_p = (2*d - rank)*rank - 1 \n",
    "\n",
    "nu = 4*intervals - m - nu_p\n",
    "p_value = 1 - chi2.cdf(chi_2, nu)\n",
    "print('p-value = ',p_value)"
   ]
  },
  {
   "cell_type": "code",
   "execution_count": null,
   "id": "d7d71e6b",
   "metadata": {},
   "outputs": [],
   "source": []
  }
 ],
 "metadata": {
  "kernelspec": {
   "display_name": "Python 3",
   "language": "python",
   "name": "python3"
  },
  "language_info": {
   "codemirror_mode": {
    "name": "ipython",
    "version": 3
   },
   "file_extension": ".py",
   "mimetype": "text/x-python",
   "name": "python",
   "nbconvert_exporter": "python",
   "pygments_lexer": "ipython3",
   "version": "3.7.11"
  }
 },
 "nbformat": 4,
 "nbformat_minor": 5
}
