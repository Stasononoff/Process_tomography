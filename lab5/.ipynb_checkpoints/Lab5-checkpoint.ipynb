{
 "cells": [
  {
   "cell_type": "markdown",
   "id": "a3723363",
   "metadata": {},
   "source": [
    "# Вариант 3:\n",
    "\n",
    "#### Протокол томографии MUB 20 входных состояний. Размерномть матриц плотности 4."
   ]
  },
  {
   "cell_type": "code",
   "execution_count": 1,
   "id": "c5181aea",
   "metadata": {},
   "outputs": [],
   "source": [
    "import numpy as np\n",
    "import pandas as pd\n",
    "import copy\n",
    "from numpy import linalg as LA\n",
    "from scipy import linalg as sLA\n",
    "from tqdm import tqdm\n",
    "from itertools import product\n",
    "from matplotlib import pyplot as plt"
   ]
  },
  {
   "cell_type": "code",
   "execution_count": 2,
   "id": "465e9764",
   "metadata": {},
   "outputs": [
    {
     "data": {
      "image/png": "[encoded data removed]",
      "text/plain": [
       "<Figure size 432x288 with 1 Axes>"
      ]
     },
     "metadata": {
      "needs_background": "light"
     },
     "output_type": "display_data"
    },
    {
     "data": {
      "image/png": "[encoded data removed]",
      "text/plain": [
       "<Figure size 432x288 with 1 Axes>"
      ]
     },
     "metadata": {
      "needs_background": "light"
     },
     "output_type": "display_data"
    },
    {
     "data": {
      "image/png": "[encoded data removed]",
      "text/plain": [
       "<Figure size 432x288 with 1 Axes>"
      ]
     },
     "metadata": {
      "needs_background": "light"
     },
     "output_type": "display_data"
    }
   ],
   "source": [
    "# Сравнение биномиалього и мультиномиального распределений\n",
    "pr = [0.5, 0.3, 0.2]\n",
    "a = [np.random.binomial(100, pr[i], 100000) for i in range(len(pr))]\n",
    "b = np.random.multinomial(100, pr, size = 100000).T\n",
    "\n",
    "\n",
    "plt.hist([a[0],b[0]], label = ['bin', 'mult'])\n",
    "plt.title('0-я монетка')\n",
    "plt.legend()\n",
    "plt.show()\n",
    "\n",
    "plt.hist([a[1],b[1]], label = ['bin', 'mult'])\n",
    "plt.title('1-я монетка')\n",
    "plt.legend()\n",
    "plt.show()\n",
    "\n",
    "plt.hist([a[2],b[2]], label = ['bin', 'mult'])\n",
    "plt.title('2-я монетка')\n",
    "plt.legend()\n",
    "plt.show()"
   ]
  },
  {
   "cell_type": "code",
   "execution_count": 3,
   "id": "59a9f456",
   "metadata": {},
   "outputs": [],
   "source": [
    "# Массив унитарных матриц образующих MUB для d = 4\n",
    "\n",
    "mub_array = 1/2*np.array([\n",
    "    [[2,0,0,0],\n",
    "     [0,2,0,0],\n",
    "     [0,0,2,0],\n",
    "     [0,0,0,2]],\n",
    "    \n",
    "    [[1,1,1,1],\n",
    "     [1,1,-1,-1],\n",
    "     [1,-1,-1,1],\n",
    "     [1,-1,1,-1]],\n",
    "    \n",
    "    [[1,1,1,1],\n",
    "     [-1,-1,1,1],\n",
    "     [-1j,1j,1j,-1j],\n",
    "     [-1j,1j,-1j,1j]],\n",
    "    \n",
    "    [[1,1,1,1],\n",
    "     [-1j,-1j,1j,1j],\n",
    "     [-1j,1j,1j,-1j],\n",
    "     [-1,1,-1,1]],\n",
    "    \n",
    "    [[1,1,1,1],\n",
    "     [-1j,-1j,1j,1j],\n",
    "     [-1,1,-1,1],\n",
    "     [-1j,1j,1j,-1j]],\n",
    "      \n",
    "])"
   ]
  },
  {
   "cell_type": "code",
   "execution_count": 4,
   "id": "5cadaa74",
   "metadata": {},
   "outputs": [],
   "source": [
    "# Получаем операторы P(j,k) и B из набора матриц, соответствующих заданному MUB \n",
    "def build_P(mub_array):\n",
    "    P = []\n",
    "    B = []\n",
    "    for mub in mub_array:\n",
    "        P_part = []\n",
    "        B_part = []\n",
    "        for string in mub.T:\n",
    "            op = np.outer(string, string.conj())\n",
    "            P_part.append(op)\n",
    "            B_part.append(np.ravel(op, order = 'C'))\n",
    "        B.append(B_part)\n",
    "        P.append(P_part)\n",
    "    return np.array(P), np.vstack(np.array(B))\n",
    "\n",
    "# Получаем операторы X из набора матриц, соответствующих заданному MUB \n",
    "def build_X(mub_array):\n",
    "    X = np.vstack(copy.deepcopy(mub_array).transpose((0,2,1)).conj())\n",
    "    return X\n",
    "    "
   ]
  },
  {
   "cell_type": "code",
   "execution_count": 5,
   "id": "36f3cbf4",
   "metadata": {},
   "outputs": [
    {
     "data": {
      "text/plain": [
       "array([[1, 2, 3],\n",
       "       [4, 5, 6]])"
      ]
     },
     "execution_count": 5,
     "metadata": {},
     "output_type": "execute_result"
    }
   ],
   "source": [
    "np.reshape(np.array([1,2,3,4,5,6]), (2,3))"
   ]
  },
  {
   "cell_type": "code",
   "execution_count": 6,
   "id": "1db400ca",
   "metadata": {},
   "outputs": [],
   "source": [
    "# Составим матрицу B для моделирования процесса измерений состояния\n",
    "P_list, _ = build_P(mub_array)"
   ]
  },
  {
   "cell_type": "code",
   "execution_count": 7,
   "id": "05422bfc",
   "metadata": {},
   "outputs": [],
   "source": [
    "# Класс квантового состояния\n",
    "class State():\n",
    "    \n",
    "    def __init__(self, d = 4):\n",
    "        self.d = d\n",
    "        self.phi = None\n",
    "        self.rho = None\n",
    "        \n",
    "    def build_clear_state(self, random_state = 42):\n",
    "        \n",
    "    \n",
    "        phi = np.random.randn(int(d)) + 1j*np.random.randn(int(d))\n",
    "        self.phi = phi/ np.sqrt((sum(abs(phi) ** 2))) #np.sqrt(np.dot(phi, phi.conj()))\n",
    "        self.rho = np.outer(self.phi, self.phi.conj())\n",
    "        \n",
    "    def build_random_state(self, random_state = 42):\n",
    "        d = self.d\n",
    "        \n",
    "        C_list = np.random.normal(0, 1, size=(d, 2)) + 1j*np.random.normal(0, 1, size=(d, 2))\n",
    "        C_list = C_list/(np.sqrt(np.sum(C_list*np.conjugate(C_list))))\n",
    "        C_list = np.reshape(C_list, [1,d,2,1])\n",
    "        g_rho = np.tensordot(C_list, np.conjugate(C_list), [0,3])\n",
    "        g_rho = np.reshape(g_rho, (d,2,d,2))\n",
    "        self.rho = np.trace(g_rho, axis1=1, axis2=3)\n",
    "        \n",
    "    def set_phi(self, coefs):\n",
    "        self.phi = coefs\n",
    "        self.rho = np.outer(self.phi, self.phi.conj())\n",
    "        \n",
    "    def get_phi(self):\n",
    "        return self.phi\n",
    "    \n",
    "    def get_rho(self):\n",
    "        return self.rho\n",
    "    \n",
    "        \n",
    "#Вычисление Фиделити для матриц плотности\n",
    "def Fidelity(rho1, rho2):\n",
    "    return np.abs(np.trace(sLA.sqrtm(sLA.sqrtm(rho1) @ rho2 @ sLA.sqrtm(rho1))))**2       \n",
    "\n",
    "#Вычисление Фиделити для векторов чистых состояний\n",
    "def Fidelity_pure(vec0, vec1):\n",
    "    return np.abs(np.dot(vec0, vec1.conjugate())) ** 2\n",
    "\n",
    "#Вычисление\\норму Фробениуса\n",
    "def Frobenius_norm(matrix):\n",
    "    return np.sqrt(np.sum(list(map(lambda x: np.abs(x) ** 2,matrix))))"
   ]
  },
  {
   "cell_type": "code",
   "execution_count": 8,
   "id": "15201238",
   "metadata": {},
   "outputs": [],
   "source": [
    "# Задаёт случайный процесс\n",
    "def gen_U(d = 4):\n",
    "    u = np.reshape(np.random.randn(d**2) + 1j*np.random.randn(d**2), (d, d))\n",
    "    return LA.qr(u)[0]\n",
    "\n",
    "# Очищение матрицы плотности до вектора чистого состояния\n",
    "def purify_rho_to_psi(rho, rang = 1):\n",
    "    \n",
    "    \n",
    "    vals, vecs = LA.eig(rho.copy())\n",
    "    \n",
    "    \n",
    "    indices = vals.argsort()\n",
    "    vals_pure = vals[sorted(indices[-rang:])]\n",
    "    vecs_pure = vecs.T[sorted(indices[-rang:])].T\n",
    "    \n",
    "\n",
    "    psi = np.dot(vecs_pure, np.diag(np.sqrt(vals_pure)))\n",
    "    \n",
    "    return psi"
   ]
  },
  {
   "cell_type": "code",
   "execution_count": 9,
   "id": "ab069e94",
   "metadata": {},
   "outputs": [],
   "source": [
    "# Моделирует серию измерений:\n",
    "def estimate_probs(rho, B, n_shots = 100, d = 4):\n",
    "    p_B = np.dot(B, np.ravel(rho, order = 'F'))\n",
    "    p_B_matrix = p_B.reshape((int(p_B.shape[0]/d),d))\n",
    "    prob_res = np.ravel(np.array([np.random.multinomial(n_shots, x.astype(dtype = float)) for x in p_B_matrix])/n_shots, order = 'C')\n",
    "    return prob_res\n",
    "\n",
    "\n",
    "# Корректирует СЗ восстановленной матрицы, проектируя её на \n",
    "# множество матриц плотности\n",
    "def correct_eigvals(v):\n",
    "    \n",
    "    vals = sorted(v)[::-1]\n",
    "    inds = np.arange(len(vals))\n",
    "    w_list = np.abs(np.cumsum(vals)-1)/(inds + 1)\n",
    "    \n",
    "    j = 0\n",
    "    for val, w in zip(vals,w_list):\n",
    "        if (val - w) <0:\n",
    "            break\n",
    "        else:\n",
    "            j += 1\n",
    "        \n",
    "    vals_correct = copy.deepcopy(v)\n",
    "    \n",
    "    if  j <= (len(vals) - 1):\n",
    "        vals_correct = vals_correct - w_list[j-1]\n",
    "        vals_correct[vals_correct<0] = 0\n",
    "        \n",
    "    return vals_correct\n",
    "\n",
    "def project_rho(rho):\n",
    "    \n",
    "    vals, vecs = LA.eig(rho.copy())\n",
    "    vals_new = correct_eigvals(vals)\n",
    "    psi = np.dot(vecs, np.diag(np.sqrt(vals_new)))\n",
    "    rho_new = np.dot(psi, psi.conj().T)\n",
    "    return rho_new\n",
    "    \n",
    "    \n",
    "\n",
    "\n",
    "# реализут восстановление матрицы плотности\n",
    "def recover_rho(B, probs, correct_rho = True):\n",
    "    u, s, vh = LA.linalg.svd(B)\n",
    "    q = np.dot(u.conj().T, probs)\n",
    "    \n",
    "    tail_num = B.shape[0] - B.shape[1]\n",
    "    f = q[:-tail_num]/s\n",
    "    rho_new = np.reshape(np.dot(vh.conj().T, f),(int(np.sqrt(vh.shape[0])),int(np.sqrt(vh.shape[0])))).conj()\n",
    "    \n",
    "    vals, vecs = LA.eig(rho_new)\n",
    "    \n",
    "    delta = np.abs(np.sum(vals[vals<0]))\n",
    "    \n",
    "    rho_new_correct = rho_new.copy()\n",
    "    \n",
    "    if correct_rho == True:\n",
    "        vals_new = correct_eigvals(vals)\n",
    "        rho_new_correct = vecs @ np.diag(vals_new) @ vecs.conj().T\n",
    "        \n",
    "    return rho_new_correct, delta"
   ]
  },
  {
   "cell_type": "code",
   "execution_count": 10,
   "id": "3b63b7da",
   "metadata": {},
   "outputs": [],
   "source": [
    "def psi_prob(psi, P_matrix):\n",
    "    prob = np.trace(psi @ psi.conj().T @ P_matrix)\n",
    "    return prob\n",
    "\n",
    "def J_operator(psi, k_list, P_list):\n",
    "    prob_list = np.array([psi_prob(psi, P_matrix) for P_matrix in P_list])\n",
    "    J = np.sum((P_list.T*k_list/prob_list).T, axis = 0)\n",
    "    return J\n",
    "\n",
    "def update_psi(psi, k_list, P_list, mu = 0.5, n_list = None, I_inv = None):\n",
    "    psi_new = (1 - mu)*I_inv@J_operator(psi, k_list, P_list)@psi.copy() + mu*psi.copy()\n",
    "    return psi_new\n",
    "\n",
    "def find_MML_psi(rho, k_list, P_list, mu = 0.5, eps = 1e-8, n_list = None, verbose = False, I_inv = None):\n",
    "    psi = purify_rho_to_psi(rho, rang = 1)\n",
    "    for i in range(5000):\n",
    "        psi_new = update_psi(psi.copy(), k_list, P_list, mu = mu, n_list = n_list, I_inv = I_inv)\n",
    "        err = abs(Frobenius_norm(psi @ psi.T.conj() - psi_new @ psi_new.T.conj()))\n",
    "        if verbose:\n",
    "            print(err)\n",
    "        if err < eps:\n",
    "            break\n",
    "        psi = psi_new\n",
    "    return psi @ np.conj(psi.T)\n",
    "        "
   ]
  },
  {
   "cell_type": "code",
   "execution_count": null,
   "id": "95d9ab85",
   "metadata": {},
   "outputs": [],
   "source": []
  },
  {
   "cell_type": "markdown",
   "id": "e22dc9c7",
   "metadata": {},
   "source": [
    "#### Зададим 20 случайных состояний"
   ]
  },
  {
   "cell_type": "code",
   "execution_count": 11,
   "id": "2c7619af",
   "metadata": {},
   "outputs": [],
   "source": [
    "state = State(4)\n",
    "M = 20 # колличество состояний\n",
    "\n",
    "input_states = []\n",
    "lambdas = []\n",
    "B = []\n",
    "for i in range(M):\n",
    "    state.build_random_state()\n",
    "    rho = state.get_rho()\n",
    "    input_states.append(rho)"
   ]
  },
  {
   "cell_type": "code",
   "execution_count": 12,
   "id": "fb84c6dc",
   "metadata": {},
   "outputs": [
    {
     "data": {
      "text/plain": [
       "(5, 4, 4, 4)"
      ]
     },
     "execution_count": 12,
     "metadata": {},
     "output_type": "execute_result"
    }
   ],
   "source": [
    "P_list.shape"
   ]
  },
  {
   "cell_type": "code",
   "execution_count": 13,
   "id": "a293ccc8",
   "metadata": {},
   "outputs": [],
   "source": [
    "n = 100 \n",
    "\n",
    "# Создадим эффективные операторы измерения\n",
    "lambdas = [np.kron(i_state.conj(), P)\n",
    "           for i_state, P in product(input_states, np.reshape(P_list, (20,4,4)))]\n",
    "\n",
    "# Создадим фиктивные операторы измерения для сохранения следа\n",
    "lambdas_fictive = [np.kron(P, np.eye(4)) for P in np.reshape(P_list, (20,4,4))]\n",
    "\n",
    "# Дополним ими эффективные операторы измерения\n",
    "lambdas_all = lambdas + lambdas_fictive\n",
    "\n",
    "# Измерения фиктивных операторов 1000 * 100 измерений на каждый с вероятностью 1\n",
    "samples_fictive = [1000*n]*np.shape(lambdas_fictive)[0]\n",
    "\n",
    "# Измерения 'эффективных операторов 100 измерений на каждый\n",
    "n_list_small = [n]*np.shape(lambdas)[0]\n",
    "\n",
    "# Объединим в один массив\n",
    "n_list = np.array(n_list_small + samples_fictive)\n",
    "\n",
    "I = np.sum([n_list[i] * lambdas_all[i] for i in range(n_list.shape[0])], axis=0)\n",
    "I_inv = LA.inv(I)"
   ]
  },
  {
   "cell_type": "code",
   "execution_count": 14,
   "id": "fe46b6e1",
   "metadata": {},
   "outputs": [],
   "source": [
    "# Составим из списков операторов Lambda матрицу B (для случая с добавлением фиктивных операторов и без)\n",
    "B = np.reshape(np.array([[np.ravel(l, order = 'C') for l in l_part_list] for l_part_list in lambdas_all]), (420, 16*16))\n",
    "B_small = np.reshape(np.array([[np.ravel(l, order = 'C') for l in l_part_list] for l_part_list in lambdas]), (400, 16*16))"
   ]
  },
  {
   "cell_type": "code",
   "execution_count": 15,
   "id": "e3de0953",
   "metadata": {},
   "outputs": [
    {
     "name": "stdout",
     "output_type": "stream",
     "text": [
      "Число обусловленности B c фиктивными измерениями: 38.61302355667688\n",
      "Число обусловленности B БЕЗ фиктивнх измерений: 29.77324056566115\n"
     ]
    }
   ],
   "source": [
    "print(f'Число обусловленности B c фиктивными измерениями: {LA.cond(B)}')\n",
    "print(f'Число обусловленности B БЕЗ фиктивнх измерений: {LA.cond(B_small)}')"
   ]
  },
  {
   "cell_type": "markdown",
   "id": "3e7845cc",
   "metadata": {},
   "source": [
    "Число обусловленности матрицы B большое, что говорит о низком ранге матрицы B. Вероятно это указывает на информационную полноту системы эффективных измерений Лямбда (по аналогии с переопределённой системой уравнений)."
   ]
  },
  {
   "cell_type": "code",
   "execution_count": 16,
   "id": "9de22121",
   "metadata": {},
   "outputs": [
    {
     "data": {
      "text/plain": [
       "(420, 256)"
      ]
     },
     "execution_count": 16,
     "metadata": {},
     "output_type": "execute_result"
    }
   ],
   "source": [
    "B.shape"
   ]
  },
  {
   "cell_type": "code",
   "execution_count": 17,
   "id": "d705dcb5",
   "metadata": {},
   "outputs": [
    {
     "name": "stderr",
     "output_type": "stream",
     "text": [
      "  0%|          | 0/100 [00:00<?, ?it/s]/home/stas/anaconda3/lib/python3.7/site-packages/ipykernel_launcher.py:5: ComplexWarning: Casting complex values to real discards the imaginary part\n",
      "  \"\"\"\n",
      "100%|██████████| 100/100 [1:09:21<00:00, 41.62s/it]\n"
     ]
    }
   ],
   "source": [
    "num_proc = 100\n",
    "d = 4\n",
    "\n",
    "F_list = []\n",
    "F_MML_list = []\n",
    "\n",
    "for i in tqdm(range(num_proc)):\n",
    "    \n",
    "    U = gen_U(d = 4)\n",
    "    e = np.reshape(U, np.prod(U.shape))\n",
    "    chi = np.outer(e, np.conj(e))\n",
    "    probs = estimate_probs(chi, B_small, n_shots = 100)\n",
    "    \n",
    "    samples_all = list(n*probs) + samples_fictive\n",
    "    probs_all = np.array(list(probs) + [1]*len(samples_fictive))\n",
    "    \n",
    "    rho_rec, _ = recover_rho(B, probs_all, correct_rho = True)\n",
    "    rho_rec = project_rho(rho_rec)\n",
    "    \n",
    "\n",
    "    rho_MML = find_MML_psi(rho_rec, samples_all, np.array(lambdas_all), mu = 0.5,\n",
    "                           eps = 1e-8, n_list = n_list,I_inv = I_inv, verbose = False)\n",
    "    rho_MML = project_rho(rho_MML)\n",
    "    \n",
    "    \n",
    "    F_list.append(Fidelity(rho_rec, chi/d))\n",
    "    F_MML_list.append(Fidelity(rho_MML, chi/d))\n",
    "    "
   ]
  },
  {
   "cell_type": "code",
   "execution_count": 19,
   "id": "2a175aca",
   "metadata": {},
   "outputs": [
    {
     "data": {
      "image/png": "[encoded data removed]",
      "text/plain": [
       "<Figure size 432x288 with 1 Axes>"
      ]
     },
     "metadata": {
      "needs_background": "light"
     },
     "output_type": "display_data"
    }
   ],
   "source": [
    "plt.hist([F_list, F_MML_list], bins=40, label=['Inv','MLE'])\n",
    "plt.legend()\n",
    "plt.title('Сравнение точности восстановления состояния до и после применения MML корректировки')\n",
    "plt.xlabel('Fidelity')\n",
    "plt.ylabel('Частота')\n",
    "plt.show()"
   ]
  },
  {
   "cell_type": "markdown",
   "id": "da4c78c5",
   "metadata": {},
   "source": [
    "Гистограмма демонстрирует успешное восстановление состояния"
   ]
  },
  {
   "cell_type": "code",
   "execution_count": 20,
   "id": "c8250d5b",
   "metadata": {},
   "outputs": [],
   "source": [
    "# повторим для честной схемы измерений"
   ]
  },
  {
   "cell_type": "code",
   "execution_count": 67,
   "id": "cc910307",
   "metadata": {},
   "outputs": [],
   "source": [
    "# Зададим базис процесса\n",
    "A = np.zeros((d**2, d * d), dtype = 'complex')\n",
    "for i in range(d**2):\n",
    "    A[i][i] = 1\n",
    "A = np.reshape(A, (d**2, d, d))\n",
    "A = np.transpose(A, (0,2,1))\n",
    "\n",
    "def process(Xi, A, rho, d = 4):\n",
    "    res = np.zeros((d,d), dtype = 'complex')\n",
    "    for i in range(d**2):\n",
    "        for j in range(d**2):\n",
    "            res += Xi[i][j]*A[i]@rho@A[j].T.conj()\n",
    "    return res\n",
    "\n",
    "def get_probs_true(input_states, P_list, chi, A, n_shots = 100):\n",
    "    probs = []\n",
    "    for rho, P in product(input_states, P_list):\n",
    "        probs.append(np.trace(process(chi, A, rho) @ P))\n",
    "    \n",
    "    probs = np.array(probs)\n",
    "    p_B_matrix = probs.reshape((int(probs.shape[0]/d),d))\n",
    "    prob_res = np.ravel(np.array([np.random.multinomial(n_shots, x.astype(dtype = float)) for x in p_B_matrix])/n_shots, order = 'C')\n",
    "    return prob_res"
   ]
  },
  {
   "cell_type": "code",
   "execution_count": 68,
   "id": "a92bf6b9",
   "metadata": {},
   "outputs": [
    {
     "name": "stderr",
     "output_type": "stream",
     "text": [
      "  0%|          | 0/100 [00:00<?, ?it/s]/home/stas/anaconda3/lib/python3.7/site-packages/ipykernel_launcher.py:22: ComplexWarning: Casting complex values to real discards the imaginary part\n",
      "  1%|          | 1/100 [00:40<1:06:48, 40.49s/it]"
     ]
    },
    {
     "name": "stdout",
     "output_type": "stream",
     "text": [
      "0.9849921993517176 0.9973255332564582\n"
     ]
    },
    {
     "name": "stderr",
     "output_type": "stream",
     "text": [
      "\r",
      "  2%|▏         | 2/100 [01:21<1:06:09, 40.50s/it]"
     ]
    },
    {
     "name": "stdout",
     "output_type": "stream",
     "text": [
      "0.9855550243176987 0.9988639573752308\n"
     ]
    },
    {
     "name": "stderr",
     "output_type": "stream",
     "text": [
      "\r",
      "  3%|▎         | 3/100 [02:01<1:05:25, 40.47s/it]"
     ]
    },
    {
     "name": "stdout",
     "output_type": "stream",
     "text": [
      "0.986996747374957 0.9989662326088844\n"
     ]
    },
    {
     "name": "stderr",
     "output_type": "stream",
     "text": [
      "\r",
      "  4%|▍         | 4/100 [02:42<1:05:04, 40.68s/it]"
     ]
    },
    {
     "name": "stdout",
     "output_type": "stream",
     "text": [
      "0.995046455946215 0.999128134721186\n"
     ]
    },
    {
     "name": "stderr",
     "output_type": "stream",
     "text": [
      "\r",
      "  5%|▌         | 5/100 [03:22<1:04:19, 40.63s/it]"
     ]
    },
    {
     "name": "stdout",
     "output_type": "stream",
     "text": [
      "0.9873946184621398 0.9968998023810245\n"
     ]
    },
    {
     "name": "stderr",
     "output_type": "stream",
     "text": [
      "\r",
      "  6%|▌         | 6/100 [04:03<1:03:40, 40.64s/it]"
     ]
    },
    {
     "name": "stdout",
     "output_type": "stream",
     "text": [
      "0.9920051730308354 0.9989555232078254\n"
     ]
    },
    {
     "name": "stderr",
     "output_type": "stream",
     "text": [
      "\r",
      "  7%|▋         | 7/100 [04:44<1:02:59, 40.64s/it]"
     ]
    },
    {
     "name": "stdout",
     "output_type": "stream",
     "text": [
      "0.9847797905783832 0.9964300493107774\n"
     ]
    },
    {
     "name": "stderr",
     "output_type": "stream",
     "text": [
      "\r",
      "  8%|▊         | 8/100 [05:24<1:02:21, 40.66s/it]"
     ]
    },
    {
     "name": "stdout",
     "output_type": "stream",
     "text": [
      "0.9920232096151743 0.9986893031181123\n"
     ]
    },
    {
     "name": "stderr",
     "output_type": "stream",
     "text": [
      "\r",
      "  9%|▉         | 9/100 [06:05<1:01:38, 40.64s/it]"
     ]
    },
    {
     "name": "stdout",
     "output_type": "stream",
     "text": [
      "0.98323461947282 0.9958064061336783\n"
     ]
    },
    {
     "name": "stderr",
     "output_type": "stream",
     "text": [
      "\r",
      " 10%|█         | 10/100 [06:46<1:00:53, 40.60s/it]"
     ]
    },
    {
     "name": "stdout",
     "output_type": "stream",
     "text": [
      "0.9864179916767926 0.9992311258624261\n"
     ]
    },
    {
     "name": "stderr",
     "output_type": "stream",
     "text": [
      "\r",
      " 11%|█         | 11/100 [07:26<1:00:16, 40.64s/it]"
     ]
    },
    {
     "name": "stdout",
     "output_type": "stream",
     "text": [
      "0.9923723839207451 0.9979870288018882\n"
     ]
    },
    {
     "name": "stderr",
     "output_type": "stream",
     "text": [
      "\r",
      " 12%|█▏        | 12/100 [08:07<59:36, 40.64s/it]  "
     ]
    },
    {
     "name": "stdout",
     "output_type": "stream",
     "text": [
      "0.9872860292393948 0.9986638539153685\n"
     ]
    },
    {
     "name": "stderr",
     "output_type": "stream",
     "text": [
      "\r",
      " 13%|█▎        | 13/100 [08:47<58:51, 40.60s/it]"
     ]
    },
    {
     "name": "stdout",
     "output_type": "stream",
     "text": [
      "0.9894924172801817 0.9986103030700554\n"
     ]
    },
    {
     "name": "stderr",
     "output_type": "stream",
     "text": [
      "\r",
      " 14%|█▍        | 14/100 [09:28<58:13, 40.63s/it]"
     ]
    },
    {
     "name": "stdout",
     "output_type": "stream",
     "text": [
      "0.9868416578364102 0.9983537464940767\n"
     ]
    },
    {
     "name": "stderr",
     "output_type": "stream",
     "text": [
      "\r",
      " 15%|█▌        | 15/100 [10:09<57:28, 40.57s/it]"
     ]
    },
    {
     "name": "stdout",
     "output_type": "stream",
     "text": [
      "0.9903371459815632 0.9981127085913983\n"
     ]
    },
    {
     "name": "stderr",
     "output_type": "stream",
     "text": [
      "\r",
      " 16%|█▌        | 16/100 [10:49<56:45, 40.54s/it]"
     ]
    },
    {
     "name": "stdout",
     "output_type": "stream",
     "text": [
      "0.9912302804080707 0.9973167324243726\n"
     ]
    },
    {
     "name": "stderr",
     "output_type": "stream",
     "text": [
      "\r",
      " 17%|█▋        | 17/100 [11:30<56:04, 40.53s/it]"
     ]
    },
    {
     "name": "stdout",
     "output_type": "stream",
     "text": [
      "0.9902543032219662 0.9982006295110659\n"
     ]
    },
    {
     "name": "stderr",
     "output_type": "stream",
     "text": [
      "\r",
      " 18%|█▊        | 18/100 [12:10<55:21, 40.51s/it]"
     ]
    },
    {
     "name": "stdout",
     "output_type": "stream",
     "text": [
      "0.9886385469315715 0.9988853903869647\n"
     ]
    },
    {
     "name": "stderr",
     "output_type": "stream",
     "text": [
      "\r",
      " 19%|█▉        | 19/100 [12:51<54:48, 40.60s/it]"
     ]
    },
    {
     "name": "stdout",
     "output_type": "stream",
     "text": [
      "0.9874539458150837 0.9990897288237592\n"
     ]
    },
    {
     "name": "stderr",
     "output_type": "stream",
     "text": [
      "\r",
      " 20%|██        | 20/100 [13:31<54:07, 40.59s/it]"
     ]
    },
    {
     "name": "stdout",
     "output_type": "stream",
     "text": [
      "0.9904959928943924 0.9966037172464791\n"
     ]
    },
    {
     "name": "stderr",
     "output_type": "stream",
     "text": [
      "\r",
      " 21%|██        | 21/100 [14:12<53:29, 40.62s/it]"
     ]
    },
    {
     "name": "stdout",
     "output_type": "stream",
     "text": [
      "0.9811355969981765 0.9971739244178385\n"
     ]
    },
    {
     "name": "stderr",
     "output_type": "stream",
     "text": [
      "\r",
      " 22%|██▏       | 22/100 [14:53<53:05, 40.84s/it]"
     ]
    },
    {
     "name": "stdout",
     "output_type": "stream",
     "text": [
      "0.9865743839816311 0.9984507156793471\n"
     ]
    },
    {
     "name": "stderr",
     "output_type": "stream",
     "text": [
      "\r",
      " 23%|██▎       | 23/100 [15:34<52:19, 40.77s/it]"
     ]
    },
    {
     "name": "stdout",
     "output_type": "stream",
     "text": [
      "0.9849896006559605 0.9968896428752695\n"
     ]
    },
    {
     "name": "stderr",
     "output_type": "stream",
     "text": [
      "\r",
      " 24%|██▍       | 24/100 [16:15<51:38, 40.77s/it]"
     ]
    },
    {
     "name": "stdout",
     "output_type": "stream",
     "text": [
      "0.9888212173587156 0.9972009778048043\n"
     ]
    },
    {
     "name": "stderr",
     "output_type": "stream",
     "text": [
      "\r",
      " 25%|██▌       | 25/100 [16:58<51:59, 41.59s/it]"
     ]
    },
    {
     "name": "stdout",
     "output_type": "stream",
     "text": [
      "0.992551867245176 0.9980315808071943\n"
     ]
    },
    {
     "name": "stderr",
     "output_type": "stream",
     "text": [
      "\r",
      " 26%|██▌       | 26/100 [17:42<52:12, 42.33s/it]"
     ]
    },
    {
     "name": "stdout",
     "output_type": "stream",
     "text": [
      "0.991113685068819 0.9968621069099707\n"
     ]
    },
    {
     "name": "stderr",
     "output_type": "stream",
     "text": [
      "\r",
      " 27%|██▋       | 27/100 [18:33<54:29, 44.79s/it]"
     ]
    },
    {
     "name": "stdout",
     "output_type": "stream",
     "text": [
      "0.9902268952638885 0.9987962599946018\n"
     ]
    },
    {
     "name": "stderr",
     "output_type": "stream",
     "text": [
      "\r",
      " 28%|██▊       | 28/100 [20:10<1:12:26, 60.37s/it]"
     ]
    },
    {
     "name": "stdout",
     "output_type": "stream",
     "text": [
      "0.9791614943650631 0.9949887280229883\n"
     ]
    },
    {
     "name": "stderr",
     "output_type": "stream",
     "text": [
      "\r",
      " 29%|██▉       | 29/100 [21:19<1:14:39, 63.09s/it]"
     ]
    },
    {
     "name": "stdout",
     "output_type": "stream",
     "text": [
      "0.9820900975245046 0.9973432206717578\n"
     ]
    },
    {
     "name": "stderr",
     "output_type": "stream",
     "text": [
      "\r",
      " 30%|███       | 30/100 [22:19<1:12:30, 62.15s/it]"
     ]
    },
    {
     "name": "stdout",
     "output_type": "stream",
     "text": [
      "0.989443977777382 0.9987673827047989\n"
     ]
    },
    {
     "name": "stderr",
     "output_type": "stream",
     "text": [
      "\r",
      " 31%|███       | 31/100 [23:05<1:05:54, 57.31s/it]"
     ]
    },
    {
     "name": "stdout",
     "output_type": "stream",
     "text": [
      "0.9850739648026345 0.9986073216628697\n"
     ]
    },
    {
     "name": "stderr",
     "output_type": "stream",
     "text": [
      "\r",
      " 32%|███▏      | 32/100 [23:52<1:01:17, 54.08s/it]"
     ]
    },
    {
     "name": "stdout",
     "output_type": "stream",
     "text": [
      "0.9918010458218165 0.9980687355556892\n"
     ]
    },
    {
     "name": "stderr",
     "output_type": "stream",
     "text": [
      "\r",
      " 33%|███▎      | 33/100 [24:39<58:10, 52.10s/it]  "
     ]
    },
    {
     "name": "stdout",
     "output_type": "stream",
     "text": [
      "0.9874917632925894 0.9985216599379702\n"
     ]
    },
    {
     "name": "stderr",
     "output_type": "stream",
     "text": [
      "\r",
      " 34%|███▍      | 34/100 [25:25<55:20, 50.31s/it]"
     ]
    },
    {
     "name": "stdout",
     "output_type": "stream",
     "text": [
      "0.9792529751295378 0.9973276739415753\n"
     ]
    },
    {
     "name": "stderr",
     "output_type": "stream",
     "text": [
      "\r",
      " 35%|███▌      | 35/100 [26:11<53:10, 49.08s/it]"
     ]
    },
    {
     "name": "stdout",
     "output_type": "stream",
     "text": [
      "0.9864476415209708 0.998352842266331\n"
     ]
    },
    {
     "name": "stderr",
     "output_type": "stream",
     "text": [
      "\r",
      " 36%|███▌      | 36/100 [26:58<51:30, 48.29s/it]"
     ]
    },
    {
     "name": "stdout",
     "output_type": "stream",
     "text": [
      "0.9923550047162704 0.9969879213546196\n"
     ]
    },
    {
     "name": "stderr",
     "output_type": "stream",
     "text": [
      "\r",
      " 37%|███▋      | 37/100 [27:44<50:07, 47.75s/it]"
     ]
    },
    {
     "name": "stdout",
     "output_type": "stream",
     "text": [
      "0.9868244122808678 0.9992882881488375\n"
     ]
    },
    {
     "name": "stderr",
     "output_type": "stream",
     "text": [
      "\r",
      " 38%|███▊      | 38/100 [28:31<49:02, 47.46s/it]"
     ]
    },
    {
     "name": "stdout",
     "output_type": "stream",
     "text": [
      "0.9897941851874277 0.997543527247026\n"
     ]
    },
    {
     "name": "stderr",
     "output_type": "stream",
     "text": [
      "\r",
      " 39%|███▉      | 39/100 [29:17<47:51, 47.08s/it]"
     ]
    },
    {
     "name": "stdout",
     "output_type": "stream",
     "text": [
      "0.9882218526677486 0.9981247842884217\n"
     ]
    },
    {
     "name": "stderr",
     "output_type": "stream",
     "text": [
      "\r",
      " 40%|████      | 40/100 [30:03<46:45, 46.75s/it]"
     ]
    },
    {
     "name": "stdout",
     "output_type": "stream",
     "text": [
      "0.985035032740242 0.9983237433775721\n"
     ]
    },
    {
     "name": "stderr",
     "output_type": "stream",
     "text": [
      "\r",
      " 41%|████      | 41/100 [30:49<45:46, 46.55s/it]"
     ]
    },
    {
     "name": "stdout",
     "output_type": "stream",
     "text": [
      "0.9849898631928852 0.9980365664285484\n"
     ]
    },
    {
     "name": "stderr",
     "output_type": "stream",
     "text": [
      "\r",
      " 42%|████▏     | 42/100 [31:36<44:52, 46.42s/it]"
     ]
    },
    {
     "name": "stdout",
     "output_type": "stream",
     "text": [
      "0.9875770427037909 0.998094898591932\n"
     ]
    },
    {
     "name": "stderr",
     "output_type": "stream",
     "text": [
      "\r",
      " 43%|████▎     | 43/100 [32:40<49:12, 51.80s/it]"
     ]
    },
    {
     "name": "stdout",
     "output_type": "stream",
     "text": [
      "0.9900213716547539 0.9976977057122518\n"
     ]
    },
    {
     "name": "stderr",
     "output_type": "stream",
     "text": [
      "\r",
      " 44%|████▍     | 44/100 [33:26<46:48, 50.15s/it]"
     ]
    },
    {
     "name": "stdout",
     "output_type": "stream",
     "text": [
      "0.9836560119612973 0.9979875412746899\n"
     ]
    },
    {
     "name": "stderr",
     "output_type": "stream",
     "text": [
      "\r",
      " 45%|████▌     | 45/100 [34:13<44:56, 49.03s/it]"
     ]
    },
    {
     "name": "stdout",
     "output_type": "stream",
     "text": [
      "0.9926047698286672 0.9975058647967336\n"
     ]
    },
    {
     "name": "stderr",
     "output_type": "stream",
     "text": [
      "\r",
      " 46%|████▌     | 46/100 [35:01<44:03, 48.96s/it]"
     ]
    },
    {
     "name": "stdout",
     "output_type": "stream",
     "text": [
      "0.9902619739418035 0.9993362320418693\n"
     ]
    },
    {
     "name": "stderr",
     "output_type": "stream",
     "text": [
      "\r",
      " 47%|████▋     | 47/100 [35:49<42:47, 48.44s/it]"
     ]
    },
    {
     "name": "stdout",
     "output_type": "stream",
     "text": [
      "0.9877395602764152 0.9985928583031796\n"
     ]
    },
    {
     "name": "stderr",
     "output_type": "stream",
     "text": [
      "\r",
      " 48%|████▊     | 48/100 [36:36<41:40, 48.08s/it]"
     ]
    },
    {
     "name": "stdout",
     "output_type": "stream",
     "text": [
      "0.984170221824054 0.9958478992009292\n"
     ]
    },
    {
     "name": "stderr",
     "output_type": "stream",
     "text": [
      "\r",
      " 49%|████▉     | 49/100 [37:23<40:37, 47.80s/it]"
     ]
    },
    {
     "name": "stdout",
     "output_type": "stream",
     "text": [
      "0.9859966341756136 0.9983708067766043\n"
     ]
    },
    {
     "name": "stderr",
     "output_type": "stream",
     "text": [
      "\r",
      " 50%|█████     | 50/100 [38:10<39:40, 47.60s/it]"
     ]
    },
    {
     "name": "stdout",
     "output_type": "stream",
     "text": [
      "0.9846829092116505 0.9978466797309559\n"
     ]
    },
    {
     "name": "stderr",
     "output_type": "stream",
     "text": [
      "\r",
      " 51%|█████     | 51/100 [38:57<38:48, 47.52s/it]"
     ]
    },
    {
     "name": "stdout",
     "output_type": "stream",
     "text": [
      "0.975201843053123 0.9979961275836675\n"
     ]
    },
    {
     "name": "stderr",
     "output_type": "stream",
     "text": [
      "\r",
      " 52%|█████▏    | 52/100 [39:45<37:59, 47.49s/it]"
     ]
    },
    {
     "name": "stdout",
     "output_type": "stream",
     "text": [
      "0.988658500233718 0.9970171172714171\n"
     ]
    },
    {
     "name": "stderr",
     "output_type": "stream",
     "text": [
      "\r",
      " 53%|█████▎    | 53/100 [40:29<36:20, 46.40s/it]"
     ]
    },
    {
     "name": "stdout",
     "output_type": "stream",
     "text": [
      "0.9859141309439308 0.9974115094729467\n"
     ]
    },
    {
     "name": "stderr",
     "output_type": "stream",
     "text": [
      "\r",
      " 54%|█████▍    | 54/100 [41:11<34:33, 45.08s/it]"
     ]
    },
    {
     "name": "stdout",
     "output_type": "stream",
     "text": [
      "0.9884691074683027 0.9986713266752317\n"
     ]
    },
    {
     "name": "stderr",
     "output_type": "stream",
     "text": [
      "\r",
      " 55%|█████▌    | 55/100 [41:53<33:06, 44.15s/it]"
     ]
    },
    {
     "name": "stdout",
     "output_type": "stream",
     "text": [
      "0.9866138117773275 0.9975856569864501\n"
     ]
    },
    {
     "name": "stderr",
     "output_type": "stream",
     "text": [
      "\r",
      " 56%|█████▌    | 56/100 [42:35<31:58, 43.61s/it]"
     ]
    },
    {
     "name": "stdout",
     "output_type": "stream",
     "text": [
      "0.9922162896292765 0.998232374010239\n"
     ]
    },
    {
     "name": "stderr",
     "output_type": "stream",
     "text": [
      "\r",
      " 57%|█████▋    | 57/100 [43:17<30:51, 43.06s/it]"
     ]
    },
    {
     "name": "stdout",
     "output_type": "stream",
     "text": [
      "0.9845189942392503 0.9985325725539913\n"
     ]
    },
    {
     "name": "stderr",
     "output_type": "stream",
     "text": [
      "\r",
      " 58%|█████▊    | 58/100 [44:02<30:29, 43.56s/it]"
     ]
    },
    {
     "name": "stdout",
     "output_type": "stream",
     "text": [
      "0.9922254926637996 0.9986776064063465\n"
     ]
    },
    {
     "name": "stderr",
     "output_type": "stream",
     "text": [
      "\r",
      " 59%|█████▉    | 59/100 [44:47<30:03, 43.99s/it]"
     ]
    },
    {
     "name": "stdout",
     "output_type": "stream",
     "text": [
      "0.9798043788542249 0.9984666892072809\n"
     ]
    },
    {
     "name": "stderr",
     "output_type": "stream",
     "text": [
      "\r",
      " 60%|██████    | 60/100 [45:33<29:44, 44.62s/it]"
     ]
    },
    {
     "name": "stdout",
     "output_type": "stream",
     "text": [
      "0.9891348829718534 0.9983609872254262\n"
     ]
    },
    {
     "name": "stderr",
     "output_type": "stream",
     "text": [
      "\r",
      " 61%|██████    | 61/100 [46:19<29:22, 45.20s/it]"
     ]
    },
    {
     "name": "stdout",
     "output_type": "stream",
     "text": [
      "0.9715568477227996 0.9967508400811083\n"
     ]
    },
    {
     "name": "stderr",
     "output_type": "stream",
     "text": [
      "\r",
      " 62%|██████▏   | 62/100 [47:05<28:47, 45.47s/it]"
     ]
    },
    {
     "name": "stdout",
     "output_type": "stream",
     "text": [
      "0.9924321891356617 0.9987168688665576\n"
     ]
    },
    {
     "name": "stderr",
     "output_type": "stream",
     "text": [
      "\r",
      " 63%|██████▎   | 63/100 [47:52<28:20, 45.97s/it]"
     ]
    },
    {
     "name": "stdout",
     "output_type": "stream",
     "text": [
      "0.9898107647332802 0.9987787833517765\n"
     ]
    },
    {
     "name": "stderr",
     "output_type": "stream",
     "text": [
      "\r",
      " 64%|██████▍   | 64/100 [48:39<27:37, 46.03s/it]"
     ]
    },
    {
     "name": "stdout",
     "output_type": "stream",
     "text": [
      "0.991087374797246 0.9968716062226121\n"
     ]
    },
    {
     "name": "stderr",
     "output_type": "stream",
     "text": [
      "\r",
      " 65%|██████▌   | 65/100 [49:25<26:54, 46.13s/it]"
     ]
    },
    {
     "name": "stdout",
     "output_type": "stream",
     "text": [
      "0.9862261813244053 0.9988527699232376\n"
     ]
    },
    {
     "name": "stderr",
     "output_type": "stream",
     "text": [
      "\r",
      " 66%|██████▌   | 66/100 [50:13<26:26, 46.65s/it]"
     ]
    },
    {
     "name": "stdout",
     "output_type": "stream",
     "text": [
      "0.9833074945513527 0.9982519338018663\n"
     ]
    },
    {
     "name": "stderr",
     "output_type": "stream",
     "text": [
      "\r",
      " 67%|██████▋   | 67/100 [51:00<25:47, 46.88s/it]"
     ]
    },
    {
     "name": "stdout",
     "output_type": "stream",
     "text": [
      "0.9872561145759756 0.9982144035818907\n"
     ]
    },
    {
     "name": "stderr",
     "output_type": "stream",
     "text": [
      "\r",
      " 68%|██████▊   | 68/100 [51:53<25:55, 48.62s/it]"
     ]
    },
    {
     "name": "stdout",
     "output_type": "stream",
     "text": [
      "0.9867657717045097 0.9980972422514881\n"
     ]
    },
    {
     "name": "stderr",
     "output_type": "stream",
     "text": [
      "\r",
      " 69%|██████▉   | 69/100 [52:42<25:10, 48.71s/it]"
     ]
    },
    {
     "name": "stdout",
     "output_type": "stream",
     "text": [
      "0.9833556959420456 0.9977830452289187\n"
     ]
    },
    {
     "name": "stderr",
     "output_type": "stream",
     "text": [
      "\r",
      " 70%|███████   | 70/100 [53:32<24:36, 49.21s/it]"
     ]
    },
    {
     "name": "stdout",
     "output_type": "stream",
     "text": [
      "0.9845913798695629 0.9978296064549793\n"
     ]
    },
    {
     "name": "stderr",
     "output_type": "stream",
     "text": [
      "\r",
      " 71%|███████   | 71/100 [54:24<24:11, 50.07s/it]"
     ]
    },
    {
     "name": "stdout",
     "output_type": "stream",
     "text": [
      "0.9857038897946547 0.9987775985001192\n"
     ]
    },
    {
     "name": "stderr",
     "output_type": "stream",
     "text": [
      "\r",
      " 72%|███████▏  | 72/100 [55:12<23:01, 49.34s/it]"
     ]
    },
    {
     "name": "stdout",
     "output_type": "stream",
     "text": [
      "0.9908582087779854 0.9993738981015948\n"
     ]
    },
    {
     "name": "stderr",
     "output_type": "stream",
     "text": [
      "\r",
      " 73%|███████▎  | 73/100 [55:58<21:42, 48.24s/it]"
     ]
    },
    {
     "name": "stdout",
     "output_type": "stream",
     "text": [
      "0.9930296785837137 0.9975137672953569\n"
     ]
    },
    {
     "name": "stderr",
     "output_type": "stream",
     "text": [
      "\r",
      " 74%|███████▍  | 74/100 [56:41<20:16, 46.78s/it]"
     ]
    },
    {
     "name": "stdout",
     "output_type": "stream",
     "text": [
      "0.9858518905189867 0.9977297976226277\n"
     ]
    },
    {
     "name": "stderr",
     "output_type": "stream",
     "text": [
      "\r",
      " 75%|███████▌  | 75/100 [57:23<18:56, 45.47s/it]"
     ]
    },
    {
     "name": "stdout",
     "output_type": "stream",
     "text": [
      "0.9928162426127278 0.9980920208634477\n"
     ]
    },
    {
     "name": "stderr",
     "output_type": "stream",
     "text": [
      "\r",
      " 76%|███████▌  | 76/100 [58:11<18:27, 46.14s/it]"
     ]
    },
    {
     "name": "stdout",
     "output_type": "stream",
     "text": [
      "0.9900248540693339 0.9986752687828382\n"
     ]
    },
    {
     "name": "stderr",
     "output_type": "stream",
     "text": [
      "\r",
      " 77%|███████▋  | 77/100 [59:04<18:28, 48.18s/it]"
     ]
    },
    {
     "name": "stdout",
     "output_type": "stream",
     "text": [
      "0.9905683806647086 0.9985742123033469\n"
     ]
    },
    {
     "name": "stderr",
     "output_type": "stream",
     "text": [
      "\r",
      " 78%|███████▊  | 78/100 [59:58<18:21, 50.06s/it]"
     ]
    },
    {
     "name": "stdout",
     "output_type": "stream",
     "text": [
      "0.9947661310841668 0.999242943610413\n"
     ]
    },
    {
     "name": "stderr",
     "output_type": "stream",
     "text": [
      "\r",
      " 79%|███████▉  | 79/100 [1:00:56<18:20, 52.39s/it]"
     ]
    },
    {
     "name": "stdout",
     "output_type": "stream",
     "text": [
      "0.9823916443439725 0.998659426648204\n"
     ]
    },
    {
     "name": "stderr",
     "output_type": "stream",
     "text": [
      "\r",
      " 80%|████████  | 80/100 [1:01:54<17:57, 53.85s/it]"
     ]
    },
    {
     "name": "stdout",
     "output_type": "stream",
     "text": [
      "0.9896458097573887 0.9972339185925374\n"
     ]
    },
    {
     "name": "stderr",
     "output_type": "stream",
     "text": [
      "\r",
      " 81%|████████  | 81/100 [1:02:58<18:01, 56.92s/it]"
     ]
    },
    {
     "name": "stdout",
     "output_type": "stream",
     "text": [
      "0.9875903285507122 0.9981744385595682\n"
     ]
    },
    {
     "name": "stderr",
     "output_type": "stream",
     "text": [
      "\r",
      " 82%|████████▏ | 82/100 [1:03:45<16:13, 54.09s/it]"
     ]
    },
    {
     "name": "stdout",
     "output_type": "stream",
     "text": [
      "0.9841796529203712 0.9984345155549823\n"
     ]
    },
    {
     "name": "stderr",
     "output_type": "stream",
     "text": [
      "\r",
      " 83%|████████▎ | 83/100 [1:04:31<14:35, 51.51s/it]"
     ]
    },
    {
     "name": "stdout",
     "output_type": "stream",
     "text": [
      "0.9891329078513299 0.9991901639959806\n"
     ]
    },
    {
     "name": "stderr",
     "output_type": "stream",
     "text": [
      "\r",
      " 84%|████████▍ | 84/100 [1:05:18<13:23, 50.22s/it]"
     ]
    },
    {
     "name": "stdout",
     "output_type": "stream",
     "text": [
      "0.9820774888769985 0.9988395821134913\n"
     ]
    },
    {
     "name": "stderr",
     "output_type": "stream",
     "text": [
      "\r",
      " 85%|████████▌ | 85/100 [1:06:09<12:39, 50.60s/it]"
     ]
    },
    {
     "name": "stdout",
     "output_type": "stream",
     "text": [
      "0.9792716780678583 0.9985244485937818\n"
     ]
    },
    {
     "name": "stderr",
     "output_type": "stream",
     "text": [
      "\r",
      " 86%|████████▌ | 86/100 [1:07:03<11:59, 51.38s/it]"
     ]
    },
    {
     "name": "stdout",
     "output_type": "stream",
     "text": [
      "0.9839074494404109 0.9983519710848074\n"
     ]
    },
    {
     "name": "stderr",
     "output_type": "stream",
     "text": [
      "\r",
      " 87%|████████▋ | 87/100 [1:07:54<11:07, 51.34s/it]"
     ]
    },
    {
     "name": "stdout",
     "output_type": "stream",
     "text": [
      "0.9855983738430262 0.9981980986110712\n"
     ]
    },
    {
     "name": "stderr",
     "output_type": "stream",
     "text": [
      "\r",
      " 88%|████████▊ | 88/100 [1:08:44<10:12, 51.05s/it]"
     ]
    },
    {
     "name": "stdout",
     "output_type": "stream",
     "text": [
      "0.9820559552531678 0.9981903739636623\n"
     ]
    },
    {
     "name": "stderr",
     "output_type": "stream",
     "text": [
      "\r",
      " 89%|████████▉ | 89/100 [1:09:32<09:10, 50.01s/it]"
     ]
    },
    {
     "name": "stdout",
     "output_type": "stream",
     "text": [
      "0.9904472079101369 0.9989006615872896\n"
     ]
    },
    {
     "name": "stderr",
     "output_type": "stream",
     "text": [
      "\r",
      " 90%|█████████ | 90/100 [1:10:20<08:16, 49.63s/it]"
     ]
    },
    {
     "name": "stdout",
     "output_type": "stream",
     "text": [
      "0.9785370772163837 0.9979084077594687\n"
     ]
    },
    {
     "name": "stderr",
     "output_type": "stream",
     "text": [
      "\r",
      " 91%|█████████ | 91/100 [1:11:08<07:22, 49.13s/it]"
     ]
    },
    {
     "name": "stdout",
     "output_type": "stream",
     "text": [
      "0.989193600893755 0.997241567544582\n"
     ]
    },
    {
     "name": "stderr",
     "output_type": "stream",
     "text": [
      "\r",
      " 92%|█████████▏| 92/100 [1:12:01<06:40, 50.07s/it]"
     ]
    },
    {
     "name": "stdout",
     "output_type": "stream",
     "text": [
      "0.9878166371509273 0.9970649826873832\n"
     ]
    },
    {
     "name": "stderr",
     "output_type": "stream",
     "text": [
      "\r",
      " 93%|█████████▎| 93/100 [1:12:52<05:52, 50.36s/it]"
     ]
    },
    {
     "name": "stdout",
     "output_type": "stream",
     "text": [
      "0.9893180976306913 0.9975450927187689\n"
     ]
    },
    {
     "name": "stderr",
     "output_type": "stream",
     "text": [
      "\r",
      " 94%|█████████▍| 94/100 [1:13:40<04:57, 49.59s/it]"
     ]
    },
    {
     "name": "stdout",
     "output_type": "stream",
     "text": [
      "0.984346541852559 0.9989715571984334\n"
     ]
    },
    {
     "name": "stderr",
     "output_type": "stream",
     "text": [
      "\r",
      " 95%|█████████▌| 95/100 [1:14:26<04:03, 48.78s/it]"
     ]
    },
    {
     "name": "stdout",
     "output_type": "stream",
     "text": [
      "0.9852019725017157 0.9984952411820506\n"
     ]
    },
    {
     "name": "stderr",
     "output_type": "stream",
     "text": [
      "\r",
      " 96%|█████████▌| 96/100 [1:15:14<03:14, 48.50s/it]"
     ]
    },
    {
     "name": "stdout",
     "output_type": "stream",
     "text": [
      "0.9904390056497027 0.9991635332473359\n"
     ]
    },
    {
     "name": "stderr",
     "output_type": "stream",
     "text": [
      "\r",
      " 97%|█████████▋| 97/100 [1:16:00<02:22, 47.62s/it]"
     ]
    },
    {
     "name": "stdout",
     "output_type": "stream",
     "text": [
      "0.9817144938947768 0.997647257723318\n"
     ]
    },
    {
     "name": "stderr",
     "output_type": "stream",
     "text": [
      "\r",
      " 98%|█████████▊| 98/100 [1:16:47<01:34, 47.34s/it]"
     ]
    },
    {
     "name": "stdout",
     "output_type": "stream",
     "text": [
      "0.9896000928669402 0.9963749096487959\n"
     ]
    },
    {
     "name": "stderr",
     "output_type": "stream",
     "text": [
      "\r",
      " 99%|█████████▉| 99/100 [1:17:38<00:48, 48.48s/it]"
     ]
    },
    {
     "name": "stdout",
     "output_type": "stream",
     "text": [
      "0.9877795248334041 0.998368101555975\n"
     ]
    },
    {
     "name": "stderr",
     "output_type": "stream",
     "text": [
      "100%|██████████| 100/100 [1:18:26<00:00, 47.06s/it]"
     ]
    },
    {
     "name": "stdout",
     "output_type": "stream",
     "text": [
      "0.9900837636197427 0.9978421442758183\n"
     ]
    },
    {
     "name": "stderr",
     "output_type": "stream",
     "text": [
      "\n"
     ]
    }
   ],
   "source": [
    "num_proc = 100\n",
    "d = 4\n",
    "\n",
    "F_list = []\n",
    "F_MML_list = []\n",
    "\n",
    "for i in tqdm(range(num_proc)):\n",
    "    \n",
    "    U = gen_U(d = 4)\n",
    "    e = np.reshape(U, np.prod(U.shape))\n",
    "    chi = np.outer(e, np.conj(e))\n",
    "    \n",
    "    probs = get_probs_true(input_states, np.reshape(P_list, (20,4,4)), chi, A)\n",
    "\n",
    "    samples_all = list(n*probs) + samples_fictive\n",
    "    probs_all = np.array(list(probs) + [1]*len(samples_fictive))\n",
    "    \n",
    "    rho_rec, _ = recover_rho(B, probs_all, correct_rho = True)\n",
    "    rho_rec = project_rho(rho_rec)\n",
    "    \n",
    "\n",
    "    rho_MML = find_MML_psi(rho_rec, samples_all, np.array(lambdas_all), mu = 0.5,\n",
    "                           eps = 1e-8, n_list = n_list,I_inv = I_inv, verbose = False)\n",
    "    rho_MML = project_rho(rho_MML)\n",
    "    \n",
    "    \n",
    "    F_list.append(Fidelity(rho_rec, chi/d))\n",
    "    F_MML_list.append(Fidelity(rho_MML, chi/d))\n",
    "    \n",
    "    print(Fidelity(rho_rec, chi/d), Fidelity(rho_MML, chi/d))\n",
    "    "
   ]
  },
  {
   "cell_type": "code",
   "execution_count": 69,
   "id": "33190a0d",
   "metadata": {},
   "outputs": [
    {
     "data": {
      "image/png": "[encoded data removed]",
      "text/plain": [
       "<Figure size 432x288 with 1 Axes>"
      ]
     },
     "metadata": {
      "needs_background": "light"
     },
     "output_type": "display_data"
    }
   ],
   "source": [
    "plt.hist([F_list, F_MML_list], bins=40, label=['Inv','MLE'])\n",
    "plt.legend()\n",
    "plt.title('Сравнение точности восстановления состояния до и после применения MML корректировки')\n",
    "plt.xlabel('Fidelity')\n",
    "plt.ylabel('Частота')\n",
    "plt.show()"
   ]
  },
  {
   "cell_type": "code",
   "execution_count": null,
   "id": "8577aaf1",
   "metadata": {},
   "outputs": [],
   "source": []
  }
 ],
 "metadata": {
  "kernelspec": {
   "display_name": "Python 3",
   "language": "python",
   "name": "python3"
  },
  "language_info": {
   "codemirror_mode": {
    "name": "ipython",
    "version": 3
   },
   "file_extension": ".py",
   "mimetype": "text/x-python",
   "name": "python",
   "nbconvert_exporter": "python",
   "pygments_lexer": "ipython3",
   "version": "3.7.11"
  }
 },
 "nbformat": 4,
 "nbformat_minor": 5
}
