{
 "cells": [
  {
   "cell_type": "code",
   "execution_count": 7,
   "id": "d46e959c",
   "metadata": {},
   "outputs": [],
   "source": [
    "# Вариант 6 - MUB -> грани тэтраэдра\n",
    "import numpy as np\n",
    "import matplotlib.pyplot as plt\n",
    "from itertools import product\n",
    "from numpy.linalg import cond, qr, eig, svd, matrix_rank, inv\n",
    "from scipy.linalg import sqrtm\n",
    "from tqdm import tqdm"
   ]
  },
  {
   "cell_type": "code",
   "execution_count": 8,
   "id": "862c7048",
   "metadata": {},
   "outputs": [],
   "source": [
    "def gen_U(d):\n",
    "    u = np.reshape(np.random.randn(d**2) + 1j*np.random.randn(d**2), (d, d))\n",
    "    return qr(u)[0]\n",
    "\n",
    "def gen_Probs(n, rho, B):\n",
    "    rho_ = np.reshape(rho, np.prod(rho.shape), order='F')\n",
    "    probs = abs(B @ rho_)\n",
    "    print(probs)\n",
    "    samples = [np.random.binomial(n, probs[i]) for i in range(probs.shape[0])]\n",
    "    return np.array(samples)/n\n",
    "\n",
    "# Функция псевдо-инверсии\n",
    "def estimate_rho(Probs, P_js):\n",
    "    B = np.reshape(P_js, (Probs.shape[0], np.prod(np.shape(P_js[0]))))\n",
    "    U, S, VH = svd(B)\n",
    "    q = np.conj(U.T) @ Probs\n",
    "    f = q[:np.prod(np.shape(P_js[0]))]/S\n",
    "    rho_est_ = np.conj(VH.T) @ f\n",
    "    rho_est = np.reshape(rho_est_, np.shape(P_js[0]), order='F')\n",
    "    return rho_est\n",
    "\n",
    "# Создадим функцию для проецирования восстановленных матриц на\n",
    "# пространство матриц плотностей\n",
    "def proj_rho(rho_bad):\n",
    "    ls, e_vecs = eig(rho_bad)\n",
    "    idx = ls.argsort()[::-1]   \n",
    "    ls = ls[idx].real\n",
    "    e_vecs = e_vecs[:, idx]\n",
    "\n",
    "    if matrix_rank(rho_bad) == 1:\n",
    "        ls = np.zeros_like(ls)\n",
    "        ls[0] = 1\n",
    "    else:\n",
    "        ws = [(np.sum(ls[:j])-1)/j for j in range(1, ls.shape[0]+1)]\n",
    "        j0 = np.sum(ls - ws > 0) - 1\n",
    "        ls = (ls - ws[j0])*(ls - ws > 0)   \n",
    "    rho_proj = e_vecs @ np.diag(ls) @ np.conj(e_vecs.T)\n",
    "    return rho_proj\n",
    "\n",
    "# Функция очищения состояния\n",
    "def purify(rho, r):\n",
    "    d, u = eig(rho)\n",
    "    idx = d.argsort()[::-1]   \n",
    "    d = d[idx]\n",
    "    u = u[:, idx]\n",
    "    Psi = u @ np.reshape(np.diag(d**0.5)[:r], (d.shape[0], r))\n",
    "    \n",
    "    return Psi\n",
    "\n",
    "\n",
    "def J(Psi, samples, P_js):\n",
    "    p_js = [np.trace(P_j @ (Psi @ np.conj(Psi.T))).real for P_j in P_js]\n",
    "    J_arr = [samples[i]/p_js[i]*P_js[i] for i in range(samples.shape[0])]\n",
    "    return np.sum(J_arr, axis=0)\n",
    "\n",
    "\n",
    "# Реконструкция состояния с помощью итерационного решения уравнения правдоподобия\n",
    "def reconstruct_rho(rho, r, samples, P_js):\n",
    "    Psi_0 = purify(rho, r)\n",
    "    Psi = Psi_0\n",
    "    Psi_old = np.zeros_like(Psi)\n",
    "    mu = 0.5\n",
    "    eps = 1e-6\n",
    "\n",
    "    while(np.sum(abs(Psi - Psi_old)**2)**0.5 > eps):\n",
    "        Psi_old = Psi\n",
    "        Psi = (1-mu)*inv_I @ J(Psi_old, samples, P_js) @ Psi_old + mu*Psi_old\n",
    "    return Psi @ np.conj(Psi.T)\n",
    "\n",
    "# фиделити\n",
    "def F(r, s):\n",
    "    return abs(np.trace(sqrtm(sqrtm(r)@s@sqrtm(r)))**2)"
   ]
  },
  {
   "cell_type": "code",
   "execution_count": 9,
   "id": "10e1c2fb",
   "metadata": {},
   "outputs": [],
   "source": [
    "zero_state = np.array([1, 0])\n",
    "one_state = np.roll(zero_state, 1)\n",
    "\n",
    "plus_state = 1/2**0.5*(zero_state + one_state)\n",
    "minus_state = 1/2**0.5*(zero_state - one_state)\n",
    "\n",
    "R_state = 1/2**0.5*(zero_state + 1j * one_state)\n",
    "L_state = 1/2**0.5*(zero_state - 1j * one_state)\n",
    "\n",
    "input_states = [zero_state, one_state,\n",
    "               plus_state, minus_state,\n",
    "               R_state, L_state]"
   ]
  },
  {
   "cell_type": "code",
   "execution_count": 10,
   "id": "01af0cac",
   "metadata": {},
   "outputs": [],
   "source": [
    "d = 2\n",
    "n = 100\n",
    "\n",
    "phis = np.array([0, 0, 2*np.pi/3, 4*np.pi/3])\n",
    "thetas = np.array([0] + 3*[np.arccos(-1/3)])\n",
    "\n",
    "phi_js = np.zeros((4, 2), dtype=complex)\n",
    "\n",
    "phi_js[:, 0] = np.cos(thetas/2)\n",
    "phi_js[:, 1] = np.sin(thetas/2)*np.exp(1j*phis)\n",
    "\n",
    "# Составим набор проекторов\n",
    "P_js = [np.outer(phi_j, np.conj(phi_j)) for phi_j in phi_js]"
   ]
  },
  {
   "cell_type": "code",
   "execution_count": 11,
   "id": "b309e5b1",
   "metadata": {},
   "outputs": [
    {
     "data": {
      "text/plain": [
       "[array([[1.+0.j, 0.+0.j],\n",
       "        [0.+0.j, 0.+0.j]]),\n",
       " array([[0.33333333+0.j, 0.47140452+0.j],\n",
       "        [0.47140452+0.j, 0.66666667+0.j]]),\n",
       " array([[ 0.33333333+0.j        , -0.23570226-0.40824829j],\n",
       "        [-0.23570226+0.40824829j,  0.66666667+0.j        ]]),\n",
       " array([[ 0.33333333+0.j        , -0.23570226+0.40824829j],\n",
       "        [-0.23570226-0.40824829j,  0.66666667+0.j        ]])]"
      ]
     },
     "execution_count": 11,
     "metadata": {},
     "output_type": "execute_result"
    }
   ],
   "source": [
    "P_js"
   ]
  },
  {
   "cell_type": "code",
   "execution_count": 12,
   "id": "af310f56",
   "metadata": {},
   "outputs": [],
   "source": [
    "Lambdas = [np.kron(np.outer(np.conj(i_state), i_state), P_j) \n",
    "           for i_state, P_j in product(input_states, P_js)]\n",
    "\n",
    "Lambdas_phi =[np.kron(np.outer(np.conj(phi), phi), np.eye(2)) for phi in input_states] \n",
    "Lambdas_compl = Lambdas + Lambdas_phi\n",
    "\n",
    "samples_phi = 1000*n + np.zeros(np.shape(Lambdas_phi)[0])\n",
    "ns = np.append(n*np.ones(np.shape(Lambdas)[0]), samples_phi)\n",
    "\n",
    "I = np.sum([ns[i] * Lambdas_compl[i] for i in range(ns.shape[0])], axis=0)\n",
    "inv_I = inv(I)"
   ]
  },
  {
   "cell_type": "code",
   "execution_count": 13,
   "id": "336c1408",
   "metadata": {},
   "outputs": [
    {
     "name": "stdout",
     "output_type": "stream",
     "text": [
      "Число обусловленности: 3.000000000000002\n"
     ]
    }
   ],
   "source": [
    "B = np.reshape(Lambdas, (np.shape(Lambdas)[0], np.shape(Lambdas)[1]*np.shape(Lambdas)[2]))\n",
    "\n",
    "print('Число обусловленности: ' + str(cond(B)))"
   ]
  },
  {
   "cell_type": "code",
   "execution_count": 19,
   "id": "eec3cbe0",
   "metadata": {},
   "outputs": [
    {
     "data": {
      "text/plain": [
       "((4, 4), (24, 16))"
      ]
     },
     "execution_count": 19,
     "metadata": {},
     "output_type": "execute_result"
    }
   ],
   "source": [
    "Lambdas[0].shape, B.shape"
   ]
  },
  {
   "cell_type": "code",
   "execution_count": 22,
   "id": "847d3b58",
   "metadata": {},
   "outputs": [
    {
     "name": "stderr",
     "output_type": "stream",
     "text": [
      "  0%|          | 0/100 [00:00<?, ?it/s]"
     ]
    },
    {
     "name": "stdout",
     "output_type": "stream",
     "text": [
      "[0.05 0.32 0.74 0.84 0.9  0.73 0.24 0.24 0.8  0.12 0.81 0.35 0.26 0.86\n",
      " 0.31 0.62 0.28 0.73 0.88 0.17 0.8  0.31 0.23 0.86]\n"
     ]
    },
    {
     "name": "stderr",
     "output_type": "stream",
     "text": [
      "\n"
     ]
    },
    {
     "ename": "NameError",
     "evalue": "name 'f' is not defined",
     "output_type": "error",
     "traceback": [
      "\u001b[0;31m---------------------------------------------------------------------------\u001b[0m",
      "\u001b[0;31mNameError\u001b[0m                                 Traceback (most recent call last)",
      "\u001b[0;32m<ipython-input-22-7aba238b817d>\u001b[0m in \u001b[0;36m<module>\u001b[0;34m\u001b[0m\n\u001b[1;32m     12\u001b[0m     \u001b[0mprint\u001b[0m\u001b[0;34m(\u001b[0m\u001b[0mProbs\u001b[0m\u001b[0;34m)\u001b[0m\u001b[0;34m\u001b[0m\u001b[0;34m\u001b[0m\u001b[0m\n\u001b[1;32m     13\u001b[0m \u001b[0;34m\u001b[0m\u001b[0m\n\u001b[0;32m---> 14\u001b[0;31m     \u001b[0md\u001b[0m \u001b[0;34m=\u001b[0m \u001b[0mf\u001b[0m\u001b[0;34m\u001b[0m\u001b[0;34m\u001b[0m\u001b[0m\n\u001b[0m\u001b[1;32m     15\u001b[0m     \u001b[0msamples_compl\u001b[0m \u001b[0;34m=\u001b[0m \u001b[0mnp\u001b[0m\u001b[0;34m.\u001b[0m\u001b[0mappend\u001b[0m\u001b[0;34m(\u001b[0m\u001b[0mn\u001b[0m\u001b[0;34m*\u001b[0m\u001b[0mProbs\u001b[0m\u001b[0;34m,\u001b[0m \u001b[0msamples_phi\u001b[0m\u001b[0;34m)\u001b[0m\u001b[0;34m\u001b[0m\u001b[0;34m\u001b[0m\u001b[0m\n\u001b[1;32m     16\u001b[0m \u001b[0;34m\u001b[0m\u001b[0m\n",
      "\u001b[0;31mNameError\u001b[0m: name 'f' is not defined"
     ]
    }
   ],
   "source": [
    "K = 100\n",
    "\n",
    "Fs_pinv = np.zeros(K)\n",
    "Fs = np.zeros(K)\n",
    "\n",
    "for j in tqdm(range(Fs.shape[0])):\n",
    "    U = gen_U(2)\n",
    "    e = np.reshape(U, np.prod(U.shape))\n",
    "    chi = np.outer(e, np.conj(e))\n",
    "    Probs = gen_Probs(n, chi, B)\n",
    "    \n",
    "    print(Probs)\n",
    "\n",
    "    d = f\n",
    "    samples_compl = np.append(n*Probs, samples_phi)\n",
    "\n",
    "    Probs_phi = np.ones_like(samples_phi)\n",
    "    Probs_compl = np.append(Probs, Probs_phi)\n",
    "    \n",
    "    rho_0 = proj_rho(estimate_rho(Probs_compl, Lambdas_compl))\n",
    "    chi_0 = d * rho_0/np.trace(rho_0)\n",
    "    \n",
    "    rho_rec = reconstruct_rho(rho_0, 1, samples_compl, Lambdas_compl)\n",
    "    rho_rec_proj = proj_rho(rho_rec)\n",
    "    \n",
    "    Fs[j] = F(rho_rec_proj, chi/d)\n",
    "    Fs_pinv[j] = F(rho_0, chi/d)"
   ]
  },
  {
   "cell_type": "code",
   "execution_count": 8,
   "id": "b3a943db",
   "metadata": {
    "scrolled": false
   },
   "outputs": [
    {
     "data": {
      "image/png": "[encoded data removed]",
      "text/plain": [
       "<Figure size 432x288 with 1 Axes>"
      ]
     },
     "metadata": {
      "needs_background": "light"
     },
     "output_type": "display_data"
    }
   ],
   "source": [
    "plt.hist(Fs, bins=40, alpha=0.5, label='MLE')\n",
    "plt.hist(Fs_pinv, alpha=0.5, bins=40, label='P-inv')\n",
    "plt.legend()\n",
    "plt.xlabel('Fidelity')\n",
    "plt.ylabel('Частота')\n",
    "plt.show()"
   ]
  }
 ],
 "metadata": {
  "kernelspec": {
   "display_name": "Python 3",
   "language": "python",
   "name": "python3"
  },
  "language_info": {
   "codemirror_mode": {
    "name": "ipython",
    "version": 3
   },
   "file_extension": ".py",
   "mimetype": "text/x-python",
   "name": "python",
   "nbconvert_exporter": "python",
   "pygments_lexer": "ipython3",
   "version": "3.7.11"
  }
 },
 "nbformat": 4,
 "nbformat_minor": 5
}
