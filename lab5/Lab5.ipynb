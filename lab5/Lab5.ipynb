{
 "cells": [
  {
   "cell_type": "markdown",
   "id": "a3723363",
   "metadata": {},
   "source": [
    "# Вариант 3:\n",
    "\n",
    "#### Протокол томографии MUB 20 входных состояний. Размерномть матриц плотности 4."
   ]
  },
  {
   "cell_type": "code",
   "execution_count": 37,
   "id": "c5181aea",
   "metadata": {},
   "outputs": [],
   "source": [
    "import numpy as np\n",
    "import pandas as pd\n",
    "import copy\n",
    "from numpy import linalg as LA\n",
    "from scipy import linalg as sLA\n",
    "from tqdm import tqdm\n",
    "from itertools import product\n",
    "from matplotlib import pyplot as plt"
   ]
  },
  {
   "cell_type": "code",
   "execution_count": 2,
   "id": "59a9f456",
   "metadata": {},
   "outputs": [],
   "source": [
    "# Массив унитарных матриц образующих MUB для d = 4\n",
    "\n",
    "mub_array = 1/2*np.array([\n",
    "    [[2,0,0,0],\n",
    "     [0,2,0,0],\n",
    "     [0,0,2,0],\n",
    "     [0,0,0,2]],\n",
    "    \n",
    "    [[1,1,1,1],\n",
    "     [1,1,-1,-1],\n",
    "     [1,-1,-1,1],\n",
    "     [1,-1,1,-1]],\n",
    "    \n",
    "    [[1,1,1,1],\n",
    "     [-1,-1,1,1],\n",
    "     [-1j,1j,1j,-1j],\n",
    "     [-1j,1j,-1j,1j]],\n",
    "    \n",
    "    [[1,1,1,1],\n",
    "     [-1j,-1j,1j,1j],\n",
    "     [-1j,1j,1j,-1j],\n",
    "     [-1,1,-1,1]],\n",
    "    \n",
    "    [[1,1,1,1],\n",
    "     [-1j,-1j,1j,1j],\n",
    "     [-1,1,-1,1],\n",
    "     [-1j,1j,1j,-1j]],\n",
    "      \n",
    "])"
   ]
  },
  {
   "cell_type": "code",
   "execution_count": 3,
   "id": "5cadaa74",
   "metadata": {},
   "outputs": [],
   "source": [
    "# Получаем операторы P(j,k) и B из набора матриц, соответствующих заданному MUB \n",
    "def build_P(mub_array):\n",
    "    P = []\n",
    "    B = []\n",
    "    for mub in mub_array:\n",
    "        P_part = []\n",
    "        B_part = []\n",
    "        for string in mub.T:\n",
    "            op = np.outer(string, string.conj())\n",
    "            P_part.append(op)\n",
    "            B_part.append(np.ravel(op, order = 'C'))\n",
    "        B.append(B_part)\n",
    "        P.append(P_part)\n",
    "    return np.array(P), np.vstack(np.array(B))\n",
    "\n",
    "# Получаем операторы X из набора матриц, соответствующих заданному MUB \n",
    "def build_X(mub_array):\n",
    "    X = np.vstack(copy.deepcopy(mub_array).transpose((0,2,1)).conj())\n",
    "    return X\n",
    "    "
   ]
  },
  {
   "cell_type": "code",
   "execution_count": 38,
   "id": "1db400ca",
   "metadata": {},
   "outputs": [],
   "source": [
    "# Составим матрицу B для моделирования процесса измерений состояния\n",
    "P_list, _ = build_P(mub_array)"
   ]
  },
  {
   "cell_type": "code",
   "execution_count": 5,
   "id": "05422bfc",
   "metadata": {},
   "outputs": [],
   "source": [
    "# Класс квантового состояния\n",
    "class State():\n",
    "    \n",
    "    def __init__(self, d = 4):\n",
    "        self.d = d\n",
    "        self.phi = None\n",
    "        self.rho = None\n",
    "        \n",
    "    def build_clear_state(self, random_state = 42):\n",
    "        \n",
    "    \n",
    "        phi = np.random.randn(int(d)) + 1j*np.random.randn(int(d))\n",
    "        self.phi = phi/ np.sqrt((sum(abs(phi) ** 2))) #np.sqrt(np.dot(phi, phi.conj()))\n",
    "        self.rho = np.outer(self.phi, self.phi.conj())\n",
    "        \n",
    "    def build_random_state(self, random_state = 42):\n",
    "        d = self.d\n",
    "        \n",
    "        C_list = np.random.normal(0, 1, size=(d, 2)) + 1j*np.random.normal(0, 1, size=(d, 2))\n",
    "        C_list = C_list/(np.sqrt(np.sum(C_list*np.conjugate(C_list))))\n",
    "        C_list = np.reshape(C_list, [1,d,2,1])\n",
    "        g_rho = np.tensordot(C_list, np.conjugate(C_list), [0,3])\n",
    "        g_rho = np.reshape(g_rho, (d,2,d,2))\n",
    "        self.rho = np.trace(g_rho, axis1=1, axis2=3)\n",
    "        \n",
    "    def set_phi(self, coefs):\n",
    "        self.phi = coefs\n",
    "        self.rho = np.outer(self.phi, self.phi.conj())\n",
    "        \n",
    "    def get_phi(self):\n",
    "        return self.phi\n",
    "    \n",
    "    def get_rho(self):\n",
    "        return self.rho\n",
    "    \n",
    "        \n",
    "#Вычисление Фиделити для матриц плотности\n",
    "def Fidelity(rho1, rho2):\n",
    "    return np.abs(np.trace(sLA.sqrtm(sLA.sqrtm(rho1) @ rho2 @ sLA.sqrtm(rho1))))**2       \n",
    "\n",
    "#Вычисление Фиделити для векторов чистых состояний\n",
    "def Fidelity_pure(vec0, vec1):\n",
    "    return np.abs(np.dot(vec0, vec1.conjugate())) ** 2\n",
    "\n",
    "#Вычисление\\норму Фробениуса\n",
    "def Frobenius_norm(matrix):\n",
    "    return np.sqrt(np.sum(list(map(lambda x: np.abs(x) ** 2,matrix))))"
   ]
  },
  {
   "cell_type": "code",
   "execution_count": 6,
   "id": "15201238",
   "metadata": {},
   "outputs": [],
   "source": [
    "# Задаёт случайный процесс\n",
    "def gen_U(d = 4):\n",
    "    u = np.reshape(np.random.randn(d**2) + 1j*np.random.randn(d**2), (d, d))\n",
    "    return LA.qr(u)[0]\n",
    "\n",
    "# Очищение матрицы плотности до вектора чистого состояния\n",
    "def purify_rho_to_psi(rho, rang = 1):\n",
    "    \n",
    "    \n",
    "    vals, vecs = LA.eig(rho.copy())\n",
    "    \n",
    "    \n",
    "    indices = vals.argsort()\n",
    "    vals_pure = vals[sorted(indices[-rang:])]\n",
    "    vecs_pure = vecs.T[sorted(indices[-rang:])].T\n",
    "    \n",
    "\n",
    "    psi = np.dot(vecs_pure, np.diag(np.sqrt(vals_pure)))\n",
    "    \n",
    "    return psi"
   ]
  },
  {
   "cell_type": "code",
   "execution_count": 7,
   "id": "ab069e94",
   "metadata": {},
   "outputs": [],
   "source": [
    "# Моделирует серию измерений:\n",
    "def estimate_probs(rho, B, n_shots = 100):\n",
    "    p_B = abs(np.dot(B, np.ravel(rho, order = 'F')))\n",
    "    samples = [np.random.binomial(n_shots, p_B[i]) for i in range(p_B.shape[0])]\n",
    "    return np.array(samples)/n_shots\n",
    "\n",
    "\n",
    "# Корректирует СЗ восстановленной матрицы, проектируя её на \n",
    "# множество матриц плотности\n",
    "def correct_eigvals(v):\n",
    "    \n",
    "    vals = sorted(v)[::-1]\n",
    "    inds = np.arange(len(vals))\n",
    "    w_list = np.abs(np.cumsum(vals)-1)/(inds + 1)\n",
    "    \n",
    "    j = 0\n",
    "    for val, w in zip(vals,w_list):\n",
    "        if (val - w) <0:\n",
    "            break\n",
    "        else:\n",
    "            j += 1\n",
    "        \n",
    "    vals_correct = copy.deepcopy(v)\n",
    "    \n",
    "    if  j <= (len(vals) - 1):\n",
    "        vals_correct = vals_correct - w_list[j-1]\n",
    "        vals_correct[vals_correct<0] = 0\n",
    "        \n",
    "    return vals_correct\n",
    "\n",
    "def project_rho(rho):\n",
    "    \n",
    "    vals, vecs = LA.eig(rho.copy())\n",
    "    vals_new = correct_eigvals(vals)\n",
    "    psi = np.dot(vecs, np.diag(np.sqrt(vals_new)))\n",
    "    rho_new = np.dot(psi, psi.conj().T)\n",
    "    return rho_new\n",
    "    \n",
    "    \n",
    "\n",
    "\n",
    "# реализут восстановление матрицы плотности\n",
    "def recover_rho(B, probs, correct_rho = True):\n",
    "    u, s, vh = LA.linalg.svd(B)\n",
    "    q = np.dot(u.conj().T, probs)\n",
    "    \n",
    "    tail_num = B.shape[0] - B.shape[1]\n",
    "    f = q[:-tail_num]/s\n",
    "    rho_new = np.reshape(np.dot(vh.conj().T, f),(int(np.sqrt(vh.shape[0])),int(np.sqrt(vh.shape[0])))).conj()\n",
    "    \n",
    "    vals, vecs = LA.eig(rho_new)\n",
    "    \n",
    "    delta = np.abs(np.sum(vals[vals<0]))\n",
    "    \n",
    "    rho_new_correct = rho_new.copy()\n",
    "    \n",
    "    if correct_rho == True:\n",
    "        vals_new = correct_eigvals(vals)\n",
    "        rho_new_correct = vecs @ np.diag(vals_new) @ vecs.conj().T\n",
    "        \n",
    "    return rho_new_correct, delta"
   ]
  },
  {
   "cell_type": "code",
   "execution_count": 42,
   "id": "3b63b7da",
   "metadata": {},
   "outputs": [],
   "source": [
    "def psi_prob(psi, P_matrix):\n",
    "    prob = np.trace(psi @ psi.conj().T @ P_matrix)\n",
    "    return prob\n",
    "\n",
    "def J_operator(psi, k_list, P_list):\n",
    "    prob_list = np.array([psi_prob(psi, P_matrix) for P_matrix in P_list])\n",
    "    J = np.sum((P_list.T*k_list/prob_list).T, axis = 0)\n",
    "    return J\n",
    "\n",
    "def update_psi(psi, k_list, P_list, mu = 0.5, n_list = None, I_inv = None):\n",
    "    psi_new = (1 - mu)*I_inv@J_operator(psi, k_list, P_list)@psi.copy() + mu*psi.copy()\n",
    "    return psi_new\n",
    "\n",
    "def find_MML_psi(rho, k_list, P_list, mu = 0.5, eps = 1e-8, n_list = None, verbose = False, I_inv = None):\n",
    "    psi = purify_rho_to_psi(rho, rang = 1)\n",
    "    for i in range(5000):\n",
    "        psi_new = update_psi(psi.copy(), k_list, P_list, mu = mu, n_list = n_list, I_inv = I_inv)\n",
    "        err = abs(Frobenius_norm(psi @ psi.T.conj() - psi_new @ psi_new.T.conj()))\n",
    "        if verbose:\n",
    "            print(err)\n",
    "        if err < eps:\n",
    "            break\n",
    "        psi = psi_new\n",
    "    return psi @ np.conj(psi.T)\n",
    "        "
   ]
  },
  {
   "cell_type": "code",
   "execution_count": null,
   "id": "95d9ab85",
   "metadata": {},
   "outputs": [],
   "source": []
  },
  {
   "cell_type": "markdown",
   "id": "e22dc9c7",
   "metadata": {},
   "source": [
    "#### Зададим 20 случайных состояний"
   ]
  },
  {
   "cell_type": "code",
   "execution_count": 23,
   "id": "2c7619af",
   "metadata": {},
   "outputs": [],
   "source": [
    "state = State(4)\n",
    "M = 20 # колличество состояний\n",
    "\n",
    "input_states = []\n",
    "lambdas = []\n",
    "B = []\n",
    "for i in range(M):\n",
    "    state.build_random_state()\n",
    "    rho = state.get_rho()\n",
    "    input_states.append(rho)"
   ]
  },
  {
   "cell_type": "code",
   "execution_count": 25,
   "id": "fb84c6dc",
   "metadata": {},
   "outputs": [
    {
     "data": {
      "text/plain": [
       "(5, 4, 4, 4)"
      ]
     },
     "execution_count": 25,
     "metadata": {},
     "output_type": "execute_result"
    }
   ],
   "source": [
    "P_list.shape"
   ]
  },
  {
   "cell_type": "code",
   "execution_count": 27,
   "id": "a293ccc8",
   "metadata": {},
   "outputs": [],
   "source": [
    "n = 100 \n",
    "\n",
    "# Создадим эффективные операторы измерения\n",
    "lambdas = [np.kron(i_state.conj(), P)\n",
    "           for i_state, P in product(input_states, np.reshape(P_list, (20,4,4)))]\n",
    "\n",
    "# Создадим фиктивные операторы измерения для сохранения следа\n",
    "lambdas_fictive = [np.kron(P, np.eye(4)) for P in np.reshape(P_list, (20,4,4))]\n",
    "\n",
    "# Дополним ими эффективные операторы измерения\n",
    "lambdas_all = lambdas + lambdas_fictive\n",
    "\n",
    "# Измерения фиктивных операторов 1000 * 100 измерений на каждый с вероятностью 1\n",
    "samples_fictive = [1000*n]*np.shape(lambdas_fictive)[0]\n",
    "\n",
    "# Измерения 'эффективных операторов 100 измерений на каждый\n",
    "n_list_small = [n]*np.shape(lambdas)[0]\n",
    "\n",
    "# Объединим в один массив\n",
    "n_list = np.array(n_list_small + samples_fictive)\n",
    "\n",
    "I = np.sum([n_list[i] * lambdas_all[i] for i in range(n_list.shape[0])], axis=0)\n",
    "I_inv = LA.inv(I)"
   ]
  },
  {
   "cell_type": "code",
   "execution_count": 31,
   "id": "fe46b6e1",
   "metadata": {},
   "outputs": [],
   "source": [
    "# Составим из списков операторов Lambda матрицу B (для случая с добавлением фиктивных операторов и без)\n",
    "B = np.reshape(np.array([[np.ravel(l, order = 'C') for l in l_part_list] for l_part_list in lambdas_all]), (420, 16*16))\n",
    "B_small = np.reshape(np.array([[np.ravel(l, order = 'C') for l in l_part_list] for l_part_list in lambdas]), (400, 16*16))"
   ]
  },
  {
   "cell_type": "code",
   "execution_count": 32,
   "id": "e3de0953",
   "metadata": {},
   "outputs": [
    {
     "name": "stdout",
     "output_type": "stream",
     "text": [
      "Число обусловленности B c фиктивными измерениями: 45.50642642451423\n",
      "Число обусловленности B БЕЗ фиктивнх измерений: 35.3937834173149\n"
     ]
    }
   ],
   "source": [
    "print(f'Число обусловленности B c фиктивными измерениями: {LA.cond(B)}')\n",
    "print(f'Число обусловленности B БЕЗ фиктивнх измерений: {LA.cond(B_small)}')"
   ]
  },
  {
   "cell_type": "markdown",
   "id": "3e7845cc",
   "metadata": {},
   "source": [
    "Число обусловленности матрицы B большое, что говорит о низком ранге матрицы B. Вероятно это указывает на информационную полноту системы эффективных измерений Лямбда (по аналогии с переопределённой системой уравнений)."
   ]
  },
  {
   "cell_type": "code",
   "execution_count": 33,
   "id": "9de22121",
   "metadata": {},
   "outputs": [
    {
     "data": {
      "text/plain": [
       "(420, 256)"
      ]
     },
     "execution_count": 33,
     "metadata": {},
     "output_type": "execute_result"
    }
   ],
   "source": [
    "B.shape"
   ]
  },
  {
   "cell_type": "code",
   "execution_count": 43,
   "id": "d705dcb5",
   "metadata": {},
   "outputs": [
    {
     "name": "stderr",
     "output_type": "stream",
     "text": [
      "100%|██████████| 100/100 [1:09:18<00:00, 41.58s/it]\n"
     ]
    }
   ],
   "source": [
    "num_proc = 100\n",
    "d = 4\n",
    "\n",
    "F_list = []\n",
    "F_MML_list = []\n",
    "\n",
    "for i in tqdm(range(num_proc)):\n",
    "    \n",
    "    U = gen_U(d = 4)\n",
    "    e = np.reshape(U, np.prod(U.shape))\n",
    "    chi = np.outer(e, np.conj(e))\n",
    "    probs = estimate_probs(chi, B_small, n_shots = 100)\n",
    "    \n",
    "    samples_all = list(n*probs) + samples_fictive\n",
    "    probs_all = np.array(list(probs) + [1]*len(samples_fictive))\n",
    "    \n",
    "    rho_rec, _ = recover_rho(B, probs_all, correct_rho = True)\n",
    "    rho_rec = project_rho(rho_rec)\n",
    "    \n",
    "\n",
    "    rho_MML = find_MML_psi(rho_rec, samples_all, np.array(lambdas_all), mu = 0.5,\n",
    "                           eps = 1e-8, n_list = n_list,I_inv = I_inv, verbose = False)\n",
    "    rho_MML = project_rho(rho_MML)\n",
    "    \n",
    "    \n",
    "    F_list.append(Fidelity(rho_rec, chi/d))\n",
    "    F_MML_list.append(Fidelity(rho_MML, chi/d))\n",
    "\n",
    "    "
   ]
  },
  {
   "cell_type": "code",
   "execution_count": 47,
   "id": "2a175aca",
   "metadata": {},
   "outputs": [
    {
     "data": {
      "image/png": "[encoded data removed]",
      "text/plain": [
       "<Figure size 432x288 with 1 Axes>"
      ]
     },
     "metadata": {
      "needs_background": "light"
     },
     "output_type": "display_data"
    }
   ],
   "source": [
    "plt.hist([F_list, F_MML_list], bins=40, label=['Inv','MLE'])\n",
    "plt.legend()\n",
    "plt.title('Сравнение точности восстановления состояния до и после применения MML корректировки')\n",
    "plt.xlabel('Fidelity')\n",
    "plt.ylabel('Частота')\n",
    "plt.show()"
   ]
  },
  {
   "cell_type": "markdown",
   "id": "da4c78c5",
   "metadata": {},
   "source": [
    "Гистограмма демонстрирует успешное восстановление состояния"
   ]
  }
 ],
 "metadata": {
  "kernelspec": {
   "display_name": "Python 3",
   "language": "python",
   "name": "python3"
  },
  "language_info": {
   "codemirror_mode": {
    "name": "ipython",
    "version": 3
   },
   "file_extension": ".py",
   "mimetype": "text/x-python",
   "name": "python",
   "nbconvert_exporter": "python",
   "pygments_lexer": "ipython3",
   "version": "3.7.11"
  }
 },
 "nbformat": 4,
 "nbformat_minor": 5
}
