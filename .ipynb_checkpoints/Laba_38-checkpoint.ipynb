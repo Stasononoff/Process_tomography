{
 "cells": [
  {
   "cell_type": "markdown",
   "id": "f9f65823",
   "metadata": {},
   "source": [
    "## Лабораторная работа 3. Вариант 1. Протокол - MUB. Размерность гильбертова пространства - 2"
   ]
  },
  {
   "cell_type": "code",
   "execution_count": 343,
   "id": "093be4c0",
   "metadata": {},
   "outputs": [],
   "source": [
    "import numpy as np\n",
    "from scipy.stats import bernoulli \n",
    "from matplotlib.pyplot import plot,hist,legend\n",
    "from scipy.linalg import sqrtm\n",
    "import copy\n",
    "from scipy.stats import chi2"
   ]
  },
  {
   "cell_type": "code",
   "execution_count": 344,
   "id": "e48a4840",
   "metadata": {},
   "outputs": [],
   "source": [
    "n_j = 100"
   ]
  },
  {
   "cell_type": "markdown",
   "id": "3488b769",
   "metadata": {},
   "source": [
    "## Сгенерируем случайное чистое состояние"
   ]
  },
  {
   "cell_type": "code",
   "execution_count": 345,
   "id": "6b59de29",
   "metadata": {},
   "outputs": [],
   "source": [
    "def ran_q(d, k):\n",
    "    psi = (np.random.randn(d * k) + 1j * np.random.randn(d * k))\n",
    "    psi = psi / np.sqrt((sum(abs(psi) ** 2)))\n",
    "    psi = np.reshape(psi, (d*k,1))\n",
    "    ro = np.dot(psi, np.conj(psi).T)\n",
    "    return psi,ro\n"
   ]
  },
  {
   "cell_type": "code",
   "execution_count": 346,
   "id": "1fcdd17f",
   "metadata": {},
   "outputs": [
    {
     "data": {
      "text/plain": [
       "array([[ 0.2589523+2.12069000e-19j, -0.1464289+4.12861457e-01j],\n",
       "       [-0.1464289-4.12861457e-01j,  0.7410477+2.25306466e-17j]])"
      ]
     },
     "execution_count": 346,
     "metadata": {},
     "output_type": "execute_result"
    }
   ],
   "source": [
    "psi,ro = ran_q(2,1)\n",
    "ro"
   ]
  },
  {
   "cell_type": "markdown",
   "id": "41caeb19",
   "metadata": {},
   "source": [
    "## Возьмем функции генерирования статистики, томографии и проецирования на симплекс из предыдущей лабораторной работы."
   ]
  },
  {
   "cell_type": "code",
   "execution_count": 347,
   "id": "c73cdb32",
   "metadata": {},
   "outputs": [
    {
     "name": "stdout",
     "output_type": "stream",
     "text": [
      "[[1 0]\n",
      " [0 1]]\n",
      "\n",
      "[[ 0.70710678  0.70710678]\n",
      " [ 0.70710678 -0.70710678]]\n",
      "\n",
      "[[ 0.70710678+0.j          0.70710678+0.j        ]\n",
      " [ 0.        +0.70710678j -0.        -0.70710678j]]\n"
     ]
    }
   ],
   "source": [
    "d = 2\n",
    "A_0 = np.array([[1,0],[0,1]]) \n",
    "A_1 = np.array([[1,1],[1,-1]]) / np.sqrt(2)\n",
    "A_2 = np.array([[1,1],[1j,-1j]]) / np.sqrt(2)\n",
    "print(A_0,A_1,A_2,sep = '\\n\\n')\n",
    "MUB_2 = [A_0, A_1, A_2]"
   ]
  },
  {
   "cell_type": "code",
   "execution_count": 348,
   "id": "51fcce64",
   "metadata": {},
   "outputs": [],
   "source": [
    "def statistics(state,protocol,n):    \n",
    "    proj_vec_list = []\n",
    "    for elem in protocol:\n",
    "        proj_vec_list.append(elem[:,0].reshape(2,1))\n",
    "        proj_vec_list.append(elem[:,1].reshape(2,1))\n",
    "        \n",
    "    P = []\n",
    "    for elem in proj_vec_list:\n",
    "        P.append(np.dot(elem,np.conj(elem).T))\n",
    "    \n",
    "    p_list_Born = []\n",
    "    for elem in P:\n",
    "        p_list_Born.append(np.real(np.trace(np.dot(elem,state))))\n",
    "    \n",
    "    prob_after_born_almost_pure = p_list_Born\n",
    "        \n",
    "    counts = []\n",
    "    for ind in range(0,len(prob_after_born_almost_pure),2):\n",
    "        experiment = bernoulli.rvs(prob_after_born_almost_pure[ind],size = n)\n",
    "        counts.append(np.sum(experiment))\n",
    "        counts.append(n - np.sum(experiment))\n",
    "        \n",
    "    prob_counts = [elem/n for elem in counts]\n",
    "    return counts,prob_counts, p_list_Born\n",
    "\n",
    "counts_ro, prob_counts,prob_born = statistics(ro,MUB_2,100)"
   ]
  },
  {
   "cell_type": "code",
   "execution_count": 349,
   "id": "fa5d0756",
   "metadata": {},
   "outputs": [],
   "source": [
    "def tomography(protocol,prob_counts):\n",
    "    \n",
    "    proj_vec_list = []\n",
    "    for elem in protocol:\n",
    "        proj_vec_list.append(elem[:,0].reshape(2,1))\n",
    "        proj_vec_list.append(elem[:,1].reshape(2,1))\n",
    "    \n",
    "    P = []\n",
    "\n",
    "    for elem in proj_vec_list:\n",
    "        P.append(np.dot(elem,np.conj(elem).T))\n",
    "    \n",
    "    B_part = []\n",
    "    for elem in P:\n",
    "        B_part.append(np.hstack((elem[0,:],elem[1,:])))\n",
    "\n",
    "    B = np.vstack((B_part[0],B_part[1]))\n",
    "    for ind in range(2,len(B_part)):\n",
    "        B = np.vstack((B,B_part[ind]))\n",
    "\n",
    "    u,s,v = np.linalg.svd(B)\n",
    "    f = np.dot(v,ro.T.reshape(4,1))\n",
    "    q = np.dot(np.conj(u).T,prob_counts)\n",
    "    q[5] = 0\n",
    "    q[4] = 0\n",
    "    corrected_q = [q[ind]/s[ind] for ind in range(len(f))]\n",
    "    restored_ro = np.dot(np.conj(v).T,corrected_q).reshape(2,2).T\n",
    "    return restored_ro"
   ]
  },
  {
   "cell_type": "code",
   "execution_count": 350,
   "id": "7659640a",
   "metadata": {},
   "outputs": [],
   "source": [
    "def simplex_project(state):\n",
    "    eig,vec = np.linalg.eig(state)\n",
    "    eig_sort = sorted(eig)[::-1]\n",
    "    w_mem = 0\n",
    "    for ind in range(1,len(eig_sort)+1):\n",
    "        w_ind = (np.sum(eig_sort[:ind]) - 1 )/ ind\n",
    "        if eig_sort[ind-1] - w_ind < 0:\n",
    "            break\n",
    "        else:\n",
    "            w_mem = w_ind \n",
    "    new_eig = np.zeros(2)\n",
    "    for ind in range(len(eig_sort)):\n",
    "        if eig[ind] - w_mem >= 0:\n",
    "            new_eig[ind] = eig[ind] - w_mem\n",
    "    \n",
    "    return np.dot(np.dot(vec,np.diag(new_eig)),np.conj(vec).T)"
   ]
  },
  {
   "cell_type": "markdown",
   "id": "1057c166",
   "metadata": {},
   "source": [
    "## Найдем реконструированное состояние после томографии и проецирования на симплекс. "
   ]
  },
  {
   "cell_type": "code",
   "execution_count": 352,
   "id": "907fb640",
   "metadata": {},
   "outputs": [
    {
     "name": "stderr",
     "output_type": "stream",
     "text": [
      "<ipython-input-350-a93500fa1380>:14: ComplexWarning: Casting complex values to real discards the imaginary part\n",
      "  new_eig[ind] = eig[ind] - w_mem\n"
     ]
    },
    {
     "data": {
      "text/plain": [
       "array([[ 0.26-5.05550202e-18j, -0.13+4.00000000e-01j],\n",
       "       [-0.13-4.00000000e-01j,  0.74+9.19431703e-21j]])"
      ]
     },
     "execution_count": 352,
     "metadata": {},
     "output_type": "execute_result"
    }
   ],
   "source": [
    "ro_0 = simplex_project(tomography(MUB_2,prob_counts))\n",
    "ro_0"
   ]
  },
  {
   "cell_type": "markdown",
   "id": "5968dc23",
   "metadata": {},
   "source": [
    "## Напишем функцию нахождения пси функции из матрицы плотности"
   ]
  },
  {
   "cell_type": "code",
   "execution_count": 353,
   "id": "2e1e9c22",
   "metadata": {},
   "outputs": [],
   "source": [
    "def psi_rank(ro,rank):\n",
    "    d,u = np.linalg.eig(ro)\n",
    "    d_sort = sorted(d, reverse = True)\n",
    "    #print(d,d_sort,u)\n",
    "    if d_sort[0] != d[0]:\n",
    "        u = np.fliplr(u)  # Меняем порядок столбцов, если был изменен порядок в матрице собственных значений\n",
    "    #print(u)\n",
    "    psi = np.dot(u,sqrtm(np.diag(d_sort)))\n",
    "    if rank == 1:\n",
    "        return psi[:,0].reshape(2,1)\n",
    "    else:\n",
    "        return psi\n"
   ]
  },
  {
   "cell_type": "markdown",
   "id": "d170bb2b",
   "metadata": {},
   "source": [
    "## Напишем функции нахождения матриц $I$ и $J$"
   ]
  },
  {
   "cell_type": "code",
   "execution_count": 357,
   "id": "aa78649e",
   "metadata": {},
   "outputs": [
    {
     "data": {
      "text/plain": [
       "array([[300.+0.j,   0.+0.j],\n",
       "       [  0.+0.j, 300.+0.j]])"
      ]
     },
     "execution_count": 357,
     "metadata": {},
     "output_type": "execute_result"
    }
   ],
   "source": [
    "def I_gen(protocol,n_j = 100):    \n",
    "    proj_vec_list = []\n",
    "    for elem in protocol:\n",
    "        proj_vec_list.append(elem[:,0].reshape(2,1))\n",
    "        proj_vec_list.append(elem[:,1].reshape(2,1))\n",
    "      \n",
    "    P = []\n",
    "\n",
    "    for elem in proj_vec_list:\n",
    "        P.append(np.dot(elem,np.conj(elem).T))\n",
    "    return  np.sum(P,axis = 0) * n_j\n",
    "\n",
    "I = I_gen(MUB_2)\n",
    "I"
   ]
  },
  {
   "cell_type": "code",
   "execution_count": 362,
   "id": "57518b09",
   "metadata": {},
   "outputs": [],
   "source": [
    "def J(protocol,state,counts_ro,n = 100):\n",
    "    proj_vec_list = []\n",
    "    for elem in protocol:\n",
    "        proj_vec_list.append(elem[:,0].reshape(2,1))\n",
    "        proj_vec_list.append(elem[:,1].reshape(2,1))    \n",
    " \n",
    "    P = []\n",
    "    for elem in proj_vec_list:\n",
    "        P.append(np.dot(elem,np.conj(elem).T))\n",
    "    \n",
    "    ro = np.dot(state,np.conj(state).T)\n",
    "    #print(ro)\n",
    "    _,_,prob_from_J = statistics(ro,protocol,n)\n",
    "    J_matrix_list = []\n",
    "   # print(prob_from_J)\n",
    "    for ind in range(len(P)):\n",
    "        J_matrix_list.append((counts_ro[ind]/prob_from_J[ind]) * P[ind])\n",
    "    J_matrix = np.sum(J_matrix_list,axis = 0)\n",
    "    return J_matrix,prob_from_J"
   ]
  },
  {
   "cell_type": "markdown",
   "id": "52992ef4",
   "metadata": {},
   "source": [
    "## Функция нахождения нормы Фробениуса"
   ]
  },
  {
   "cell_type": "code",
   "execution_count": 363,
   "id": "90482a9a",
   "metadata": {},
   "outputs": [],
   "source": [
    "def frobenius_norm(matrix):\n",
    "    return np.sqrt(np.sum(list(map(lambda x: np.abs(x) ** 2,matrix))))"
   ]
  },
  {
   "cell_type": "markdown",
   "id": "ae67828d",
   "metadata": {},
   "source": [
    "## Функция MLE"
   ]
  },
  {
   "cell_type": "code",
   "execution_count": 364,
   "id": "1259fc66",
   "metadata": {},
   "outputs": [],
   "source": [
    "def MLE(ro_0,counts_ro, rank,verbosity = False):    \n",
    "    eps = 1e-8\n",
    "    mu = 0.45\n",
    "    norm = 1\n",
    "    I_inv = np.linalg.inv(I)\n",
    "    psi = psi_rank(ro_0, rank)\n",
    "    while norm >= eps:\n",
    "        psi_old = psi.copy()\n",
    "        J_iteration,prob_from_J = J(MUB_2, psi,counts_ro)\n",
    "        #print(J_iteration)\n",
    "        psi = (1 - mu)*np.dot(np.dot(I_inv,J_iteration),psi) + mu*psi\n",
    "        norm = frobenius_norm(psi - psi_old)\n",
    "        if verbosity == True:\n",
    "            print(norm,'Текущнее значение нормы разности матриц на соседних итерациях')\n",
    "    ro_after_MLE = np.dot(psi,np.conj(psi).T)\n",
    "    if np.abs(1 - np.trace(ro_after_MLE)) > 1e-3:\n",
    "          ro_after_MLE = simplex_project(ro_after_MLE)\n",
    "    return ro_after_MLE,prob_from_J\n",
    "        "
   ]
  },
  {
   "cell_type": "markdown",
   "id": "5e3dfe15",
   "metadata": {},
   "source": [
    "## Можно посмотреть за итерациями изменения нормы между двумя соседними шагами для ранга 1 "
   ]
  },
  {
   "cell_type": "code",
   "execution_count": 365,
   "id": "a2c3934d",
   "metadata": {},
   "outputs": [
    {
     "name": "stdout",
     "output_type": "stream",
     "text": [
      "0.010111493935683164 Текущнее значение нормы разности матриц на соседних итерациях\n",
      "0.0017764965278839247 Текущнее значение нормы разности матриц на соседних итерациях\n",
      "0.0005434677348700386 Текущнее значение нормы разности матриц на соседних итерациях\n",
      "0.0002377295291354893 Текущнее значение нормы разности матриц на соседних итерациях\n",
      "0.0001277513701779115 Текущнее значение нормы разности матриц на соседних итерациях\n",
      "7.458027992756575e-05 Текущнее значение нормы разности матриц на соседних итерациях\n",
      "4.4594778290879376e-05 Текущнее значение нормы разности матриц на соседних итерациях\n",
      "2.68273935096761e-05 Текущнее значение нормы разности матриц на соседних итерациях\n",
      "1.616250309876597e-05 Текущнее значение нормы разности матриц на соседних итерациях\n",
      "9.740595646183278e-06 Текущнее значение нормы разности матриц на соседних итерациях\n",
      "5.870740432647853e-06 Текущнее значение нормы разности матриц на соседних итерациях\n",
      "3.538379477084102e-06 Текущнее значение нормы разности матриц на соседних итерациях\n",
      "2.1326273003535736e-06 Текущнее значение нормы разности матриц на соседних итерациях\n",
      "1.2853579288381582e-06 Текущнее значение нормы разности матриц на соседних итерациях\n",
      "7.746974360473967e-07 Текущнее значение нормы разности матриц на соседних итерациях\n",
      "4.669167503122968e-07 Текущнее значение нормы разности матриц на соседних итерациях\n",
      "2.814144240769764e-07 Текущнее значение нормы разности матриц на соседних итерациях\n",
      "1.6961059879840197e-07 Текущнее значение нормы разности матриц на соседних итерациях\n",
      "1.0222555088741535e-07 Текущнее значение нормы разности матриц на соседних итерациях\n",
      "6.161207488666666e-08 Текущнее значение нормы разности матриц на соседних итерациях\n",
      "3.713403578372822e-08 Текущнее значение нормы разности матриц на соседних итерациях\n",
      "2.238094566834999e-08 Текущнее значение нормы разности матриц на соседних итерациях\n",
      "1.3489153374829195e-08 Текущнее значение нормы разности матриц на соседних итерациях\n",
      "8.130007372286983e-09 Текущнее значение нормы разности матриц на соседних итерациях\n"
     ]
    }
   ],
   "source": [
    "ro_after_MLE_rank_1,prob_from_J_rank_1 = MLE(ro_0,counts_ro,1,verbosity = True)\n"
   ]
  },
  {
   "cell_type": "markdown",
   "id": "dd326249",
   "metadata": {},
   "source": [
    "## Можно посмотреть за итерациями изменения нормы между двумя соседними шагами для ранга 2\n"
   ]
  },
  {
   "cell_type": "code",
   "execution_count": 366,
   "id": "ae58e6c7",
   "metadata": {},
   "outputs": [
    {
     "name": "stdout",
     "output_type": "stream",
     "text": [
      "2.354503437443303e-16 Текущнее значение нормы разности матриц на соседних итерациях\n"
     ]
    }
   ],
   "source": [
    "ro_after_MLE_rank_2,prob_from_J_rank_2 = MLE(ro_0,counts_ro,2,verbosity = True)\n"
   ]
  },
  {
   "cell_type": "markdown",
   "id": "83a60c11",
   "metadata": {},
   "source": [
    "## Выведем: 1 - начальная матрица плотности, 2 - после проецирования на симплекс, 3 - после MLE для ранга 1 "
   ]
  },
  {
   "cell_type": "code",
   "execution_count": 367,
   "id": "392d4724",
   "metadata": {},
   "outputs": [
    {
     "name": "stdout",
     "output_type": "stream",
     "text": [
      "[[ 0.2589523+2.12069000e-19j -0.1464289+4.12861457e-01j]\n",
      " [-0.1464289-4.12861457e-01j  0.7410477+2.25306466e-17j]]\n",
      "\n",
      "[[ 0.26-5.05550202e-18j -0.13+4.00000000e-01j]\n",
      " [-0.13-4.00000000e-01j  0.74+9.19431703e-21j]]\n",
      "\n",
      "[[ 0.24767147+3.95112361e-18j -0.13837637+4.08879315e-01j]\n",
      " [-0.13837637-4.08879315e-01j  0.75232853+1.88048852e-19j]]\n"
     ]
    }
   ],
   "source": [
    "print(ro,ro_0,ro_after_MLE_rank_1,sep = '\\n\\n')"
   ]
  },
  {
   "cell_type": "markdown",
   "id": "048d8803",
   "metadata": {},
   "source": [
    "## Выведем: 1 - начальная матрица плотности, 2 - после проецирования на симплекс, 3 - после MLE для ранга 2"
   ]
  },
  {
   "cell_type": "code",
   "execution_count": 368,
   "id": "44eaa00e",
   "metadata": {},
   "outputs": [
    {
     "name": "stdout",
     "output_type": "stream",
     "text": [
      "[[ 0.2589523+2.12069000e-19j -0.1464289+4.12861457e-01j]\n",
      " [-0.1464289-4.12861457e-01j  0.7410477+2.25306466e-17j]]\n",
      "\n",
      "[[ 0.26-5.05550202e-18j -0.13+4.00000000e-01j]\n",
      " [-0.13-4.00000000e-01j  0.74+9.19431703e-21j]]\n",
      "\n",
      "[[ 0.26-5.77760694e-18j -0.13+4.00000000e-01j]\n",
      " [-0.13-4.00000000e-01j  0.74-6.36436655e-20j]]\n"
     ]
    }
   ],
   "source": [
    "print(ro,ro_0,ro_after_MLE_rank_2,sep = '\\n\\n')"
   ]
  },
  {
   "cell_type": "code",
   "execution_count": 369,
   "id": "bdd757c8",
   "metadata": {},
   "outputs": [],
   "source": [
    "def fidelity(a,b):\n",
    "    return np.trace(sqrtm(np.dot(np.dot(sqrtm(a),b),sqrtm(a)))) ** 2"
   ]
  },
  {
   "cell_type": "markdown",
   "id": "794fb52e",
   "metadata": {},
   "source": [
    "## Выведем: 1 - точность между начальным и спроецированным на симплекс, 2 - точность между начальным и после MLE состояниями для ранга 1"
   ]
  },
  {
   "cell_type": "code",
   "execution_count": 370,
   "id": "e96212e9",
   "metadata": {},
   "outputs": [
    {
     "name": "stdout",
     "output_type": "stream",
     "text": [
      "(0.984063579095504+2.587326614688819e-09j) (0.9997920544222957-7.495614695653053e-09j)\n"
     ]
    }
   ],
   "source": [
    "print(fidelity(ro_0,ro),fidelity(ro_after_MLE_rank_1,ro))"
   ]
  },
  {
   "cell_type": "markdown",
   "id": "7a3a8a70",
   "metadata": {},
   "source": [
    "## Выведем: 1 - точность между начальным и спроецированным на симплекс, 2 - точность между начальным и после MLE состояниями для ранга 2"
   ]
  },
  {
   "cell_type": "code",
   "execution_count": 371,
   "id": "f8d0032a",
   "metadata": {},
   "outputs": [
    {
     "name": "stdout",
     "output_type": "stream",
     "text": [
      "(0.984063579095504+2.587326614688819e-09j) (0.9840635810352237+7.174709920240621e-09j)\n"
     ]
    }
   ],
   "source": [
    "print(fidelity(ro_0,ro),fidelity(ro_after_MLE_rank_2,ro))"
   ]
  },
  {
   "cell_type": "markdown",
   "id": "7f5aaa72",
   "metadata": {},
   "source": [
    "## Напишем функцию нахождения значения теста  хи квадрат"
   ]
  },
  {
   "cell_type": "code",
   "execution_count": 372,
   "id": "b36da3c8",
   "metadata": {},
   "outputs": [],
   "source": [
    "def chi_square_gen(state, real_counts_from_exp_ro,prob_from_J):\n",
    "    n_j = 100\n",
    "    chi = 0\n",
    "    #print(state)\n",
    "    #_,_,prob = statistics(state,MUB_2,n = 100)\n",
    "    #print(counts_ro)\n",
    "    for ind in range(len(prob_from_J)):\n",
    "        chi += ((real_counts_from_exp_ro[ind] - n_j*prob_from_J[ind]) ** 2) / (n_j*prob_from_J[ind])\n",
    "    return chi"
   ]
  },
  {
   "cell_type": "markdown",
   "id": "4ad87d46",
   "metadata": {},
   "source": [
    "## Найдем кол-во независимых и общее кол-во степеней свободы"
   ]
  },
  {
   "cell_type": "markdown",
   "id": "0f5638e7",
   "metadata": {},
   "source": [
    "## Для ранга 1"
   ]
  },
  {
   "cell_type": "code",
   "execution_count": 375,
   "id": "3285d9a8",
   "metadata": {},
   "outputs": [
    {
     "name": "stdout",
     "output_type": "stream",
     "text": [
      "Число независимых степеней свободы с рангом 1: 2\n"
     ]
    }
   ],
   "source": [
    "d = 2\n",
    "def nu_p(rank):\n",
    "    return (2*d - rank)*rank - 1 \n",
    "print('Число независимых степеней свободы с рангом 1:',nu_p(1))"
   ]
  },
  {
   "cell_type": "code",
   "execution_count": 376,
   "id": "f207798e",
   "metadata": {},
   "outputs": [
    {
     "name": "stdout",
     "output_type": "stream",
     "text": [
      "Общее число независимых степеней свободы с рангом 1: 1\n"
     ]
    }
   ],
   "source": [
    "def nu(rank):\n",
    "    m = 6\n",
    "    m_b = 3\n",
    "    return m - m_b - nu_p(rank)\n",
    "print('Общее число независимых степеней свободы с рангом 1:',nu(1))"
   ]
  },
  {
   "cell_type": "markdown",
   "id": "740dcaa9",
   "metadata": {},
   "source": [
    "## Для ранга 2 "
   ]
  },
  {
   "cell_type": "code",
   "execution_count": 377,
   "id": "ea0e66e4",
   "metadata": {},
   "outputs": [
    {
     "name": "stdout",
     "output_type": "stream",
     "text": [
      "Число независимых степеней свободы с рангом 2: 3\n"
     ]
    }
   ],
   "source": [
    "def nu_p(rank):\n",
    "    return (2*d - rank)*rank - 1 \n",
    "print('Число независимых степеней свободы с рангом 2:',nu_p(2))"
   ]
  },
  {
   "cell_type": "code",
   "execution_count": 378,
   "id": "490a5645",
   "metadata": {},
   "outputs": [
    {
     "name": "stdout",
     "output_type": "stream",
     "text": [
      "Общее число независимых степеней свободы с рангом 2: 0\n"
     ]
    }
   ],
   "source": [
    "def nu(rank):\n",
    "    m = 6\n",
    "    m_b = 3\n",
    "    return m - m_b - nu_p(rank)\n",
    "print('Общее число независимых степеней свободы с рангом 2:',nu(2))"
   ]
  },
  {
   "cell_type": "markdown",
   "id": "9ad2697f",
   "metadata": {},
   "source": [
    "## Можно сделать вывод, что для протокола MUB с размерностью пространства $d = 2$, нехватает степеней свободы для нахождения $p-value$ c рангом состояния $rank = 2$"
   ]
  },
  {
   "cell_type": "markdown",
   "id": "bf25a8d9",
   "metadata": {},
   "source": [
    "## Построим гистограммы $p-value$ и точности "
   ]
  },
  {
   "cell_type": "code",
   "execution_count": 380,
   "id": "a5e74abd",
   "metadata": {},
   "outputs": [],
   "source": [
    "def p_value(N = 1000):\n",
    "    p_value_list = []\n",
    "    fidel_list = []\n",
    "    fidel_list_rank_2 = []\n",
    "    fidel_simplex_list= []\n",
    "    for ind in range(N):\n",
    "        _,ro_p_value = ran_q(2,1)\n",
    "        counts_ro_p_value, prob_counts_p_value,_ = statistics(ro_p_value,MUB_2,100)\n",
    "        ro_0_p_value = simplex_project(tomography(MUB_2,prob_counts_p_value))\n",
    "        ro_after_MLE_ind_p_value, prob_from_J = MLE(ro_0_p_value,counts_ro_p_value,1,verbosity = False)\n",
    "        ro_after_MLE_ind_p_value_rank_2, prob_from_J_rank_2 = MLE(ro_0_p_value,counts_ro_p_value,2,verbosity = False)\n",
    "\n",
    "        chi_square= chi_square_gen(ro_after_MLE_ind_p_value,counts_ro_p_value,prob_from_J)\n",
    "        p_value_list.append(1 - chi2.cdf(chi_square,nu(1)))\n",
    "        fidel_list.append(fidelity(ro_after_MLE_ind_p_value,ro_p_value))\n",
    "        fidel_list_rank_2.append(fidelity(ro_after_MLE_ind_p_value_rank_2,ro_p_value))\n",
    "        #print(fidel_list_rank_2)\n",
    "        fidel_simplex_list.append(fidelity(ro_0_p_value,ro_p_value))\n",
    "    return p_value_list,fidel_list,fidel_simplex_list,fidel_list_rank_2"
   ]
  },
  {
   "cell_type": "code",
   "execution_count": 381,
   "id": "e6027ebb",
   "metadata": {},
   "outputs": [
    {
     "name": "stderr",
     "output_type": "stream",
     "text": [
      "<ipython-input-350-a93500fa1380>:14: ComplexWarning: Casting complex values to real discards the imaginary part\n",
      "  new_eig[ind] = eig[ind] - w_mem\n"
     ]
    },
    {
     "data": {
      "text/plain": [
       "(array([34., 39., 34., 33., 50., 43., 48., 36., 35., 44., 42., 40., 49.,\n",
       "        34., 41., 40., 41., 39., 38., 40., 32., 39., 38., 49., 42.]),\n",
       " array([0.  , 0.04, 0.08, 0.12, 0.16, 0.2 , 0.24, 0.28, 0.32, 0.36, 0.4 ,\n",
       "        0.44, 0.48, 0.52, 0.56, 0.6 , 0.64, 0.68, 0.72, 0.76, 0.8 , 0.84,\n",
       "        0.88, 0.92, 0.96, 1.  ]),\n",
       " <BarContainer object of 25 artists>)"
      ]
     },
     "execution_count": 381,
     "metadata": {},
     "output_type": "execute_result"
    },
    {
     "data": {
      "image/png": "[encoded data removed]",
      "text/plain": [
       "<Figure size 432x288 with 1 Axes>"
      ]
     },
     "metadata": {
      "needs_background": "light"
     },
     "output_type": "display_data"
    }
   ],
   "source": [
    "p_value_list, fidel_list, fidel_simplex_list, fidel_list_rank_2 = p_value()\n",
    "hist(p_value_list,bins = 25,range=(0,1))\n"
   ]
  },
  {
   "cell_type": "code",
   "execution_count": 384,
   "id": "c772214b",
   "metadata": {},
   "outputs": [
    {
     "data": {
      "text/plain": [
       "<matplotlib.legend.Legend at 0x21a6e942af0>"
      ]
     },
     "execution_count": 384,
     "metadata": {},
     "output_type": "execute_result"
    },
    {
     "data": {
      "image/png": "[encoded data removed]",
      "text/plain": [
       "<Figure size 432x288 with 1 Axes>"
      ]
     },
     "metadata": {
      "needs_background": "light"
     },
     "output_type": "display_data"
    }
   ],
   "source": [
    "hist([fidel_simplex_list,fidel_list],bins = 50,label = ['Simplex','MLE rank = 1'])\n",
    "legend(loc='upper left')\n",
    "#hist(fidel_simplex_list,bins = 50,label = 'y')"
   ]
  },
  {
   "cell_type": "code",
   "execution_count": 385,
   "id": "36d3fca4",
   "metadata": {},
   "outputs": [
    {
     "data": {
      "text/plain": [
       "<matplotlib.legend.Legend at 0x21a6eab45b0>"
      ]
     },
     "execution_count": 385,
     "metadata": {},
     "output_type": "execute_result"
    },
    {
     "data": {
      "image/png": "[encoded data removed]",
      "text/plain": [
       "<Figure size 432x288 with 1 Axes>"
      ]
     },
     "metadata": {
      "needs_background": "light"
     },
     "output_type": "display_data"
    }
   ],
   "source": [
    "hist([fidel_simplex_list,fidel_list_rank_2],bins = 50,label = ['Simplex','MLE rank = 2'])\n",
    "legend(loc='upper left')"
   ]
  },
  {
   "cell_type": "markdown",
   "id": "eb70f1c3",
   "metadata": {},
   "source": [
    "## Создадим функции перехода в действительное Евклидово пространство "
   ]
  },
  {
   "cell_type": "code",
   "execution_count": 386,
   "id": "47b51c75",
   "metadata": {},
   "outputs": [],
   "source": [
    "def psi_euqlid(state):\n",
    "    return np.vstack((np.real(state),np.imag(state)))"
   ]
  },
  {
   "cell_type": "code",
   "execution_count": 387,
   "id": "075534b5",
   "metadata": {},
   "outputs": [],
   "source": [
    "def P_j_euqlid(P_j):\n",
    "    Re = np.real(P_j)\n",
    "    Im = np.imag(P_j)\n",
    "    return np.block([[Re, -Im],[Im, Re]])"
   ]
  },
  {
   "cell_type": "code",
   "execution_count": 388,
   "id": "5dc23584",
   "metadata": {},
   "outputs": [],
   "source": [
    "psi_column = psi_euqlid(psi)"
   ]
  },
  {
   "cell_type": "markdown",
   "id": "b1b07ae5",
   "metadata": {},
   "source": [
    "## Создадим функцию полной информации"
   ]
  },
  {
   "cell_type": "code",
   "execution_count": 389,
   "id": "e6a1ded6",
   "metadata": {},
   "outputs": [],
   "source": [
    "def H_gen(protocol):\n",
    "    proj_vec_list = []\n",
    "    for elem in protocol:\n",
    "        proj_vec_list.append(elem[:,0].reshape(2,1))\n",
    "        proj_vec_list.append(elem[:,1].reshape(2,1))        \n",
    "    P = []\n",
    "    for elem in proj_vec_list:\n",
    "        P.append(np.dot(elem,np.conj(elem).T))\n",
    "    \n",
    "    \n",
    "    H = np.zeros((4,4), dtype = complex)\n",
    "    for ind in range(len(prob_counts)):\n",
    "        H += 2* (n_j/prob_counts[ind]) * np.dot((np.dot(P_j_euqlid(P[ind]),psi_column)),(np.dot(P_j_euqlid(P[ind]),psi_column)).T)\n",
    "    return H"
   ]
  },
  {
   "cell_type": "code",
   "execution_count": 390,
   "id": "9688af49",
   "metadata": {},
   "outputs": [],
   "source": [
    "H = H_gen(MUB_2)"
   ]
  },
  {
   "cell_type": "markdown",
   "id": "6e621a2e",
   "metadata": {},
   "source": [
    "## Найдем собственные значения матрицы полной информации и занулим максимальное и минимальное значения"
   ]
  },
  {
   "cell_type": "code",
   "execution_count": 391,
   "id": "8a1df03c",
   "metadata": {},
   "outputs": [
    {
     "data": {
      "text/plain": [
       "array([ 6.00783195e+02+0.j,  3.47782328e+02+0.j,  2.24381940e+02+0.j,\n",
       "       -5.38326314e-14+0.j])"
      ]
     },
     "execution_count": 391,
     "metadata": {},
     "output_type": "execute_result"
    }
   ],
   "source": [
    "eig,_ = np.linalg.eig(H)\n",
    "eig"
   ]
  },
  {
   "cell_type": "code",
   "execution_count": 392,
   "id": "d064b95b",
   "metadata": {},
   "outputs": [
    {
     "data": {
      "text/plain": [
       "array([  0.        +0.j, 347.7823278 +0.j, 224.38194023+0.j,\n",
       "         0.        +0.j])"
      ]
     },
     "execution_count": 392,
     "metadata": {},
     "output_type": "execute_result"
    }
   ],
   "source": [
    "max_elem = max(eig)\n",
    "for ind in range(len(eig)):\n",
    "    if eig[ind] < 1e-8 or eig[ind] == max_elem:\n",
    "        eig[ind] = 0 \n",
    "eig"
   ]
  },
  {
   "cell_type": "markdown",
   "id": "82226503",
   "metadata": {},
   "source": [
    "## Найдем средние потери точности и дисперсию"
   ]
  },
  {
   "cell_type": "code",
   "execution_count": 393,
   "id": "5665f0b1",
   "metadata": {},
   "outputs": [],
   "source": [
    "av_infidelity = sum(list(map(lambda x: 1/(2*x),list(filter(lambda x:x != 0,eig)))))"
   ]
  },
  {
   "cell_type": "code",
   "execution_count": 394,
   "id": "0e2a5bf7",
   "metadata": {},
   "outputs": [],
   "source": [
    "var = 2*sum([(1/(2*d))**2 for d in eig if d != 0])"
   ]
  },
  {
   "cell_type": "code",
   "execution_count": 395,
   "id": "b22a763c",
   "metadata": {},
   "outputs": [
    {
     "name": "stdout",
     "output_type": "stream",
     "text": [
      "Средние потери точности равны: (0.003666024201642071+0j) . Дисперсия равна (1.4064880571680381e-05+0j)\n"
     ]
    }
   ],
   "source": [
    "print('Средние потери точности равны:',av_infidelity,'. Дисперсия равна',var)"
   ]
  },
  {
   "cell_type": "markdown",
   "id": "94151871",
   "metadata": {},
   "source": [
    "## Найдем выборочные средние потери точности и дисперсию"
   ]
  },
  {
   "cell_type": "code",
   "execution_count": 396,
   "id": "03ab3553",
   "metadata": {},
   "outputs": [],
   "source": [
    "av_infidelity_exp = np.sum([1 - elem for elem in fidel_list]) /1000"
   ]
  },
  {
   "cell_type": "code",
   "execution_count": 397,
   "id": "363ee73c",
   "metadata": {},
   "outputs": [
    {
     "name": "stdout",
     "output_type": "stream",
     "text": [
      "Выборочные средние потери точности: (0.003933898408628035+1.0635127860893374e-10j)\n"
     ]
    }
   ],
   "source": [
    "print('Выборочные средние потери точности:',av_infidelity_exp)"
   ]
  },
  {
   "cell_type": "code",
   "execution_count": 398,
   "id": "116af922",
   "metadata": {},
   "outputs": [],
   "source": [
    "var_infidelity_exp = np.var([1 - elem for elem in fidel_list])"
   ]
  },
  {
   "cell_type": "code",
   "execution_count": 399,
   "id": "45a75e2d",
   "metadata": {},
   "outputs": [
    {
     "name": "stdout",
     "output_type": "stream",
     "text": [
      "Выборочная дисперсия: 1.7497761841803746e-05\n"
     ]
    }
   ],
   "source": [
    "print('Выборочная дисперсия:',var_infidelity_exp)"
   ]
  },
  {
   "cell_type": "code",
   "execution_count": null,
   "id": "e42613d9",
   "metadata": {},
   "outputs": [],
   "source": []
  }
 ],
 "metadata": {
  "kernelspec": {
   "display_name": "Python 3",
   "language": "python",
   "name": "python3"
  },
  "language_info": {
   "codemirror_mode": {
    "name": "ipython",
    "version": 3
   },
   "file_extension": ".py",
   "mimetype": "text/x-python",
   "name": "python",
   "nbconvert_exporter": "python",
   "pygments_lexer": "ipython3",
   "version": "3.7.11"
  }
 },
 "nbformat": 4,
 "nbformat_minor": 5
}
